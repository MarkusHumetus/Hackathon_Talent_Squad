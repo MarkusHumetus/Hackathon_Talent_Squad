{
 "cells": [
  {
   "cell_type": "markdown",
   "id": "36116485",
   "metadata": {},
   "source": [
    "# Exploratory Data Analysis"
   ]
  },
  {
   "cell_type": "markdown",
   "id": "8834dfc1",
   "metadata": {},
   "source": [
    "### Importing libraries"
   ]
  },
  {
   "cell_type": "code",
   "execution_count": 1,
   "id": "481d9eb6",
   "metadata": {
    "ExecuteTime": {
     "end_time": "2022-05-29T11:55:16.803935Z",
     "start_time": "2022-05-29T11:55:16.789941Z"
    }
   },
   "outputs": [],
   "source": [
    "#data exploration&manipulation\n",
    "import pandas as pd\n",
    "import numpy as np\n",
    "from sklearn import preprocessing\n",
    "from sklearn.preprocessing import StandardScaler\n",
    "from sklearn.pipeline import Pipeline\n",
    "from collections import Counter\n",
    "import seaborn as sns\n",
    "\n",
    "import datetime as dt\n",
    "import os\n",
    "import matplotlib.pyplot as plt\n",
    "\n",
    "#ML Models search and optimisation\n",
    "from pycaret.classification import * \n",
    "from sklearn.ensemble import RandomForestClassifier\n",
    "from sklearn.model_selection import train_test_split \n",
    "#from sklearn.model_selection import GridSearchCV\n",
    "#from lightgbm import LGBMClassifier\n",
    "from sklearn.metrics import f1_score, confusion_matrix\n",
    "import optuna\n",
    "#from sklearn.ensemble import ExtraTreesClassifier\n",
    "from sklearn.model_selection import cross_val_score\n",
    "\n",
    "%matplotlib inline"
   ]
  },
  {
   "cell_type": "markdown",
   "id": "6ec6cbb9",
   "metadata": {},
   "source": [
    "### Reading the data set"
   ]
  },
  {
   "cell_type": "code",
   "execution_count": 2,
   "id": "b7d8b59f-1894-4162-8a18-b32a69c7ea0c",
   "metadata": {
    "ExecuteTime": {
     "end_time": "2022-05-29T10:32:49.717964Z",
     "start_time": "2022-05-29T10:32:49.684057Z"
    }
   },
   "outputs": [],
   "source": [
    "   \n",
    "# Import space_X_train.csv\n",
    "import pandas as pd\n",
    "space_X_train = pd.read_csv(r'C:\\Users\\march\\000 Treball Ju`yter 000\\Hackathons\\Hackathon_Talent_Squad\\initial_docs\\space_X_train.csv')"
   ]
  },
  {
   "cell_type": "code",
   "execution_count": 3,
   "id": "4a4fec8c",
   "metadata": {},
   "outputs": [
    {
     "data": {
      "text/html": [
       "<div><div id=36304325-0c96-49b7-a028-f0cd522c4ad1 style=\"display:none; background-color:#9D6CFF; color:white; width:200px; height:30px; padding-left:5px; border-radius:4px; flex-direction:row; justify-content:space-around; align-items:center;\" onmouseover=\"this.style.backgroundColor='#BA9BF8'\" onmouseout=\"this.style.backgroundColor='#9D6CFF'\" onclick=\"window.commands?.execute('create-mitosheet-from-dataframe-output');\">See Full Dataframe in Mito</div> <script> if (window.commands?.hasCommand('create-mitosheet-from-dataframe-output')) document.getElementById('36304325-0c96-49b7-a028-f0cd522c4ad1').style.display = 'flex' </script> <table border=\"1\" class=\"dataframe\">\n",
       "  <thead>\n",
       "    <tr style=\"text-align: right;\">\n",
       "      <th></th>\n",
       "      <th>Unnamed: 0</th>\n",
       "      <th>sensor_1</th>\n",
       "      <th>sensor_2</th>\n",
       "      <th>sensor_3</th>\n",
       "      <th>sensor_4</th>\n",
       "      <th>sensor_5</th>\n",
       "      <th>sensor_6</th>\n",
       "      <th>target</th>\n",
       "    </tr>\n",
       "  </thead>\n",
       "  <tbody>\n",
       "    <tr>\n",
       "      <th>0</th>\n",
       "      <td>0</td>\n",
       "      <td>0.474335</td>\n",
       "      <td>0.881640</td>\n",
       "      <td>-2.050543</td>\n",
       "      <td>-1.251935</td>\n",
       "      <td>-1.035151</td>\n",
       "      <td>-1.934367</td>\n",
       "      <td>4</td>\n",
       "    </tr>\n",
       "    <tr>\n",
       "      <th>1</th>\n",
       "      <td>1</td>\n",
       "      <td>-1.034675</td>\n",
       "      <td>1.741801</td>\n",
       "      <td>-1.660629</td>\n",
       "      <td>-1.555989</td>\n",
       "      <td>-0.337553</td>\n",
       "      <td>-2.473838</td>\n",
       "      <td>0</td>\n",
       "    </tr>\n",
       "    <tr>\n",
       "      <th>2</th>\n",
       "      <td>2</td>\n",
       "      <td>-0.563221</td>\n",
       "      <td>-0.688381</td>\n",
       "      <td>-0.318415</td>\n",
       "      <td>-1.845172</td>\n",
       "      <td>0.352366</td>\n",
       "      <td>-0.912928</td>\n",
       "      <td>1</td>\n",
       "    </tr>\n",
       "    <tr>\n",
       "      <th>3</th>\n",
       "      <td>3</td>\n",
       "      <td>-1.268179</td>\n",
       "      <td>2.770688</td>\n",
       "      <td>1.054193</td>\n",
       "      <td>2.830389</td>\n",
       "      <td>0.395093</td>\n",
       "      <td>0.677715</td>\n",
       "      <td>3</td>\n",
       "    </tr>\n",
       "    <tr>\n",
       "      <th>4</th>\n",
       "      <td>4</td>\n",
       "      <td>-1.216380</td>\n",
       "      <td>-0.391267</td>\n",
       "      <td>-2.898931</td>\n",
       "      <td>-0.913074</td>\n",
       "      <td>-2.171857</td>\n",
       "      <td>-2.367490</td>\n",
       "      <td>0</td>\n",
       "    </tr>\n",
       "  </tbody>\n",
       "</table></div>"
      ],
      "text/plain": [
       "   Unnamed: 0  sensor_1  sensor_2  sensor_3  sensor_4  sensor_5  sensor_6  \\\n",
       "0           0  0.474335  0.881640 -2.050543 -1.251935 -1.035151 -1.934367   \n",
       "1           1 -1.034675  1.741801 -1.660629 -1.555989 -0.337553 -2.473838   \n",
       "2           2 -0.563221 -0.688381 -0.318415 -1.845172  0.352366 -0.912928   \n",
       "3           3 -1.268179  2.770688  1.054193  2.830389  0.395093  0.677715   \n",
       "4           4 -1.216380 -0.391267 -2.898931 -0.913074 -2.171857 -2.367490   \n",
       "\n",
       "   target  \n",
       "0       4  \n",
       "1       0  \n",
       "2       1  \n",
       "3       3  \n",
       "4       0  "
      ]
     },
     "execution_count": 3,
     "metadata": {},
     "output_type": "execute_result"
    }
   ],
   "source": [
    "space_X_train.head()\n"
   ]
  },
  {
   "cell_type": "code",
   "execution_count": 4,
   "id": "8d72aa84",
   "metadata": {},
   "outputs": [],
   "source": [
    "space_X_train.drop('Unnamed: 0',axis = 1 , inplace=True) #Drop unnecesary column"
   ]
  },
  {
   "cell_type": "code",
   "execution_count": 5,
   "id": "1cdb3210-9c59-4c45-b330-28585236f189",
   "metadata": {
    "ExecuteTime": {
     "end_time": "2022-05-29T10:32:50.232950Z",
     "start_time": "2022-05-29T10:32:50.196049Z"
    }
   },
   "outputs": [
    {
     "data": {
      "text/plain": [
       "sensor_1    0\n",
       "sensor_2    0\n",
       "sensor_3    0\n",
       "sensor_4    0\n",
       "sensor_5    0\n",
       "sensor_6    0\n",
       "target      0\n",
       "dtype: int64"
      ]
     },
     "execution_count": 5,
     "metadata": {},
     "output_type": "execute_result"
    }
   ],
   "source": [
    "space_X_train.isnull().sum()"
   ]
  },
  {
   "cell_type": "code",
   "execution_count": 6,
   "id": "74df5003",
   "metadata": {
    "ExecuteTime": {
     "end_time": "2022-05-29T10:39:14.967955Z",
     "start_time": "2022-05-29T10:39:14.885174Z"
    }
   },
   "outputs": [
    {
     "data": {
      "text/html": [
       "<div><div id=3052a7b4-9423-4ec1-af7c-ce2823007c29 style=\"display:none; background-color:#9D6CFF; color:white; width:200px; height:30px; padding-left:5px; border-radius:4px; flex-direction:row; justify-content:space-around; align-items:center;\" onmouseover=\"this.style.backgroundColor='#BA9BF8'\" onmouseout=\"this.style.backgroundColor='#9D6CFF'\" onclick=\"window.commands?.execute('create-mitosheet-from-dataframe-output');\">See Full Dataframe in Mito</div> <script> if (window.commands?.hasCommand('create-mitosheet-from-dataframe-output')) document.getElementById('3052a7b4-9423-4ec1-af7c-ce2823007c29').style.display = 'flex' </script> <table border=\"1\" class=\"dataframe\">\n",
       "  <thead>\n",
       "    <tr style=\"text-align: right;\">\n",
       "      <th></th>\n",
       "      <th>sensor_1</th>\n",
       "      <th>sensor_2</th>\n",
       "      <th>sensor_3</th>\n",
       "      <th>sensor_4</th>\n",
       "      <th>sensor_5</th>\n",
       "      <th>sensor_6</th>\n",
       "      <th>target</th>\n",
       "    </tr>\n",
       "  </thead>\n",
       "  <tbody>\n",
       "    <tr>\n",
       "      <th>count</th>\n",
       "      <td>2100.000000</td>\n",
       "      <td>2100.000000</td>\n",
       "      <td>2100.000000</td>\n",
       "      <td>2100.000000</td>\n",
       "      <td>2100.000000</td>\n",
       "      <td>2100.000000</td>\n",
       "      <td>2100.000000</td>\n",
       "    </tr>\n",
       "    <tr>\n",
       "      <th>mean</th>\n",
       "      <td>-0.204656</td>\n",
       "      <td>0.199249</td>\n",
       "      <td>-0.378140</td>\n",
       "      <td>-0.206425</td>\n",
       "      <td>-0.186419</td>\n",
       "      <td>-0.433229</td>\n",
       "      <td>1.980476</td>\n",
       "    </tr>\n",
       "    <tr>\n",
       "      <th>std</th>\n",
       "      <td>1.543613</td>\n",
       "      <td>1.614024</td>\n",
       "      <td>1.450548</td>\n",
       "      <td>1.442225</td>\n",
       "      <td>1.501573</td>\n",
       "      <td>1.188791</td>\n",
       "      <td>1.410537</td>\n",
       "    </tr>\n",
       "    <tr>\n",
       "      <th>min</th>\n",
       "      <td>-6.683655</td>\n",
       "      <td>-5.383371</td>\n",
       "      <td>-6.147055</td>\n",
       "      <td>-5.653594</td>\n",
       "      <td>-5.912521</td>\n",
       "      <td>-4.433189</td>\n",
       "      <td>0.000000</td>\n",
       "    </tr>\n",
       "    <tr>\n",
       "      <th>25%</th>\n",
       "      <td>-1.171340</td>\n",
       "      <td>-0.877386</td>\n",
       "      <td>-1.365990</td>\n",
       "      <td>-1.259403</td>\n",
       "      <td>-1.211685</td>\n",
       "      <td>-1.131944</td>\n",
       "      <td>1.000000</td>\n",
       "    </tr>\n",
       "    <tr>\n",
       "      <th>50%</th>\n",
       "      <td>-0.443868</td>\n",
       "      <td>0.320507</td>\n",
       "      <td>-0.439745</td>\n",
       "      <td>-0.176504</td>\n",
       "      <td>-0.195751</td>\n",
       "      <td>-0.406754</td>\n",
       "      <td>2.000000</td>\n",
       "    </tr>\n",
       "    <tr>\n",
       "      <th>75%</th>\n",
       "      <td>0.890023</td>\n",
       "      <td>1.321430</td>\n",
       "      <td>0.662898</td>\n",
       "      <td>0.866879</td>\n",
       "      <td>0.851843</td>\n",
       "      <td>0.348593</td>\n",
       "      <td>3.000000</td>\n",
       "    </tr>\n",
       "    <tr>\n",
       "      <th>max</th>\n",
       "      <td>4.565547</td>\n",
       "      <td>6.700133</td>\n",
       "      <td>4.157518</td>\n",
       "      <td>4.371912</td>\n",
       "      <td>5.068783</td>\n",
       "      <td>4.016324</td>\n",
       "      <td>4.000000</td>\n",
       "    </tr>\n",
       "  </tbody>\n",
       "</table></div>"
      ],
      "text/plain": [
       "          sensor_1     sensor_2     sensor_3     sensor_4     sensor_5  \\\n",
       "count  2100.000000  2100.000000  2100.000000  2100.000000  2100.000000   \n",
       "mean     -0.204656     0.199249    -0.378140    -0.206425    -0.186419   \n",
       "std       1.543613     1.614024     1.450548     1.442225     1.501573   \n",
       "min      -6.683655    -5.383371    -6.147055    -5.653594    -5.912521   \n",
       "25%      -1.171340    -0.877386    -1.365990    -1.259403    -1.211685   \n",
       "50%      -0.443868     0.320507    -0.439745    -0.176504    -0.195751   \n",
       "75%       0.890023     1.321430     0.662898     0.866879     0.851843   \n",
       "max       4.565547     6.700133     4.157518     4.371912     5.068783   \n",
       "\n",
       "          sensor_6       target  \n",
       "count  2100.000000  2100.000000  \n",
       "mean     -0.433229     1.980476  \n",
       "std       1.188791     1.410537  \n",
       "min      -4.433189     0.000000  \n",
       "25%      -1.131944     1.000000  \n",
       "50%      -0.406754     2.000000  \n",
       "75%       0.348593     3.000000  \n",
       "max       4.016324     4.000000  "
      ]
     },
     "execution_count": 6,
     "metadata": {},
     "output_type": "execute_result"
    }
   ],
   "source": [
    "space_X_train.describe()"
   ]
  },
  {
   "cell_type": "markdown",
   "id": "19fe5066",
   "metadata": {},
   "source": [
    "Values of sensors are very similar (range from -0.433 to 6.700). There is no null values to be cleaned."
   ]
  },
  {
   "cell_type": "code",
   "execution_count": 7,
   "id": "6f864627-87c6-49ee-acbb-cb42a40e04b8",
   "metadata": {
    "ExecuteTime": {
     "end_time": "2022-05-29T10:32:50.843579Z",
     "start_time": "2022-05-29T10:32:50.827622Z"
    }
   },
   "outputs": [],
   "source": [
    "y = space_X_train.target"
   ]
  },
  {
   "cell_type": "code",
   "execution_count": 8,
   "id": "d5d4e62d",
   "metadata": {
    "ExecuteTime": {
     "end_time": "2022-05-29T10:32:51.595780Z",
     "start_time": "2022-05-29T10:32:51.241805Z"
    }
   },
   "outputs": [
    {
     "data": {
      "text/plain": [
       "Text(0, 0.5, '# of instances')"
      ]
     },
     "execution_count": 8,
     "metadata": {},
     "output_type": "execute_result"
    },
    {
     "data": {
      "image/png": "[encoded data removed]",
      "text/plain": [
       "<Figure size 432x288 with 1 Axes>"
      ]
     },
     "metadata": {
      "needs_background": "light"
     },
     "output_type": "display_data"
    }
   ],
   "source": [
    "#Label distribution checking\n",
    "counter = Counter(y)\n",
    "dist_plot=sns.barplot(x=list(counter.keys()), y=list(counter.values()))\n",
    "dist_plot.set_title('Distribution of instances per label')\n",
    "dist_plot.set_xlabel('Label')\n",
    "dist_plot.set_ylabel('# of instances')"
   ]
  },
  {
   "cell_type": "code",
   "execution_count": 9,
   "id": "3500eb6b",
   "metadata": {
    "ExecuteTime": {
     "end_time": "2022-05-29T10:32:51.878655Z",
     "start_time": "2022-05-29T10:32:51.850731Z"
    }
   },
   "outputs": [
    {
     "data": {
      "text/plain": [
       "[0.19285714285714287,\n",
       " 0.20333333333333334,\n",
       " 0.20142857142857143,\n",
       " 0.20285714285714285,\n",
       " 0.19952380952380952]"
      ]
     },
     "execution_count": 9,
     "metadata": {},
     "output_type": "execute_result"
    }
   ],
   "source": [
    "ratio_labels= [x/len(y) for x in list(counter.values())]\n",
    "ratio_labels"
   ]
  },
  {
   "cell_type": "markdown",
   "id": "d8e890c8",
   "metadata": {},
   "source": [
    "Distribution of samples are very similiar each other, there is no minoritay/majotary class in the label column."
   ]
  },
  {
   "cell_type": "code",
   "execution_count": 10,
   "id": "8f48e9ec-14b2-442f-a331-7ebfcd8d4681",
   "metadata": {
    "ExecuteTime": {
     "end_time": "2022-05-29T10:33:11.933643Z",
     "start_time": "2022-05-29T10:32:52.955999Z"
    }
   },
   "outputs": [
    {
     "data": {
      "text/plain": [
       "<seaborn.axisgrid.PairGrid at 0x1c84f439408>"
      ]
     },
     "execution_count": 10,
     "metadata": {},
     "output_type": "execute_result"
    },
    {
     "data": {
      "image/png": "[encoded data removed]",
      "text/plain": [
       "<Figure size 1122.38x1080 with 27 Axes>"
      ]
     },
     "metadata": {
      "needs_background": "light"
     },
     "output_type": "display_data"
    }
   ],
   "source": [
    "sns.pairplot(space_X_train, corner=True,hue='target')"
   ]
  },
  {
   "cell_type": "code",
   "execution_count": 8,
   "id": "fa9ab187",
   "metadata": {
    "ExecuteTime": {
     "end_time": "2022-05-29T10:38:26.279790Z",
     "start_time": "2022-05-29T10:38:23.969118Z"
    }
   },
   "outputs": [
    {
     "data": {
      "text/html": [
       "<iframe\n",
       "    scrolling=\"no\"\n",
       "    width=\"100%\"\n",
       "    height=\"545px\"\n",
       "    src=\"iframe_figures/figure_8.html\"\n",
       "    frameborder=\"0\"\n",
       "    allowfullscreen\n",
       "></iframe>\n"
      ]
     },
     "metadata": {},
     "output_type": "display_data"
    }
   ],
   "source": [
    "import plotly.express as px\n",
    "\n",
    "space_X_train_filtered = space_X_train\n",
    "\n",
    "# Construct the graph and style it. \n",
    "# See Plotly Documentation for help: https://plotly.com/python/plotly-express/\n",
    "fig = px.box(space_X_train_filtered, x='target', y='Unnamed: 0', color='target')\n",
    "fig.update_layout(\n",
    "    title='target, Unnamed: 0 (first 1000 rows) box plot', \n",
    "    xaxis = dict(\n",
    "        rangeslider = dict(\n",
    "            visible=True, \n",
    "            thickness=0.05\n",
    "        )\n",
    "    ), \n",
    "    yaxis = dict(\n",
    "\n",
    "    ), \n",
    "    barmode='stack', \n",
    "    paper_bgcolor='#FFFFFF', \n",
    "    showlegend=True\n",
    ")\n",
    "fig.show(renderer=\"iframe\")"
   ]
  },
  {
   "cell_type": "markdown",
   "id": "8c1f530e-c754-4a84-8e78-49c81d032984",
   "metadata": {},
   "source": [
    "From the previous graph it can be concluded that:\n",
    "* Each class has a gaussian type distribution.\n",
    "* The different labels form clusters for certain sensors."
   ]
  },
  {
   "cell_type": "markdown",
   "id": "62351564",
   "metadata": {},
   "source": [
    "There is no need to clean or engineer the Data set."
   ]
  },
  {
   "cell_type": "code",
   "execution_count": 24,
   "id": "7e685e67",
   "metadata": {},
   "outputs": [
    {
     "data": {
      "text/plain": [
       "0          0\n",
       "1          1\n",
       "2          2\n",
       "3          3\n",
       "4          4\n",
       "        ... \n",
       "2095    2095\n",
       "2096    2096\n",
       "2097    2097\n",
       "2098    2098\n",
       "2099    2099\n",
       "Name: Unnamed: 0, Length: 2100, dtype: int64"
      ]
     },
     "execution_count": 24,
     "metadata": {},
     "output_type": "execute_result"
    }
   ],
   "source": [
    "space_X_train['Unnamed: 0']"
   ]
  },
  {
   "cell_type": "code",
   "execution_count": 33,
   "id": "fcc948a5",
   "metadata": {},
   "outputs": [
    {
     "data": {
      "text/plain": [
       "Index(['sensor_1', 'sensor_2', 'sensor_3', 'sensor_4', 'sensor_5', 'sensor_6',\n",
       "       'target'],\n",
       "      dtype='object')"
      ]
     },
     "execution_count": 33,
     "metadata": {},
     "output_type": "execute_result"
    }
   ],
   "source": [
    "space_X_train.columns"
   ]
  },
  {
   "cell_type": "code",
   "execution_count": 34,
   "id": "853b402d",
   "metadata": {},
   "outputs": [],
   "source": [
    "import pandas as pd\n",
    "from sklearn import preprocessing\n",
    "\n",
    "x = space_X_train.drop('target',axis=1).values #returns a numpy array\n",
    "numerical_cols=['sensor_1', 'sensor_2', 'sensor_3', 'sensor_4', 'sensor_5', 'sensor_6']\n",
    "\n",
    "min_max_scaler = preprocessing.MinMaxScaler()\n",
    "x_scaled = min_max_scaler.fit_transform(x)\n",
    "space_X_train_min_max_scaled = pd.DataFrame(x_scaled)\n",
    "\n",
    "scaler = preprocessing.RobustScaler()\n",
    "space_X_train_robust = scaler.fit_transform(x)\n",
    "space_X_train_robust = pd.DataFrame(space_X_train_robust, columns =numerical_cols)\n",
    "\n",
    "scaler = preprocessing.StandardScaler()\n",
    "space_X_train_standard = scaler.fit_transform(x)\n",
    "space_X_train_standard = pd.DataFrame(space_X_train_standard, columns =numerical_cols)\n"
   ]
  },
  {
   "cell_type": "code",
   "execution_count": 35,
   "id": "47d92dd6",
   "metadata": {},
   "outputs": [],
   "source": [
    "space_X_train_min_max_scaled ['target'] = space_X_train['target']\n",
    "space_X_train_robust ['target'] = space_X_train['target']\n",
    "space_X_train_standard ['target'] = space_X_train['target']\n"
   ]
  },
  {
   "cell_type": "code",
   "execution_count": 20,
   "id": "0869dcc8",
   "metadata": {},
   "outputs": [],
   "source": [
    "space_X_train_scaled['target'] = space_X_train['target']"
   ]
  },
  {
   "cell_type": "code",
   "execution_count": null,
   "id": "54e11e95",
   "metadata": {},
   "outputs": [],
   "source": []
  },
  {
   "cell_type": "code",
   "execution_count": null,
   "id": "026721d4",
   "metadata": {},
   "outputs": [],
   "source": []
  },
  {
   "cell_type": "markdown",
   "id": "8d52089a",
   "metadata": {},
   "source": [
    "## Model screening"
   ]
  },
  {
   "cell_type": "markdown",
   "id": "b961528f",
   "metadata": {
    "ExecuteTime": {
     "end_time": "2022-05-28T17:01:27.408764Z",
     "start_time": "2022-05-28T17:01:27.394768Z"
    }
   },
   "source": [
    "With Pycaret we test the dataframe with several models to check its performance with :"
   ]
  },
  {
   "cell_type": "code",
   "execution_count": 39,
   "id": "796d6fa5",
   "metadata": {
    "ExecuteTime": {
     "end_time": "2022-05-29T10:35:36.614007Z",
     "start_time": "2022-05-29T10:34:56.083719Z"
    }
   },
   "outputs": [
    {
     "data": {
      "text/html": [
       "<style type=\"text/css\">\n",
       "#T_4856b_ th {\n",
       "  text-align: left;\n",
       "}\n",
       "#T_4856b_row0_col0, #T_4856b_row0_col2, #T_4856b_row1_col0, #T_4856b_row1_col1, #T_4856b_row1_col2, #T_4856b_row1_col3, #T_4856b_row1_col4, #T_4856b_row1_col5, #T_4856b_row1_col6, #T_4856b_row1_col7, #T_4856b_row2_col0, #T_4856b_row2_col1, #T_4856b_row2_col3, #T_4856b_row2_col4, #T_4856b_row2_col5, #T_4856b_row2_col6, #T_4856b_row2_col7, #T_4856b_row3_col0, #T_4856b_row3_col1, #T_4856b_row3_col2, #T_4856b_row3_col3, #T_4856b_row3_col4, #T_4856b_row3_col5, #T_4856b_row3_col6, #T_4856b_row3_col7, #T_4856b_row4_col0, #T_4856b_row4_col1, #T_4856b_row4_col2, #T_4856b_row4_col3, #T_4856b_row4_col4, #T_4856b_row4_col5, #T_4856b_row4_col6, #T_4856b_row4_col7, #T_4856b_row5_col0, #T_4856b_row5_col1, #T_4856b_row5_col2, #T_4856b_row5_col3, #T_4856b_row5_col4, #T_4856b_row5_col5, #T_4856b_row5_col6, #T_4856b_row5_col7, #T_4856b_row6_col0, #T_4856b_row6_col1, #T_4856b_row6_col2, #T_4856b_row6_col3, #T_4856b_row6_col4, #T_4856b_row6_col5, #T_4856b_row6_col6, #T_4856b_row6_col7, #T_4856b_row7_col0, #T_4856b_row7_col1, #T_4856b_row7_col2, #T_4856b_row7_col3, #T_4856b_row7_col4, #T_4856b_row7_col5, #T_4856b_row7_col6, #T_4856b_row7_col7, #T_4856b_row8_col0, #T_4856b_row8_col1, #T_4856b_row8_col2, #T_4856b_row8_col3, #T_4856b_row8_col4, #T_4856b_row8_col5, #T_4856b_row8_col6, #T_4856b_row8_col7, #T_4856b_row9_col0, #T_4856b_row9_col1, #T_4856b_row9_col2, #T_4856b_row9_col3, #T_4856b_row9_col4, #T_4856b_row9_col5, #T_4856b_row9_col6, #T_4856b_row9_col7, #T_4856b_row10_col0, #T_4856b_row10_col1, #T_4856b_row10_col2, #T_4856b_row10_col3, #T_4856b_row10_col4, #T_4856b_row10_col5, #T_4856b_row10_col6, #T_4856b_row10_col7, #T_4856b_row11_col0, #T_4856b_row11_col1, #T_4856b_row11_col2, #T_4856b_row11_col3, #T_4856b_row11_col4, #T_4856b_row11_col5, #T_4856b_row11_col6, #T_4856b_row11_col7, #T_4856b_row12_col0, #T_4856b_row12_col1, #T_4856b_row12_col2, #T_4856b_row12_col3, #T_4856b_row12_col4, #T_4856b_row12_col5, #T_4856b_row12_col6, #T_4856b_row12_col7 {\n",
       "  text-align: left;\n",
       "}\n",
       "#T_4856b_row0_col1, #T_4856b_row0_col3, #T_4856b_row0_col4, #T_4856b_row0_col5, #T_4856b_row0_col6, #T_4856b_row0_col7, #T_4856b_row2_col2 {\n",
       "  text-align: left;\n",
       "  background-color: yellow;\n",
       "}\n",
       "#T_4856b_row0_col8, #T_4856b_row1_col8, #T_4856b_row2_col8, #T_4856b_row3_col8, #T_4856b_row4_col8, #T_4856b_row5_col8, #T_4856b_row6_col8, #T_4856b_row7_col8, #T_4856b_row8_col8, #T_4856b_row9_col8, #T_4856b_row11_col8, #T_4856b_row12_col8 {\n",
       "  text-align: left;\n",
       "  background-color: lightgrey;\n",
       "}\n",
       "#T_4856b_row10_col8 {\n",
       "  text-align: left;\n",
       "  background-color: yellow;\n",
       "  background-color: lightgrey;\n",
       "}\n",
       "</style>\n",
       "<table id=\"T_4856b_\">\n",
       "  <thead>\n",
       "    <tr>\n",
       "      <th class=\"blank level0\" >&nbsp;</th>\n",
       "      <th class=\"col_heading level0 col0\" >Model</th>\n",
       "      <th class=\"col_heading level0 col1\" >Accuracy</th>\n",
       "      <th class=\"col_heading level0 col2\" >AUC</th>\n",
       "      <th class=\"col_heading level0 col3\" >Recall</th>\n",
       "      <th class=\"col_heading level0 col4\" >Prec.</th>\n",
       "      <th class=\"col_heading level0 col5\" >F1</th>\n",
       "      <th class=\"col_heading level0 col6\" >Kappa</th>\n",
       "      <th class=\"col_heading level0 col7\" >MCC</th>\n",
       "      <th class=\"col_heading level0 col8\" >TT (Sec)</th>\n",
       "    </tr>\n",
       "  </thead>\n",
       "  <tbody>\n",
       "    <tr>\n",
       "      <th id=\"T_4856b_level0_row0\" class=\"row_heading level0 row0\" >rf</th>\n",
       "      <td id=\"T_4856b_row0_col0\" class=\"data row0 col0\" >Random Forest Classifier</td>\n",
       "      <td id=\"T_4856b_row0_col1\" class=\"data row0 col1\" >0.7624</td>\n",
       "      <td id=\"T_4856b_row0_col2\" class=\"data row0 col2\" >0.9427</td>\n",
       "      <td id=\"T_4856b_row0_col3\" class=\"data row0 col3\" >0.7629</td>\n",
       "      <td id=\"T_4856b_row0_col4\" class=\"data row0 col4\" >0.7681</td>\n",
       "      <td id=\"T_4856b_row0_col5\" class=\"data row0 col5\" >0.7621</td>\n",
       "      <td id=\"T_4856b_row0_col6\" class=\"data row0 col6\" >0.7030</td>\n",
       "      <td id=\"T_4856b_row0_col7\" class=\"data row0 col7\" >0.7045</td>\n",
       "      <td id=\"T_4856b_row0_col8\" class=\"data row0 col8\" >0.5650</td>\n",
       "    </tr>\n",
       "    <tr>\n",
       "      <th id=\"T_4856b_level0_row1\" class=\"row_heading level0 row1\" >lightgbm</th>\n",
       "      <td id=\"T_4856b_row1_col0\" class=\"data row1 col0\" >Light Gradient Boosting Machine</td>\n",
       "      <td id=\"T_4856b_row1_col1\" class=\"data row1 col1\" >0.7583</td>\n",
       "      <td id=\"T_4856b_row1_col2\" class=\"data row1 col2\" >0.9407</td>\n",
       "      <td id=\"T_4856b_row1_col3\" class=\"data row1 col3\" >0.7593</td>\n",
       "      <td id=\"T_4856b_row1_col4\" class=\"data row1 col4\" >0.7611</td>\n",
       "      <td id=\"T_4856b_row1_col5\" class=\"data row1 col5\" >0.7567</td>\n",
       "      <td id=\"T_4856b_row1_col6\" class=\"data row1 col6\" >0.6979</td>\n",
       "      <td id=\"T_4856b_row1_col7\" class=\"data row1 col7\" >0.6993</td>\n",
       "      <td id=\"T_4856b_row1_col8\" class=\"data row1 col8\" >0.7000</td>\n",
       "    </tr>\n",
       "    <tr>\n",
       "      <th id=\"T_4856b_level0_row2\" class=\"row_heading level0 row2\" >et</th>\n",
       "      <td id=\"T_4856b_row2_col0\" class=\"data row2 col0\" >Extra Trees Classifier</td>\n",
       "      <td id=\"T_4856b_row2_col1\" class=\"data row2 col1\" >0.7535</td>\n",
       "      <td id=\"T_4856b_row2_col2\" class=\"data row2 col2\" >0.9432</td>\n",
       "      <td id=\"T_4856b_row2_col3\" class=\"data row2 col3\" >0.7541</td>\n",
       "      <td id=\"T_4856b_row2_col4\" class=\"data row2 col4\" >0.7584</td>\n",
       "      <td id=\"T_4856b_row2_col5\" class=\"data row2 col5\" >0.7526</td>\n",
       "      <td id=\"T_4856b_row2_col6\" class=\"data row2 col6\" >0.6919</td>\n",
       "      <td id=\"T_4856b_row2_col7\" class=\"data row2 col7\" >0.6935</td>\n",
       "      <td id=\"T_4856b_row2_col8\" class=\"data row2 col8\" >0.5420</td>\n",
       "    </tr>\n",
       "    <tr>\n",
       "      <th id=\"T_4856b_level0_row3\" class=\"row_heading level0 row3\" >knn</th>\n",
       "      <td id=\"T_4856b_row3_col0\" class=\"data row3 col0\" >K Neighbors Classifier</td>\n",
       "      <td id=\"T_4856b_row3_col1\" class=\"data row3 col1\" >0.7433</td>\n",
       "      <td id=\"T_4856b_row3_col2\" class=\"data row3 col2\" >0.9220</td>\n",
       "      <td id=\"T_4856b_row3_col3\" class=\"data row3 col3\" >0.7441</td>\n",
       "      <td id=\"T_4856b_row3_col4\" class=\"data row3 col4\" >0.7462</td>\n",
       "      <td id=\"T_4856b_row3_col5\" class=\"data row3 col5\" >0.7420</td>\n",
       "      <td id=\"T_4856b_row3_col6\" class=\"data row3 col6\" >0.6792</td>\n",
       "      <td id=\"T_4856b_row3_col7\" class=\"data row3 col7\" >0.6804</td>\n",
       "      <td id=\"T_4856b_row3_col8\" class=\"data row3 col8\" >0.1460</td>\n",
       "    </tr>\n",
       "    <tr>\n",
       "      <th id=\"T_4856b_level0_row4\" class=\"row_heading level0 row4\" >gbc</th>\n",
       "      <td id=\"T_4856b_row4_col0\" class=\"data row4 col0\" >Gradient Boosting Classifier</td>\n",
       "      <td id=\"T_4856b_row4_col1\" class=\"data row4 col1\" >0.7297</td>\n",
       "      <td id=\"T_4856b_row4_col2\" class=\"data row4 col2\" >0.9352</td>\n",
       "      <td id=\"T_4856b_row4_col3\" class=\"data row4 col3\" >0.7308</td>\n",
       "      <td id=\"T_4856b_row4_col4\" class=\"data row4 col4\" >0.7350</td>\n",
       "      <td id=\"T_4856b_row4_col5\" class=\"data row4 col5\" >0.7279</td>\n",
       "      <td id=\"T_4856b_row4_col6\" class=\"data row4 col6\" >0.6622</td>\n",
       "      <td id=\"T_4856b_row4_col7\" class=\"data row4 col7\" >0.6642</td>\n",
       "      <td id=\"T_4856b_row4_col8\" class=\"data row4 col8\" >1.3740</td>\n",
       "    </tr>\n",
       "    <tr>\n",
       "      <th id=\"T_4856b_level0_row5\" class=\"row_heading level0 row5\" >dt</th>\n",
       "      <td id=\"T_4856b_row5_col0\" class=\"data row5 col0\" >Decision Tree Classifier</td>\n",
       "      <td id=\"T_4856b_row5_col1\" class=\"data row5 col1\" >0.6637</td>\n",
       "      <td id=\"T_4856b_row5_col2\" class=\"data row5 col2\" >0.7896</td>\n",
       "      <td id=\"T_4856b_row5_col3\" class=\"data row5 col3\" >0.6641</td>\n",
       "      <td id=\"T_4856b_row5_col4\" class=\"data row5 col4\" >0.6702</td>\n",
       "      <td id=\"T_4856b_row5_col5\" class=\"data row5 col5\" >0.6622</td>\n",
       "      <td id=\"T_4856b_row5_col6\" class=\"data row5 col6\" >0.5795</td>\n",
       "      <td id=\"T_4856b_row5_col7\" class=\"data row5 col7\" >0.5815</td>\n",
       "      <td id=\"T_4856b_row5_col8\" class=\"data row5 col8\" >0.0360</td>\n",
       "    </tr>\n",
       "    <tr>\n",
       "      <th id=\"T_4856b_level0_row6\" class=\"row_heading level0 row6\" >nb</th>\n",
       "      <td id=\"T_4856b_row6_col0\" class=\"data row6 col0\" >Naive Bayes</td>\n",
       "      <td id=\"T_4856b_row6_col1\" class=\"data row6 col1\" >0.5657</td>\n",
       "      <td id=\"T_4856b_row6_col2\" class=\"data row6 col2\" >0.8371</td>\n",
       "      <td id=\"T_4856b_row6_col3\" class=\"data row6 col3\" >0.5671</td>\n",
       "      <td id=\"T_4856b_row6_col4\" class=\"data row6 col4\" >0.5661</td>\n",
       "      <td id=\"T_4856b_row6_col5\" class=\"data row6 col5\" >0.5505</td>\n",
       "      <td id=\"T_4856b_row6_col6\" class=\"data row6 col6\" >0.4572</td>\n",
       "      <td id=\"T_4856b_row6_col7\" class=\"data row6 col7\" >0.4632</td>\n",
       "      <td id=\"T_4856b_row6_col8\" class=\"data row6 col8\" >0.0320</td>\n",
       "    </tr>\n",
       "    <tr>\n",
       "      <th id=\"T_4856b_level0_row7\" class=\"row_heading level0 row7\" >ada</th>\n",
       "      <td id=\"T_4856b_row7_col0\" class=\"data row7 col0\" >Ada Boost Classifier</td>\n",
       "      <td id=\"T_4856b_row7_col1\" class=\"data row7 col1\" >0.5364</td>\n",
       "      <td id=\"T_4856b_row7_col2\" class=\"data row7 col2\" >0.8043</td>\n",
       "      <td id=\"T_4856b_row7_col3\" class=\"data row7 col3\" >0.5413</td>\n",
       "      <td id=\"T_4856b_row7_col4\" class=\"data row7 col4\" >0.5273</td>\n",
       "      <td id=\"T_4856b_row7_col5\" class=\"data row7 col5\" >0.5188</td>\n",
       "      <td id=\"T_4856b_row7_col6\" class=\"data row7 col6\" >0.4212</td>\n",
       "      <td id=\"T_4856b_row7_col7\" class=\"data row7 col7\" >0.4266</td>\n",
       "      <td id=\"T_4856b_row7_col8\" class=\"data row7 col8\" >0.1740</td>\n",
       "    </tr>\n",
       "    <tr>\n",
       "      <th id=\"T_4856b_level0_row8\" class=\"row_heading level0 row8\" >lr</th>\n",
       "      <td id=\"T_4856b_row8_col0\" class=\"data row8 col0\" >Logistic Regression</td>\n",
       "      <td id=\"T_4856b_row8_col1\" class=\"data row8 col1\" >0.5275</td>\n",
       "      <td id=\"T_4856b_row8_col2\" class=\"data row8 col2\" >0.7885</td>\n",
       "      <td id=\"T_4856b_row8_col3\" class=\"data row8 col3\" >0.5324</td>\n",
       "      <td id=\"T_4856b_row8_col4\" class=\"data row8 col4\" >0.5076</td>\n",
       "      <td id=\"T_4856b_row8_col5\" class=\"data row8 col5\" >0.5010</td>\n",
       "      <td id=\"T_4856b_row8_col6\" class=\"data row8 col6\" >0.4103</td>\n",
       "      <td id=\"T_4856b_row8_col7\" class=\"data row8 col7\" >0.4168</td>\n",
       "      <td id=\"T_4856b_row8_col8\" class=\"data row8 col8\" >0.0490</td>\n",
       "    </tr>\n",
       "    <tr>\n",
       "      <th id=\"T_4856b_level0_row9\" class=\"row_heading level0 row9\" >qda</th>\n",
       "      <td id=\"T_4856b_row9_col0\" class=\"data row9 col0\" >Quadratic Discriminant Analysis</td>\n",
       "      <td id=\"T_4856b_row9_col1\" class=\"data row9 col1\" >0.5221</td>\n",
       "      <td id=\"T_4856b_row9_col2\" class=\"data row9 col2\" >0.8452</td>\n",
       "      <td id=\"T_4856b_row9_col3\" class=\"data row9 col3\" >0.5185</td>\n",
       "      <td id=\"T_4856b_row9_col4\" class=\"data row9 col4\" >0.5784</td>\n",
       "      <td id=\"T_4856b_row9_col5\" class=\"data row9 col5\" >0.5120</td>\n",
       "      <td id=\"T_4856b_row9_col6\" class=\"data row9 col6\" >0.4008</td>\n",
       "      <td id=\"T_4856b_row9_col7\" class=\"data row9 col7\" >0.4148</td>\n",
       "      <td id=\"T_4856b_row9_col8\" class=\"data row9 col8\" >0.0290</td>\n",
       "    </tr>\n",
       "    <tr>\n",
       "      <th id=\"T_4856b_level0_row10\" class=\"row_heading level0 row10\" >lda</th>\n",
       "      <td id=\"T_4856b_row10_col0\" class=\"data row10 col0\" >Linear Discriminant Analysis</td>\n",
       "      <td id=\"T_4856b_row10_col1\" class=\"data row10 col1\" >0.5194</td>\n",
       "      <td id=\"T_4856b_row10_col2\" class=\"data row10 col2\" >0.7852</td>\n",
       "      <td id=\"T_4856b_row10_col3\" class=\"data row10 col3\" >0.5241</td>\n",
       "      <td id=\"T_4856b_row10_col4\" class=\"data row10 col4\" >0.5004</td>\n",
       "      <td id=\"T_4856b_row10_col5\" class=\"data row10 col5\" >0.4925</td>\n",
       "      <td id=\"T_4856b_row10_col6\" class=\"data row10 col6\" >0.4001</td>\n",
       "      <td id=\"T_4856b_row10_col7\" class=\"data row10 col7\" >0.4073</td>\n",
       "      <td id=\"T_4856b_row10_col8\" class=\"data row10 col8\" >0.0280</td>\n",
       "    </tr>\n",
       "    <tr>\n",
       "      <th id=\"T_4856b_level0_row11\" class=\"row_heading level0 row11\" >ridge</th>\n",
       "      <td id=\"T_4856b_row11_col0\" class=\"data row11 col0\" >Ridge Classifier</td>\n",
       "      <td id=\"T_4856b_row11_col1\" class=\"data row11 col1\" >0.5051</td>\n",
       "      <td id=\"T_4856b_row11_col2\" class=\"data row11 col2\" >0.0000</td>\n",
       "      <td id=\"T_4856b_row11_col3\" class=\"data row11 col3\" >0.5128</td>\n",
       "      <td id=\"T_4856b_row11_col4\" class=\"data row11 col4\" >0.5076</td>\n",
       "      <td id=\"T_4856b_row11_col5\" class=\"data row11 col5\" >0.4353</td>\n",
       "      <td id=\"T_4856b_row11_col6\" class=\"data row11 col6\" >0.3836</td>\n",
       "      <td id=\"T_4856b_row11_col7\" class=\"data row11 col7\" >0.4077</td>\n",
       "      <td id=\"T_4856b_row11_col8\" class=\"data row11 col8\" >0.0290</td>\n",
       "    </tr>\n",
       "    <tr>\n",
       "      <th id=\"T_4856b_level0_row12\" class=\"row_heading level0 row12\" >svm</th>\n",
       "      <td id=\"T_4856b_row12_col0\" class=\"data row12 col0\" >SVM - Linear Kernel</td>\n",
       "      <td id=\"T_4856b_row12_col1\" class=\"data row12 col1\" >0.4377</td>\n",
       "      <td id=\"T_4856b_row12_col2\" class=\"data row12 col2\" >0.0000</td>\n",
       "      <td id=\"T_4856b_row12_col3\" class=\"data row12 col3\" >0.4425</td>\n",
       "      <td id=\"T_4856b_row12_col4\" class=\"data row12 col4\" >0.4035</td>\n",
       "      <td id=\"T_4856b_row12_col5\" class=\"data row12 col5\" >0.3990</td>\n",
       "      <td id=\"T_4856b_row12_col6\" class=\"data row12 col6\" >0.2981</td>\n",
       "      <td id=\"T_4856b_row12_col7\" class=\"data row12 col7\" >0.3077</td>\n",
       "      <td id=\"T_4856b_row12_col8\" class=\"data row12 col8\" >0.0740</td>\n",
       "    </tr>\n",
       "  </tbody>\n",
       "</table>\n"
      ],
      "text/plain": [
       "<pandas.io.formats.style.Styler at 0x1fd9a6282c8>"
      ]
     },
     "metadata": {},
     "output_type": "display_data"
    }
   ],
   "source": [
    "setup(space_X_train,\n",
    "          target='target'\n",
    "    )\n",
    "best_model=compare_models()"
   ]
  },
  {
   "cell_type": "code",
   "execution_count": 14,
   "id": "c071de88",
   "metadata": {},
   "outputs": [],
   "source": [
    "space_X_train_scaled['target'] = space_X_train['target']"
   ]
  },
  {
   "cell_type": "markdown",
   "id": "cd6792ae",
   "metadata": {},
   "source": [
    "Let's try with the data modified with scalers: MinMaxScaler, RobustScaler, "
   ]
  },
  {
   "cell_type": "code",
   "execution_count": 36,
   "id": "e6203ecc",
   "metadata": {},
   "outputs": [
    {
     "data": {
      "text/html": [
       "<style type=\"text/css\">\n",
       "#T_cf315_ th {\n",
       "  text-align: left;\n",
       "}\n",
       "#T_cf315_row0_col0, #T_cf315_row0_col2, #T_cf315_row0_col4, #T_cf315_row1_col0, #T_cf315_row1_col1, #T_cf315_row1_col2, #T_cf315_row1_col3, #T_cf315_row1_col5, #T_cf315_row1_col6, #T_cf315_row1_col7, #T_cf315_row2_col0, #T_cf315_row2_col1, #T_cf315_row2_col2, #T_cf315_row2_col3, #T_cf315_row2_col4, #T_cf315_row2_col5, #T_cf315_row2_col6, #T_cf315_row2_col7, #T_cf315_row3_col0, #T_cf315_row3_col1, #T_cf315_row3_col3, #T_cf315_row3_col4, #T_cf315_row3_col5, #T_cf315_row3_col6, #T_cf315_row3_col7, #T_cf315_row4_col0, #T_cf315_row4_col1, #T_cf315_row4_col2, #T_cf315_row4_col3, #T_cf315_row4_col4, #T_cf315_row4_col5, #T_cf315_row4_col6, #T_cf315_row4_col7, #T_cf315_row5_col0, #T_cf315_row5_col1, #T_cf315_row5_col2, #T_cf315_row5_col3, #T_cf315_row5_col4, #T_cf315_row5_col5, #T_cf315_row5_col6, #T_cf315_row5_col7, #T_cf315_row6_col0, #T_cf315_row6_col1, #T_cf315_row6_col2, #T_cf315_row6_col3, #T_cf315_row6_col4, #T_cf315_row6_col5, #T_cf315_row6_col6, #T_cf315_row6_col7, #T_cf315_row7_col0, #T_cf315_row7_col1, #T_cf315_row7_col2, #T_cf315_row7_col3, #T_cf315_row7_col4, #T_cf315_row7_col5, #T_cf315_row7_col6, #T_cf315_row7_col7, #T_cf315_row8_col0, #T_cf315_row8_col1, #T_cf315_row8_col2, #T_cf315_row8_col3, #T_cf315_row8_col4, #T_cf315_row8_col5, #T_cf315_row8_col6, #T_cf315_row8_col7, #T_cf315_row9_col0, #T_cf315_row9_col1, #T_cf315_row9_col2, #T_cf315_row9_col3, #T_cf315_row9_col4, #T_cf315_row9_col5, #T_cf315_row9_col6, #T_cf315_row9_col7, #T_cf315_row10_col0, #T_cf315_row10_col1, #T_cf315_row10_col2, #T_cf315_row10_col3, #T_cf315_row10_col4, #T_cf315_row10_col5, #T_cf315_row10_col6, #T_cf315_row10_col7, #T_cf315_row11_col0, #T_cf315_row11_col1, #T_cf315_row11_col2, #T_cf315_row11_col3, #T_cf315_row11_col4, #T_cf315_row11_col5, #T_cf315_row11_col6, #T_cf315_row11_col7, #T_cf315_row12_col0, #T_cf315_row12_col1, #T_cf315_row12_col2, #T_cf315_row12_col3, #T_cf315_row12_col4, #T_cf315_row12_col5, #T_cf315_row12_col6, #T_cf315_row12_col7 {\n",
       "  text-align: left;\n",
       "}\n",
       "#T_cf315_row0_col1, #T_cf315_row0_col3, #T_cf315_row0_col5, #T_cf315_row0_col6, #T_cf315_row0_col7, #T_cf315_row1_col4, #T_cf315_row3_col2 {\n",
       "  text-align: left;\n",
       "  background-color: yellow;\n",
       "}\n",
       "#T_cf315_row0_col8, #T_cf315_row1_col8, #T_cf315_row2_col8, #T_cf315_row3_col8, #T_cf315_row4_col8, #T_cf315_row5_col8, #T_cf315_row6_col8, #T_cf315_row7_col8, #T_cf315_row9_col8, #T_cf315_row10_col8, #T_cf315_row11_col8, #T_cf315_row12_col8 {\n",
       "  text-align: left;\n",
       "  background-color: lightgrey;\n",
       "}\n",
       "#T_cf315_row8_col8 {\n",
       "  text-align: left;\n",
       "  background-color: yellow;\n",
       "  background-color: lightgrey;\n",
       "}\n",
       "</style>\n",
       "<table id=\"T_cf315_\">\n",
       "  <thead>\n",
       "    <tr>\n",
       "      <th class=\"blank level0\" >&nbsp;</th>\n",
       "      <th class=\"col_heading level0 col0\" >Model</th>\n",
       "      <th class=\"col_heading level0 col1\" >Accuracy</th>\n",
       "      <th class=\"col_heading level0 col2\" >AUC</th>\n",
       "      <th class=\"col_heading level0 col3\" >Recall</th>\n",
       "      <th class=\"col_heading level0 col4\" >Prec.</th>\n",
       "      <th class=\"col_heading level0 col5\" >F1</th>\n",
       "      <th class=\"col_heading level0 col6\" >Kappa</th>\n",
       "      <th class=\"col_heading level0 col7\" >MCC</th>\n",
       "      <th class=\"col_heading level0 col8\" >TT (Sec)</th>\n",
       "    </tr>\n",
       "  </thead>\n",
       "  <tbody>\n",
       "    <tr>\n",
       "      <th id=\"T_cf315_level0_row0\" class=\"row_heading level0 row0\" >lightgbm</th>\n",
       "      <td id=\"T_cf315_row0_col0\" class=\"data row0 col0\" >Light Gradient Boosting Machine</td>\n",
       "      <td id=\"T_cf315_row0_col1\" class=\"data row0 col1\" >0.7481</td>\n",
       "      <td id=\"T_cf315_row0_col2\" class=\"data row0 col2\" >0.9380</td>\n",
       "      <td id=\"T_cf315_row0_col3\" class=\"data row0 col3\" >0.7488</td>\n",
       "      <td id=\"T_cf315_row0_col4\" class=\"data row0 col4\" >0.7532</td>\n",
       "      <td id=\"T_cf315_row0_col5\" class=\"data row0 col5\" >0.7442</td>\n",
       "      <td id=\"T_cf315_row0_col6\" class=\"data row0 col6\" >0.6852</td>\n",
       "      <td id=\"T_cf315_row0_col7\" class=\"data row0 col7\" >0.6879</td>\n",
       "      <td id=\"T_cf315_row0_col8\" class=\"data row0 col8\" >0.4620</td>\n",
       "    </tr>\n",
       "    <tr>\n",
       "      <th id=\"T_cf315_level0_row1\" class=\"row_heading level0 row1\" >rf</th>\n",
       "      <td id=\"T_cf315_row1_col0\" class=\"data row1 col0\" >Random Forest Classifier</td>\n",
       "      <td id=\"T_cf315_row1_col1\" class=\"data row1 col1\" >0.7468</td>\n",
       "      <td id=\"T_cf315_row1_col2\" class=\"data row1 col2\" >0.9423</td>\n",
       "      <td id=\"T_cf315_row1_col3\" class=\"data row1 col3\" >0.7473</td>\n",
       "      <td id=\"T_cf315_row1_col4\" class=\"data row1 col4\" >0.7538</td>\n",
       "      <td id=\"T_cf315_row1_col5\" class=\"data row1 col5\" >0.7434</td>\n",
       "      <td id=\"T_cf315_row1_col6\" class=\"data row1 col6\" >0.6835</td>\n",
       "      <td id=\"T_cf315_row1_col7\" class=\"data row1 col7\" >0.6864</td>\n",
       "      <td id=\"T_cf315_row1_col8\" class=\"data row1 col8\" >0.5650</td>\n",
       "    </tr>\n",
       "    <tr>\n",
       "      <th id=\"T_cf315_level0_row2\" class=\"row_heading level0 row2\" >gbc</th>\n",
       "      <td id=\"T_cf315_row2_col0\" class=\"data row2 col0\" >Gradient Boosting Classifier</td>\n",
       "      <td id=\"T_cf315_row2_col1\" class=\"data row2 col1\" >0.7386</td>\n",
       "      <td id=\"T_cf315_row2_col2\" class=\"data row2 col2\" >0.9386</td>\n",
       "      <td id=\"T_cf315_row2_col3\" class=\"data row2 col3\" >0.7391</td>\n",
       "      <td id=\"T_cf315_row2_col4\" class=\"data row2 col4\" >0.7419</td>\n",
       "      <td id=\"T_cf315_row2_col5\" class=\"data row2 col5\" >0.7350</td>\n",
       "      <td id=\"T_cf315_row2_col6\" class=\"data row2 col6\" >0.6733</td>\n",
       "      <td id=\"T_cf315_row2_col7\" class=\"data row2 col7\" >0.6756</td>\n",
       "      <td id=\"T_cf315_row2_col8\" class=\"data row2 col8\" >1.3590</td>\n",
       "    </tr>\n",
       "    <tr>\n",
       "      <th id=\"T_cf315_level0_row3\" class=\"row_heading level0 row3\" >et</th>\n",
       "      <td id=\"T_cf315_row3_col0\" class=\"data row3 col0\" >Extra Trees Classifier</td>\n",
       "      <td id=\"T_cf315_row3_col1\" class=\"data row3 col1\" >0.7386</td>\n",
       "      <td id=\"T_cf315_row3_col2\" class=\"data row3 col2\" >0.9433</td>\n",
       "      <td id=\"T_cf315_row3_col3\" class=\"data row3 col3\" >0.7393</td>\n",
       "      <td id=\"T_cf315_row3_col4\" class=\"data row3 col4\" >0.7431</td>\n",
       "      <td id=\"T_cf315_row3_col5\" class=\"data row3 col5\" >0.7351</td>\n",
       "      <td id=\"T_cf315_row3_col6\" class=\"data row3 col6\" >0.6733</td>\n",
       "      <td id=\"T_cf315_row3_col7\" class=\"data row3 col7\" >0.6758</td>\n",
       "      <td id=\"T_cf315_row3_col8\" class=\"data row3 col8\" >0.4550</td>\n",
       "    </tr>\n",
       "    <tr>\n",
       "      <th id=\"T_cf315_level0_row4\" class=\"row_heading level0 row4\" >knn</th>\n",
       "      <td id=\"T_cf315_row4_col0\" class=\"data row4 col0\" >K Neighbors Classifier</td>\n",
       "      <td id=\"T_cf315_row4_col1\" class=\"data row4 col1\" >0.7229</td>\n",
       "      <td id=\"T_cf315_row4_col2\" class=\"data row4 col2\" >0.9217</td>\n",
       "      <td id=\"T_cf315_row4_col3\" class=\"data row4 col3\" >0.7234</td>\n",
       "      <td id=\"T_cf315_row4_col4\" class=\"data row4 col4\" >0.7271</td>\n",
       "      <td id=\"T_cf315_row4_col5\" class=\"data row4 col5\" >0.7207</td>\n",
       "      <td id=\"T_cf315_row4_col6\" class=\"data row4 col6\" >0.6537</td>\n",
       "      <td id=\"T_cf315_row4_col7\" class=\"data row4 col7\" >0.6556</td>\n",
       "      <td id=\"T_cf315_row4_col8\" class=\"data row4 col8\" >0.1080</td>\n",
       "    </tr>\n",
       "    <tr>\n",
       "      <th id=\"T_cf315_level0_row5\" class=\"row_heading level0 row5\" >qda</th>\n",
       "      <td id=\"T_cf315_row5_col0\" class=\"data row5 col0\" >Quadratic Discriminant Analysis</td>\n",
       "      <td id=\"T_cf315_row5_col1\" class=\"data row5 col1\" >0.6515</td>\n",
       "      <td id=\"T_cf315_row5_col2\" class=\"data row5 col2\" >0.8984</td>\n",
       "      <td id=\"T_cf315_row5_col3\" class=\"data row5 col3\" >0.6526</td>\n",
       "      <td id=\"T_cf315_row5_col4\" class=\"data row5 col4\" >0.6688</td>\n",
       "      <td id=\"T_cf315_row5_col5\" class=\"data row5 col5\" >0.6431</td>\n",
       "      <td id=\"T_cf315_row5_col6\" class=\"data row5 col6\" >0.5646</td>\n",
       "      <td id=\"T_cf315_row5_col7\" class=\"data row5 col7\" >0.5716</td>\n",
       "      <td id=\"T_cf315_row5_col8\" class=\"data row5 col8\" >0.0410</td>\n",
       "    </tr>\n",
       "    <tr>\n",
       "      <th id=\"T_cf315_level0_row6\" class=\"row_heading level0 row6\" >dt</th>\n",
       "      <td id=\"T_cf315_row6_col0\" class=\"data row6 col0\" >Decision Tree Classifier</td>\n",
       "      <td id=\"T_cf315_row6_col1\" class=\"data row6 col1\" >0.6439</td>\n",
       "      <td id=\"T_cf315_row6_col2\" class=\"data row6 col2\" >0.7775</td>\n",
       "      <td id=\"T_cf315_row6_col3\" class=\"data row6 col3\" >0.6441</td>\n",
       "      <td id=\"T_cf315_row6_col4\" class=\"data row6 col4\" >0.6514</td>\n",
       "      <td id=\"T_cf315_row6_col5\" class=\"data row6 col5\" >0.6423</td>\n",
       "      <td id=\"T_cf315_row6_col6\" class=\"data row6 col6\" >0.5549</td>\n",
       "      <td id=\"T_cf315_row6_col7\" class=\"data row6 col7\" >0.5572</td>\n",
       "      <td id=\"T_cf315_row6_col8\" class=\"data row6 col8\" >0.0280</td>\n",
       "    </tr>\n",
       "    <tr>\n",
       "      <th id=\"T_cf315_level0_row7\" class=\"row_heading level0 row7\" >nb</th>\n",
       "      <td id=\"T_cf315_row7_col0\" class=\"data row7 col0\" >Naive Bayes</td>\n",
       "      <td id=\"T_cf315_row7_col1\" class=\"data row7 col1\" >0.5664</td>\n",
       "      <td id=\"T_cf315_row7_col2\" class=\"data row7 col2\" >0.8384</td>\n",
       "      <td id=\"T_cf315_row7_col3\" class=\"data row7 col3\" >0.5669</td>\n",
       "      <td id=\"T_cf315_row7_col4\" class=\"data row7 col4\" >0.5722</td>\n",
       "      <td id=\"T_cf315_row7_col5\" class=\"data row7 col5\" >0.5512</td>\n",
       "      <td id=\"T_cf315_row7_col6\" class=\"data row7 col6\" >0.4581</td>\n",
       "      <td id=\"T_cf315_row7_col7\" class=\"data row7 col7\" >0.4639</td>\n",
       "      <td id=\"T_cf315_row7_col8\" class=\"data row7 col8\" >0.0280</td>\n",
       "    </tr>\n",
       "    <tr>\n",
       "      <th id=\"T_cf315_level0_row8\" class=\"row_heading level0 row8\" >lda</th>\n",
       "      <td id=\"T_cf315_row8_col0\" class=\"data row8 col0\" >Linear Discriminant Analysis</td>\n",
       "      <td id=\"T_cf315_row8_col1\" class=\"data row8 col1\" >0.5582</td>\n",
       "      <td id=\"T_cf315_row8_col2\" class=\"data row8 col2\" >0.7955</td>\n",
       "      <td id=\"T_cf315_row8_col3\" class=\"data row8 col3\" >0.5594</td>\n",
       "      <td id=\"T_cf315_row8_col4\" class=\"data row8 col4\" >0.5438</td>\n",
       "      <td id=\"T_cf315_row8_col5\" class=\"data row8 col5\" >0.5351</td>\n",
       "      <td id=\"T_cf315_row8_col6\" class=\"data row8 col6\" >0.4481</td>\n",
       "      <td id=\"T_cf315_row8_col7\" class=\"data row8 col7\" >0.4547</td>\n",
       "      <td id=\"T_cf315_row8_col8\" class=\"data row8 col8\" >0.0250</td>\n",
       "    </tr>\n",
       "    <tr>\n",
       "      <th id=\"T_cf315_level0_row9\" class=\"row_heading level0 row9\" >ada</th>\n",
       "      <td id=\"T_cf315_row9_col0\" class=\"data row9 col0\" >Ada Boost Classifier</td>\n",
       "      <td id=\"T_cf315_row9_col1\" class=\"data row9 col1\" >0.5555</td>\n",
       "      <td id=\"T_cf315_row9_col2\" class=\"data row9 col2\" >0.8152</td>\n",
       "      <td id=\"T_cf315_row9_col3\" class=\"data row9 col3\" >0.5561</td>\n",
       "      <td id=\"T_cf315_row9_col4\" class=\"data row9 col4\" >0.5460</td>\n",
       "      <td id=\"T_cf315_row9_col5\" class=\"data row9 col5\" >0.5363</td>\n",
       "      <td id=\"T_cf315_row9_col6\" class=\"data row9 col6\" >0.4444</td>\n",
       "      <td id=\"T_cf315_row9_col7\" class=\"data row9 col7\" >0.4505</td>\n",
       "      <td id=\"T_cf315_row9_col8\" class=\"data row9 col8\" >0.1680</td>\n",
       "    </tr>\n",
       "    <tr>\n",
       "      <th id=\"T_cf315_level0_row10\" class=\"row_heading level0 row10\" >lr</th>\n",
       "      <td id=\"T_cf315_row10_col0\" class=\"data row10 col0\" >Logistic Regression</td>\n",
       "      <td id=\"T_cf315_row10_col1\" class=\"data row10 col1\" >0.5439</td>\n",
       "      <td id=\"T_cf315_row10_col2\" class=\"data row10 col2\" >0.7951</td>\n",
       "      <td id=\"T_cf315_row10_col3\" class=\"data row10 col3\" >0.5450</td>\n",
       "      <td id=\"T_cf315_row10_col4\" class=\"data row10 col4\" >0.5328</td>\n",
       "      <td id=\"T_cf315_row10_col5\" class=\"data row10 col5\" >0.5200</td>\n",
       "      <td id=\"T_cf315_row10_col6\" class=\"data row10 col6\" >0.4302</td>\n",
       "      <td id=\"T_cf315_row10_col7\" class=\"data row10 col7\" >0.4374</td>\n",
       "      <td id=\"T_cf315_row10_col8\" class=\"data row10 col8\" >2.0730</td>\n",
       "    </tr>\n",
       "    <tr>\n",
       "      <th id=\"T_cf315_level0_row11\" class=\"row_heading level0 row11\" >ridge</th>\n",
       "      <td id=\"T_cf315_row11_col0\" class=\"data row11 col0\" >Ridge Classifier</td>\n",
       "      <td id=\"T_cf315_row11_col1\" class=\"data row11 col1\" >0.5351</td>\n",
       "      <td id=\"T_cf315_row11_col2\" class=\"data row11 col2\" >0.0000</td>\n",
       "      <td id=\"T_cf315_row11_col3\" class=\"data row11 col3\" >0.5368</td>\n",
       "      <td id=\"T_cf315_row11_col4\" class=\"data row11 col4\" >0.5816</td>\n",
       "      <td id=\"T_cf315_row11_col5\" class=\"data row11 col5\" >0.4784</td>\n",
       "      <td id=\"T_cf315_row11_col6\" class=\"data row11 col6\" >0.4194</td>\n",
       "      <td id=\"T_cf315_row11_col7\" class=\"data row11 col7\" >0.4420</td>\n",
       "      <td id=\"T_cf315_row11_col8\" class=\"data row11 col8\" >0.0270</td>\n",
       "    </tr>\n",
       "    <tr>\n",
       "      <th id=\"T_cf315_level0_row12\" class=\"row_heading level0 row12\" >svm</th>\n",
       "      <td id=\"T_cf315_row12_col0\" class=\"data row12 col0\" >SVM - Linear Kernel</td>\n",
       "      <td id=\"T_cf315_row12_col1\" class=\"data row12 col1\" >0.4629</td>\n",
       "      <td id=\"T_cf315_row12_col2\" class=\"data row12 col2\" >0.0000</td>\n",
       "      <td id=\"T_cf315_row12_col3\" class=\"data row12 col3\" >0.4640</td>\n",
       "      <td id=\"T_cf315_row12_col4\" class=\"data row12 col4\" >0.4495</td>\n",
       "      <td id=\"T_cf315_row12_col5\" class=\"data row12 col5\" >0.4061</td>\n",
       "      <td id=\"T_cf315_row12_col6\" class=\"data row12 col6\" >0.3288</td>\n",
       "      <td id=\"T_cf315_row12_col7\" class=\"data row12 col7\" >0.3565</td>\n",
       "      <td id=\"T_cf315_row12_col8\" class=\"data row12 col8\" >0.1190</td>\n",
       "    </tr>\n",
       "  </tbody>\n",
       "</table>\n"
      ],
      "text/plain": [
       "<pandas.io.formats.style.Styler at 0x1fd9d5a9208>"
      ]
     },
     "metadata": {},
     "output_type": "display_data"
    }
   ],
   "source": [
    "setup(space_X_train_min_max_scaled,\n",
    "          target='target'\n",
    "    )\n",
    "best_model=compare_models()"
   ]
  },
  {
   "cell_type": "code",
   "execution_count": 37,
   "id": "9105ca1f",
   "metadata": {},
   "outputs": [
    {
     "data": {
      "text/html": [
       "<style type=\"text/css\">\n",
       "#T_dd0f7_ th {\n",
       "  text-align: left;\n",
       "}\n",
       "#T_dd0f7_row0_col0, #T_dd0f7_row1_col0, #T_dd0f7_row1_col1, #T_dd0f7_row1_col2, #T_dd0f7_row1_col3, #T_dd0f7_row1_col4, #T_dd0f7_row1_col5, #T_dd0f7_row1_col6, #T_dd0f7_row1_col7, #T_dd0f7_row2_col0, #T_dd0f7_row2_col1, #T_dd0f7_row2_col2, #T_dd0f7_row2_col3, #T_dd0f7_row2_col4, #T_dd0f7_row2_col5, #T_dd0f7_row2_col6, #T_dd0f7_row2_col7, #T_dd0f7_row3_col0, #T_dd0f7_row3_col1, #T_dd0f7_row3_col2, #T_dd0f7_row3_col3, #T_dd0f7_row3_col4, #T_dd0f7_row3_col5, #T_dd0f7_row3_col6, #T_dd0f7_row3_col7, #T_dd0f7_row4_col0, #T_dd0f7_row4_col1, #T_dd0f7_row4_col2, #T_dd0f7_row4_col3, #T_dd0f7_row4_col4, #T_dd0f7_row4_col5, #T_dd0f7_row4_col6, #T_dd0f7_row4_col7, #T_dd0f7_row5_col0, #T_dd0f7_row5_col1, #T_dd0f7_row5_col2, #T_dd0f7_row5_col3, #T_dd0f7_row5_col4, #T_dd0f7_row5_col5, #T_dd0f7_row5_col6, #T_dd0f7_row5_col7, #T_dd0f7_row6_col0, #T_dd0f7_row6_col1, #T_dd0f7_row6_col2, #T_dd0f7_row6_col3, #T_dd0f7_row6_col4, #T_dd0f7_row6_col5, #T_dd0f7_row6_col6, #T_dd0f7_row6_col7, #T_dd0f7_row7_col0, #T_dd0f7_row7_col1, #T_dd0f7_row7_col2, #T_dd0f7_row7_col3, #T_dd0f7_row7_col4, #T_dd0f7_row7_col5, #T_dd0f7_row7_col6, #T_dd0f7_row7_col7, #T_dd0f7_row8_col0, #T_dd0f7_row8_col1, #T_dd0f7_row8_col2, #T_dd0f7_row8_col3, #T_dd0f7_row8_col4, #T_dd0f7_row8_col5, #T_dd0f7_row8_col6, #T_dd0f7_row8_col7, #T_dd0f7_row9_col0, #T_dd0f7_row9_col1, #T_dd0f7_row9_col2, #T_dd0f7_row9_col3, #T_dd0f7_row9_col4, #T_dd0f7_row9_col5, #T_dd0f7_row9_col6, #T_dd0f7_row9_col7, #T_dd0f7_row10_col0, #T_dd0f7_row10_col1, #T_dd0f7_row10_col2, #T_dd0f7_row10_col3, #T_dd0f7_row10_col4, #T_dd0f7_row10_col5, #T_dd0f7_row10_col6, #T_dd0f7_row10_col7, #T_dd0f7_row11_col0, #T_dd0f7_row11_col1, #T_dd0f7_row11_col2, #T_dd0f7_row11_col3, #T_dd0f7_row11_col4, #T_dd0f7_row11_col5, #T_dd0f7_row11_col6, #T_dd0f7_row11_col7, #T_dd0f7_row12_col0, #T_dd0f7_row12_col1, #T_dd0f7_row12_col2, #T_dd0f7_row12_col3, #T_dd0f7_row12_col4, #T_dd0f7_row12_col5, #T_dd0f7_row12_col6, #T_dd0f7_row12_col7 {\n",
       "  text-align: left;\n",
       "}\n",
       "#T_dd0f7_row0_col1, #T_dd0f7_row0_col2, #T_dd0f7_row0_col3, #T_dd0f7_row0_col4, #T_dd0f7_row0_col5, #T_dd0f7_row0_col6, #T_dd0f7_row0_col7 {\n",
       "  text-align: left;\n",
       "  background-color: yellow;\n",
       "}\n",
       "#T_dd0f7_row0_col8, #T_dd0f7_row1_col8, #T_dd0f7_row2_col8, #T_dd0f7_row3_col8, #T_dd0f7_row4_col8, #T_dd0f7_row5_col8, #T_dd0f7_row6_col8, #T_dd0f7_row7_col8, #T_dd0f7_row8_col8, #T_dd0f7_row9_col8, #T_dd0f7_row10_col8, #T_dd0f7_row12_col8 {\n",
       "  text-align: left;\n",
       "  background-color: lightgrey;\n",
       "}\n",
       "#T_dd0f7_row11_col8 {\n",
       "  text-align: left;\n",
       "  background-color: yellow;\n",
       "  background-color: lightgrey;\n",
       "}\n",
       "</style>\n",
       "<table id=\"T_dd0f7_\">\n",
       "  <thead>\n",
       "    <tr>\n",
       "      <th class=\"blank level0\" >&nbsp;</th>\n",
       "      <th class=\"col_heading level0 col0\" >Model</th>\n",
       "      <th class=\"col_heading level0 col1\" >Accuracy</th>\n",
       "      <th class=\"col_heading level0 col2\" >AUC</th>\n",
       "      <th class=\"col_heading level0 col3\" >Recall</th>\n",
       "      <th class=\"col_heading level0 col4\" >Prec.</th>\n",
       "      <th class=\"col_heading level0 col5\" >F1</th>\n",
       "      <th class=\"col_heading level0 col6\" >Kappa</th>\n",
       "      <th class=\"col_heading level0 col7\" >MCC</th>\n",
       "      <th class=\"col_heading level0 col8\" >TT (Sec)</th>\n",
       "    </tr>\n",
       "  </thead>\n",
       "  <tbody>\n",
       "    <tr>\n",
       "      <th id=\"T_dd0f7_level0_row0\" class=\"row_heading level0 row0\" >et</th>\n",
       "      <td id=\"T_dd0f7_row0_col0\" class=\"data row0 col0\" >Extra Trees Classifier</td>\n",
       "      <td id=\"T_dd0f7_row0_col1\" class=\"data row0 col1\" >0.7611</td>\n",
       "      <td id=\"T_dd0f7_row0_col2\" class=\"data row0 col2\" >0.9425</td>\n",
       "      <td id=\"T_dd0f7_row0_col3\" class=\"data row0 col3\" >0.7608</td>\n",
       "      <td id=\"T_dd0f7_row0_col4\" class=\"data row0 col4\" >0.7642</td>\n",
       "      <td id=\"T_dd0f7_row0_col5\" class=\"data row0 col5\" >0.7592</td>\n",
       "      <td id=\"T_dd0f7_row0_col6\" class=\"data row0 col6\" >0.7013</td>\n",
       "      <td id=\"T_dd0f7_row0_col7\" class=\"data row0 col7\" >0.7028</td>\n",
       "      <td id=\"T_dd0f7_row0_col8\" class=\"data row0 col8\" >0.4670</td>\n",
       "    </tr>\n",
       "    <tr>\n",
       "      <th id=\"T_dd0f7_level0_row1\" class=\"row_heading level0 row1\" >lightgbm</th>\n",
       "      <td id=\"T_dd0f7_row1_col0\" class=\"data row1 col0\" >Light Gradient Boosting Machine</td>\n",
       "      <td id=\"T_dd0f7_row1_col1\" class=\"data row1 col1\" >0.7488</td>\n",
       "      <td id=\"T_dd0f7_row1_col2\" class=\"data row1 col2\" >0.9407</td>\n",
       "      <td id=\"T_dd0f7_row1_col3\" class=\"data row1 col3\" >0.7485</td>\n",
       "      <td id=\"T_dd0f7_row1_col4\" class=\"data row1 col4\" >0.7523</td>\n",
       "      <td id=\"T_dd0f7_row1_col5\" class=\"data row1 col5\" >0.7477</td>\n",
       "      <td id=\"T_dd0f7_row1_col6\" class=\"data row1 col6\" >0.6860</td>\n",
       "      <td id=\"T_dd0f7_row1_col7\" class=\"data row1 col7\" >0.6872</td>\n",
       "      <td id=\"T_dd0f7_row1_col8\" class=\"data row1 col8\" >0.4050</td>\n",
       "    </tr>\n",
       "    <tr>\n",
       "      <th id=\"T_dd0f7_level0_row2\" class=\"row_heading level0 row2\" >rf</th>\n",
       "      <td id=\"T_dd0f7_row2_col0\" class=\"data row2 col0\" >Random Forest Classifier</td>\n",
       "      <td id=\"T_dd0f7_row2_col1\" class=\"data row2 col1\" >0.7468</td>\n",
       "      <td id=\"T_dd0f7_row2_col2\" class=\"data row2 col2\" >0.9421</td>\n",
       "      <td id=\"T_dd0f7_row2_col3\" class=\"data row2 col3\" >0.7465</td>\n",
       "      <td id=\"T_dd0f7_row2_col4\" class=\"data row2 col4\" >0.7500</td>\n",
       "      <td id=\"T_dd0f7_row2_col5\" class=\"data row2 col5\" >0.7447</td>\n",
       "      <td id=\"T_dd0f7_row2_col6\" class=\"data row2 col6\" >0.6834</td>\n",
       "      <td id=\"T_dd0f7_row2_col7\" class=\"data row2 col7\" >0.6850</td>\n",
       "      <td id=\"T_dd0f7_row2_col8\" class=\"data row2 col8\" >0.5270</td>\n",
       "    </tr>\n",
       "    <tr>\n",
       "      <th id=\"T_dd0f7_level0_row3\" class=\"row_heading level0 row3\" >gbc</th>\n",
       "      <td id=\"T_dd0f7_row3_col0\" class=\"data row3 col0\" >Gradient Boosting Classifier</td>\n",
       "      <td id=\"T_dd0f7_row3_col1\" class=\"data row3 col1\" >0.7338</td>\n",
       "      <td id=\"T_dd0f7_row3_col2\" class=\"data row3 col2\" >0.9363</td>\n",
       "      <td id=\"T_dd0f7_row3_col3\" class=\"data row3 col3\" >0.7334</td>\n",
       "      <td id=\"T_dd0f7_row3_col4\" class=\"data row3 col4\" >0.7378</td>\n",
       "      <td id=\"T_dd0f7_row3_col5\" class=\"data row3 col5\" >0.7322</td>\n",
       "      <td id=\"T_dd0f7_row3_col6\" class=\"data row3 col6\" >0.6672</td>\n",
       "      <td id=\"T_dd0f7_row3_col7\" class=\"data row3 col7\" >0.6688</td>\n",
       "      <td id=\"T_dd0f7_row3_col8\" class=\"data row3 col8\" >1.2010</td>\n",
       "    </tr>\n",
       "    <tr>\n",
       "      <th id=\"T_dd0f7_level0_row4\" class=\"row_heading level0 row4\" >knn</th>\n",
       "      <td id=\"T_dd0f7_row4_col0\" class=\"data row4 col0\" >K Neighbors Classifier</td>\n",
       "      <td id=\"T_dd0f7_row4_col1\" class=\"data row4 col1\" >0.7222</td>\n",
       "      <td id=\"T_dd0f7_row4_col2\" class=\"data row4 col2\" >0.9226</td>\n",
       "      <td id=\"T_dd0f7_row4_col3\" class=\"data row4 col3\" >0.7220</td>\n",
       "      <td id=\"T_dd0f7_row4_col4\" class=\"data row4 col4\" >0.7277</td>\n",
       "      <td id=\"T_dd0f7_row4_col5\" class=\"data row4 col5\" >0.7206</td>\n",
       "      <td id=\"T_dd0f7_row4_col6\" class=\"data row4 col6\" >0.6528</td>\n",
       "      <td id=\"T_dd0f7_row4_col7\" class=\"data row4 col7\" >0.6547</td>\n",
       "      <td id=\"T_dd0f7_row4_col8\" class=\"data row4 col8\" >0.1040</td>\n",
       "    </tr>\n",
       "    <tr>\n",
       "      <th id=\"T_dd0f7_level0_row5\" class=\"row_heading level0 row5\" >dt</th>\n",
       "      <td id=\"T_dd0f7_row5_col0\" class=\"data row5 col0\" >Decision Tree Classifier</td>\n",
       "      <td id=\"T_dd0f7_row5_col1\" class=\"data row5 col1\" >0.6739</td>\n",
       "      <td id=\"T_dd0f7_row5_col2\" class=\"data row5 col2\" >0.7963</td>\n",
       "      <td id=\"T_dd0f7_row5_col3\" class=\"data row5 col3\" >0.6735</td>\n",
       "      <td id=\"T_dd0f7_row5_col4\" class=\"data row5 col4\" >0.6767</td>\n",
       "      <td id=\"T_dd0f7_row5_col5\" class=\"data row5 col5\" >0.6732</td>\n",
       "      <td id=\"T_dd0f7_row5_col6\" class=\"data row5 col6\" >0.5924</td>\n",
       "      <td id=\"T_dd0f7_row5_col7\" class=\"data row5 col7\" >0.5933</td>\n",
       "      <td id=\"T_dd0f7_row5_col8\" class=\"data row5 col8\" >0.0370</td>\n",
       "    </tr>\n",
       "    <tr>\n",
       "      <th id=\"T_dd0f7_level0_row6\" class=\"row_heading level0 row6\" >qda</th>\n",
       "      <td id=\"T_dd0f7_row6_col0\" class=\"data row6 col0\" >Quadratic Discriminant Analysis</td>\n",
       "      <td id=\"T_dd0f7_row6_col1\" class=\"data row6 col1\" >0.5582</td>\n",
       "      <td id=\"T_dd0f7_row6_col2\" class=\"data row6 col2\" >0.8626</td>\n",
       "      <td id=\"T_dd0f7_row6_col3\" class=\"data row6 col3\" >0.5585</td>\n",
       "      <td id=\"T_dd0f7_row6_col4\" class=\"data row6 col4\" >0.6060</td>\n",
       "      <td id=\"T_dd0f7_row6_col5\" class=\"data row6 col5\" >0.5523</td>\n",
       "      <td id=\"T_dd0f7_row6_col6\" class=\"data row6 col6\" >0.4479</td>\n",
       "      <td id=\"T_dd0f7_row6_col7\" class=\"data row6 col7\" >0.4604</td>\n",
       "      <td id=\"T_dd0f7_row6_col8\" class=\"data row6 col8\" >0.0360</td>\n",
       "    </tr>\n",
       "    <tr>\n",
       "      <th id=\"T_dd0f7_level0_row7\" class=\"row_heading level0 row7\" >nb</th>\n",
       "      <td id=\"T_dd0f7_row7_col0\" class=\"data row7 col0\" >Naive Bayes</td>\n",
       "      <td id=\"T_dd0f7_row7_col1\" class=\"data row7 col1\" >0.5555</td>\n",
       "      <td id=\"T_dd0f7_row7_col2\" class=\"data row7 col2\" >0.8377</td>\n",
       "      <td id=\"T_dd0f7_row7_col3\" class=\"data row7 col3\" >0.5541</td>\n",
       "      <td id=\"T_dd0f7_row7_col4\" class=\"data row7 col4\" >0.5507</td>\n",
       "      <td id=\"T_dd0f7_row7_col5\" class=\"data row7 col5\" >0.5386</td>\n",
       "      <td id=\"T_dd0f7_row7_col6\" class=\"data row7 col6\" >0.4441</td>\n",
       "      <td id=\"T_dd0f7_row7_col7\" class=\"data row7 col7\" >0.4496</td>\n",
       "      <td id=\"T_dd0f7_row7_col8\" class=\"data row7 col8\" >0.0330</td>\n",
       "    </tr>\n",
       "    <tr>\n",
       "      <th id=\"T_dd0f7_level0_row8\" class=\"row_heading level0 row8\" >ada</th>\n",
       "      <td id=\"T_dd0f7_row8_col0\" class=\"data row8 col0\" >Ada Boost Classifier</td>\n",
       "      <td id=\"T_dd0f7_row8_col1\" class=\"data row8 col1\" >0.5534</td>\n",
       "      <td id=\"T_dd0f7_row8_col2\" class=\"data row8 col2\" >0.8093</td>\n",
       "      <td id=\"T_dd0f7_row8_col3\" class=\"data row8 col3\" >0.5520</td>\n",
       "      <td id=\"T_dd0f7_row8_col4\" class=\"data row8 col4\" >0.5449</td>\n",
       "      <td id=\"T_dd0f7_row8_col5\" class=\"data row8 col5\" >0.5412</td>\n",
       "      <td id=\"T_dd0f7_row8_col6\" class=\"data row8 col6\" >0.4415</td>\n",
       "      <td id=\"T_dd0f7_row8_col7\" class=\"data row8 col7\" >0.4447</td>\n",
       "      <td id=\"T_dd0f7_row8_col8\" class=\"data row8 col8\" >0.1930</td>\n",
       "    </tr>\n",
       "    <tr>\n",
       "      <th id=\"T_dd0f7_level0_row9\" class=\"row_heading level0 row9\" >lr</th>\n",
       "      <td id=\"T_dd0f7_row9_col0\" class=\"data row9 col0\" >Logistic Regression</td>\n",
       "      <td id=\"T_dd0f7_row9_col1\" class=\"data row9 col1\" >0.5262</td>\n",
       "      <td id=\"T_dd0f7_row9_col2\" class=\"data row9 col2\" >0.7925</td>\n",
       "      <td id=\"T_dd0f7_row9_col3\" class=\"data row9 col3\" >0.5249</td>\n",
       "      <td id=\"T_dd0f7_row9_col4\" class=\"data row9 col4\" >0.4987</td>\n",
       "      <td id=\"T_dd0f7_row9_col5\" class=\"data row9 col5\" >0.4996</td>\n",
       "      <td id=\"T_dd0f7_row9_col6\" class=\"data row9 col6\" >0.4075</td>\n",
       "      <td id=\"T_dd0f7_row9_col7\" class=\"data row9 col7\" >0.4133</td>\n",
       "      <td id=\"T_dd0f7_row9_col8\" class=\"data row9 col8\" >0.0540</td>\n",
       "    </tr>\n",
       "    <tr>\n",
       "      <th id=\"T_dd0f7_level0_row10\" class=\"row_heading level0 row10\" >lda</th>\n",
       "      <td id=\"T_dd0f7_row10_col0\" class=\"data row10 col0\" >Linear Discriminant Analysis</td>\n",
       "      <td id=\"T_dd0f7_row10_col1\" class=\"data row10 col1\" >0.5126</td>\n",
       "      <td id=\"T_dd0f7_row10_col2\" class=\"data row10 col2\" >0.7881</td>\n",
       "      <td id=\"T_dd0f7_row10_col3\" class=\"data row10 col3\" >0.5112</td>\n",
       "      <td id=\"T_dd0f7_row10_col4\" class=\"data row10 col4\" >0.4810</td>\n",
       "      <td id=\"T_dd0f7_row10_col5\" class=\"data row10 col5\" >0.4849</td>\n",
       "      <td id=\"T_dd0f7_row10_col6\" class=\"data row10 col6\" >0.3904</td>\n",
       "      <td id=\"T_dd0f7_row10_col7\" class=\"data row10 col7\" >0.3960</td>\n",
       "      <td id=\"T_dd0f7_row10_col8\" class=\"data row10 col8\" >0.0300</td>\n",
       "    </tr>\n",
       "    <tr>\n",
       "      <th id=\"T_dd0f7_level0_row11\" class=\"row_heading level0 row11\" >ridge</th>\n",
       "      <td id=\"T_dd0f7_row11_col0\" class=\"data row11 col0\" >Ridge Classifier</td>\n",
       "      <td id=\"T_dd0f7_row11_col1\" class=\"data row11 col1\" >0.4962</td>\n",
       "      <td id=\"T_dd0f7_row11_col2\" class=\"data row11 col2\" >0.0000</td>\n",
       "      <td id=\"T_dd0f7_row11_col3\" class=\"data row11 col3\" >0.4944</td>\n",
       "      <td id=\"T_dd0f7_row11_col4\" class=\"data row11 col4\" >0.4113</td>\n",
       "      <td id=\"T_dd0f7_row11_col5\" class=\"data row11 col5\" >0.4146</td>\n",
       "      <td id=\"T_dd0f7_row11_col6\" class=\"data row11 col6\" >0.3698</td>\n",
       "      <td id=\"T_dd0f7_row11_col7\" class=\"data row11 col7\" >0.3929</td>\n",
       "      <td id=\"T_dd0f7_row11_col8\" class=\"data row11 col8\" >0.0240</td>\n",
       "    </tr>\n",
       "    <tr>\n",
       "      <th id=\"T_dd0f7_level0_row12\" class=\"row_heading level0 row12\" >svm</th>\n",
       "      <td id=\"T_dd0f7_row12_col0\" class=\"data row12 col0\" >SVM - Linear Kernel</td>\n",
       "      <td id=\"T_dd0f7_row12_col1\" class=\"data row12 col1\" >0.4289</td>\n",
       "      <td id=\"T_dd0f7_row12_col2\" class=\"data row12 col2\" >0.0000</td>\n",
       "      <td id=\"T_dd0f7_row12_col3\" class=\"data row12 col3\" >0.4271</td>\n",
       "      <td id=\"T_dd0f7_row12_col4\" class=\"data row12 col4\" >0.4120</td>\n",
       "      <td id=\"T_dd0f7_row12_col5\" class=\"data row12 col5\" >0.3996</td>\n",
       "      <td id=\"T_dd0f7_row12_col6\" class=\"data row12 col6\" >0.2855</td>\n",
       "      <td id=\"T_dd0f7_row12_col7\" class=\"data row12 col7\" >0.2940</td>\n",
       "      <td id=\"T_dd0f7_row12_col8\" class=\"data row12 col8\" >0.0880</td>\n",
       "    </tr>\n",
       "  </tbody>\n",
       "</table>\n"
      ],
      "text/plain": [
       "<pandas.io.formats.style.Styler at 0x1fd9d33e6c8>"
      ]
     },
     "metadata": {},
     "output_type": "display_data"
    }
   ],
   "source": [
    "setup(space_X_train_standard,\n",
    "          target='target'\n",
    "    )\n",
    "best_model=compare_models()"
   ]
  },
  {
   "cell_type": "code",
   "execution_count": 38,
   "id": "a930cc49",
   "metadata": {},
   "outputs": [
    {
     "data": {
      "text/html": [
       "<style type=\"text/css\">\n",
       "#T_9c2ac_ th {\n",
       "  text-align: left;\n",
       "}\n",
       "#T_9c2ac_row0_col0, #T_9c2ac_row0_col2, #T_9c2ac_row1_col0, #T_9c2ac_row1_col1, #T_9c2ac_row1_col2, #T_9c2ac_row1_col3, #T_9c2ac_row1_col4, #T_9c2ac_row1_col5, #T_9c2ac_row1_col6, #T_9c2ac_row1_col7, #T_9c2ac_row2_col0, #T_9c2ac_row2_col1, #T_9c2ac_row2_col3, #T_9c2ac_row2_col4, #T_9c2ac_row2_col5, #T_9c2ac_row2_col6, #T_9c2ac_row2_col7, #T_9c2ac_row3_col0, #T_9c2ac_row3_col1, #T_9c2ac_row3_col2, #T_9c2ac_row3_col3, #T_9c2ac_row3_col4, #T_9c2ac_row3_col5, #T_9c2ac_row3_col6, #T_9c2ac_row3_col7, #T_9c2ac_row4_col0, #T_9c2ac_row4_col1, #T_9c2ac_row4_col2, #T_9c2ac_row4_col3, #T_9c2ac_row4_col4, #T_9c2ac_row4_col5, #T_9c2ac_row4_col6, #T_9c2ac_row4_col7, #T_9c2ac_row5_col0, #T_9c2ac_row5_col1, #T_9c2ac_row5_col2, #T_9c2ac_row5_col3, #T_9c2ac_row5_col4, #T_9c2ac_row5_col5, #T_9c2ac_row5_col6, #T_9c2ac_row5_col7, #T_9c2ac_row6_col0, #T_9c2ac_row6_col1, #T_9c2ac_row6_col2, #T_9c2ac_row6_col3, #T_9c2ac_row6_col4, #T_9c2ac_row6_col5, #T_9c2ac_row6_col6, #T_9c2ac_row6_col7, #T_9c2ac_row7_col0, #T_9c2ac_row7_col1, #T_9c2ac_row7_col2, #T_9c2ac_row7_col3, #T_9c2ac_row7_col4, #T_9c2ac_row7_col5, #T_9c2ac_row7_col6, #T_9c2ac_row7_col7, #T_9c2ac_row8_col0, #T_9c2ac_row8_col1, #T_9c2ac_row8_col2, #T_9c2ac_row8_col3, #T_9c2ac_row8_col4, #T_9c2ac_row8_col5, #T_9c2ac_row8_col6, #T_9c2ac_row8_col7, #T_9c2ac_row9_col0, #T_9c2ac_row9_col1, #T_9c2ac_row9_col2, #T_9c2ac_row9_col3, #T_9c2ac_row9_col4, #T_9c2ac_row9_col5, #T_9c2ac_row9_col6, #T_9c2ac_row9_col7, #T_9c2ac_row10_col0, #T_9c2ac_row10_col1, #T_9c2ac_row10_col2, #T_9c2ac_row10_col3, #T_9c2ac_row10_col4, #T_9c2ac_row10_col5, #T_9c2ac_row10_col6, #T_9c2ac_row10_col7, #T_9c2ac_row11_col0, #T_9c2ac_row11_col1, #T_9c2ac_row11_col2, #T_9c2ac_row11_col3, #T_9c2ac_row11_col4, #T_9c2ac_row11_col5, #T_9c2ac_row11_col6, #T_9c2ac_row11_col7, #T_9c2ac_row12_col0, #T_9c2ac_row12_col1, #T_9c2ac_row12_col2, #T_9c2ac_row12_col3, #T_9c2ac_row12_col4, #T_9c2ac_row12_col5, #T_9c2ac_row12_col6, #T_9c2ac_row12_col7 {\n",
       "  text-align: left;\n",
       "}\n",
       "#T_9c2ac_row0_col1, #T_9c2ac_row0_col3, #T_9c2ac_row0_col4, #T_9c2ac_row0_col5, #T_9c2ac_row0_col6, #T_9c2ac_row0_col7, #T_9c2ac_row2_col2 {\n",
       "  text-align: left;\n",
       "  background-color: yellow;\n",
       "}\n",
       "#T_9c2ac_row0_col8, #T_9c2ac_row1_col8, #T_9c2ac_row2_col8, #T_9c2ac_row3_col8, #T_9c2ac_row4_col8, #T_9c2ac_row5_col8, #T_9c2ac_row6_col8, #T_9c2ac_row7_col8, #T_9c2ac_row8_col8, #T_9c2ac_row9_col8, #T_9c2ac_row11_col8, #T_9c2ac_row12_col8 {\n",
       "  text-align: left;\n",
       "  background-color: lightgrey;\n",
       "}\n",
       "#T_9c2ac_row10_col8 {\n",
       "  text-align: left;\n",
       "  background-color: yellow;\n",
       "  background-color: lightgrey;\n",
       "}\n",
       "</style>\n",
       "<table id=\"T_9c2ac_\">\n",
       "  <thead>\n",
       "    <tr>\n",
       "      <th class=\"blank level0\" >&nbsp;</th>\n",
       "      <th class=\"col_heading level0 col0\" >Model</th>\n",
       "      <th class=\"col_heading level0 col1\" >Accuracy</th>\n",
       "      <th class=\"col_heading level0 col2\" >AUC</th>\n",
       "      <th class=\"col_heading level0 col3\" >Recall</th>\n",
       "      <th class=\"col_heading level0 col4\" >Prec.</th>\n",
       "      <th class=\"col_heading level0 col5\" >F1</th>\n",
       "      <th class=\"col_heading level0 col6\" >Kappa</th>\n",
       "      <th class=\"col_heading level0 col7\" >MCC</th>\n",
       "      <th class=\"col_heading level0 col8\" >TT (Sec)</th>\n",
       "    </tr>\n",
       "  </thead>\n",
       "  <tbody>\n",
       "    <tr>\n",
       "      <th id=\"T_9c2ac_level0_row0\" class=\"row_heading level0 row0\" >et</th>\n",
       "      <td id=\"T_9c2ac_row0_col0\" class=\"data row0 col0\" >Extra Trees Classifier</td>\n",
       "      <td id=\"T_9c2ac_row0_col1\" class=\"data row0 col1\" >0.7577</td>\n",
       "      <td id=\"T_9c2ac_row0_col2\" class=\"data row0 col2\" >0.9422</td>\n",
       "      <td id=\"T_9c2ac_row0_col3\" class=\"data row0 col3\" >0.7584</td>\n",
       "      <td id=\"T_9c2ac_row0_col4\" class=\"data row0 col4\" >0.7628</td>\n",
       "      <td id=\"T_9c2ac_row0_col5\" class=\"data row0 col5\" >0.7576</td>\n",
       "      <td id=\"T_9c2ac_row0_col6\" class=\"data row0 col6\" >0.6970</td>\n",
       "      <td id=\"T_9c2ac_row0_col7\" class=\"data row0 col7\" >0.6982</td>\n",
       "      <td id=\"T_9c2ac_row0_col8\" class=\"data row0 col8\" >0.4650</td>\n",
       "    </tr>\n",
       "    <tr>\n",
       "      <th id=\"T_9c2ac_level0_row1\" class=\"row_heading level0 row1\" >rf</th>\n",
       "      <td id=\"T_9c2ac_row1_col0\" class=\"data row1 col0\" >Random Forest Classifier</td>\n",
       "      <td id=\"T_9c2ac_row1_col1\" class=\"data row1 col1\" >0.7563</td>\n",
       "      <td id=\"T_9c2ac_row1_col2\" class=\"data row1 col2\" >0.9432</td>\n",
       "      <td id=\"T_9c2ac_row1_col3\" class=\"data row1 col3\" >0.7572</td>\n",
       "      <td id=\"T_9c2ac_row1_col4\" class=\"data row1 col4\" >0.7624</td>\n",
       "      <td id=\"T_9c2ac_row1_col5\" class=\"data row1 col5\" >0.7561</td>\n",
       "      <td id=\"T_9c2ac_row1_col6\" class=\"data row1 col6\" >0.6953</td>\n",
       "      <td id=\"T_9c2ac_row1_col7\" class=\"data row1 col7\" >0.6968</td>\n",
       "      <td id=\"T_9c2ac_row1_col8\" class=\"data row1 col8\" >0.6180</td>\n",
       "    </tr>\n",
       "    <tr>\n",
       "      <th id=\"T_9c2ac_level0_row2\" class=\"row_heading level0 row2\" >lightgbm</th>\n",
       "      <td id=\"T_9c2ac_row2_col0\" class=\"data row2 col0\" >Light Gradient Boosting Machine</td>\n",
       "      <td id=\"T_9c2ac_row2_col1\" class=\"data row2 col1\" >0.7427</td>\n",
       "      <td id=\"T_9c2ac_row2_col2\" class=\"data row2 col2\" >0.9438</td>\n",
       "      <td id=\"T_9c2ac_row2_col3\" class=\"data row2 col3\" >0.7435</td>\n",
       "      <td id=\"T_9c2ac_row2_col4\" class=\"data row2 col4\" >0.7475</td>\n",
       "      <td id=\"T_9c2ac_row2_col5\" class=\"data row2 col5\" >0.7423</td>\n",
       "      <td id=\"T_9c2ac_row2_col6\" class=\"data row2 col6\" >0.6783</td>\n",
       "      <td id=\"T_9c2ac_row2_col7\" class=\"data row2 col7\" >0.6796</td>\n",
       "      <td id=\"T_9c2ac_row2_col8\" class=\"data row2 col8\" >0.4980</td>\n",
       "    </tr>\n",
       "    <tr>\n",
       "      <th id=\"T_9c2ac_level0_row3\" class=\"row_heading level0 row3\" >gbc</th>\n",
       "      <td id=\"T_9c2ac_row3_col0\" class=\"data row3 col0\" >Gradient Boosting Classifier</td>\n",
       "      <td id=\"T_9c2ac_row3_col1\" class=\"data row3 col1\" >0.7359</td>\n",
       "      <td id=\"T_9c2ac_row3_col2\" class=\"data row3 col2\" >0.9367</td>\n",
       "      <td id=\"T_9c2ac_row3_col3\" class=\"data row3 col3\" >0.7369</td>\n",
       "      <td id=\"T_9c2ac_row3_col4\" class=\"data row3 col4\" >0.7390</td>\n",
       "      <td id=\"T_9c2ac_row3_col5\" class=\"data row3 col5\" >0.7346</td>\n",
       "      <td id=\"T_9c2ac_row3_col6\" class=\"data row3 col6\" >0.6698</td>\n",
       "      <td id=\"T_9c2ac_row3_col7\" class=\"data row3 col7\" >0.6711</td>\n",
       "      <td id=\"T_9c2ac_row3_col8\" class=\"data row3 col8\" >1.2910</td>\n",
       "    </tr>\n",
       "    <tr>\n",
       "      <th id=\"T_9c2ac_level0_row4\" class=\"row_heading level0 row4\" >knn</th>\n",
       "      <td id=\"T_9c2ac_row4_col0\" class=\"data row4 col0\" >K Neighbors Classifier</td>\n",
       "      <td id=\"T_9c2ac_row4_col1\" class=\"data row4 col1\" >0.7331</td>\n",
       "      <td id=\"T_9c2ac_row4_col2\" class=\"data row4 col2\" >0.9233</td>\n",
       "      <td id=\"T_9c2ac_row4_col3\" class=\"data row4 col3\" >0.7339</td>\n",
       "      <td id=\"T_9c2ac_row4_col4\" class=\"data row4 col4\" >0.7394</td>\n",
       "      <td id=\"T_9c2ac_row4_col5\" class=\"data row4 col5\" >0.7321</td>\n",
       "      <td id=\"T_9c2ac_row4_col6\" class=\"data row4 col6\" >0.6663</td>\n",
       "      <td id=\"T_9c2ac_row4_col7\" class=\"data row4 col7\" >0.6682</td>\n",
       "      <td id=\"T_9c2ac_row4_col8\" class=\"data row4 col8\" >0.1300</td>\n",
       "    </tr>\n",
       "    <tr>\n",
       "      <th id=\"T_9c2ac_level0_row5\" class=\"row_heading level0 row5\" >dt</th>\n",
       "      <td id=\"T_9c2ac_row5_col0\" class=\"data row5 col0\" >Decision Tree Classifier</td>\n",
       "      <td id=\"T_9c2ac_row5_col1\" class=\"data row5 col1\" >0.6740</td>\n",
       "      <td id=\"T_9c2ac_row5_col2\" class=\"data row5 col2\" >0.7960</td>\n",
       "      <td id=\"T_9c2ac_row5_col3\" class=\"data row5 col3\" >0.6750</td>\n",
       "      <td id=\"T_9c2ac_row5_col4\" class=\"data row5 col4\" >0.6772</td>\n",
       "      <td id=\"T_9c2ac_row5_col5\" class=\"data row5 col5\" >0.6726</td>\n",
       "      <td id=\"T_9c2ac_row5_col6\" class=\"data row5 col6\" >0.5924</td>\n",
       "      <td id=\"T_9c2ac_row5_col7\" class=\"data row5 col7\" >0.5937</td>\n",
       "      <td id=\"T_9c2ac_row5_col8\" class=\"data row5 col8\" >0.0380</td>\n",
       "    </tr>\n",
       "    <tr>\n",
       "      <th id=\"T_9c2ac_level0_row6\" class=\"row_heading level0 row6\" >qda</th>\n",
       "      <td id=\"T_9c2ac_row6_col0\" class=\"data row6 col0\" >Quadratic Discriminant Analysis</td>\n",
       "      <td id=\"T_9c2ac_row6_col1\" class=\"data row6 col1\" >0.5630</td>\n",
       "      <td id=\"T_9c2ac_row6_col2\" class=\"data row6 col2\" >0.8507</td>\n",
       "      <td id=\"T_9c2ac_row6_col3\" class=\"data row6 col3\" >0.5622</td>\n",
       "      <td id=\"T_9c2ac_row6_col4\" class=\"data row6 col4\" >0.5819</td>\n",
       "      <td id=\"T_9c2ac_row6_col5\" class=\"data row6 col5\" >0.5574</td>\n",
       "      <td id=\"T_9c2ac_row6_col6\" class=\"data row6 col6\" >0.4533</td>\n",
       "      <td id=\"T_9c2ac_row6_col7\" class=\"data row6 col7\" >0.4590</td>\n",
       "      <td id=\"T_9c2ac_row6_col8\" class=\"data row6 col8\" >0.0270</td>\n",
       "    </tr>\n",
       "    <tr>\n",
       "      <th id=\"T_9c2ac_level0_row7\" class=\"row_heading level0 row7\" >nb</th>\n",
       "      <td id=\"T_9c2ac_row7_col0\" class=\"data row7 col0\" >Naive Bayes</td>\n",
       "      <td id=\"T_9c2ac_row7_col1\" class=\"data row7 col1\" >0.5582</td>\n",
       "      <td id=\"T_9c2ac_row7_col2\" class=\"data row7 col2\" >0.8320</td>\n",
       "      <td id=\"T_9c2ac_row7_col3\" class=\"data row7 col3\" >0.5603</td>\n",
       "      <td id=\"T_9c2ac_row7_col4\" class=\"data row7 col4\" >0.5589</td>\n",
       "      <td id=\"T_9c2ac_row7_col5\" class=\"data row7 col5\" >0.5445</td>\n",
       "      <td id=\"T_9c2ac_row7_col6\" class=\"data row7 col6\" >0.4480</td>\n",
       "      <td id=\"T_9c2ac_row7_col7\" class=\"data row7 col7\" >0.4532</td>\n",
       "      <td id=\"T_9c2ac_row7_col8\" class=\"data row7 col8\" >0.0290</td>\n",
       "    </tr>\n",
       "    <tr>\n",
       "      <th id=\"T_9c2ac_level0_row8\" class=\"row_heading level0 row8\" >ada</th>\n",
       "      <td id=\"T_9c2ac_row8_col0\" class=\"data row8 col0\" >Ada Boost Classifier</td>\n",
       "      <td id=\"T_9c2ac_row8_col1\" class=\"data row8 col1\" >0.5446</td>\n",
       "      <td id=\"T_9c2ac_row8_col2\" class=\"data row8 col2\" >0.7946</td>\n",
       "      <td id=\"T_9c2ac_row8_col3\" class=\"data row8 col3\" >0.5479</td>\n",
       "      <td id=\"T_9c2ac_row8_col4\" class=\"data row8 col4\" >0.5437</td>\n",
       "      <td id=\"T_9c2ac_row8_col5\" class=\"data row8 col5\" >0.5302</td>\n",
       "      <td id=\"T_9c2ac_row8_col6\" class=\"data row8 col6\" >0.4313</td>\n",
       "      <td id=\"T_9c2ac_row8_col7\" class=\"data row8 col7\" >0.4368</td>\n",
       "      <td id=\"T_9c2ac_row8_col8\" class=\"data row8 col8\" >0.1750</td>\n",
       "    </tr>\n",
       "    <tr>\n",
       "      <th id=\"T_9c2ac_level0_row9\" class=\"row_heading level0 row9\" >lr</th>\n",
       "      <td id=\"T_9c2ac_row9_col0\" class=\"data row9 col0\" >Logistic Regression</td>\n",
       "      <td id=\"T_9c2ac_row9_col1\" class=\"data row9 col1\" >0.5343</td>\n",
       "      <td id=\"T_9c2ac_row9_col2\" class=\"data row9 col2\" >0.7932</td>\n",
       "      <td id=\"T_9c2ac_row9_col3\" class=\"data row9 col3\" >0.5369</td>\n",
       "      <td id=\"T_9c2ac_row9_col4\" class=\"data row9 col4\" >0.5118</td>\n",
       "      <td id=\"T_9c2ac_row9_col5\" class=\"data row9 col5\" >0.5122</td>\n",
       "      <td id=\"T_9c2ac_row9_col6\" class=\"data row9 col6\" >0.4182</td>\n",
       "      <td id=\"T_9c2ac_row9_col7\" class=\"data row9 col7\" >0.4230</td>\n",
       "      <td id=\"T_9c2ac_row9_col8\" class=\"data row9 col8\" >0.0560</td>\n",
       "    </tr>\n",
       "    <tr>\n",
       "      <th id=\"T_9c2ac_level0_row10\" class=\"row_heading level0 row10\" >lda</th>\n",
       "      <td id=\"T_9c2ac_row10_col0\" class=\"data row10 col0\" >Linear Discriminant Analysis</td>\n",
       "      <td id=\"T_9c2ac_row10_col1\" class=\"data row10 col1\" >0.5309</td>\n",
       "      <td id=\"T_9c2ac_row10_col2\" class=\"data row10 col2\" >0.7896</td>\n",
       "      <td id=\"T_9c2ac_row10_col3\" class=\"data row10 col3\" >0.5334</td>\n",
       "      <td id=\"T_9c2ac_row10_col4\" class=\"data row10 col4\" >0.5136</td>\n",
       "      <td id=\"T_9c2ac_row10_col5\" class=\"data row10 col5\" >0.5088</td>\n",
       "      <td id=\"T_9c2ac_row10_col6\" class=\"data row10 col6\" >0.4139</td>\n",
       "      <td id=\"T_9c2ac_row10_col7\" class=\"data row10 col7\" >0.4197</td>\n",
       "      <td id=\"T_9c2ac_row10_col8\" class=\"data row10 col8\" >0.0260</td>\n",
       "    </tr>\n",
       "    <tr>\n",
       "      <th id=\"T_9c2ac_level0_row11\" class=\"row_heading level0 row11\" >ridge</th>\n",
       "      <td id=\"T_9c2ac_row11_col0\" class=\"data row11 col0\" >Ridge Classifier</td>\n",
       "      <td id=\"T_9c2ac_row11_col1\" class=\"data row11 col1\" >0.5235</td>\n",
       "      <td id=\"T_9c2ac_row11_col2\" class=\"data row11 col2\" >0.0000</td>\n",
       "      <td id=\"T_9c2ac_row11_col3\" class=\"data row11 col3\" >0.5272</td>\n",
       "      <td id=\"T_9c2ac_row11_col4\" class=\"data row11 col4\" >0.5285</td>\n",
       "      <td id=\"T_9c2ac_row11_col5\" class=\"data row11 col5\" >0.4626</td>\n",
       "      <td id=\"T_9c2ac_row11_col6\" class=\"data row11 col6\" >0.4052</td>\n",
       "      <td id=\"T_9c2ac_row11_col7\" class=\"data row11 col7\" >0.4276</td>\n",
       "      <td id=\"T_9c2ac_row11_col8\" class=\"data row11 col8\" >0.0310</td>\n",
       "    </tr>\n",
       "    <tr>\n",
       "      <th id=\"T_9c2ac_level0_row12\" class=\"row_heading level0 row12\" >svm</th>\n",
       "      <td id=\"T_9c2ac_row12_col0\" class=\"data row12 col0\" >SVM - Linear Kernel</td>\n",
       "      <td id=\"T_9c2ac_row12_col1\" class=\"data row12 col1\" >0.4710</td>\n",
       "      <td id=\"T_9c2ac_row12_col2\" class=\"data row12 col2\" >0.0000</td>\n",
       "      <td id=\"T_9c2ac_row12_col3\" class=\"data row12 col3\" >0.4750</td>\n",
       "      <td id=\"T_9c2ac_row12_col4\" class=\"data row12 col4\" >0.4323</td>\n",
       "      <td id=\"T_9c2ac_row12_col5\" class=\"data row12 col5\" >0.4202</td>\n",
       "      <td id=\"T_9c2ac_row12_col6\" class=\"data row12 col6\" >0.3398</td>\n",
       "      <td id=\"T_9c2ac_row12_col7\" class=\"data row12 col7\" >0.3540</td>\n",
       "      <td id=\"T_9c2ac_row12_col8\" class=\"data row12 col8\" >0.0820</td>\n",
       "    </tr>\n",
       "  </tbody>\n",
       "</table>\n"
      ],
      "text/plain": [
       "<pandas.io.formats.style.Styler at 0x1fd9e768588>"
      ]
     },
     "metadata": {},
     "output_type": "display_data"
    }
   ],
   "source": [
    "setup(space_X_train_robust,\n",
    "          target='target'\n",
    "    )\n",
    "best_model=compare_models()"
   ]
  },
  {
   "cell_type": "markdown",
   "id": "b65f212b",
   "metadata": {
    "ExecuteTime": {
     "end_time": "2022-05-28T14:21:59.087697Z",
     "start_time": "2022-05-28T14:21:59.062764Z"
    }
   },
   "source": [
    "## Random Forest Hyperparameters tunning with Optuna"
   ]
  },
  {
   "cell_type": "code",
   "execution_count": 11,
   "id": "221e5f85",
   "metadata": {
    "ExecuteTime": {
     "end_time": "2022-05-28T20:17:35.912615Z",
     "start_time": "2022-05-28T20:17:35.892666Z"
    }
   },
   "outputs": [],
   "source": [
    "def scoring_f1(y_test,X_test,method): #generation of f1 macro\n",
    "    f1score=f1_score(y_test,\n",
    "                     method.predict(X_test),\n",
    "                     average= 'macro'\n",
    ")        \n",
    "    return f1score  "
   ]
  },
  {
   "cell_type": "code",
   "execution_count": 12,
   "id": "292851c5",
   "metadata": {
    "ExecuteTime": {
     "end_time": "2022-05-29T11:16:58.214276Z",
     "start_time": "2022-05-29T11:16:58.189317Z"
    }
   },
   "outputs": [],
   "source": [
    "import optuna"
   ]
  },
  {
   "cell_type": "code",
   "execution_count": 13,
   "id": "b3126619",
   "metadata": {
    "ExecuteTime": {
     "end_time": "2022-05-29T11:56:00.112484Z",
     "start_time": "2022-05-29T11:56:00.100517Z"
    }
   },
   "outputs": [],
   "source": [
    "X=space_X_train.copy()\n",
    "y=X.target\n",
    "X.drop('target',axis=1, inplace=True)"
   ]
  },
  {
   "cell_type": "code",
   "execution_count": 14,
   "id": "55a00580",
   "metadata": {
    "ExecuteTime": {
     "end_time": "2022-05-29T12:01:05.652768Z",
     "start_time": "2022-05-29T12:01:05.628832Z"
    }
   },
   "outputs": [],
   "source": [
    "def objective(trial):\n",
    "    X_train, X_test, y_train, y_test = train_test_split(X, y, random_state=1)\n",
    "    \n",
    "    bootstrap = trial.suggest_categorical('bootstrap',['True','False'])\n",
    "    max_depth = trial.suggest_int('max_depth', 1, 10000)\n",
    "    max_features = trial.suggest_categorical('max_features', ['auto', 'sqrt','log2'])\n",
    "    max_leaf_nodes = trial.suggest_int('max_leaf_nodes', 1, 10000)\n",
    "    n_estimators =  trial.suggest_int('n_estimators', 30, 1000)\n",
    "    n_jobs =  trial.suggest_int('n_jobs', 2, 20)\n",
    "    \n",
    "    rf_cl = RandomForestClassifier(bootstrap = bootstrap, \n",
    "                                   max_depth = max_depth, \n",
    "                                   max_features = max_features,\n",
    "                                   max_leaf_nodes = max_leaf_nodes,\n",
    "                                   n_estimators = n_estimators,\n",
    "                                   n_jobs = n_jobs\n",
    "                                  )\n",
    "    \n",
    "    rf_cl.fit(X_train, y_train)\n",
    "    y_pred = rf_cl.predict(X_test)\n",
    "    \n",
    "    score = cross_val_score(rf_cl, X_test, y_test, cv=5, scoring=\"f1_macro\")\n",
    "    f1_mean = score.mean()\n",
    "\n",
    "    return f1_mean\n"
   ]
  },
  {
   "cell_type": "code",
   "execution_count": 15,
   "id": "150fe434",
   "metadata": {
    "ExecuteTime": {
     "start_time": "2022-05-29T12:01:06.259Z"
    }
   },
   "outputs": [
    {
     "name": "stderr",
     "output_type": "stream",
     "text": [
      "\u001b[32m[I 2022-06-14 19:08:36,933]\u001b[0m A new study created in memory with name: no-name-98b8ddea-1240-46c0-96df-138d4fd2356e\u001b[0m\n",
      "\u001b[32m[I 2022-06-14 19:09:10,048]\u001b[0m Trial 0 finished with value: 0.7199957808974002 and parameters: {'bootstrap': 'True', 'max_depth': 163, 'max_features': 'sqrt', 'max_leaf_nodes': 1773, 'n_estimators': 288, 'n_jobs': 15}. Best is trial 0 with value: 0.7199957808974002.\u001b[0m\n",
      "\u001b[32m[I 2022-06-14 19:09:27,798]\u001b[0m Trial 1 finished with value: 0.7169085773663529 and parameters: {'bootstrap': 'False', 'max_depth': 9579, 'max_features': 'log2', 'max_leaf_nodes': 7828, 'n_estimators': 611, 'n_jobs': 13}. Best is trial 0 with value: 0.7199957808974002.\u001b[0m\n",
      "\u001b[32m[I 2022-06-14 19:09:46,584]\u001b[0m Trial 2 finished with value: 0.7194050923748266 and parameters: {'bootstrap': 'True', 'max_depth': 3402, 'max_features': 'sqrt', 'max_leaf_nodes': 4552, 'n_estimators': 797, 'n_jobs': 5}. Best is trial 0 with value: 0.7199957808974002.\u001b[0m\n",
      "\u001b[32m[I 2022-06-14 19:10:12,436]\u001b[0m Trial 3 finished with value: 0.7180946468265417 and parameters: {'bootstrap': 'True', 'max_depth': 2080, 'max_features': 'log2', 'max_leaf_nodes': 5992, 'n_estimators': 833, 'n_jobs': 11}. Best is trial 0 with value: 0.7199957808974002.\u001b[0m\n",
      "\u001b[32m[I 2022-06-14 19:10:35,017]\u001b[0m Trial 4 finished with value: 0.7200267378075921 and parameters: {'bootstrap': 'True', 'max_depth': 6709, 'max_features': 'sqrt', 'max_leaf_nodes': 3570, 'n_estimators': 580, 'n_jobs': 17}. Best is trial 4 with value: 0.7200267378075921.\u001b[0m\n",
      "\u001b[32m[I 2022-06-14 19:10:44,457]\u001b[0m Trial 5 finished with value: 0.7110648724971199 and parameters: {'bootstrap': 'False', 'max_depth': 4411, 'max_features': 'sqrt', 'max_leaf_nodes': 713, 'n_estimators': 255, 'n_jobs': 6}. Best is trial 4 with value: 0.7200267378075921.\u001b[0m\n",
      "\u001b[32m[I 2022-06-14 19:11:22,044]\u001b[0m Trial 6 finished with value: 0.708765412774993 and parameters: {'bootstrap': 'True', 'max_depth': 6701, 'max_features': 'sqrt', 'max_leaf_nodes': 393, 'n_estimators': 656, 'n_jobs': 20}. Best is trial 4 with value: 0.7200267378075921.\u001b[0m\n",
      "\u001b[32m[I 2022-06-14 19:11:46,577]\u001b[0m Trial 7 finished with value: 0.7164793408804547 and parameters: {'bootstrap': 'True', 'max_depth': 4822, 'max_features': 'sqrt', 'max_leaf_nodes': 7819, 'n_estimators': 922, 'n_jobs': 7}. Best is trial 4 with value: 0.7200267378075921.\u001b[0m\n",
      "\u001b[32m[I 2022-06-14 19:11:57,719]\u001b[0m Trial 8 finished with value: 0.7167900885063859 and parameters: {'bootstrap': 'True', 'max_depth': 5864, 'max_features': 'auto', 'max_leaf_nodes': 2078, 'n_estimators': 285, 'n_jobs': 9}. Best is trial 4 with value: 0.7200267378075921.\u001b[0m\n",
      "\u001b[32m[I 2022-06-14 19:12:14,394]\u001b[0m Trial 9 finished with value: 0.7135559124375954 and parameters: {'bootstrap': 'True', 'max_depth': 4737, 'max_features': 'log2', 'max_leaf_nodes': 1107, 'n_estimators': 708, 'n_jobs': 10}. Best is trial 4 with value: 0.7200267378075921.\u001b[0m\n",
      "\u001b[32m[I 2022-06-14 19:12:39,775]\u001b[0m Trial 10 finished with value: 0.7210648135957081 and parameters: {'bootstrap': 'False', 'max_depth': 8144, 'max_features': 'auto', 'max_leaf_nodes': 4511, 'n_estimators': 452, 'n_jobs': 20}. Best is trial 10 with value: 0.7210648135957081.\u001b[0m\n",
      "\u001b[32m[I 2022-06-14 19:12:54,679]\u001b[0m Trial 11 finished with value: 0.7129614007415082 and parameters: {'bootstrap': 'False', 'max_depth': 8239, 'max_features': 'auto', 'max_leaf_nodes': 3939, 'n_estimators': 488, 'n_jobs': 20}. Best is trial 10 with value: 0.7210648135957081.\u001b[0m\n",
      "\u001b[32m[I 2022-06-14 19:13:09,275]\u001b[0m Trial 12 finished with value: 0.711358990042143 and parameters: {'bootstrap': 'False', 'max_depth': 7488, 'max_features': 'auto', 'max_leaf_nodes': 3288, 'n_estimators': 457, 'n_jobs': 17}. Best is trial 10 with value: 0.7210648135957081.\u001b[0m\n",
      "\u001b[32m[I 2022-06-14 19:13:21,783]\u001b[0m Trial 13 finished with value: 0.7188626871509864 and parameters: {'bootstrap': 'False', 'max_depth': 9843, 'max_features': 'auto', 'max_leaf_nodes': 6124, 'n_estimators': 426, 'n_jobs': 17}. Best is trial 10 with value: 0.7210648135957081.\u001b[0m\n",
      "\u001b[32m[I 2022-06-14 19:13:25,051]\u001b[0m Trial 14 finished with value: 0.707206755392779 and parameters: {'bootstrap': 'False', 'max_depth': 8427, 'max_features': 'auto', 'max_leaf_nodes': 9779, 'n_estimators': 60, 'n_jobs': 17}. Best is trial 10 with value: 0.7210648135957081.\u001b[0m\n",
      "\u001b[32m[I 2022-06-14 19:13:38,462]\u001b[0m Trial 15 finished with value: 0.7090347149245192 and parameters: {'bootstrap': 'False', 'max_depth': 6438, 'max_features': 'auto', 'max_leaf_nodes': 2936, 'n_estimators': 569, 'n_jobs': 14}. Best is trial 10 with value: 0.7210648135957081.\u001b[0m\n",
      "\u001b[32m[I 2022-06-14 19:13:50,405]\u001b[0m Trial 16 finished with value: 0.7144383926477748 and parameters: {'bootstrap': 'True', 'max_depth': 8377, 'max_features': 'sqrt', 'max_leaf_nodes': 5522, 'n_estimators': 379, 'n_jobs': 3}. Best is trial 10 with value: 0.7210648135957081.\u001b[0m\n",
      "\u001b[32m[I 2022-06-14 19:14:10,688]\u001b[0m Trial 17 finished with value: 0.7156834981700875 and parameters: {'bootstrap': 'False', 'max_depth': 7218, 'max_features': 'auto', 'max_leaf_nodes': 7431, 'n_estimators': 103, 'n_jobs': 19}. Best is trial 10 with value: 0.7210648135957081.\u001b[0m\n",
      "\u001b[32m[I 2022-06-14 19:14:59,423]\u001b[0m Trial 18 finished with value: 0.7022260699962333 and parameters: {'bootstrap': 'True', 'max_depth': 5611, 'max_features': 'sqrt', 'max_leaf_nodes': 4440, 'n_estimators': 1000, 'n_jobs': 18}. Best is trial 10 with value: 0.7210648135957081.\u001b[0m\n",
      "\u001b[32m[I 2022-06-14 19:15:38,878]\u001b[0m Trial 19 finished with value: 0.7199770916532003 and parameters: {'bootstrap': 'False', 'max_depth': 8999, 'max_features': 'log2', 'max_leaf_nodes': 2708, 'n_estimators': 723, 'n_jobs': 15}. Best is trial 10 with value: 0.7210648135957081.\u001b[0m\n"
     ]
    }
   ],
   "source": [
    "study = optuna.create_study(direction=\"maximize\")\n",
    "study.optimize(objective, n_trials=20)"
   ]
  },
  {
   "cell_type": "code",
   "execution_count": 17,
   "id": "5dc76bc2",
   "metadata": {},
   "outputs": [
    {
     "data": {
      "text/plain": [
       "Renderers configuration\n",
       "-----------------------\n",
       "    Default renderer: 'vscode'\n",
       "    Available renderers:\n",
       "        ['plotly_mimetype', 'jupyterlab', 'nteract', 'vscode',\n",
       "         'notebook', 'notebook_connected', 'kaggle', 'azure', 'colab',\n",
       "         'cocalc', 'databricks', 'json', 'png', 'jpeg', 'jpg', 'svg',\n",
       "         'pdf', 'browser', 'firefox', 'chrome', 'chromium', 'iframe',\n",
       "         'iframe_connected', 'sphinx_gallery', 'sphinx_gallery_png']"
      ]
     },
     "execution_count": 17,
     "metadata": {},
     "output_type": "execute_result"
    }
   ],
   "source": [
    "import plotly.io as pio #To fix an issue with the renderer of graphs in VSC\n",
    "pio.renderers"
   ]
  },
  {
   "cell_type": "code",
   "execution_count": 18,
   "id": "fc41bc63",
   "metadata": {},
   "outputs": [],
   "source": [
    "pio.renderers.default = \"notebook_connected\""
   ]
  },
  {
   "cell_type": "code",
   "execution_count": 20,
   "id": "e92adb61",
   "metadata": {},
   "outputs": [
    {
     "data": {
      "text/html": [
       "<div>                            <div id=\"6dc2f080-56d2-42c2-a924-a0fdd9f02a67\" class=\"plotly-graph-div\" style=\"height:525px; width:100%;\"></div>            <script type=\"text/javascript\">                require([\"plotly\"], function(Plotly) {                    window.PLOTLYENV=window.PLOTLYENV || {};                                    if (document.getElementById(\"6dc2f080-56d2-42c2-a924-a0fdd9f02a67\")) {                    Plotly.newPlot(                        \"6dc2f080-56d2-42c2-a924-a0fdd9f02a67\",                        [{\"cliponaxis\":false,\"hovertemplate\":[\"max_features (CategoricalDistribution): 0.04706027535067138<extra></extra>\",\"bootstrap (CategoricalDistribution): 0.05892069016661136<extra></extra>\",\"max_depth (IntUniformDistribution): 0.07864170033010263<extra></extra>\",\"n_jobs (IntUniformDistribution): 0.0926258558818168<extra></extra>\",\"max_leaf_nodes (IntUniformDistribution): 0.19642760447563576<extra></extra>\",\"n_estimators (IntUniformDistribution): 0.5263238737951621<extra></extra>\"],\"marker\":{\"color\":\"rgb(66,146,198)\"},\"orientation\":\"h\",\"text\":[\"0.04706027535067138\",\"0.05892069016661136\",\"0.07864170033010263\",\"0.0926258558818168\",\"0.19642760447563576\",\"0.5263238737951621\"],\"textposition\":\"outside\",\"texttemplate\":\"%{text:.2f}\",\"x\":[0.04706027535067138,0.05892069016661136,0.07864170033010263,0.0926258558818168,0.19642760447563576,0.5263238737951621],\"y\":[\"max_features\",\"bootstrap\",\"max_depth\",\"n_jobs\",\"max_leaf_nodes\",\"n_estimators\"],\"type\":\"bar\"}],                        {\"showlegend\":false,\"title\":{\"text\":\"Hyperparameter Importances\"},\"xaxis\":{\"title\":{\"text\":\"Importance for Objective Value\"}},\"yaxis\":{\"title\":{\"text\":\"Hyperparameter\"}},\"template\":{\"data\":{\"bar\":[{\"error_x\":{\"color\":\"#2a3f5f\"},\"error_y\":{\"color\":\"#2a3f5f\"},\"marker\":{\"line\":{\"color\":\"#E5ECF6\",\"width\":0.5},\"pattern\":{\"fillmode\":\"overlay\",\"size\":10,\"solidity\":0.2}},\"type\":\"bar\"}],\"barpolar\":[{\"marker\":{\"line\":{\"color\":\"#E5ECF6\",\"width\":0.5},\"pattern\":{\"fillmode\":\"overlay\",\"size\":10,\"solidity\":0.2}},\"type\":\"barpolar\"}],\"carpet\":[{\"aaxis\":{\"endlinecolor\":\"#2a3f5f\",\"gridcolor\":\"white\",\"linecolor\":\"white\",\"minorgridcolor\":\"white\",\"startlinecolor\":\"#2a3f5f\"},\"baxis\":{\"endlinecolor\":\"#2a3f5f\",\"gridcolor\":\"white\",\"linecolor\":\"white\",\"minorgridcolor\":\"white\",\"startlinecolor\":\"#2a3f5f\"},\"type\":\"carpet\"}],\"choropleth\":[{\"colorbar\":{\"outlinewidth\":0,\"ticks\":\"\"},\"type\":\"choropleth\"}],\"contour\":[{\"colorbar\":{\"outlinewidth\":0,\"ticks\":\"\"},\"colorscale\":[[0.0,\"#0d0887\"],[0.1111111111111111,\"#46039f\"],[0.2222222222222222,\"#7201a8\"],[0.3333333333333333,\"#9c179e\"],[0.4444444444444444,\"#bd3786\"],[0.5555555555555556,\"#d8576b\"],[0.6666666666666666,\"#ed7953\"],[0.7777777777777778,\"#fb9f3a\"],[0.8888888888888888,\"#fdca26\"],[1.0,\"#f0f921\"]],\"type\":\"contour\"}],\"contourcarpet\":[{\"colorbar\":{\"outlinewidth\":0,\"ticks\":\"\"},\"type\":\"contourcarpet\"}],\"heatmap\":[{\"colorbar\":{\"outlinewidth\":0,\"ticks\":\"\"},\"colorscale\":[[0.0,\"#0d0887\"],[0.1111111111111111,\"#46039f\"],[0.2222222222222222,\"#7201a8\"],[0.3333333333333333,\"#9c179e\"],[0.4444444444444444,\"#bd3786\"],[0.5555555555555556,\"#d8576b\"],[0.6666666666666666,\"#ed7953\"],[0.7777777777777778,\"#fb9f3a\"],[0.8888888888888888,\"#fdca26\"],[1.0,\"#f0f921\"]],\"type\":\"heatmap\"}],\"heatmapgl\":[{\"colorbar\":{\"outlinewidth\":0,\"ticks\":\"\"},\"colorscale\":[[0.0,\"#0d0887\"],[0.1111111111111111,\"#46039f\"],[0.2222222222222222,\"#7201a8\"],[0.3333333333333333,\"#9c179e\"],[0.4444444444444444,\"#bd3786\"],[0.5555555555555556,\"#d8576b\"],[0.6666666666666666,\"#ed7953\"],[0.7777777777777778,\"#fb9f3a\"],[0.8888888888888888,\"#fdca26\"],[1.0,\"#f0f921\"]],\"type\":\"heatmapgl\"}],\"histogram\":[{\"marker\":{\"pattern\":{\"fillmode\":\"overlay\",\"size\":10,\"solidity\":0.2}},\"type\":\"histogram\"}],\"histogram2d\":[{\"colorbar\":{\"outlinewidth\":0,\"ticks\":\"\"},\"colorscale\":[[0.0,\"#0d0887\"],[0.1111111111111111,\"#46039f\"],[0.2222222222222222,\"#7201a8\"],[0.3333333333333333,\"#9c179e\"],[0.4444444444444444,\"#bd3786\"],[0.5555555555555556,\"#d8576b\"],[0.6666666666666666,\"#ed7953\"],[0.7777777777777778,\"#fb9f3a\"],[0.8888888888888888,\"#fdca26\"],[1.0,\"#f0f921\"]],\"type\":\"histogram2d\"}],\"histogram2dcontour\":[{\"colorbar\":{\"outlinewidth\":0,\"ticks\":\"\"},\"colorscale\":[[0.0,\"#0d0887\"],[0.1111111111111111,\"#46039f\"],[0.2222222222222222,\"#7201a8\"],[0.3333333333333333,\"#9c179e\"],[0.4444444444444444,\"#bd3786\"],[0.5555555555555556,\"#d8576b\"],[0.6666666666666666,\"#ed7953\"],[0.7777777777777778,\"#fb9f3a\"],[0.8888888888888888,\"#fdca26\"],[1.0,\"#f0f921\"]],\"type\":\"histogram2dcontour\"}],\"mesh3d\":[{\"colorbar\":{\"outlinewidth\":0,\"ticks\":\"\"},\"type\":\"mesh3d\"}],\"parcoords\":[{\"line\":{\"colorbar\":{\"outlinewidth\":0,\"ticks\":\"\"}},\"type\":\"parcoords\"}],\"pie\":[{\"automargin\":true,\"type\":\"pie\"}],\"scatter\":[{\"marker\":{\"colorbar\":{\"outlinewidth\":0,\"ticks\":\"\"}},\"type\":\"scatter\"}],\"scatter3d\":[{\"line\":{\"colorbar\":{\"outlinewidth\":0,\"ticks\":\"\"}},\"marker\":{\"colorbar\":{\"outlinewidth\":0,\"ticks\":\"\"}},\"type\":\"scatter3d\"}],\"scattercarpet\":[{\"marker\":{\"colorbar\":{\"outlinewidth\":0,\"ticks\":\"\"}},\"type\":\"scattercarpet\"}],\"scattergeo\":[{\"marker\":{\"colorbar\":{\"outlinewidth\":0,\"ticks\":\"\"}},\"type\":\"scattergeo\"}],\"scattergl\":[{\"marker\":{\"colorbar\":{\"outlinewidth\":0,\"ticks\":\"\"}},\"type\":\"scattergl\"}],\"scattermapbox\":[{\"marker\":{\"colorbar\":{\"outlinewidth\":0,\"ticks\":\"\"}},\"type\":\"scattermapbox\"}],\"scatterpolar\":[{\"marker\":{\"colorbar\":{\"outlinewidth\":0,\"ticks\":\"\"}},\"type\":\"scatterpolar\"}],\"scatterpolargl\":[{\"marker\":{\"colorbar\":{\"outlinewidth\":0,\"ticks\":\"\"}},\"type\":\"scatterpolargl\"}],\"scatterternary\":[{\"marker\":{\"colorbar\":{\"outlinewidth\":0,\"ticks\":\"\"}},\"type\":\"scatterternary\"}],\"surface\":[{\"colorbar\":{\"outlinewidth\":0,\"ticks\":\"\"},\"colorscale\":[[0.0,\"#0d0887\"],[0.1111111111111111,\"#46039f\"],[0.2222222222222222,\"#7201a8\"],[0.3333333333333333,\"#9c179e\"],[0.4444444444444444,\"#bd3786\"],[0.5555555555555556,\"#d8576b\"],[0.6666666666666666,\"#ed7953\"],[0.7777777777777778,\"#fb9f3a\"],[0.8888888888888888,\"#fdca26\"],[1.0,\"#f0f921\"]],\"type\":\"surface\"}],\"table\":[{\"cells\":{\"fill\":{\"color\":\"#EBF0F8\"},\"line\":{\"color\":\"white\"}},\"header\":{\"fill\":{\"color\":\"#C8D4E3\"},\"line\":{\"color\":\"white\"}},\"type\":\"table\"}]},\"layout\":{\"annotationdefaults\":{\"arrowcolor\":\"#2a3f5f\",\"arrowhead\":0,\"arrowwidth\":1},\"autotypenumbers\":\"strict\",\"coloraxis\":{\"colorbar\":{\"outlinewidth\":0,\"ticks\":\"\"}},\"colorscale\":{\"diverging\":[[0,\"#8e0152\"],[0.1,\"#c51b7d\"],[0.2,\"#de77ae\"],[0.3,\"#f1b6da\"],[0.4,\"#fde0ef\"],[0.5,\"#f7f7f7\"],[0.6,\"#e6f5d0\"],[0.7,\"#b8e186\"],[0.8,\"#7fbc41\"],[0.9,\"#4d9221\"],[1,\"#276419\"]],\"sequential\":[[0.0,\"#0d0887\"],[0.1111111111111111,\"#46039f\"],[0.2222222222222222,\"#7201a8\"],[0.3333333333333333,\"#9c179e\"],[0.4444444444444444,\"#bd3786\"],[0.5555555555555556,\"#d8576b\"],[0.6666666666666666,\"#ed7953\"],[0.7777777777777778,\"#fb9f3a\"],[0.8888888888888888,\"#fdca26\"],[1.0,\"#f0f921\"]],\"sequentialminus\":[[0.0,\"#0d0887\"],[0.1111111111111111,\"#46039f\"],[0.2222222222222222,\"#7201a8\"],[0.3333333333333333,\"#9c179e\"],[0.4444444444444444,\"#bd3786\"],[0.5555555555555556,\"#d8576b\"],[0.6666666666666666,\"#ed7953\"],[0.7777777777777778,\"#fb9f3a\"],[0.8888888888888888,\"#fdca26\"],[1.0,\"#f0f921\"]]},\"colorway\":[\"#636efa\",\"#EF553B\",\"#00cc96\",\"#ab63fa\",\"#FFA15A\",\"#19d3f3\",\"#FF6692\",\"#B6E880\",\"#FF97FF\",\"#FECB52\"],\"font\":{\"color\":\"#2a3f5f\"},\"geo\":{\"bgcolor\":\"white\",\"lakecolor\":\"white\",\"landcolor\":\"#E5ECF6\",\"showlakes\":true,\"showland\":true,\"subunitcolor\":\"white\"},\"hoverlabel\":{\"align\":\"left\"},\"hovermode\":\"closest\",\"mapbox\":{\"style\":\"light\"},\"paper_bgcolor\":\"white\",\"plot_bgcolor\":\"#E5ECF6\",\"polar\":{\"angularaxis\":{\"gridcolor\":\"white\",\"linecolor\":\"white\",\"ticks\":\"\"},\"bgcolor\":\"#E5ECF6\",\"radialaxis\":{\"gridcolor\":\"white\",\"linecolor\":\"white\",\"ticks\":\"\"}},\"scene\":{\"xaxis\":{\"backgroundcolor\":\"#E5ECF6\",\"gridcolor\":\"white\",\"gridwidth\":2,\"linecolor\":\"white\",\"showbackground\":true,\"ticks\":\"\",\"zerolinecolor\":\"white\"},\"yaxis\":{\"backgroundcolor\":\"#E5ECF6\",\"gridcolor\":\"white\",\"gridwidth\":2,\"linecolor\":\"white\",\"showbackground\":true,\"ticks\":\"\",\"zerolinecolor\":\"white\"},\"zaxis\":{\"backgroundcolor\":\"#E5ECF6\",\"gridcolor\":\"white\",\"gridwidth\":2,\"linecolor\":\"white\",\"showbackground\":true,\"ticks\":\"\",\"zerolinecolor\":\"white\"}},\"shapedefaults\":{\"line\":{\"color\":\"#2a3f5f\"}},\"ternary\":{\"aaxis\":{\"gridcolor\":\"white\",\"linecolor\":\"white\",\"ticks\":\"\"},\"baxis\":{\"gridcolor\":\"white\",\"linecolor\":\"white\",\"ticks\":\"\"},\"bgcolor\":\"#E5ECF6\",\"caxis\":{\"gridcolor\":\"white\",\"linecolor\":\"white\",\"ticks\":\"\"}},\"title\":{\"x\":0.05},\"xaxis\":{\"automargin\":true,\"gridcolor\":\"white\",\"linecolor\":\"white\",\"ticks\":\"\",\"title\":{\"standoff\":15},\"zerolinecolor\":\"white\",\"zerolinewidth\":2},\"yaxis\":{\"automargin\":true,\"gridcolor\":\"white\",\"linecolor\":\"white\",\"ticks\":\"\",\"title\":{\"standoff\":15},\"zerolinecolor\":\"white\",\"zerolinewidth\":2}}}},                        {\"responsive\": true}                    ).then(function(){\n",
       "                            \n",
       "var gd = document.getElementById('6dc2f080-56d2-42c2-a924-a0fdd9f02a67');\n",
       "var x = new MutationObserver(function (mutations, observer) {{\n",
       "        var display = window.getComputedStyle(gd).display;\n",
       "        if (!display || display === 'none') {{\n",
       "            console.log([gd, 'removed!']);\n",
       "            Plotly.purge(gd);\n",
       "            observer.disconnect();\n",
       "        }}\n",
       "}});\n",
       "\n",
       "// Listen for the removal of the full notebook cells\n",
       "var notebookContainer = gd.closest('#notebook-container');\n",
       "if (notebookContainer) {{\n",
       "    x.observe(notebookContainer, {childList: true});\n",
       "}}\n",
       "\n",
       "// Listen for the clearing of the current output cell\n",
       "var outputEl = gd.closest('.output');\n",
       "if (outputEl) {{\n",
       "    x.observe(outputEl, {childList: true});\n",
       "}}\n",
       "\n",
       "                        })                };                });            </script>        </div>"
      ]
     },
     "metadata": {},
     "output_type": "display_data"
    }
   ],
   "source": [
    "optuna.visualization.plot_param_importances(study).show()"
   ]
  },
  {
   "cell_type": "code",
   "execution_count": 22,
   "id": "72e670a7",
   "metadata": {},
   "outputs": [
    {
     "data": {
      "text/html": [
       "<div>                            <div id=\"3d6692d7-5f9a-45bb-81a5-be9966014c8a\" class=\"plotly-graph-div\" style=\"height:525px; width:100%;\"></div>            <script type=\"text/javascript\">                require([\"plotly\"], function(Plotly) {                    window.PLOTLYENV=window.PLOTLYENV || {};                                    if (document.getElementById(\"3d6692d7-5f9a-45bb-81a5-be9966014c8a\")) {                    Plotly.newPlot(                        \"3d6692d7-5f9a-45bb-81a5-be9966014c8a\",                        [{\"mode\":\"markers\",\"name\":\"Objective Value\",\"x\":[0,1,2,3,4,5,6,7,8,9,10,11,12,13,14,15,16,17,18,19],\"y\":[0.7199957808974002,0.7169085773663529,0.7194050923748266,0.7180946468265417,0.7200267378075921,0.7110648724971199,0.708765412774993,0.7164793408804547,0.7167900885063859,0.7135559124375954,0.7210648135957081,0.7129614007415082,0.711358990042143,0.7188626871509864,0.707206755392779,0.7090347149245192,0.7144383926477748,0.7156834981700875,0.7022260699962333,0.7199770916532003],\"type\":\"scatter\"},{\"name\":\"Best Value\",\"x\":[0,1,2,3,4,5,6,7,8,9,10,11,12,13,14,15,16,17,18,19],\"y\":[0.7199957808974002,0.7199957808974002,0.7199957808974002,0.7199957808974002,0.7200267378075921,0.7200267378075921,0.7200267378075921,0.7200267378075921,0.7200267378075921,0.7200267378075921,0.7210648135957081,0.7210648135957081,0.7210648135957081,0.7210648135957081,0.7210648135957081,0.7210648135957081,0.7210648135957081,0.7210648135957081,0.7210648135957081,0.7210648135957081],\"type\":\"scatter\"}],                        {\"title\":{\"text\":\"Optimization History Plot\"},\"xaxis\":{\"title\":{\"text\":\"#Trials\"}},\"yaxis\":{\"title\":{\"text\":\"Objective Value\"}},\"template\":{\"data\":{\"bar\":[{\"error_x\":{\"color\":\"#2a3f5f\"},\"error_y\":{\"color\":\"#2a3f5f\"},\"marker\":{\"line\":{\"color\":\"#E5ECF6\",\"width\":0.5},\"pattern\":{\"fillmode\":\"overlay\",\"size\":10,\"solidity\":0.2}},\"type\":\"bar\"}],\"barpolar\":[{\"marker\":{\"line\":{\"color\":\"#E5ECF6\",\"width\":0.5},\"pattern\":{\"fillmode\":\"overlay\",\"size\":10,\"solidity\":0.2}},\"type\":\"barpolar\"}],\"carpet\":[{\"aaxis\":{\"endlinecolor\":\"#2a3f5f\",\"gridcolor\":\"white\",\"linecolor\":\"white\",\"minorgridcolor\":\"white\",\"startlinecolor\":\"#2a3f5f\"},\"baxis\":{\"endlinecolor\":\"#2a3f5f\",\"gridcolor\":\"white\",\"linecolor\":\"white\",\"minorgridcolor\":\"white\",\"startlinecolor\":\"#2a3f5f\"},\"type\":\"carpet\"}],\"choropleth\":[{\"colorbar\":{\"outlinewidth\":0,\"ticks\":\"\"},\"type\":\"choropleth\"}],\"contour\":[{\"colorbar\":{\"outlinewidth\":0,\"ticks\":\"\"},\"colorscale\":[[0.0,\"#0d0887\"],[0.1111111111111111,\"#46039f\"],[0.2222222222222222,\"#7201a8\"],[0.3333333333333333,\"#9c179e\"],[0.4444444444444444,\"#bd3786\"],[0.5555555555555556,\"#d8576b\"],[0.6666666666666666,\"#ed7953\"],[0.7777777777777778,\"#fb9f3a\"],[0.8888888888888888,\"#fdca26\"],[1.0,\"#f0f921\"]],\"type\":\"contour\"}],\"contourcarpet\":[{\"colorbar\":{\"outlinewidth\":0,\"ticks\":\"\"},\"type\":\"contourcarpet\"}],\"heatmap\":[{\"colorbar\":{\"outlinewidth\":0,\"ticks\":\"\"},\"colorscale\":[[0.0,\"#0d0887\"],[0.1111111111111111,\"#46039f\"],[0.2222222222222222,\"#7201a8\"],[0.3333333333333333,\"#9c179e\"],[0.4444444444444444,\"#bd3786\"],[0.5555555555555556,\"#d8576b\"],[0.6666666666666666,\"#ed7953\"],[0.7777777777777778,\"#fb9f3a\"],[0.8888888888888888,\"#fdca26\"],[1.0,\"#f0f921\"]],\"type\":\"heatmap\"}],\"heatmapgl\":[{\"colorbar\":{\"outlinewidth\":0,\"ticks\":\"\"},\"colorscale\":[[0.0,\"#0d0887\"],[0.1111111111111111,\"#46039f\"],[0.2222222222222222,\"#7201a8\"],[0.3333333333333333,\"#9c179e\"],[0.4444444444444444,\"#bd3786\"],[0.5555555555555556,\"#d8576b\"],[0.6666666666666666,\"#ed7953\"],[0.7777777777777778,\"#fb9f3a\"],[0.8888888888888888,\"#fdca26\"],[1.0,\"#f0f921\"]],\"type\":\"heatmapgl\"}],\"histogram\":[{\"marker\":{\"pattern\":{\"fillmode\":\"overlay\",\"size\":10,\"solidity\":0.2}},\"type\":\"histogram\"}],\"histogram2d\":[{\"colorbar\":{\"outlinewidth\":0,\"ticks\":\"\"},\"colorscale\":[[0.0,\"#0d0887\"],[0.1111111111111111,\"#46039f\"],[0.2222222222222222,\"#7201a8\"],[0.3333333333333333,\"#9c179e\"],[0.4444444444444444,\"#bd3786\"],[0.5555555555555556,\"#d8576b\"],[0.6666666666666666,\"#ed7953\"],[0.7777777777777778,\"#fb9f3a\"],[0.8888888888888888,\"#fdca26\"],[1.0,\"#f0f921\"]],\"type\":\"histogram2d\"}],\"histogram2dcontour\":[{\"colorbar\":{\"outlinewidth\":0,\"ticks\":\"\"},\"colorscale\":[[0.0,\"#0d0887\"],[0.1111111111111111,\"#46039f\"],[0.2222222222222222,\"#7201a8\"],[0.3333333333333333,\"#9c179e\"],[0.4444444444444444,\"#bd3786\"],[0.5555555555555556,\"#d8576b\"],[0.6666666666666666,\"#ed7953\"],[0.7777777777777778,\"#fb9f3a\"],[0.8888888888888888,\"#fdca26\"],[1.0,\"#f0f921\"]],\"type\":\"histogram2dcontour\"}],\"mesh3d\":[{\"colorbar\":{\"outlinewidth\":0,\"ticks\":\"\"},\"type\":\"mesh3d\"}],\"parcoords\":[{\"line\":{\"colorbar\":{\"outlinewidth\":0,\"ticks\":\"\"}},\"type\":\"parcoords\"}],\"pie\":[{\"automargin\":true,\"type\":\"pie\"}],\"scatter\":[{\"marker\":{\"colorbar\":{\"outlinewidth\":0,\"ticks\":\"\"}},\"type\":\"scatter\"}],\"scatter3d\":[{\"line\":{\"colorbar\":{\"outlinewidth\":0,\"ticks\":\"\"}},\"marker\":{\"colorbar\":{\"outlinewidth\":0,\"ticks\":\"\"}},\"type\":\"scatter3d\"}],\"scattercarpet\":[{\"marker\":{\"colorbar\":{\"outlinewidth\":0,\"ticks\":\"\"}},\"type\":\"scattercarpet\"}],\"scattergeo\":[{\"marker\":{\"colorbar\":{\"outlinewidth\":0,\"ticks\":\"\"}},\"type\":\"scattergeo\"}],\"scattergl\":[{\"marker\":{\"colorbar\":{\"outlinewidth\":0,\"ticks\":\"\"}},\"type\":\"scattergl\"}],\"scattermapbox\":[{\"marker\":{\"colorbar\":{\"outlinewidth\":0,\"ticks\":\"\"}},\"type\":\"scattermapbox\"}],\"scatterpolar\":[{\"marker\":{\"colorbar\":{\"outlinewidth\":0,\"ticks\":\"\"}},\"type\":\"scatterpolar\"}],\"scatterpolargl\":[{\"marker\":{\"colorbar\":{\"outlinewidth\":0,\"ticks\":\"\"}},\"type\":\"scatterpolargl\"}],\"scatterternary\":[{\"marker\":{\"colorbar\":{\"outlinewidth\":0,\"ticks\":\"\"}},\"type\":\"scatterternary\"}],\"surface\":[{\"colorbar\":{\"outlinewidth\":0,\"ticks\":\"\"},\"colorscale\":[[0.0,\"#0d0887\"],[0.1111111111111111,\"#46039f\"],[0.2222222222222222,\"#7201a8\"],[0.3333333333333333,\"#9c179e\"],[0.4444444444444444,\"#bd3786\"],[0.5555555555555556,\"#d8576b\"],[0.6666666666666666,\"#ed7953\"],[0.7777777777777778,\"#fb9f3a\"],[0.8888888888888888,\"#fdca26\"],[1.0,\"#f0f921\"]],\"type\":\"surface\"}],\"table\":[{\"cells\":{\"fill\":{\"color\":\"#EBF0F8\"},\"line\":{\"color\":\"white\"}},\"header\":{\"fill\":{\"color\":\"#C8D4E3\"},\"line\":{\"color\":\"white\"}},\"type\":\"table\"}]},\"layout\":{\"annotationdefaults\":{\"arrowcolor\":\"#2a3f5f\",\"arrowhead\":0,\"arrowwidth\":1},\"autotypenumbers\":\"strict\",\"coloraxis\":{\"colorbar\":{\"outlinewidth\":0,\"ticks\":\"\"}},\"colorscale\":{\"diverging\":[[0,\"#8e0152\"],[0.1,\"#c51b7d\"],[0.2,\"#de77ae\"],[0.3,\"#f1b6da\"],[0.4,\"#fde0ef\"],[0.5,\"#f7f7f7\"],[0.6,\"#e6f5d0\"],[0.7,\"#b8e186\"],[0.8,\"#7fbc41\"],[0.9,\"#4d9221\"],[1,\"#276419\"]],\"sequential\":[[0.0,\"#0d0887\"],[0.1111111111111111,\"#46039f\"],[0.2222222222222222,\"#7201a8\"],[0.3333333333333333,\"#9c179e\"],[0.4444444444444444,\"#bd3786\"],[0.5555555555555556,\"#d8576b\"],[0.6666666666666666,\"#ed7953\"],[0.7777777777777778,\"#fb9f3a\"],[0.8888888888888888,\"#fdca26\"],[1.0,\"#f0f921\"]],\"sequentialminus\":[[0.0,\"#0d0887\"],[0.1111111111111111,\"#46039f\"],[0.2222222222222222,\"#7201a8\"],[0.3333333333333333,\"#9c179e\"],[0.4444444444444444,\"#bd3786\"],[0.5555555555555556,\"#d8576b\"],[0.6666666666666666,\"#ed7953\"],[0.7777777777777778,\"#fb9f3a\"],[0.8888888888888888,\"#fdca26\"],[1.0,\"#f0f921\"]]},\"colorway\":[\"#636efa\",\"#EF553B\",\"#00cc96\",\"#ab63fa\",\"#FFA15A\",\"#19d3f3\",\"#FF6692\",\"#B6E880\",\"#FF97FF\",\"#FECB52\"],\"font\":{\"color\":\"#2a3f5f\"},\"geo\":{\"bgcolor\":\"white\",\"lakecolor\":\"white\",\"landcolor\":\"#E5ECF6\",\"showlakes\":true,\"showland\":true,\"subunitcolor\":\"white\"},\"hoverlabel\":{\"align\":\"left\"},\"hovermode\":\"closest\",\"mapbox\":{\"style\":\"light\"},\"paper_bgcolor\":\"white\",\"plot_bgcolor\":\"#E5ECF6\",\"polar\":{\"angularaxis\":{\"gridcolor\":\"white\",\"linecolor\":\"white\",\"ticks\":\"\"},\"bgcolor\":\"#E5ECF6\",\"radialaxis\":{\"gridcolor\":\"white\",\"linecolor\":\"white\",\"ticks\":\"\"}},\"scene\":{\"xaxis\":{\"backgroundcolor\":\"#E5ECF6\",\"gridcolor\":\"white\",\"gridwidth\":2,\"linecolor\":\"white\",\"showbackground\":true,\"ticks\":\"\",\"zerolinecolor\":\"white\"},\"yaxis\":{\"backgroundcolor\":\"#E5ECF6\",\"gridcolor\":\"white\",\"gridwidth\":2,\"linecolor\":\"white\",\"showbackground\":true,\"ticks\":\"\",\"zerolinecolor\":\"white\"},\"zaxis\":{\"backgroundcolor\":\"#E5ECF6\",\"gridcolor\":\"white\",\"gridwidth\":2,\"linecolor\":\"white\",\"showbackground\":true,\"ticks\":\"\",\"zerolinecolor\":\"white\"}},\"shapedefaults\":{\"line\":{\"color\":\"#2a3f5f\"}},\"ternary\":{\"aaxis\":{\"gridcolor\":\"white\",\"linecolor\":\"white\",\"ticks\":\"\"},\"baxis\":{\"gridcolor\":\"white\",\"linecolor\":\"white\",\"ticks\":\"\"},\"bgcolor\":\"#E5ECF6\",\"caxis\":{\"gridcolor\":\"white\",\"linecolor\":\"white\",\"ticks\":\"\"}},\"title\":{\"x\":0.05},\"xaxis\":{\"automargin\":true,\"gridcolor\":\"white\",\"linecolor\":\"white\",\"ticks\":\"\",\"title\":{\"standoff\":15},\"zerolinecolor\":\"white\",\"zerolinewidth\":2},\"yaxis\":{\"automargin\":true,\"gridcolor\":\"white\",\"linecolor\":\"white\",\"ticks\":\"\",\"title\":{\"standoff\":15},\"zerolinecolor\":\"white\",\"zerolinewidth\":2}}}},                        {\"responsive\": true}                    ).then(function(){\n",
       "                            \n",
       "var gd = document.getElementById('3d6692d7-5f9a-45bb-81a5-be9966014c8a');\n",
       "var x = new MutationObserver(function (mutations, observer) {{\n",
       "        var display = window.getComputedStyle(gd).display;\n",
       "        if (!display || display === 'none') {{\n",
       "            console.log([gd, 'removed!']);\n",
       "            Plotly.purge(gd);\n",
       "            observer.disconnect();\n",
       "        }}\n",
       "}});\n",
       "\n",
       "// Listen for the removal of the full notebook cells\n",
       "var notebookContainer = gd.closest('#notebook-container');\n",
       "if (notebookContainer) {{\n",
       "    x.observe(notebookContainer, {childList: true});\n",
       "}}\n",
       "\n",
       "// Listen for the clearing of the current output cell\n",
       "var outputEl = gd.closest('.output');\n",
       "if (outputEl) {{\n",
       "    x.observe(outputEl, {childList: true});\n",
       "}}\n",
       "\n",
       "                        })                };                });            </script>        </div>"
      ]
     },
     "metadata": {},
     "output_type": "display_data"
    }
   ],
   "source": [
    "fig = optuna.visualization.plot_optimization_history(study)\n",
    "fig.show()"
   ]
  },
  {
   "cell_type": "code",
   "execution_count": 21,
   "id": "babda561",
   "metadata": {},
   "outputs": [
    {
     "data": {
      "text/plain": [
       "{'bootstrap': 'False',\n",
       " 'max_depth': 8144,\n",
       " 'max_features': 'auto',\n",
       " 'max_leaf_nodes': 4511,\n",
       " 'n_estimators': 452,\n",
       " 'n_jobs': 20}"
      ]
     },
     "execution_count": 21,
     "metadata": {},
     "output_type": "execute_result"
    }
   ],
   "source": [
    "study.best_params"
   ]
  },
  {
   "cell_type": "code",
   "execution_count": 26,
   "id": "d2236c42",
   "metadata": {},
   "outputs": [
    {
     "name": "stderr",
     "output_type": "stream",
     "text": [
      "\u001b[32m[I 2022-06-14 19:41:38,697]\u001b[0m Trial 20 finished with value: 0.7069452278895854 and parameters: {'max_depth': 3845, 'max_leaf_nodes': 6557, 'n_estimators': 170, 'n_jobs': 12}. Best is trial 10 with value: 0.7210648135957081.\u001b[0m\n",
      "\u001b[32m[I 2022-06-14 19:41:52,170]\u001b[0m Trial 21 finished with value: 0.7131391841978006 and parameters: {'max_depth': 747, 'max_leaf_nodes': 1976, 'n_estimators': 352, 'n_jobs': 15}. Best is trial 10 with value: 0.7210648135957081.\u001b[0m\n",
      "\u001b[32m[I 2022-06-14 19:42:07,232]\u001b[0m Trial 22 finished with value: 0.705256637995048 and parameters: {'max_depth': 553, 'max_leaf_nodes': 1604, 'n_estimators': 519, 'n_jobs': 16}. Best is trial 10 with value: 0.7210648135957081.\u001b[0m\n",
      "\u001b[32m[I 2022-06-14 19:42:17,754]\u001b[0m Trial 23 finished with value: 0.7228609674098099 and parameters: {'max_depth': 2363, 'max_leaf_nodes': 3708, 'n_estimators': 251, 'n_jobs': 18}. Best is trial 23 with value: 0.7228609674098099.\u001b[0m\n",
      "\u001b[32m[I 2022-06-14 19:42:26,376]\u001b[0m Trial 24 finished with value: 0.7229900444069913 and parameters: {'max_depth': 2516, 'max_leaf_nodes': 3724, 'n_estimators': 224, 'n_jobs': 19}. Best is trial 24 with value: 0.7229900444069913.\u001b[0m\n",
      "\u001b[32m[I 2022-06-14 19:42:34,970]\u001b[0m Trial 25 finished with value: 0.710429179499692 and parameters: {'max_depth': 2540, 'max_leaf_nodes': 5055, 'n_estimators': 185, 'n_jobs': 20}. Best is trial 24 with value: 0.7229900444069913.\u001b[0m\n",
      "\u001b[32m[I 2022-06-14 19:42:40,706]\u001b[0m Trial 26 finished with value: 0.7039134008979138 and parameters: {'max_depth': 1869, 'max_leaf_nodes': 4248, 'n_estimators': 171, 'n_jobs': 19}. Best is trial 24 with value: 0.7229900444069913.\u001b[0m\n",
      "\u001b[32m[I 2022-06-14 19:42:51,421]\u001b[0m Trial 27 finished with value: 0.7164815931149076 and parameters: {'max_depth': 3127, 'max_leaf_nodes': 2716, 'n_estimators': 352, 'n_jobs': 18}. Best is trial 24 with value: 0.7229900444069913.\u001b[0m\n",
      "\u001b[32m[I 2022-06-14 19:43:00,954]\u001b[0m Trial 28 finished with value: 0.7243025361521396 and parameters: {'max_depth': 1550, 'max_leaf_nodes': 5111, 'n_estimators': 243, 'n_jobs': 19}. Best is trial 28 with value: 0.7243025361521396.\u001b[0m\n",
      "\u001b[32m[I 2022-06-14 19:43:10,257]\u001b[0m Trial 29 finished with value: 0.7086381755408299 and parameters: {'max_depth': 1322, 'max_leaf_nodes': 5230, 'n_estimators': 266, 'n_jobs': 14}. Best is trial 28 with value: 0.7243025361521396.\u001b[0m\n",
      "\u001b[32m[I 2022-06-14 19:43:16,719]\u001b[0m Trial 30 finished with value: 0.7245342823520504 and parameters: {'max_depth': 55, 'max_leaf_nodes': 6969, 'n_estimators': 109, 'n_jobs': 18}. Best is trial 30 with value: 0.7245342823520504.\u001b[0m\n",
      "\u001b[32m[I 2022-06-14 19:43:22,431]\u001b[0m Trial 31 finished with value: 0.7032279538409087 and parameters: {'max_depth': 1171, 'max_leaf_nodes': 6931, 'n_estimators': 38, 'n_jobs': 18}. Best is trial 30 with value: 0.7245342823520504.\u001b[0m\n",
      "\u001b[32m[I 2022-06-14 19:43:27,830]\u001b[0m Trial 32 finished with value: 0.7141742426317952 and parameters: {'max_depth': 517, 'max_leaf_nodes': 9177, 'n_estimators': 125, 'n_jobs': 16}. Best is trial 30 with value: 0.7245342823520504.\u001b[0m\n",
      "\u001b[32m[I 2022-06-14 19:43:38,234]\u001b[0m Trial 33 finished with value: 0.7221846772570212 and parameters: {'max_depth': 2707, 'max_leaf_nodes': 8278, 'n_estimators': 210, 'n_jobs': 19}. Best is trial 30 with value: 0.7245342823520504.\u001b[0m\n",
      "\u001b[32m[I 2022-06-14 19:43:43,422]\u001b[0m Trial 34 finished with value: 0.7178529010198786 and parameters: {'max_depth': 54, 'max_leaf_nodes': 5634, 'n_estimators': 111, 'n_jobs': 13}. Best is trial 30 with value: 0.7245342823520504.\u001b[0m\n",
      "\u001b[32m[I 2022-06-14 19:43:56,630]\u001b[0m Trial 35 finished with value: 0.7126251591896535 and parameters: {'max_depth': 1790, 'max_leaf_nodes': 3629, 'n_estimators': 239, 'n_jobs': 16}. Best is trial 30 with value: 0.7245342823520504.\u001b[0m\n",
      "\u001b[32m[I 2022-06-14 19:44:10,127]\u001b[0m Trial 36 finished with value: 0.7040453723915746 and parameters: {'max_depth': 3627, 'max_leaf_nodes': 4819, 'n_estimators': 318, 'n_jobs': 18}. Best is trial 30 with value: 0.7245342823520504.\u001b[0m\n",
      "\u001b[32m[I 2022-06-14 19:44:17,241]\u001b[0m Trial 37 finished with value: 0.709503950952598 and parameters: {'max_depth': 1169, 'max_leaf_nodes': 6589, 'n_estimators': 136, 'n_jobs': 19}. Best is trial 30 with value: 0.7245342823520504.\u001b[0m\n",
      "\u001b[32m[I 2022-06-14 19:44:27,494]\u001b[0m Trial 38 finished with value: 0.7058328946636678 and parameters: {'max_depth': 2307, 'max_leaf_nodes': 8503, 'n_estimators': 214, 'n_jobs': 14}. Best is trial 30 with value: 0.7245342823520504.\u001b[0m\n",
      "\u001b[32m[I 2022-06-14 19:44:29,918]\u001b[0m Trial 39 finished with value: 0.6810190497111485 and parameters: {'max_depth': 1562, 'max_leaf_nodes': 6049, 'n_estimators': 30, 'n_jobs': 16}. Best is trial 30 with value: 0.7245342823520504.\u001b[0m\n"
     ]
    }
   ],
   "source": [
    "# fix the less relevant parameter to continue the optimization\n",
    "def objective(trial):\n",
    "    X_train, X_test, y_train, y_test = train_test_split(X, y, random_state=1)\n",
    "    \n",
    "    max_depth = trial.suggest_int('max_depth', 1, 10000)   \n",
    "    max_leaf_nodes = trial.suggest_int('max_leaf_nodes', 1, 10000)\n",
    "    n_estimators =  trial.suggest_int('n_estimators', 30, 1000)\n",
    "    n_jobs =  trial.suggest_int('n_jobs', 2, 20)\n",
    "    \n",
    "    rf_cl = RandomForestClassifier(bootstrap = 'False', \n",
    "                                   max_depth = max_depth, \n",
    "                                   max_features = 'auto',\n",
    "                                   max_leaf_nodes = max_leaf_nodes,\n",
    "                                   n_estimators = n_estimators,\n",
    "                                   n_jobs = n_jobs\n",
    "                                  )\n",
    "    \n",
    "    rf_cl.fit(X_train, y_train)\n",
    "    y_pred = rf_cl.predict(X_test)\n",
    "    \n",
    "    score = cross_val_score(rf_cl, X_test, y_test, cv=5, scoring=\"f1_macro\")\n",
    "    f1_mean = score.mean()\n",
    "\n",
    "    return f1_mean\n",
    "\n",
    "\n",
    "study.optimize(objective, n_trials=20)"
   ]
  },
  {
   "cell_type": "code",
   "execution_count": 27,
   "id": "fb9c5d50",
   "metadata": {},
   "outputs": [
    {
     "data": {
      "text/html": [
       "<div>                            <div id=\"84dd08ef-4668-4471-8b88-882f5c3e487b\" class=\"plotly-graph-div\" style=\"height:525px; width:100%;\"></div>            <script type=\"text/javascript\">                require([\"plotly\"], function(Plotly) {                    window.PLOTLYENV=window.PLOTLYENV || {};                                    if (document.getElementById(\"84dd08ef-4668-4471-8b88-882f5c3e487b\")) {                    Plotly.newPlot(                        \"84dd08ef-4668-4471-8b88-882f5c3e487b\",                        [{\"mode\":\"markers\",\"name\":\"Objective Value\",\"x\":[0,1,2,3,4,5,6,7,8,9,10,11,12,13,14,15,16,17,18,19,20,21,22,23,24,25,26,27,28,29,30,31,32,33,34,35,36,37,38,39],\"y\":[0.7199957808974002,0.7169085773663529,0.7194050923748266,0.7180946468265417,0.7200267378075921,0.7110648724971199,0.708765412774993,0.7164793408804547,0.7167900885063859,0.7135559124375954,0.7210648135957081,0.7129614007415082,0.711358990042143,0.7188626871509864,0.707206755392779,0.7090347149245192,0.7144383926477748,0.7156834981700875,0.7022260699962333,0.7199770916532003,0.7069452278895854,0.7131391841978006,0.705256637995048,0.7228609674098099,0.7229900444069913,0.710429179499692,0.7039134008979138,0.7164815931149076,0.7243025361521396,0.7086381755408299,0.7245342823520504,0.7032279538409087,0.7141742426317952,0.7221846772570212,0.7178529010198786,0.7126251591896535,0.7040453723915746,0.709503950952598,0.7058328946636678,0.6810190497111485],\"type\":\"scatter\"},{\"name\":\"Best Value\",\"x\":[0,1,2,3,4,5,6,7,8,9,10,11,12,13,14,15,16,17,18,19,20,21,22,23,24,25,26,27,28,29,30,31,32,33,34,35,36,37,38,39],\"y\":[0.7199957808974002,0.7199957808974002,0.7199957808974002,0.7199957808974002,0.7200267378075921,0.7200267378075921,0.7200267378075921,0.7200267378075921,0.7200267378075921,0.7200267378075921,0.7210648135957081,0.7210648135957081,0.7210648135957081,0.7210648135957081,0.7210648135957081,0.7210648135957081,0.7210648135957081,0.7210648135957081,0.7210648135957081,0.7210648135957081,0.7210648135957081,0.7210648135957081,0.7210648135957081,0.7228609674098099,0.7229900444069913,0.7229900444069913,0.7229900444069913,0.7229900444069913,0.7243025361521396,0.7243025361521396,0.7245342823520504,0.7245342823520504,0.7245342823520504,0.7245342823520504,0.7245342823520504,0.7245342823520504,0.7245342823520504,0.7245342823520504,0.7245342823520504,0.7245342823520504],\"type\":\"scatter\"}],                        {\"title\":{\"text\":\"Optimization History Plot\"},\"xaxis\":{\"title\":{\"text\":\"#Trials\"}},\"yaxis\":{\"title\":{\"text\":\"Objective Value\"}},\"template\":{\"data\":{\"bar\":[{\"error_x\":{\"color\":\"#2a3f5f\"},\"error_y\":{\"color\":\"#2a3f5f\"},\"marker\":{\"line\":{\"color\":\"#E5ECF6\",\"width\":0.5},\"pattern\":{\"fillmode\":\"overlay\",\"size\":10,\"solidity\":0.2}},\"type\":\"bar\"}],\"barpolar\":[{\"marker\":{\"line\":{\"color\":\"#E5ECF6\",\"width\":0.5},\"pattern\":{\"fillmode\":\"overlay\",\"size\":10,\"solidity\":0.2}},\"type\":\"barpolar\"}],\"carpet\":[{\"aaxis\":{\"endlinecolor\":\"#2a3f5f\",\"gridcolor\":\"white\",\"linecolor\":\"white\",\"minorgridcolor\":\"white\",\"startlinecolor\":\"#2a3f5f\"},\"baxis\":{\"endlinecolor\":\"#2a3f5f\",\"gridcolor\":\"white\",\"linecolor\":\"white\",\"minorgridcolor\":\"white\",\"startlinecolor\":\"#2a3f5f\"},\"type\":\"carpet\"}],\"choropleth\":[{\"colorbar\":{\"outlinewidth\":0,\"ticks\":\"\"},\"type\":\"choropleth\"}],\"contour\":[{\"colorbar\":{\"outlinewidth\":0,\"ticks\":\"\"},\"colorscale\":[[0.0,\"#0d0887\"],[0.1111111111111111,\"#46039f\"],[0.2222222222222222,\"#7201a8\"],[0.3333333333333333,\"#9c179e\"],[0.4444444444444444,\"#bd3786\"],[0.5555555555555556,\"#d8576b\"],[0.6666666666666666,\"#ed7953\"],[0.7777777777777778,\"#fb9f3a\"],[0.8888888888888888,\"#fdca26\"],[1.0,\"#f0f921\"]],\"type\":\"contour\"}],\"contourcarpet\":[{\"colorbar\":{\"outlinewidth\":0,\"ticks\":\"\"},\"type\":\"contourcarpet\"}],\"heatmap\":[{\"colorbar\":{\"outlinewidth\":0,\"ticks\":\"\"},\"colorscale\":[[0.0,\"#0d0887\"],[0.1111111111111111,\"#46039f\"],[0.2222222222222222,\"#7201a8\"],[0.3333333333333333,\"#9c179e\"],[0.4444444444444444,\"#bd3786\"],[0.5555555555555556,\"#d8576b\"],[0.6666666666666666,\"#ed7953\"],[0.7777777777777778,\"#fb9f3a\"],[0.8888888888888888,\"#fdca26\"],[1.0,\"#f0f921\"]],\"type\":\"heatmap\"}],\"heatmapgl\":[{\"colorbar\":{\"outlinewidth\":0,\"ticks\":\"\"},\"colorscale\":[[0.0,\"#0d0887\"],[0.1111111111111111,\"#46039f\"],[0.2222222222222222,\"#7201a8\"],[0.3333333333333333,\"#9c179e\"],[0.4444444444444444,\"#bd3786\"],[0.5555555555555556,\"#d8576b\"],[0.6666666666666666,\"#ed7953\"],[0.7777777777777778,\"#fb9f3a\"],[0.8888888888888888,\"#fdca26\"],[1.0,\"#f0f921\"]],\"type\":\"heatmapgl\"}],\"histogram\":[{\"marker\":{\"pattern\":{\"fillmode\":\"overlay\",\"size\":10,\"solidity\":0.2}},\"type\":\"histogram\"}],\"histogram2d\":[{\"colorbar\":{\"outlinewidth\":0,\"ticks\":\"\"},\"colorscale\":[[0.0,\"#0d0887\"],[0.1111111111111111,\"#46039f\"],[0.2222222222222222,\"#7201a8\"],[0.3333333333333333,\"#9c179e\"],[0.4444444444444444,\"#bd3786\"],[0.5555555555555556,\"#d8576b\"],[0.6666666666666666,\"#ed7953\"],[0.7777777777777778,\"#fb9f3a\"],[0.8888888888888888,\"#fdca26\"],[1.0,\"#f0f921\"]],\"type\":\"histogram2d\"}],\"histogram2dcontour\":[{\"colorbar\":{\"outlinewidth\":0,\"ticks\":\"\"},\"colorscale\":[[0.0,\"#0d0887\"],[0.1111111111111111,\"#46039f\"],[0.2222222222222222,\"#7201a8\"],[0.3333333333333333,\"#9c179e\"],[0.4444444444444444,\"#bd3786\"],[0.5555555555555556,\"#d8576b\"],[0.6666666666666666,\"#ed7953\"],[0.7777777777777778,\"#fb9f3a\"],[0.8888888888888888,\"#fdca26\"],[1.0,\"#f0f921\"]],\"type\":\"histogram2dcontour\"}],\"mesh3d\":[{\"colorbar\":{\"outlinewidth\":0,\"ticks\":\"\"},\"type\":\"mesh3d\"}],\"parcoords\":[{\"line\":{\"colorbar\":{\"outlinewidth\":0,\"ticks\":\"\"}},\"type\":\"parcoords\"}],\"pie\":[{\"automargin\":true,\"type\":\"pie\"}],\"scatter\":[{\"marker\":{\"colorbar\":{\"outlinewidth\":0,\"ticks\":\"\"}},\"type\":\"scatter\"}],\"scatter3d\":[{\"line\":{\"colorbar\":{\"outlinewidth\":0,\"ticks\":\"\"}},\"marker\":{\"colorbar\":{\"outlinewidth\":0,\"ticks\":\"\"}},\"type\":\"scatter3d\"}],\"scattercarpet\":[{\"marker\":{\"colorbar\":{\"outlinewidth\":0,\"ticks\":\"\"}},\"type\":\"scattercarpet\"}],\"scattergeo\":[{\"marker\":{\"colorbar\":{\"outlinewidth\":0,\"ticks\":\"\"}},\"type\":\"scattergeo\"}],\"scattergl\":[{\"marker\":{\"colorbar\":{\"outlinewidth\":0,\"ticks\":\"\"}},\"type\":\"scattergl\"}],\"scattermapbox\":[{\"marker\":{\"colorbar\":{\"outlinewidth\":0,\"ticks\":\"\"}},\"type\":\"scattermapbox\"}],\"scatterpolar\":[{\"marker\":{\"colorbar\":{\"outlinewidth\":0,\"ticks\":\"\"}},\"type\":\"scatterpolar\"}],\"scatterpolargl\":[{\"marker\":{\"colorbar\":{\"outlinewidth\":0,\"ticks\":\"\"}},\"type\":\"scatterpolargl\"}],\"scatterternary\":[{\"marker\":{\"colorbar\":{\"outlinewidth\":0,\"ticks\":\"\"}},\"type\":\"scatterternary\"}],\"surface\":[{\"colorbar\":{\"outlinewidth\":0,\"ticks\":\"\"},\"colorscale\":[[0.0,\"#0d0887\"],[0.1111111111111111,\"#46039f\"],[0.2222222222222222,\"#7201a8\"],[0.3333333333333333,\"#9c179e\"],[0.4444444444444444,\"#bd3786\"],[0.5555555555555556,\"#d8576b\"],[0.6666666666666666,\"#ed7953\"],[0.7777777777777778,\"#fb9f3a\"],[0.8888888888888888,\"#fdca26\"],[1.0,\"#f0f921\"]],\"type\":\"surface\"}],\"table\":[{\"cells\":{\"fill\":{\"color\":\"#EBF0F8\"},\"line\":{\"color\":\"white\"}},\"header\":{\"fill\":{\"color\":\"#C8D4E3\"},\"line\":{\"color\":\"white\"}},\"type\":\"table\"}]},\"layout\":{\"annotationdefaults\":{\"arrowcolor\":\"#2a3f5f\",\"arrowhead\":0,\"arrowwidth\":1},\"autotypenumbers\":\"strict\",\"coloraxis\":{\"colorbar\":{\"outlinewidth\":0,\"ticks\":\"\"}},\"colorscale\":{\"diverging\":[[0,\"#8e0152\"],[0.1,\"#c51b7d\"],[0.2,\"#de77ae\"],[0.3,\"#f1b6da\"],[0.4,\"#fde0ef\"],[0.5,\"#f7f7f7\"],[0.6,\"#e6f5d0\"],[0.7,\"#b8e186\"],[0.8,\"#7fbc41\"],[0.9,\"#4d9221\"],[1,\"#276419\"]],\"sequential\":[[0.0,\"#0d0887\"],[0.1111111111111111,\"#46039f\"],[0.2222222222222222,\"#7201a8\"],[0.3333333333333333,\"#9c179e\"],[0.4444444444444444,\"#bd3786\"],[0.5555555555555556,\"#d8576b\"],[0.6666666666666666,\"#ed7953\"],[0.7777777777777778,\"#fb9f3a\"],[0.8888888888888888,\"#fdca26\"],[1.0,\"#f0f921\"]],\"sequentialminus\":[[0.0,\"#0d0887\"],[0.1111111111111111,\"#46039f\"],[0.2222222222222222,\"#7201a8\"],[0.3333333333333333,\"#9c179e\"],[0.4444444444444444,\"#bd3786\"],[0.5555555555555556,\"#d8576b\"],[0.6666666666666666,\"#ed7953\"],[0.7777777777777778,\"#fb9f3a\"],[0.8888888888888888,\"#fdca26\"],[1.0,\"#f0f921\"]]},\"colorway\":[\"#636efa\",\"#EF553B\",\"#00cc96\",\"#ab63fa\",\"#FFA15A\",\"#19d3f3\",\"#FF6692\",\"#B6E880\",\"#FF97FF\",\"#FECB52\"],\"font\":{\"color\":\"#2a3f5f\"},\"geo\":{\"bgcolor\":\"white\",\"lakecolor\":\"white\",\"landcolor\":\"#E5ECF6\",\"showlakes\":true,\"showland\":true,\"subunitcolor\":\"white\"},\"hoverlabel\":{\"align\":\"left\"},\"hovermode\":\"closest\",\"mapbox\":{\"style\":\"light\"},\"paper_bgcolor\":\"white\",\"plot_bgcolor\":\"#E5ECF6\",\"polar\":{\"angularaxis\":{\"gridcolor\":\"white\",\"linecolor\":\"white\",\"ticks\":\"\"},\"bgcolor\":\"#E5ECF6\",\"radialaxis\":{\"gridcolor\":\"white\",\"linecolor\":\"white\",\"ticks\":\"\"}},\"scene\":{\"xaxis\":{\"backgroundcolor\":\"#E5ECF6\",\"gridcolor\":\"white\",\"gridwidth\":2,\"linecolor\":\"white\",\"showbackground\":true,\"ticks\":\"\",\"zerolinecolor\":\"white\"},\"yaxis\":{\"backgroundcolor\":\"#E5ECF6\",\"gridcolor\":\"white\",\"gridwidth\":2,\"linecolor\":\"white\",\"showbackground\":true,\"ticks\":\"\",\"zerolinecolor\":\"white\"},\"zaxis\":{\"backgroundcolor\":\"#E5ECF6\",\"gridcolor\":\"white\",\"gridwidth\":2,\"linecolor\":\"white\",\"showbackground\":true,\"ticks\":\"\",\"zerolinecolor\":\"white\"}},\"shapedefaults\":{\"line\":{\"color\":\"#2a3f5f\"}},\"ternary\":{\"aaxis\":{\"gridcolor\":\"white\",\"linecolor\":\"white\",\"ticks\":\"\"},\"baxis\":{\"gridcolor\":\"white\",\"linecolor\":\"white\",\"ticks\":\"\"},\"bgcolor\":\"#E5ECF6\",\"caxis\":{\"gridcolor\":\"white\",\"linecolor\":\"white\",\"ticks\":\"\"}},\"title\":{\"x\":0.05},\"xaxis\":{\"automargin\":true,\"gridcolor\":\"white\",\"linecolor\":\"white\",\"ticks\":\"\",\"title\":{\"standoff\":15},\"zerolinecolor\":\"white\",\"zerolinewidth\":2},\"yaxis\":{\"automargin\":true,\"gridcolor\":\"white\",\"linecolor\":\"white\",\"ticks\":\"\",\"title\":{\"standoff\":15},\"zerolinecolor\":\"white\",\"zerolinewidth\":2}}}},                        {\"responsive\": true}                    ).then(function(){\n",
       "                            \n",
       "var gd = document.getElementById('84dd08ef-4668-4471-8b88-882f5c3e487b');\n",
       "var x = new MutationObserver(function (mutations, observer) {{\n",
       "        var display = window.getComputedStyle(gd).display;\n",
       "        if (!display || display === 'none') {{\n",
       "            console.log([gd, 'removed!']);\n",
       "            Plotly.purge(gd);\n",
       "            observer.disconnect();\n",
       "        }}\n",
       "}});\n",
       "\n",
       "// Listen for the removal of the full notebook cells\n",
       "var notebookContainer = gd.closest('#notebook-container');\n",
       "if (notebookContainer) {{\n",
       "    x.observe(notebookContainer, {childList: true});\n",
       "}}\n",
       "\n",
       "// Listen for the clearing of the current output cell\n",
       "var outputEl = gd.closest('.output');\n",
       "if (outputEl) {{\n",
       "    x.observe(outputEl, {childList: true});\n",
       "}}\n",
       "\n",
       "                        })                };                });            </script>        </div>"
      ]
     },
     "metadata": {},
     "output_type": "display_data"
    }
   ],
   "source": [
    "fig = optuna.visualization.plot_optimization_history(study)\n",
    "fig.show()"
   ]
  },
  {
   "cell_type": "code",
   "execution_count": 28,
   "id": "6f4bfafe",
   "metadata": {},
   "outputs": [
    {
     "data": {
      "text/html": [
       "<div>                            <div id=\"472645bf-c0c8-4001-853d-3a7d10d89036\" class=\"plotly-graph-div\" style=\"height:525px; width:100%;\"></div>            <script type=\"text/javascript\">                require([\"plotly\"], function(Plotly) {                    window.PLOTLYENV=window.PLOTLYENV || {};                                    if (document.getElementById(\"472645bf-c0c8-4001-853d-3a7d10d89036\")) {                    Plotly.newPlot(                        \"472645bf-c0c8-4001-853d-3a7d10d89036\",                        [{\"cliponaxis\":false,\"hovertemplate\":[\"n_jobs (IntUniformDistribution): 0.07788856472281441<extra></extra>\",\"max_leaf_nodes (IntUniformDistribution): 0.14432905964382908<extra></extra>\",\"max_depth (IntUniformDistribution): 0.1689467959573426<extra></extra>\",\"n_estimators (IntUniformDistribution): 0.608835579676014<extra></extra>\"],\"marker\":{\"color\":\"rgb(66,146,198)\"},\"orientation\":\"h\",\"text\":[\"0.07788856472281441\",\"0.14432905964382908\",\"0.1689467959573426\",\"0.608835579676014\"],\"textposition\":\"outside\",\"texttemplate\":\"%{text:.2f}\",\"x\":[0.07788856472281441,0.14432905964382908,0.1689467959573426,0.608835579676014],\"y\":[\"n_jobs\",\"max_leaf_nodes\",\"max_depth\",\"n_estimators\"],\"type\":\"bar\"}],                        {\"showlegend\":false,\"title\":{\"text\":\"Hyperparameter Importances\"},\"xaxis\":{\"title\":{\"text\":\"Importance for Objective Value\"}},\"yaxis\":{\"title\":{\"text\":\"Hyperparameter\"}},\"template\":{\"data\":{\"bar\":[{\"error_x\":{\"color\":\"#2a3f5f\"},\"error_y\":{\"color\":\"#2a3f5f\"},\"marker\":{\"line\":{\"color\":\"#E5ECF6\",\"width\":0.5},\"pattern\":{\"fillmode\":\"overlay\",\"size\":10,\"solidity\":0.2}},\"type\":\"bar\"}],\"barpolar\":[{\"marker\":{\"line\":{\"color\":\"#E5ECF6\",\"width\":0.5},\"pattern\":{\"fillmode\":\"overlay\",\"size\":10,\"solidity\":0.2}},\"type\":\"barpolar\"}],\"carpet\":[{\"aaxis\":{\"endlinecolor\":\"#2a3f5f\",\"gridcolor\":\"white\",\"linecolor\":\"white\",\"minorgridcolor\":\"white\",\"startlinecolor\":\"#2a3f5f\"},\"baxis\":{\"endlinecolor\":\"#2a3f5f\",\"gridcolor\":\"white\",\"linecolor\":\"white\",\"minorgridcolor\":\"white\",\"startlinecolor\":\"#2a3f5f\"},\"type\":\"carpet\"}],\"choropleth\":[{\"colorbar\":{\"outlinewidth\":0,\"ticks\":\"\"},\"type\":\"choropleth\"}],\"contour\":[{\"colorbar\":{\"outlinewidth\":0,\"ticks\":\"\"},\"colorscale\":[[0.0,\"#0d0887\"],[0.1111111111111111,\"#46039f\"],[0.2222222222222222,\"#7201a8\"],[0.3333333333333333,\"#9c179e\"],[0.4444444444444444,\"#bd3786\"],[0.5555555555555556,\"#d8576b\"],[0.6666666666666666,\"#ed7953\"],[0.7777777777777778,\"#fb9f3a\"],[0.8888888888888888,\"#fdca26\"],[1.0,\"#f0f921\"]],\"type\":\"contour\"}],\"contourcarpet\":[{\"colorbar\":{\"outlinewidth\":0,\"ticks\":\"\"},\"type\":\"contourcarpet\"}],\"heatmap\":[{\"colorbar\":{\"outlinewidth\":0,\"ticks\":\"\"},\"colorscale\":[[0.0,\"#0d0887\"],[0.1111111111111111,\"#46039f\"],[0.2222222222222222,\"#7201a8\"],[0.3333333333333333,\"#9c179e\"],[0.4444444444444444,\"#bd3786\"],[0.5555555555555556,\"#d8576b\"],[0.6666666666666666,\"#ed7953\"],[0.7777777777777778,\"#fb9f3a\"],[0.8888888888888888,\"#fdca26\"],[1.0,\"#f0f921\"]],\"type\":\"heatmap\"}],\"heatmapgl\":[{\"colorbar\":{\"outlinewidth\":0,\"ticks\":\"\"},\"colorscale\":[[0.0,\"#0d0887\"],[0.1111111111111111,\"#46039f\"],[0.2222222222222222,\"#7201a8\"],[0.3333333333333333,\"#9c179e\"],[0.4444444444444444,\"#bd3786\"],[0.5555555555555556,\"#d8576b\"],[0.6666666666666666,\"#ed7953\"],[0.7777777777777778,\"#fb9f3a\"],[0.8888888888888888,\"#fdca26\"],[1.0,\"#f0f921\"]],\"type\":\"heatmapgl\"}],\"histogram\":[{\"marker\":{\"pattern\":{\"fillmode\":\"overlay\",\"size\":10,\"solidity\":0.2}},\"type\":\"histogram\"}],\"histogram2d\":[{\"colorbar\":{\"outlinewidth\":0,\"ticks\":\"\"},\"colorscale\":[[0.0,\"#0d0887\"],[0.1111111111111111,\"#46039f\"],[0.2222222222222222,\"#7201a8\"],[0.3333333333333333,\"#9c179e\"],[0.4444444444444444,\"#bd3786\"],[0.5555555555555556,\"#d8576b\"],[0.6666666666666666,\"#ed7953\"],[0.7777777777777778,\"#fb9f3a\"],[0.8888888888888888,\"#fdca26\"],[1.0,\"#f0f921\"]],\"type\":\"histogram2d\"}],\"histogram2dcontour\":[{\"colorbar\":{\"outlinewidth\":0,\"ticks\":\"\"},\"colorscale\":[[0.0,\"#0d0887\"],[0.1111111111111111,\"#46039f\"],[0.2222222222222222,\"#7201a8\"],[0.3333333333333333,\"#9c179e\"],[0.4444444444444444,\"#bd3786\"],[0.5555555555555556,\"#d8576b\"],[0.6666666666666666,\"#ed7953\"],[0.7777777777777778,\"#fb9f3a\"],[0.8888888888888888,\"#fdca26\"],[1.0,\"#f0f921\"]],\"type\":\"histogram2dcontour\"}],\"mesh3d\":[{\"colorbar\":{\"outlinewidth\":0,\"ticks\":\"\"},\"type\":\"mesh3d\"}],\"parcoords\":[{\"line\":{\"colorbar\":{\"outlinewidth\":0,\"ticks\":\"\"}},\"type\":\"parcoords\"}],\"pie\":[{\"automargin\":true,\"type\":\"pie\"}],\"scatter\":[{\"marker\":{\"colorbar\":{\"outlinewidth\":0,\"ticks\":\"\"}},\"type\":\"scatter\"}],\"scatter3d\":[{\"line\":{\"colorbar\":{\"outlinewidth\":0,\"ticks\":\"\"}},\"marker\":{\"colorbar\":{\"outlinewidth\":0,\"ticks\":\"\"}},\"type\":\"scatter3d\"}],\"scattercarpet\":[{\"marker\":{\"colorbar\":{\"outlinewidth\":0,\"ticks\":\"\"}},\"type\":\"scattercarpet\"}],\"scattergeo\":[{\"marker\":{\"colorbar\":{\"outlinewidth\":0,\"ticks\":\"\"}},\"type\":\"scattergeo\"}],\"scattergl\":[{\"marker\":{\"colorbar\":{\"outlinewidth\":0,\"ticks\":\"\"}},\"type\":\"scattergl\"}],\"scattermapbox\":[{\"marker\":{\"colorbar\":{\"outlinewidth\":0,\"ticks\":\"\"}},\"type\":\"scattermapbox\"}],\"scatterpolar\":[{\"marker\":{\"colorbar\":{\"outlinewidth\":0,\"ticks\":\"\"}},\"type\":\"scatterpolar\"}],\"scatterpolargl\":[{\"marker\":{\"colorbar\":{\"outlinewidth\":0,\"ticks\":\"\"}},\"type\":\"scatterpolargl\"}],\"scatterternary\":[{\"marker\":{\"colorbar\":{\"outlinewidth\":0,\"ticks\":\"\"}},\"type\":\"scatterternary\"}],\"surface\":[{\"colorbar\":{\"outlinewidth\":0,\"ticks\":\"\"},\"colorscale\":[[0.0,\"#0d0887\"],[0.1111111111111111,\"#46039f\"],[0.2222222222222222,\"#7201a8\"],[0.3333333333333333,\"#9c179e\"],[0.4444444444444444,\"#bd3786\"],[0.5555555555555556,\"#d8576b\"],[0.6666666666666666,\"#ed7953\"],[0.7777777777777778,\"#fb9f3a\"],[0.8888888888888888,\"#fdca26\"],[1.0,\"#f0f921\"]],\"type\":\"surface\"}],\"table\":[{\"cells\":{\"fill\":{\"color\":\"#EBF0F8\"},\"line\":{\"color\":\"white\"}},\"header\":{\"fill\":{\"color\":\"#C8D4E3\"},\"line\":{\"color\":\"white\"}},\"type\":\"table\"}]},\"layout\":{\"annotationdefaults\":{\"arrowcolor\":\"#2a3f5f\",\"arrowhead\":0,\"arrowwidth\":1},\"autotypenumbers\":\"strict\",\"coloraxis\":{\"colorbar\":{\"outlinewidth\":0,\"ticks\":\"\"}},\"colorscale\":{\"diverging\":[[0,\"#8e0152\"],[0.1,\"#c51b7d\"],[0.2,\"#de77ae\"],[0.3,\"#f1b6da\"],[0.4,\"#fde0ef\"],[0.5,\"#f7f7f7\"],[0.6,\"#e6f5d0\"],[0.7,\"#b8e186\"],[0.8,\"#7fbc41\"],[0.9,\"#4d9221\"],[1,\"#276419\"]],\"sequential\":[[0.0,\"#0d0887\"],[0.1111111111111111,\"#46039f\"],[0.2222222222222222,\"#7201a8\"],[0.3333333333333333,\"#9c179e\"],[0.4444444444444444,\"#bd3786\"],[0.5555555555555556,\"#d8576b\"],[0.6666666666666666,\"#ed7953\"],[0.7777777777777778,\"#fb9f3a\"],[0.8888888888888888,\"#fdca26\"],[1.0,\"#f0f921\"]],\"sequentialminus\":[[0.0,\"#0d0887\"],[0.1111111111111111,\"#46039f\"],[0.2222222222222222,\"#7201a8\"],[0.3333333333333333,\"#9c179e\"],[0.4444444444444444,\"#bd3786\"],[0.5555555555555556,\"#d8576b\"],[0.6666666666666666,\"#ed7953\"],[0.7777777777777778,\"#fb9f3a\"],[0.8888888888888888,\"#fdca26\"],[1.0,\"#f0f921\"]]},\"colorway\":[\"#636efa\",\"#EF553B\",\"#00cc96\",\"#ab63fa\",\"#FFA15A\",\"#19d3f3\",\"#FF6692\",\"#B6E880\",\"#FF97FF\",\"#FECB52\"],\"font\":{\"color\":\"#2a3f5f\"},\"geo\":{\"bgcolor\":\"white\",\"lakecolor\":\"white\",\"landcolor\":\"#E5ECF6\",\"showlakes\":true,\"showland\":true,\"subunitcolor\":\"white\"},\"hoverlabel\":{\"align\":\"left\"},\"hovermode\":\"closest\",\"mapbox\":{\"style\":\"light\"},\"paper_bgcolor\":\"white\",\"plot_bgcolor\":\"#E5ECF6\",\"polar\":{\"angularaxis\":{\"gridcolor\":\"white\",\"linecolor\":\"white\",\"ticks\":\"\"},\"bgcolor\":\"#E5ECF6\",\"radialaxis\":{\"gridcolor\":\"white\",\"linecolor\":\"white\",\"ticks\":\"\"}},\"scene\":{\"xaxis\":{\"backgroundcolor\":\"#E5ECF6\",\"gridcolor\":\"white\",\"gridwidth\":2,\"linecolor\":\"white\",\"showbackground\":true,\"ticks\":\"\",\"zerolinecolor\":\"white\"},\"yaxis\":{\"backgroundcolor\":\"#E5ECF6\",\"gridcolor\":\"white\",\"gridwidth\":2,\"linecolor\":\"white\",\"showbackground\":true,\"ticks\":\"\",\"zerolinecolor\":\"white\"},\"zaxis\":{\"backgroundcolor\":\"#E5ECF6\",\"gridcolor\":\"white\",\"gridwidth\":2,\"linecolor\":\"white\",\"showbackground\":true,\"ticks\":\"\",\"zerolinecolor\":\"white\"}},\"shapedefaults\":{\"line\":{\"color\":\"#2a3f5f\"}},\"ternary\":{\"aaxis\":{\"gridcolor\":\"white\",\"linecolor\":\"white\",\"ticks\":\"\"},\"baxis\":{\"gridcolor\":\"white\",\"linecolor\":\"white\",\"ticks\":\"\"},\"bgcolor\":\"#E5ECF6\",\"caxis\":{\"gridcolor\":\"white\",\"linecolor\":\"white\",\"ticks\":\"\"}},\"title\":{\"x\":0.05},\"xaxis\":{\"automargin\":true,\"gridcolor\":\"white\",\"linecolor\":\"white\",\"ticks\":\"\",\"title\":{\"standoff\":15},\"zerolinecolor\":\"white\",\"zerolinewidth\":2},\"yaxis\":{\"automargin\":true,\"gridcolor\":\"white\",\"linecolor\":\"white\",\"ticks\":\"\",\"title\":{\"standoff\":15},\"zerolinecolor\":\"white\",\"zerolinewidth\":2}}}},                        {\"responsive\": true}                    ).then(function(){\n",
       "                            \n",
       "var gd = document.getElementById('472645bf-c0c8-4001-853d-3a7d10d89036');\n",
       "var x = new MutationObserver(function (mutations, observer) {{\n",
       "        var display = window.getComputedStyle(gd).display;\n",
       "        if (!display || display === 'none') {{\n",
       "            console.log([gd, 'removed!']);\n",
       "            Plotly.purge(gd);\n",
       "            observer.disconnect();\n",
       "        }}\n",
       "}});\n",
       "\n",
       "// Listen for the removal of the full notebook cells\n",
       "var notebookContainer = gd.closest('#notebook-container');\n",
       "if (notebookContainer) {{\n",
       "    x.observe(notebookContainer, {childList: true});\n",
       "}}\n",
       "\n",
       "// Listen for the clearing of the current output cell\n",
       "var outputEl = gd.closest('.output');\n",
       "if (outputEl) {{\n",
       "    x.observe(outputEl, {childList: true});\n",
       "}}\n",
       "\n",
       "                        })                };                });            </script>        </div>"
      ]
     },
     "metadata": {},
     "output_type": "display_data"
    }
   ],
   "source": [
    "optuna.visualization.plot_param_importances(study).show()"
   ]
  },
  {
   "cell_type": "code",
   "execution_count": 29,
   "id": "c3b2cc5a",
   "metadata": {},
   "outputs": [
    {
     "data": {
      "text/plain": [
       "{'max_depth': 55, 'max_leaf_nodes': 6969, 'n_estimators': 109, 'n_jobs': 18}"
      ]
     },
     "execution_count": 29,
     "metadata": {},
     "output_type": "execute_result"
    }
   ],
   "source": [
    "study.best_params"
   ]
  },
  {
   "cell_type": "code",
   "execution_count": 30,
   "id": "f1a695ff",
   "metadata": {},
   "outputs": [
    {
     "name": "stderr",
     "output_type": "stream",
     "text": [
      "\u001b[32m[I 2022-06-14 19:51:04,986]\u001b[0m Trial 40 finished with value: 0.7133750944305781 and parameters: {'max_depth': 2852, 'max_leaf_nodes': 4088, 'n_estimators': 309, 'n_jobs': 19}. Best is trial 30 with value: 0.7245342823520504.\u001b[0m\n",
      "\u001b[32m[I 2022-06-14 19:51:11,575]\u001b[0m Trial 41 finished with value: 0.7269133011802549 and parameters: {'max_depth': 4200, 'max_leaf_nodes': 4161, 'n_estimators': 213, 'n_jobs': 19}. Best is trial 41 with value: 0.7269133011802549.\u001b[0m\n",
      "\u001b[32m[I 2022-06-14 19:51:19,055]\u001b[0m Trial 42 finished with value: 0.715186472358449 and parameters: {'max_depth': 4291, 'max_leaf_nodes': 4044, 'n_estimators': 240, 'n_jobs': 19}. Best is trial 41 with value: 0.7269133011802549.\u001b[0m\n",
      "\u001b[32m[I 2022-06-14 19:51:27,803]\u001b[0m Trial 43 finished with value: 0.7093909976228052 and parameters: {'max_depth': 2092, 'max_leaf_nodes': 4226, 'n_estimators': 287, 'n_jobs': 19}. Best is trial 41 with value: 0.7269133011802549.\u001b[0m\n",
      "\u001b[32m[I 2022-06-14 19:51:34,419]\u001b[0m Trial 44 finished with value: 0.7000309887842627 and parameters: {'max_depth': 3270, 'max_leaf_nodes': 4153, 'n_estimators': 211, 'n_jobs': 19}. Best is trial 41 with value: 0.7269133011802549.\u001b[0m\n",
      "\u001b[32m[I 2022-06-14 19:51:41,331]\u001b[0m Trial 45 finished with value: 0.7145904457949909 and parameters: {'max_depth': 4272, 'max_leaf_nodes': 4051, 'n_estimators': 160, 'n_jobs': 20}. Best is trial 41 with value: 0.7269133011802549.\u001b[0m\n",
      "\u001b[32m[I 2022-06-14 19:51:53,299]\u001b[0m Trial 46 finished with value: 0.7167401769915711 and parameters: {'max_depth': 5361, 'max_leaf_nodes': 4071, 'n_estimators': 398, 'n_jobs': 19}. Best is trial 41 with value: 0.7269133011802549.\u001b[0m\n",
      "\u001b[32m[I 2022-06-14 19:52:02,425]\u001b[0m Trial 47 finished with value: 0.7177473719852869 and parameters: {'max_depth': 838, 'max_leaf_nodes': 4051, 'n_estimators': 331, 'n_jobs': 19}. Best is trial 41 with value: 0.7269133011802549.\u001b[0m\n",
      "\u001b[32m[I 2022-06-14 19:52:11,328]\u001b[0m Trial 48 finished with value: 0.71745327709328 and parameters: {'max_depth': 2247, 'max_leaf_nodes': 4112, 'n_estimators': 221, 'n_jobs': 20}. Best is trial 41 with value: 0.7269133011802549.\u001b[0m\n",
      "\u001b[32m[I 2022-06-14 19:52:19,938]\u001b[0m Trial 49 finished with value: 0.710092463674929 and parameters: {'max_depth': 284, 'max_leaf_nodes': 4106, 'n_estimators': 273, 'n_jobs': 19}. Best is trial 41 with value: 0.7269133011802549.\u001b[0m\n",
      "\u001b[32m[I 2022-06-14 19:52:41,477]\u001b[0m Trial 50 finished with value: 0.7205128356245009 and parameters: {'max_depth': 3865, 'max_leaf_nodes': 4066, 'n_estimators': 832, 'n_jobs': 20}. Best is trial 41 with value: 0.7269133011802549.\u001b[0m\n",
      "\u001b[32m[I 2022-06-14 19:52:47,645]\u001b[0m Trial 51 finished with value: 0.7163072569010837 and parameters: {'max_depth': 2755, 'max_leaf_nodes': 4035, 'n_estimators': 197, 'n_jobs': 19}. Best is trial 41 with value: 0.7269133011802549.\u001b[0m\n",
      "\u001b[32m[I 2022-06-14 19:52:53,239]\u001b[0m Trial 52 finished with value: 0.7218541861426884 and parameters: {'max_depth': 3090, 'max_leaf_nodes': 4025, 'n_estimators': 151, 'n_jobs': 19}. Best is trial 41 with value: 0.7269133011802549.\u001b[0m\n",
      "\u001b[32m[I 2022-06-14 19:53:02,185]\u001b[0m Trial 53 finished with value: 0.727049635168042 and parameters: {'max_depth': 2604, 'max_leaf_nodes': 4184, 'n_estimators': 257, 'n_jobs': 19}. Best is trial 53 with value: 0.727049635168042.\u001b[0m\n",
      "\u001b[32m[I 2022-06-14 19:53:10,832]\u001b[0m Trial 54 finished with value: 0.709398927748838 and parameters: {'max_depth': 1486, 'max_leaf_nodes': 4061, 'n_estimators': 255, 'n_jobs': 19}. Best is trial 53 with value: 0.727049635168042.\u001b[0m\n",
      "\u001b[32m[I 2022-06-14 19:53:24,439]\u001b[0m Trial 55 finished with value: 0.7275592952689727 and parameters: {'max_depth': 5132, 'max_leaf_nodes': 4058, 'n_estimators': 412, 'n_jobs': 20}. Best is trial 55 with value: 0.7275592952689727.\u001b[0m\n",
      "\u001b[32m[I 2022-06-14 19:53:36,241]\u001b[0m Trial 56 finished with value: 0.7288800801592215 and parameters: {'max_depth': 4973, 'max_leaf_nodes': 4197, 'n_estimators': 439, 'n_jobs': 20}. Best is trial 56 with value: 0.7288800801592215.\u001b[0m\n",
      "\u001b[32m[I 2022-06-14 19:53:48,665]\u001b[0m Trial 57 finished with value: 0.7179024983613325 and parameters: {'max_depth': 5020, 'max_leaf_nodes': 4264, 'n_estimators': 436, 'n_jobs': 20}. Best is trial 56 with value: 0.7288800801592215.\u001b[0m\n",
      "\u001b[32m[I 2022-06-14 19:54:01,976]\u001b[0m Trial 58 finished with value: 0.7113970964779978 and parameters: {'max_depth': 6095, 'max_leaf_nodes': 4246, 'n_estimators': 481, 'n_jobs': 20}. Best is trial 56 with value: 0.7288800801592215.\u001b[0m\n",
      "\u001b[32m[I 2022-06-14 19:54:12,991]\u001b[0m Trial 59 finished with value: 0.7182173057336892 and parameters: {'max_depth': 5298, 'max_leaf_nodes': 4267, 'n_estimators': 397, 'n_jobs': 20}. Best is trial 56 with value: 0.7288800801592215.\u001b[0m\n"
     ]
    }
   ],
   "source": [
    "# fix the less relevant parameter to continue the optimization\n",
    "def objective(trial):\n",
    "    X_train, X_test, y_train, y_test = train_test_split(X, y, random_state=1)\n",
    "    \n",
    "    max_depth = trial.suggest_int('max_depth', 1, 10000)   \n",
    "    max_leaf_nodes = trial.suggest_int('max_leaf_nodes', 4000, 10000)\n",
    "    n_estimators =  trial.suggest_int('n_estimators', 100, 1000)\n",
    "    n_jobs =  trial.suggest_int('n_jobs', 18, 25)\n",
    "    \n",
    "    rf_cl = RandomForestClassifier(bootstrap = 'False', \n",
    "                                   max_depth = max_depth, \n",
    "                                   max_features = 'auto',\n",
    "                                   max_leaf_nodes = max_leaf_nodes,\n",
    "                                   n_estimators = n_estimators,\n",
    "                                   n_jobs = n_jobs\n",
    "                                  )\n",
    "    \n",
    "    rf_cl.fit(X_train, y_train)\n",
    "    y_pred = rf_cl.predict(X_test)\n",
    "    \n",
    "    score = cross_val_score(rf_cl, X_test, y_test, cv=5, scoring=\"f1_macro\")\n",
    "    f1_mean = score.mean()\n",
    "\n",
    "    return f1_mean\n",
    "\n",
    "\n",
    "study.optimize(objective, n_trials=20)"
   ]
  },
  {
   "cell_type": "code",
   "execution_count": 31,
   "id": "977ca13b",
   "metadata": {},
   "outputs": [
    {
     "data": {
      "text/html": [
       "<div>                            <div id=\"a8124d94-aa4b-4a72-9333-09ded2093502\" class=\"plotly-graph-div\" style=\"height:525px; width:100%;\"></div>            <script type=\"text/javascript\">                require([\"plotly\"], function(Plotly) {                    window.PLOTLYENV=window.PLOTLYENV || {};                                    if (document.getElementById(\"a8124d94-aa4b-4a72-9333-09ded2093502\")) {                    Plotly.newPlot(                        \"a8124d94-aa4b-4a72-9333-09ded2093502\",                        [{\"mode\":\"markers\",\"name\":\"Objective Value\",\"x\":[0,1,2,3,4,5,6,7,8,9,10,11,12,13,14,15,16,17,18,19,20,21,22,23,24,25,26,27,28,29,30,31,32,33,34,35,36,37,38,39,40,41,42,43,44,45,46,47,48,49,50,51,52,53,54,55,56,57,58,59],\"y\":[0.7199957808974002,0.7169085773663529,0.7194050923748266,0.7180946468265417,0.7200267378075921,0.7110648724971199,0.708765412774993,0.7164793408804547,0.7167900885063859,0.7135559124375954,0.7210648135957081,0.7129614007415082,0.711358990042143,0.7188626871509864,0.707206755392779,0.7090347149245192,0.7144383926477748,0.7156834981700875,0.7022260699962333,0.7199770916532003,0.7069452278895854,0.7131391841978006,0.705256637995048,0.7228609674098099,0.7229900444069913,0.710429179499692,0.7039134008979138,0.7164815931149076,0.7243025361521396,0.7086381755408299,0.7245342823520504,0.7032279538409087,0.7141742426317952,0.7221846772570212,0.7178529010198786,0.7126251591896535,0.7040453723915746,0.709503950952598,0.7058328946636678,0.6810190497111485,0.7133750944305781,0.7269133011802549,0.715186472358449,0.7093909976228052,0.7000309887842627,0.7145904457949909,0.7167401769915711,0.7177473719852869,0.71745327709328,0.710092463674929,0.7205128356245009,0.7163072569010837,0.7218541861426884,0.727049635168042,0.709398927748838,0.7275592952689727,0.7288800801592215,0.7179024983613325,0.7113970964779978,0.7182173057336892],\"type\":\"scatter\"},{\"name\":\"Best Value\",\"x\":[0,1,2,3,4,5,6,7,8,9,10,11,12,13,14,15,16,17,18,19,20,21,22,23,24,25,26,27,28,29,30,31,32,33,34,35,36,37,38,39,40,41,42,43,44,45,46,47,48,49,50,51,52,53,54,55,56,57,58,59],\"y\":[0.7199957808974002,0.7199957808974002,0.7199957808974002,0.7199957808974002,0.7200267378075921,0.7200267378075921,0.7200267378075921,0.7200267378075921,0.7200267378075921,0.7200267378075921,0.7210648135957081,0.7210648135957081,0.7210648135957081,0.7210648135957081,0.7210648135957081,0.7210648135957081,0.7210648135957081,0.7210648135957081,0.7210648135957081,0.7210648135957081,0.7210648135957081,0.7210648135957081,0.7210648135957081,0.7228609674098099,0.7229900444069913,0.7229900444069913,0.7229900444069913,0.7229900444069913,0.7243025361521396,0.7243025361521396,0.7245342823520504,0.7245342823520504,0.7245342823520504,0.7245342823520504,0.7245342823520504,0.7245342823520504,0.7245342823520504,0.7245342823520504,0.7245342823520504,0.7245342823520504,0.7245342823520504,0.7269133011802549,0.7269133011802549,0.7269133011802549,0.7269133011802549,0.7269133011802549,0.7269133011802549,0.7269133011802549,0.7269133011802549,0.7269133011802549,0.7269133011802549,0.7269133011802549,0.7269133011802549,0.727049635168042,0.727049635168042,0.7275592952689727,0.7288800801592215,0.7288800801592215,0.7288800801592215,0.7288800801592215],\"type\":\"scatter\"}],                        {\"title\":{\"text\":\"Optimization History Plot\"},\"xaxis\":{\"title\":{\"text\":\"#Trials\"}},\"yaxis\":{\"title\":{\"text\":\"Objective Value\"}},\"template\":{\"data\":{\"bar\":[{\"error_x\":{\"color\":\"#2a3f5f\"},\"error_y\":{\"color\":\"#2a3f5f\"},\"marker\":{\"line\":{\"color\":\"#E5ECF6\",\"width\":0.5},\"pattern\":{\"fillmode\":\"overlay\",\"size\":10,\"solidity\":0.2}},\"type\":\"bar\"}],\"barpolar\":[{\"marker\":{\"line\":{\"color\":\"#E5ECF6\",\"width\":0.5},\"pattern\":{\"fillmode\":\"overlay\",\"size\":10,\"solidity\":0.2}},\"type\":\"barpolar\"}],\"carpet\":[{\"aaxis\":{\"endlinecolor\":\"#2a3f5f\",\"gridcolor\":\"white\",\"linecolor\":\"white\",\"minorgridcolor\":\"white\",\"startlinecolor\":\"#2a3f5f\"},\"baxis\":{\"endlinecolor\":\"#2a3f5f\",\"gridcolor\":\"white\",\"linecolor\":\"white\",\"minorgridcolor\":\"white\",\"startlinecolor\":\"#2a3f5f\"},\"type\":\"carpet\"}],\"choropleth\":[{\"colorbar\":{\"outlinewidth\":0,\"ticks\":\"\"},\"type\":\"choropleth\"}],\"contour\":[{\"colorbar\":{\"outlinewidth\":0,\"ticks\":\"\"},\"colorscale\":[[0.0,\"#0d0887\"],[0.1111111111111111,\"#46039f\"],[0.2222222222222222,\"#7201a8\"],[0.3333333333333333,\"#9c179e\"],[0.4444444444444444,\"#bd3786\"],[0.5555555555555556,\"#d8576b\"],[0.6666666666666666,\"#ed7953\"],[0.7777777777777778,\"#fb9f3a\"],[0.8888888888888888,\"#fdca26\"],[1.0,\"#f0f921\"]],\"type\":\"contour\"}],\"contourcarpet\":[{\"colorbar\":{\"outlinewidth\":0,\"ticks\":\"\"},\"type\":\"contourcarpet\"}],\"heatmap\":[{\"colorbar\":{\"outlinewidth\":0,\"ticks\":\"\"},\"colorscale\":[[0.0,\"#0d0887\"],[0.1111111111111111,\"#46039f\"],[0.2222222222222222,\"#7201a8\"],[0.3333333333333333,\"#9c179e\"],[0.4444444444444444,\"#bd3786\"],[0.5555555555555556,\"#d8576b\"],[0.6666666666666666,\"#ed7953\"],[0.7777777777777778,\"#fb9f3a\"],[0.8888888888888888,\"#fdca26\"],[1.0,\"#f0f921\"]],\"type\":\"heatmap\"}],\"heatmapgl\":[{\"colorbar\":{\"outlinewidth\":0,\"ticks\":\"\"},\"colorscale\":[[0.0,\"#0d0887\"],[0.1111111111111111,\"#46039f\"],[0.2222222222222222,\"#7201a8\"],[0.3333333333333333,\"#9c179e\"],[0.4444444444444444,\"#bd3786\"],[0.5555555555555556,\"#d8576b\"],[0.6666666666666666,\"#ed7953\"],[0.7777777777777778,\"#fb9f3a\"],[0.8888888888888888,\"#fdca26\"],[1.0,\"#f0f921\"]],\"type\":\"heatmapgl\"}],\"histogram\":[{\"marker\":{\"pattern\":{\"fillmode\":\"overlay\",\"size\":10,\"solidity\":0.2}},\"type\":\"histogram\"}],\"histogram2d\":[{\"colorbar\":{\"outlinewidth\":0,\"ticks\":\"\"},\"colorscale\":[[0.0,\"#0d0887\"],[0.1111111111111111,\"#46039f\"],[0.2222222222222222,\"#7201a8\"],[0.3333333333333333,\"#9c179e\"],[0.4444444444444444,\"#bd3786\"],[0.5555555555555556,\"#d8576b\"],[0.6666666666666666,\"#ed7953\"],[0.7777777777777778,\"#fb9f3a\"],[0.8888888888888888,\"#fdca26\"],[1.0,\"#f0f921\"]],\"type\":\"histogram2d\"}],\"histogram2dcontour\":[{\"colorbar\":{\"outlinewidth\":0,\"ticks\":\"\"},\"colorscale\":[[0.0,\"#0d0887\"],[0.1111111111111111,\"#46039f\"],[0.2222222222222222,\"#7201a8\"],[0.3333333333333333,\"#9c179e\"],[0.4444444444444444,\"#bd3786\"],[0.5555555555555556,\"#d8576b\"],[0.6666666666666666,\"#ed7953\"],[0.7777777777777778,\"#fb9f3a\"],[0.8888888888888888,\"#fdca26\"],[1.0,\"#f0f921\"]],\"type\":\"histogram2dcontour\"}],\"mesh3d\":[{\"colorbar\":{\"outlinewidth\":0,\"ticks\":\"\"},\"type\":\"mesh3d\"}],\"parcoords\":[{\"line\":{\"colorbar\":{\"outlinewidth\":0,\"ticks\":\"\"}},\"type\":\"parcoords\"}],\"pie\":[{\"automargin\":true,\"type\":\"pie\"}],\"scatter\":[{\"marker\":{\"colorbar\":{\"outlinewidth\":0,\"ticks\":\"\"}},\"type\":\"scatter\"}],\"scatter3d\":[{\"line\":{\"colorbar\":{\"outlinewidth\":0,\"ticks\":\"\"}},\"marker\":{\"colorbar\":{\"outlinewidth\":0,\"ticks\":\"\"}},\"type\":\"scatter3d\"}],\"scattercarpet\":[{\"marker\":{\"colorbar\":{\"outlinewidth\":0,\"ticks\":\"\"}},\"type\":\"scattercarpet\"}],\"scattergeo\":[{\"marker\":{\"colorbar\":{\"outlinewidth\":0,\"ticks\":\"\"}},\"type\":\"scattergeo\"}],\"scattergl\":[{\"marker\":{\"colorbar\":{\"outlinewidth\":0,\"ticks\":\"\"}},\"type\":\"scattergl\"}],\"scattermapbox\":[{\"marker\":{\"colorbar\":{\"outlinewidth\":0,\"ticks\":\"\"}},\"type\":\"scattermapbox\"}],\"scatterpolar\":[{\"marker\":{\"colorbar\":{\"outlinewidth\":0,\"ticks\":\"\"}},\"type\":\"scatterpolar\"}],\"scatterpolargl\":[{\"marker\":{\"colorbar\":{\"outlinewidth\":0,\"ticks\":\"\"}},\"type\":\"scatterpolargl\"}],\"scatterternary\":[{\"marker\":{\"colorbar\":{\"outlinewidth\":0,\"ticks\":\"\"}},\"type\":\"scatterternary\"}],\"surface\":[{\"colorbar\":{\"outlinewidth\":0,\"ticks\":\"\"},\"colorscale\":[[0.0,\"#0d0887\"],[0.1111111111111111,\"#46039f\"],[0.2222222222222222,\"#7201a8\"],[0.3333333333333333,\"#9c179e\"],[0.4444444444444444,\"#bd3786\"],[0.5555555555555556,\"#d8576b\"],[0.6666666666666666,\"#ed7953\"],[0.7777777777777778,\"#fb9f3a\"],[0.8888888888888888,\"#fdca26\"],[1.0,\"#f0f921\"]],\"type\":\"surface\"}],\"table\":[{\"cells\":{\"fill\":{\"color\":\"#EBF0F8\"},\"line\":{\"color\":\"white\"}},\"header\":{\"fill\":{\"color\":\"#C8D4E3\"},\"line\":{\"color\":\"white\"}},\"type\":\"table\"}]},\"layout\":{\"annotationdefaults\":{\"arrowcolor\":\"#2a3f5f\",\"arrowhead\":0,\"arrowwidth\":1},\"autotypenumbers\":\"strict\",\"coloraxis\":{\"colorbar\":{\"outlinewidth\":0,\"ticks\":\"\"}},\"colorscale\":{\"diverging\":[[0,\"#8e0152\"],[0.1,\"#c51b7d\"],[0.2,\"#de77ae\"],[0.3,\"#f1b6da\"],[0.4,\"#fde0ef\"],[0.5,\"#f7f7f7\"],[0.6,\"#e6f5d0\"],[0.7,\"#b8e186\"],[0.8,\"#7fbc41\"],[0.9,\"#4d9221\"],[1,\"#276419\"]],\"sequential\":[[0.0,\"#0d0887\"],[0.1111111111111111,\"#46039f\"],[0.2222222222222222,\"#7201a8\"],[0.3333333333333333,\"#9c179e\"],[0.4444444444444444,\"#bd3786\"],[0.5555555555555556,\"#d8576b\"],[0.6666666666666666,\"#ed7953\"],[0.7777777777777778,\"#fb9f3a\"],[0.8888888888888888,\"#fdca26\"],[1.0,\"#f0f921\"]],\"sequentialminus\":[[0.0,\"#0d0887\"],[0.1111111111111111,\"#46039f\"],[0.2222222222222222,\"#7201a8\"],[0.3333333333333333,\"#9c179e\"],[0.4444444444444444,\"#bd3786\"],[0.5555555555555556,\"#d8576b\"],[0.6666666666666666,\"#ed7953\"],[0.7777777777777778,\"#fb9f3a\"],[0.8888888888888888,\"#fdca26\"],[1.0,\"#f0f921\"]]},\"colorway\":[\"#636efa\",\"#EF553B\",\"#00cc96\",\"#ab63fa\",\"#FFA15A\",\"#19d3f3\",\"#FF6692\",\"#B6E880\",\"#FF97FF\",\"#FECB52\"],\"font\":{\"color\":\"#2a3f5f\"},\"geo\":{\"bgcolor\":\"white\",\"lakecolor\":\"white\",\"landcolor\":\"#E5ECF6\",\"showlakes\":true,\"showland\":true,\"subunitcolor\":\"white\"},\"hoverlabel\":{\"align\":\"left\"},\"hovermode\":\"closest\",\"mapbox\":{\"style\":\"light\"},\"paper_bgcolor\":\"white\",\"plot_bgcolor\":\"#E5ECF6\",\"polar\":{\"angularaxis\":{\"gridcolor\":\"white\",\"linecolor\":\"white\",\"ticks\":\"\"},\"bgcolor\":\"#E5ECF6\",\"radialaxis\":{\"gridcolor\":\"white\",\"linecolor\":\"white\",\"ticks\":\"\"}},\"scene\":{\"xaxis\":{\"backgroundcolor\":\"#E5ECF6\",\"gridcolor\":\"white\",\"gridwidth\":2,\"linecolor\":\"white\",\"showbackground\":true,\"ticks\":\"\",\"zerolinecolor\":\"white\"},\"yaxis\":{\"backgroundcolor\":\"#E5ECF6\",\"gridcolor\":\"white\",\"gridwidth\":2,\"linecolor\":\"white\",\"showbackground\":true,\"ticks\":\"\",\"zerolinecolor\":\"white\"},\"zaxis\":{\"backgroundcolor\":\"#E5ECF6\",\"gridcolor\":\"white\",\"gridwidth\":2,\"linecolor\":\"white\",\"showbackground\":true,\"ticks\":\"\",\"zerolinecolor\":\"white\"}},\"shapedefaults\":{\"line\":{\"color\":\"#2a3f5f\"}},\"ternary\":{\"aaxis\":{\"gridcolor\":\"white\",\"linecolor\":\"white\",\"ticks\":\"\"},\"baxis\":{\"gridcolor\":\"white\",\"linecolor\":\"white\",\"ticks\":\"\"},\"bgcolor\":\"#E5ECF6\",\"caxis\":{\"gridcolor\":\"white\",\"linecolor\":\"white\",\"ticks\":\"\"}},\"title\":{\"x\":0.05},\"xaxis\":{\"automargin\":true,\"gridcolor\":\"white\",\"linecolor\":\"white\",\"ticks\":\"\",\"title\":{\"standoff\":15},\"zerolinecolor\":\"white\",\"zerolinewidth\":2},\"yaxis\":{\"automargin\":true,\"gridcolor\":\"white\",\"linecolor\":\"white\",\"ticks\":\"\",\"title\":{\"standoff\":15},\"zerolinecolor\":\"white\",\"zerolinewidth\":2}}}},                        {\"responsive\": true}                    ).then(function(){\n",
       "                            \n",
       "var gd = document.getElementById('a8124d94-aa4b-4a72-9333-09ded2093502');\n",
       "var x = new MutationObserver(function (mutations, observer) {{\n",
       "        var display = window.getComputedStyle(gd).display;\n",
       "        if (!display || display === 'none') {{\n",
       "            console.log([gd, 'removed!']);\n",
       "            Plotly.purge(gd);\n",
       "            observer.disconnect();\n",
       "        }}\n",
       "}});\n",
       "\n",
       "// Listen for the removal of the full notebook cells\n",
       "var notebookContainer = gd.closest('#notebook-container');\n",
       "if (notebookContainer) {{\n",
       "    x.observe(notebookContainer, {childList: true});\n",
       "}}\n",
       "\n",
       "// Listen for the clearing of the current output cell\n",
       "var outputEl = gd.closest('.output');\n",
       "if (outputEl) {{\n",
       "    x.observe(outputEl, {childList: true});\n",
       "}}\n",
       "\n",
       "                        })                };                });            </script>        </div>"
      ]
     },
     "metadata": {},
     "output_type": "display_data"
    }
   ],
   "source": [
    "fig = optuna.visualization.plot_optimization_history(study)\n",
    "fig.show()"
   ]
  },
  {
   "cell_type": "code",
   "execution_count": 32,
   "id": "97ed0202",
   "metadata": {},
   "outputs": [
    {
     "data": {
      "text/html": [
       "<div>                            <div id=\"8a249fd2-c376-4b3b-b2ed-347152b40cf7\" class=\"plotly-graph-div\" style=\"height:525px; width:100%;\"></div>            <script type=\"text/javascript\">                require([\"plotly\"], function(Plotly) {                    window.PLOTLYENV=window.PLOTLYENV || {};                                    if (document.getElementById(\"8a249fd2-c376-4b3b-b2ed-347152b40cf7\")) {                    Plotly.newPlot(                        \"8a249fd2-c376-4b3b-b2ed-347152b40cf7\",                        [{\"cliponaxis\":false,\"hovertemplate\":[\"max_depth (IntUniformDistribution): 1.0<extra></extra>\"],\"marker\":{\"color\":\"rgb(66,146,198)\"},\"orientation\":\"h\",\"text\":[\"1.0\"],\"textposition\":\"outside\",\"texttemplate\":\"%{text:.2f}\",\"x\":[1.0],\"y\":[\"max_depth\"],\"type\":\"bar\"}],                        {\"showlegend\":false,\"title\":{\"text\":\"Hyperparameter Importances\"},\"xaxis\":{\"title\":{\"text\":\"Importance for Objective Value\"}},\"yaxis\":{\"title\":{\"text\":\"Hyperparameter\"}},\"template\":{\"data\":{\"bar\":[{\"error_x\":{\"color\":\"#2a3f5f\"},\"error_y\":{\"color\":\"#2a3f5f\"},\"marker\":{\"line\":{\"color\":\"#E5ECF6\",\"width\":0.5},\"pattern\":{\"fillmode\":\"overlay\",\"size\":10,\"solidity\":0.2}},\"type\":\"bar\"}],\"barpolar\":[{\"marker\":{\"line\":{\"color\":\"#E5ECF6\",\"width\":0.5},\"pattern\":{\"fillmode\":\"overlay\",\"size\":10,\"solidity\":0.2}},\"type\":\"barpolar\"}],\"carpet\":[{\"aaxis\":{\"endlinecolor\":\"#2a3f5f\",\"gridcolor\":\"white\",\"linecolor\":\"white\",\"minorgridcolor\":\"white\",\"startlinecolor\":\"#2a3f5f\"},\"baxis\":{\"endlinecolor\":\"#2a3f5f\",\"gridcolor\":\"white\",\"linecolor\":\"white\",\"minorgridcolor\":\"white\",\"startlinecolor\":\"#2a3f5f\"},\"type\":\"carpet\"}],\"choropleth\":[{\"colorbar\":{\"outlinewidth\":0,\"ticks\":\"\"},\"type\":\"choropleth\"}],\"contour\":[{\"colorbar\":{\"outlinewidth\":0,\"ticks\":\"\"},\"colorscale\":[[0.0,\"#0d0887\"],[0.1111111111111111,\"#46039f\"],[0.2222222222222222,\"#7201a8\"],[0.3333333333333333,\"#9c179e\"],[0.4444444444444444,\"#bd3786\"],[0.5555555555555556,\"#d8576b\"],[0.6666666666666666,\"#ed7953\"],[0.7777777777777778,\"#fb9f3a\"],[0.8888888888888888,\"#fdca26\"],[1.0,\"#f0f921\"]],\"type\":\"contour\"}],\"contourcarpet\":[{\"colorbar\":{\"outlinewidth\":0,\"ticks\":\"\"},\"type\":\"contourcarpet\"}],\"heatmap\":[{\"colorbar\":{\"outlinewidth\":0,\"ticks\":\"\"},\"colorscale\":[[0.0,\"#0d0887\"],[0.1111111111111111,\"#46039f\"],[0.2222222222222222,\"#7201a8\"],[0.3333333333333333,\"#9c179e\"],[0.4444444444444444,\"#bd3786\"],[0.5555555555555556,\"#d8576b\"],[0.6666666666666666,\"#ed7953\"],[0.7777777777777778,\"#fb9f3a\"],[0.8888888888888888,\"#fdca26\"],[1.0,\"#f0f921\"]],\"type\":\"heatmap\"}],\"heatmapgl\":[{\"colorbar\":{\"outlinewidth\":0,\"ticks\":\"\"},\"colorscale\":[[0.0,\"#0d0887\"],[0.1111111111111111,\"#46039f\"],[0.2222222222222222,\"#7201a8\"],[0.3333333333333333,\"#9c179e\"],[0.4444444444444444,\"#bd3786\"],[0.5555555555555556,\"#d8576b\"],[0.6666666666666666,\"#ed7953\"],[0.7777777777777778,\"#fb9f3a\"],[0.8888888888888888,\"#fdca26\"],[1.0,\"#f0f921\"]],\"type\":\"heatmapgl\"}],\"histogram\":[{\"marker\":{\"pattern\":{\"fillmode\":\"overlay\",\"size\":10,\"solidity\":0.2}},\"type\":\"histogram\"}],\"histogram2d\":[{\"colorbar\":{\"outlinewidth\":0,\"ticks\":\"\"},\"colorscale\":[[0.0,\"#0d0887\"],[0.1111111111111111,\"#46039f\"],[0.2222222222222222,\"#7201a8\"],[0.3333333333333333,\"#9c179e\"],[0.4444444444444444,\"#bd3786\"],[0.5555555555555556,\"#d8576b\"],[0.6666666666666666,\"#ed7953\"],[0.7777777777777778,\"#fb9f3a\"],[0.8888888888888888,\"#fdca26\"],[1.0,\"#f0f921\"]],\"type\":\"histogram2d\"}],\"histogram2dcontour\":[{\"colorbar\":{\"outlinewidth\":0,\"ticks\":\"\"},\"colorscale\":[[0.0,\"#0d0887\"],[0.1111111111111111,\"#46039f\"],[0.2222222222222222,\"#7201a8\"],[0.3333333333333333,\"#9c179e\"],[0.4444444444444444,\"#bd3786\"],[0.5555555555555556,\"#d8576b\"],[0.6666666666666666,\"#ed7953\"],[0.7777777777777778,\"#fb9f3a\"],[0.8888888888888888,\"#fdca26\"],[1.0,\"#f0f921\"]],\"type\":\"histogram2dcontour\"}],\"mesh3d\":[{\"colorbar\":{\"outlinewidth\":0,\"ticks\":\"\"},\"type\":\"mesh3d\"}],\"parcoords\":[{\"line\":{\"colorbar\":{\"outlinewidth\":0,\"ticks\":\"\"}},\"type\":\"parcoords\"}],\"pie\":[{\"automargin\":true,\"type\":\"pie\"}],\"scatter\":[{\"marker\":{\"colorbar\":{\"outlinewidth\":0,\"ticks\":\"\"}},\"type\":\"scatter\"}],\"scatter3d\":[{\"line\":{\"colorbar\":{\"outlinewidth\":0,\"ticks\":\"\"}},\"marker\":{\"colorbar\":{\"outlinewidth\":0,\"ticks\":\"\"}},\"type\":\"scatter3d\"}],\"scattercarpet\":[{\"marker\":{\"colorbar\":{\"outlinewidth\":0,\"ticks\":\"\"}},\"type\":\"scattercarpet\"}],\"scattergeo\":[{\"marker\":{\"colorbar\":{\"outlinewidth\":0,\"ticks\":\"\"}},\"type\":\"scattergeo\"}],\"scattergl\":[{\"marker\":{\"colorbar\":{\"outlinewidth\":0,\"ticks\":\"\"}},\"type\":\"scattergl\"}],\"scattermapbox\":[{\"marker\":{\"colorbar\":{\"outlinewidth\":0,\"ticks\":\"\"}},\"type\":\"scattermapbox\"}],\"scatterpolar\":[{\"marker\":{\"colorbar\":{\"outlinewidth\":0,\"ticks\":\"\"}},\"type\":\"scatterpolar\"}],\"scatterpolargl\":[{\"marker\":{\"colorbar\":{\"outlinewidth\":0,\"ticks\":\"\"}},\"type\":\"scatterpolargl\"}],\"scatterternary\":[{\"marker\":{\"colorbar\":{\"outlinewidth\":0,\"ticks\":\"\"}},\"type\":\"scatterternary\"}],\"surface\":[{\"colorbar\":{\"outlinewidth\":0,\"ticks\":\"\"},\"colorscale\":[[0.0,\"#0d0887\"],[0.1111111111111111,\"#46039f\"],[0.2222222222222222,\"#7201a8\"],[0.3333333333333333,\"#9c179e\"],[0.4444444444444444,\"#bd3786\"],[0.5555555555555556,\"#d8576b\"],[0.6666666666666666,\"#ed7953\"],[0.7777777777777778,\"#fb9f3a\"],[0.8888888888888888,\"#fdca26\"],[1.0,\"#f0f921\"]],\"type\":\"surface\"}],\"table\":[{\"cells\":{\"fill\":{\"color\":\"#EBF0F8\"},\"line\":{\"color\":\"white\"}},\"header\":{\"fill\":{\"color\":\"#C8D4E3\"},\"line\":{\"color\":\"white\"}},\"type\":\"table\"}]},\"layout\":{\"annotationdefaults\":{\"arrowcolor\":\"#2a3f5f\",\"arrowhead\":0,\"arrowwidth\":1},\"autotypenumbers\":\"strict\",\"coloraxis\":{\"colorbar\":{\"outlinewidth\":0,\"ticks\":\"\"}},\"colorscale\":{\"diverging\":[[0,\"#8e0152\"],[0.1,\"#c51b7d\"],[0.2,\"#de77ae\"],[0.3,\"#f1b6da\"],[0.4,\"#fde0ef\"],[0.5,\"#f7f7f7\"],[0.6,\"#e6f5d0\"],[0.7,\"#b8e186\"],[0.8,\"#7fbc41\"],[0.9,\"#4d9221\"],[1,\"#276419\"]],\"sequential\":[[0.0,\"#0d0887\"],[0.1111111111111111,\"#46039f\"],[0.2222222222222222,\"#7201a8\"],[0.3333333333333333,\"#9c179e\"],[0.4444444444444444,\"#bd3786\"],[0.5555555555555556,\"#d8576b\"],[0.6666666666666666,\"#ed7953\"],[0.7777777777777778,\"#fb9f3a\"],[0.8888888888888888,\"#fdca26\"],[1.0,\"#f0f921\"]],\"sequentialminus\":[[0.0,\"#0d0887\"],[0.1111111111111111,\"#46039f\"],[0.2222222222222222,\"#7201a8\"],[0.3333333333333333,\"#9c179e\"],[0.4444444444444444,\"#bd3786\"],[0.5555555555555556,\"#d8576b\"],[0.6666666666666666,\"#ed7953\"],[0.7777777777777778,\"#fb9f3a\"],[0.8888888888888888,\"#fdca26\"],[1.0,\"#f0f921\"]]},\"colorway\":[\"#636efa\",\"#EF553B\",\"#00cc96\",\"#ab63fa\",\"#FFA15A\",\"#19d3f3\",\"#FF6692\",\"#B6E880\",\"#FF97FF\",\"#FECB52\"],\"font\":{\"color\":\"#2a3f5f\"},\"geo\":{\"bgcolor\":\"white\",\"lakecolor\":\"white\",\"landcolor\":\"#E5ECF6\",\"showlakes\":true,\"showland\":true,\"subunitcolor\":\"white\"},\"hoverlabel\":{\"align\":\"left\"},\"hovermode\":\"closest\",\"mapbox\":{\"style\":\"light\"},\"paper_bgcolor\":\"white\",\"plot_bgcolor\":\"#E5ECF6\",\"polar\":{\"angularaxis\":{\"gridcolor\":\"white\",\"linecolor\":\"white\",\"ticks\":\"\"},\"bgcolor\":\"#E5ECF6\",\"radialaxis\":{\"gridcolor\":\"white\",\"linecolor\":\"white\",\"ticks\":\"\"}},\"scene\":{\"xaxis\":{\"backgroundcolor\":\"#E5ECF6\",\"gridcolor\":\"white\",\"gridwidth\":2,\"linecolor\":\"white\",\"showbackground\":true,\"ticks\":\"\",\"zerolinecolor\":\"white\"},\"yaxis\":{\"backgroundcolor\":\"#E5ECF6\",\"gridcolor\":\"white\",\"gridwidth\":2,\"linecolor\":\"white\",\"showbackground\":true,\"ticks\":\"\",\"zerolinecolor\":\"white\"},\"zaxis\":{\"backgroundcolor\":\"#E5ECF6\",\"gridcolor\":\"white\",\"gridwidth\":2,\"linecolor\":\"white\",\"showbackground\":true,\"ticks\":\"\",\"zerolinecolor\":\"white\"}},\"shapedefaults\":{\"line\":{\"color\":\"#2a3f5f\"}},\"ternary\":{\"aaxis\":{\"gridcolor\":\"white\",\"linecolor\":\"white\",\"ticks\":\"\"},\"baxis\":{\"gridcolor\":\"white\",\"linecolor\":\"white\",\"ticks\":\"\"},\"bgcolor\":\"#E5ECF6\",\"caxis\":{\"gridcolor\":\"white\",\"linecolor\":\"white\",\"ticks\":\"\"}},\"title\":{\"x\":0.05},\"xaxis\":{\"automargin\":true,\"gridcolor\":\"white\",\"linecolor\":\"white\",\"ticks\":\"\",\"title\":{\"standoff\":15},\"zerolinecolor\":\"white\",\"zerolinewidth\":2},\"yaxis\":{\"automargin\":true,\"gridcolor\":\"white\",\"linecolor\":\"white\",\"ticks\":\"\",\"title\":{\"standoff\":15},\"zerolinecolor\":\"white\",\"zerolinewidth\":2}}}},                        {\"responsive\": true}                    ).then(function(){\n",
       "                            \n",
       "var gd = document.getElementById('8a249fd2-c376-4b3b-b2ed-347152b40cf7');\n",
       "var x = new MutationObserver(function (mutations, observer) {{\n",
       "        var display = window.getComputedStyle(gd).display;\n",
       "        if (!display || display === 'none') {{\n",
       "            console.log([gd, 'removed!']);\n",
       "            Plotly.purge(gd);\n",
       "            observer.disconnect();\n",
       "        }}\n",
       "}});\n",
       "\n",
       "// Listen for the removal of the full notebook cells\n",
       "var notebookContainer = gd.closest('#notebook-container');\n",
       "if (notebookContainer) {{\n",
       "    x.observe(notebookContainer, {childList: true});\n",
       "}}\n",
       "\n",
       "// Listen for the clearing of the current output cell\n",
       "var outputEl = gd.closest('.output');\n",
       "if (outputEl) {{\n",
       "    x.observe(outputEl, {childList: true});\n",
       "}}\n",
       "\n",
       "                        })                };                });            </script>        </div>"
      ]
     },
     "metadata": {},
     "output_type": "display_data"
    }
   ],
   "source": [
    "optuna.visualization.plot_param_importances(study).show()"
   ]
  },
  {
   "cell_type": "code",
   "execution_count": 33,
   "id": "d97ed64a",
   "metadata": {},
   "outputs": [
    {
     "data": {
      "text/plain": [
       "{'max_depth': 4973, 'max_leaf_nodes': 4197, 'n_estimators': 439, 'n_jobs': 20}"
      ]
     },
     "execution_count": 33,
     "metadata": {},
     "output_type": "execute_result"
    }
   ],
   "source": [
    "study.best_params"
   ]
  },
  {
   "cell_type": "code",
   "execution_count": 34,
   "id": "7f9992c0",
   "metadata": {},
   "outputs": [
    {
     "name": "stderr",
     "output_type": "stream",
     "text": [
      "\u001b[32m[I 2022-06-14 20:00:46,692]\u001b[0m Trial 60 finished with value: 0.7192603023204411 and parameters: {'max_depth': 4042, 'max_leaf_nodes': 4306, 'n_estimators': 554, 'n_jobs': 21}. Best is trial 56 with value: 0.7288800801592215.\u001b[0m\n",
      "\u001b[32m[I 2022-06-14 20:01:10,151]\u001b[0m Trial 61 finished with value: 0.714372272082161 and parameters: {'max_depth': 4049, 'max_leaf_nodes': 4116, 'n_estimators': 638, 'n_jobs': 20}. Best is trial 56 with value: 0.7288800801592215.\u001b[0m\n",
      "\u001b[32m[I 2022-06-14 20:01:20,207]\u001b[0m Trial 62 finished with value: 0.7123484136383469 and parameters: {'max_depth': 4046, 'max_leaf_nodes': 4091, 'n_estimators': 363, 'n_jobs': 20}. Best is trial 56 with value: 0.7288800801592215.\u001b[0m\n",
      "\u001b[32m[I 2022-06-14 20:01:30,222]\u001b[0m Trial 63 finished with value: 0.7217815674854979 and parameters: {'max_depth': 4013, 'max_leaf_nodes': 4182, 'n_estimators': 305, 'n_jobs': 20}. Best is trial 56 with value: 0.7288800801592215.\u001b[0m\n",
      "\u001b[32m[I 2022-06-14 20:01:43,698]\u001b[0m Trial 64 finished with value: 0.7151008827425824 and parameters: {'max_depth': 4011, 'max_leaf_nodes': 4125, 'n_estimators': 487, 'n_jobs': 20}. Best is trial 56 with value: 0.7288800801592215.\u001b[0m\n",
      "\u001b[32m[I 2022-06-14 20:02:01,900]\u001b[0m Trial 65 finished with value: 0.7236871875564239 and parameters: {'max_depth': 4004, 'max_leaf_nodes': 4216, 'n_estimators': 607, 'n_jobs': 21}. Best is trial 56 with value: 0.7288800801592215.\u001b[0m\n",
      "\u001b[32m[I 2022-06-14 20:02:21,809]\u001b[0m Trial 66 finished with value: 0.7043193858764345 and parameters: {'max_depth': 4009, 'max_leaf_nodes': 4300, 'n_estimators': 595, 'n_jobs': 21}. Best is trial 56 with value: 0.7288800801592215.\u001b[0m\n",
      "\u001b[32m[I 2022-06-14 20:02:46,027]\u001b[0m Trial 67 finished with value: 0.7112279002205122 and parameters: {'max_depth': 4185, 'max_leaf_nodes': 4304, 'n_estimators': 705, 'n_jobs': 21}. Best is trial 56 with value: 0.7288800801592215.\u001b[0m\n",
      "\u001b[32m[I 2022-06-14 20:03:02,290]\u001b[0m Trial 68 finished with value: 0.7149049659304192 and parameters: {'max_depth': 4061, 'max_leaf_nodes': 4323, 'n_estimators': 524, 'n_jobs': 21}. Best is trial 56 with value: 0.7288800801592215.\u001b[0m\n",
      "\u001b[32m[I 2022-06-14 20:03:13,967]\u001b[0m Trial 69 finished with value: 0.7117335551708068 and parameters: {'max_depth': 4003, 'max_leaf_nodes': 4324, 'n_estimators': 404, 'n_jobs': 21}. Best is trial 56 with value: 0.7288800801592215.\u001b[0m\n",
      "\u001b[32m[I 2022-06-14 20:03:32,769]\u001b[0m Trial 70 finished with value: 0.7247251379506452 and parameters: {'max_depth': 4026, 'max_leaf_nodes': 4309, 'n_estimators': 677, 'n_jobs': 21}. Best is trial 56 with value: 0.7288800801592215.\u001b[0m\n",
      "\u001b[32m[I 2022-06-14 20:03:51,574]\u001b[0m Trial 71 finished with value: 0.7149549290840522 and parameters: {'max_depth': 4007, 'max_leaf_nodes': 4259, 'n_estimators': 751, 'n_jobs': 21}. Best is trial 56 with value: 0.7288800801592215.\u001b[0m\n",
      "\u001b[32m[I 2022-06-14 20:04:08,655]\u001b[0m Trial 72 finished with value: 0.7253202943970936 and parameters: {'max_depth': 4055, 'max_leaf_nodes': 4272, 'n_estimators': 636, 'n_jobs': 21}. Best is trial 56 with value: 0.7288800801592215.\u001b[0m\n",
      "\u001b[32m[I 2022-06-14 20:04:25,551]\u001b[0m Trial 73 finished with value: 0.7121216598998867 and parameters: {'max_depth': 4028, 'max_leaf_nodes': 4360, 'n_estimators': 673, 'n_jobs': 21}. Best is trial 56 with value: 0.7288800801592215.\u001b[0m\n",
      "\u001b[32m[I 2022-06-14 20:04:42,255]\u001b[0m Trial 74 finished with value: 0.7185014055990898 and parameters: {'max_depth': 4088, 'max_leaf_nodes': 4292, 'n_estimators': 657, 'n_jobs': 21}. Best is trial 56 with value: 0.7288800801592215.\u001b[0m\n",
      "\u001b[32m[I 2022-06-14 20:05:01,120]\u001b[0m Trial 75 finished with value: 0.7135337393671943 and parameters: {'max_depth': 4054, 'max_leaf_nodes': 4347, 'n_estimators': 779, 'n_jobs': 21}. Best is trial 56 with value: 0.7288800801592215.\u001b[0m\n",
      "\u001b[32m[I 2022-06-14 20:05:15,252]\u001b[0m Trial 76 finished with value: 0.7153316941543263 and parameters: {'max_depth': 4043, 'max_leaf_nodes': 4408, 'n_estimators': 525, 'n_jobs': 20}. Best is trial 56 with value: 0.7288800801592215.\u001b[0m\n",
      "\u001b[32m[I 2022-06-14 20:05:32,096]\u001b[0m Trial 77 finished with value: 0.7124973882406007 and parameters: {'max_depth': 4089, 'max_leaf_nodes': 4301, 'n_estimators': 629, 'n_jobs': 20}. Best is trial 56 with value: 0.7288800801592215.\u001b[0m\n",
      "\u001b[32m[I 2022-06-14 20:05:38,542]\u001b[0m Trial 78 finished with value: 0.7121269183598682 and parameters: {'max_depth': 4052, 'max_leaf_nodes': 4250, 'n_estimators': 186, 'n_jobs': 20}. Best is trial 56 with value: 0.7288800801592215.\u001b[0m\n",
      "\u001b[32m[I 2022-06-14 20:05:55,966]\u001b[0m Trial 79 finished with value: 0.7050875509689266 and parameters: {'max_depth': 4014, 'max_leaf_nodes': 4188, 'n_estimators': 701, 'n_jobs': 20}. Best is trial 56 with value: 0.7288800801592215.\u001b[0m\n"
     ]
    }
   ],
   "source": [
    "# fix the less relevant parameter to continue the optimization\n",
    "def objective(trial):\n",
    "    X_train, X_test, y_train, y_test = train_test_split(X, y, random_state=1)\n",
    "    \n",
    "    max_depth = trial.suggest_int('max_depth', 4000, 8000)   \n",
    "    max_leaf_nodes = trial.suggest_int('max_leaf_nodes', 4000, 10000)\n",
    "    n_estimators =  trial.suggest_int('n_estimators', 100, 1000)\n",
    "    n_jobs =  trial.suggest_int('n_jobs', 20, 25)\n",
    "    \n",
    "    rf_cl = RandomForestClassifier(bootstrap = 'False', \n",
    "                                   max_depth = max_depth, \n",
    "                                   max_features = 'auto',\n",
    "                                   max_leaf_nodes = max_leaf_nodes,\n",
    "                                   n_estimators = n_estimators,\n",
    "                                   n_jobs = n_jobs\n",
    "                                  )\n",
    "    \n",
    "    rf_cl.fit(X_train, y_train)\n",
    "    y_pred = rf_cl.predict(X_test)\n",
    "    \n",
    "    score = cross_val_score(rf_cl, X_test, y_test, cv=5, scoring=\"f1_macro\")\n",
    "    f1_mean = score.mean()\n",
    "\n",
    "    return f1_mean\n",
    "\n",
    "\n",
    "study.optimize(objective, n_trials=20)"
   ]
  },
  {
   "cell_type": "code",
   "execution_count": 35,
   "id": "fd232d75",
   "metadata": {},
   "outputs": [
    {
     "data": {
      "text/html": [
       "<div>                            <div id=\"b944d094-8d03-4b30-8125-005ae3730ffc\" class=\"plotly-graph-div\" style=\"height:525px; width:100%;\"></div>            <script type=\"text/javascript\">                require([\"plotly\"], function(Plotly) {                    window.PLOTLYENV=window.PLOTLYENV || {};                                    if (document.getElementById(\"b944d094-8d03-4b30-8125-005ae3730ffc\")) {                    Plotly.newPlot(                        \"b944d094-8d03-4b30-8125-005ae3730ffc\",                        [{\"mode\":\"markers\",\"name\":\"Objective Value\",\"x\":[0,1,2,3,4,5,6,7,8,9,10,11,12,13,14,15,16,17,18,19,20,21,22,23,24,25,26,27,28,29,30,31,32,33,34,35,36,37,38,39,40,41,42,43,44,45,46,47,48,49,50,51,52,53,54,55,56,57,58,59,60,61,62,63,64,65,66,67,68,69,70,71,72,73,74,75,76,77,78,79],\"y\":[0.7199957808974002,0.7169085773663529,0.7194050923748266,0.7180946468265417,0.7200267378075921,0.7110648724971199,0.708765412774993,0.7164793408804547,0.7167900885063859,0.7135559124375954,0.7210648135957081,0.7129614007415082,0.711358990042143,0.7188626871509864,0.707206755392779,0.7090347149245192,0.7144383926477748,0.7156834981700875,0.7022260699962333,0.7199770916532003,0.7069452278895854,0.7131391841978006,0.705256637995048,0.7228609674098099,0.7229900444069913,0.710429179499692,0.7039134008979138,0.7164815931149076,0.7243025361521396,0.7086381755408299,0.7245342823520504,0.7032279538409087,0.7141742426317952,0.7221846772570212,0.7178529010198786,0.7126251591896535,0.7040453723915746,0.709503950952598,0.7058328946636678,0.6810190497111485,0.7133750944305781,0.7269133011802549,0.715186472358449,0.7093909976228052,0.7000309887842627,0.7145904457949909,0.7167401769915711,0.7177473719852869,0.71745327709328,0.710092463674929,0.7205128356245009,0.7163072569010837,0.7218541861426884,0.727049635168042,0.709398927748838,0.7275592952689727,0.7288800801592215,0.7179024983613325,0.7113970964779978,0.7182173057336892,0.7192603023204411,0.714372272082161,0.7123484136383469,0.7217815674854979,0.7151008827425824,0.7236871875564239,0.7043193858764345,0.7112279002205122,0.7149049659304192,0.7117335551708068,0.7247251379506452,0.7149549290840522,0.7253202943970936,0.7121216598998867,0.7185014055990898,0.7135337393671943,0.7153316941543263,0.7124973882406007,0.7121269183598682,0.7050875509689266],\"type\":\"scatter\"},{\"name\":\"Best Value\",\"x\":[0,1,2,3,4,5,6,7,8,9,10,11,12,13,14,15,16,17,18,19,20,21,22,23,24,25,26,27,28,29,30,31,32,33,34,35,36,37,38,39,40,41,42,43,44,45,46,47,48,49,50,51,52,53,54,55,56,57,58,59,60,61,62,63,64,65,66,67,68,69,70,71,72,73,74,75,76,77,78,79],\"y\":[0.7199957808974002,0.7199957808974002,0.7199957808974002,0.7199957808974002,0.7200267378075921,0.7200267378075921,0.7200267378075921,0.7200267378075921,0.7200267378075921,0.7200267378075921,0.7210648135957081,0.7210648135957081,0.7210648135957081,0.7210648135957081,0.7210648135957081,0.7210648135957081,0.7210648135957081,0.7210648135957081,0.7210648135957081,0.7210648135957081,0.7210648135957081,0.7210648135957081,0.7210648135957081,0.7228609674098099,0.7229900444069913,0.7229900444069913,0.7229900444069913,0.7229900444069913,0.7243025361521396,0.7243025361521396,0.7245342823520504,0.7245342823520504,0.7245342823520504,0.7245342823520504,0.7245342823520504,0.7245342823520504,0.7245342823520504,0.7245342823520504,0.7245342823520504,0.7245342823520504,0.7245342823520504,0.7269133011802549,0.7269133011802549,0.7269133011802549,0.7269133011802549,0.7269133011802549,0.7269133011802549,0.7269133011802549,0.7269133011802549,0.7269133011802549,0.7269133011802549,0.7269133011802549,0.7269133011802549,0.727049635168042,0.727049635168042,0.7275592952689727,0.7288800801592215,0.7288800801592215,0.7288800801592215,0.7288800801592215,0.7288800801592215,0.7288800801592215,0.7288800801592215,0.7288800801592215,0.7288800801592215,0.7288800801592215,0.7288800801592215,0.7288800801592215,0.7288800801592215,0.7288800801592215,0.7288800801592215,0.7288800801592215,0.7288800801592215,0.7288800801592215,0.7288800801592215,0.7288800801592215,0.7288800801592215,0.7288800801592215,0.7288800801592215,0.7288800801592215],\"type\":\"scatter\"}],                        {\"title\":{\"text\":\"Optimization History Plot\"},\"xaxis\":{\"title\":{\"text\":\"#Trials\"}},\"yaxis\":{\"title\":{\"text\":\"Objective Value\"}},\"template\":{\"data\":{\"bar\":[{\"error_x\":{\"color\":\"#2a3f5f\"},\"error_y\":{\"color\":\"#2a3f5f\"},\"marker\":{\"line\":{\"color\":\"#E5ECF6\",\"width\":0.5},\"pattern\":{\"fillmode\":\"overlay\",\"size\":10,\"solidity\":0.2}},\"type\":\"bar\"}],\"barpolar\":[{\"marker\":{\"line\":{\"color\":\"#E5ECF6\",\"width\":0.5},\"pattern\":{\"fillmode\":\"overlay\",\"size\":10,\"solidity\":0.2}},\"type\":\"barpolar\"}],\"carpet\":[{\"aaxis\":{\"endlinecolor\":\"#2a3f5f\",\"gridcolor\":\"white\",\"linecolor\":\"white\",\"minorgridcolor\":\"white\",\"startlinecolor\":\"#2a3f5f\"},\"baxis\":{\"endlinecolor\":\"#2a3f5f\",\"gridcolor\":\"white\",\"linecolor\":\"white\",\"minorgridcolor\":\"white\",\"startlinecolor\":\"#2a3f5f\"},\"type\":\"carpet\"}],\"choropleth\":[{\"colorbar\":{\"outlinewidth\":0,\"ticks\":\"\"},\"type\":\"choropleth\"}],\"contour\":[{\"colorbar\":{\"outlinewidth\":0,\"ticks\":\"\"},\"colorscale\":[[0.0,\"#0d0887\"],[0.1111111111111111,\"#46039f\"],[0.2222222222222222,\"#7201a8\"],[0.3333333333333333,\"#9c179e\"],[0.4444444444444444,\"#bd3786\"],[0.5555555555555556,\"#d8576b\"],[0.6666666666666666,\"#ed7953\"],[0.7777777777777778,\"#fb9f3a\"],[0.8888888888888888,\"#fdca26\"],[1.0,\"#f0f921\"]],\"type\":\"contour\"}],\"contourcarpet\":[{\"colorbar\":{\"outlinewidth\":0,\"ticks\":\"\"},\"type\":\"contourcarpet\"}],\"heatmap\":[{\"colorbar\":{\"outlinewidth\":0,\"ticks\":\"\"},\"colorscale\":[[0.0,\"#0d0887\"],[0.1111111111111111,\"#46039f\"],[0.2222222222222222,\"#7201a8\"],[0.3333333333333333,\"#9c179e\"],[0.4444444444444444,\"#bd3786\"],[0.5555555555555556,\"#d8576b\"],[0.6666666666666666,\"#ed7953\"],[0.7777777777777778,\"#fb9f3a\"],[0.8888888888888888,\"#fdca26\"],[1.0,\"#f0f921\"]],\"type\":\"heatmap\"}],\"heatmapgl\":[{\"colorbar\":{\"outlinewidth\":0,\"ticks\":\"\"},\"colorscale\":[[0.0,\"#0d0887\"],[0.1111111111111111,\"#46039f\"],[0.2222222222222222,\"#7201a8\"],[0.3333333333333333,\"#9c179e\"],[0.4444444444444444,\"#bd3786\"],[0.5555555555555556,\"#d8576b\"],[0.6666666666666666,\"#ed7953\"],[0.7777777777777778,\"#fb9f3a\"],[0.8888888888888888,\"#fdca26\"],[1.0,\"#f0f921\"]],\"type\":\"heatmapgl\"}],\"histogram\":[{\"marker\":{\"pattern\":{\"fillmode\":\"overlay\",\"size\":10,\"solidity\":0.2}},\"type\":\"histogram\"}],\"histogram2d\":[{\"colorbar\":{\"outlinewidth\":0,\"ticks\":\"\"},\"colorscale\":[[0.0,\"#0d0887\"],[0.1111111111111111,\"#46039f\"],[0.2222222222222222,\"#7201a8\"],[0.3333333333333333,\"#9c179e\"],[0.4444444444444444,\"#bd3786\"],[0.5555555555555556,\"#d8576b\"],[0.6666666666666666,\"#ed7953\"],[0.7777777777777778,\"#fb9f3a\"],[0.8888888888888888,\"#fdca26\"],[1.0,\"#f0f921\"]],\"type\":\"histogram2d\"}],\"histogram2dcontour\":[{\"colorbar\":{\"outlinewidth\":0,\"ticks\":\"\"},\"colorscale\":[[0.0,\"#0d0887\"],[0.1111111111111111,\"#46039f\"],[0.2222222222222222,\"#7201a8\"],[0.3333333333333333,\"#9c179e\"],[0.4444444444444444,\"#bd3786\"],[0.5555555555555556,\"#d8576b\"],[0.6666666666666666,\"#ed7953\"],[0.7777777777777778,\"#fb9f3a\"],[0.8888888888888888,\"#fdca26\"],[1.0,\"#f0f921\"]],\"type\":\"histogram2dcontour\"}],\"mesh3d\":[{\"colorbar\":{\"outlinewidth\":0,\"ticks\":\"\"},\"type\":\"mesh3d\"}],\"parcoords\":[{\"line\":{\"colorbar\":{\"outlinewidth\":0,\"ticks\":\"\"}},\"type\":\"parcoords\"}],\"pie\":[{\"automargin\":true,\"type\":\"pie\"}],\"scatter\":[{\"marker\":{\"colorbar\":{\"outlinewidth\":0,\"ticks\":\"\"}},\"type\":\"scatter\"}],\"scatter3d\":[{\"line\":{\"colorbar\":{\"outlinewidth\":0,\"ticks\":\"\"}},\"marker\":{\"colorbar\":{\"outlinewidth\":0,\"ticks\":\"\"}},\"type\":\"scatter3d\"}],\"scattercarpet\":[{\"marker\":{\"colorbar\":{\"outlinewidth\":0,\"ticks\":\"\"}},\"type\":\"scattercarpet\"}],\"scattergeo\":[{\"marker\":{\"colorbar\":{\"outlinewidth\":0,\"ticks\":\"\"}},\"type\":\"scattergeo\"}],\"scattergl\":[{\"marker\":{\"colorbar\":{\"outlinewidth\":0,\"ticks\":\"\"}},\"type\":\"scattergl\"}],\"scattermapbox\":[{\"marker\":{\"colorbar\":{\"outlinewidth\":0,\"ticks\":\"\"}},\"type\":\"scattermapbox\"}],\"scatterpolar\":[{\"marker\":{\"colorbar\":{\"outlinewidth\":0,\"ticks\":\"\"}},\"type\":\"scatterpolar\"}],\"scatterpolargl\":[{\"marker\":{\"colorbar\":{\"outlinewidth\":0,\"ticks\":\"\"}},\"type\":\"scatterpolargl\"}],\"scatterternary\":[{\"marker\":{\"colorbar\":{\"outlinewidth\":0,\"ticks\":\"\"}},\"type\":\"scatterternary\"}],\"surface\":[{\"colorbar\":{\"outlinewidth\":0,\"ticks\":\"\"},\"colorscale\":[[0.0,\"#0d0887\"],[0.1111111111111111,\"#46039f\"],[0.2222222222222222,\"#7201a8\"],[0.3333333333333333,\"#9c179e\"],[0.4444444444444444,\"#bd3786\"],[0.5555555555555556,\"#d8576b\"],[0.6666666666666666,\"#ed7953\"],[0.7777777777777778,\"#fb9f3a\"],[0.8888888888888888,\"#fdca26\"],[1.0,\"#f0f921\"]],\"type\":\"surface\"}],\"table\":[{\"cells\":{\"fill\":{\"color\":\"#EBF0F8\"},\"line\":{\"color\":\"white\"}},\"header\":{\"fill\":{\"color\":\"#C8D4E3\"},\"line\":{\"color\":\"white\"}},\"type\":\"table\"}]},\"layout\":{\"annotationdefaults\":{\"arrowcolor\":\"#2a3f5f\",\"arrowhead\":0,\"arrowwidth\":1},\"autotypenumbers\":\"strict\",\"coloraxis\":{\"colorbar\":{\"outlinewidth\":0,\"ticks\":\"\"}},\"colorscale\":{\"diverging\":[[0,\"#8e0152\"],[0.1,\"#c51b7d\"],[0.2,\"#de77ae\"],[0.3,\"#f1b6da\"],[0.4,\"#fde0ef\"],[0.5,\"#f7f7f7\"],[0.6,\"#e6f5d0\"],[0.7,\"#b8e186\"],[0.8,\"#7fbc41\"],[0.9,\"#4d9221\"],[1,\"#276419\"]],\"sequential\":[[0.0,\"#0d0887\"],[0.1111111111111111,\"#46039f\"],[0.2222222222222222,\"#7201a8\"],[0.3333333333333333,\"#9c179e\"],[0.4444444444444444,\"#bd3786\"],[0.5555555555555556,\"#d8576b\"],[0.6666666666666666,\"#ed7953\"],[0.7777777777777778,\"#fb9f3a\"],[0.8888888888888888,\"#fdca26\"],[1.0,\"#f0f921\"]],\"sequentialminus\":[[0.0,\"#0d0887\"],[0.1111111111111111,\"#46039f\"],[0.2222222222222222,\"#7201a8\"],[0.3333333333333333,\"#9c179e\"],[0.4444444444444444,\"#bd3786\"],[0.5555555555555556,\"#d8576b\"],[0.6666666666666666,\"#ed7953\"],[0.7777777777777778,\"#fb9f3a\"],[0.8888888888888888,\"#fdca26\"],[1.0,\"#f0f921\"]]},\"colorway\":[\"#636efa\",\"#EF553B\",\"#00cc96\",\"#ab63fa\",\"#FFA15A\",\"#19d3f3\",\"#FF6692\",\"#B6E880\",\"#FF97FF\",\"#FECB52\"],\"font\":{\"color\":\"#2a3f5f\"},\"geo\":{\"bgcolor\":\"white\",\"lakecolor\":\"white\",\"landcolor\":\"#E5ECF6\",\"showlakes\":true,\"showland\":true,\"subunitcolor\":\"white\"},\"hoverlabel\":{\"align\":\"left\"},\"hovermode\":\"closest\",\"mapbox\":{\"style\":\"light\"},\"paper_bgcolor\":\"white\",\"plot_bgcolor\":\"#E5ECF6\",\"polar\":{\"angularaxis\":{\"gridcolor\":\"white\",\"linecolor\":\"white\",\"ticks\":\"\"},\"bgcolor\":\"#E5ECF6\",\"radialaxis\":{\"gridcolor\":\"white\",\"linecolor\":\"white\",\"ticks\":\"\"}},\"scene\":{\"xaxis\":{\"backgroundcolor\":\"#E5ECF6\",\"gridcolor\":\"white\",\"gridwidth\":2,\"linecolor\":\"white\",\"showbackground\":true,\"ticks\":\"\",\"zerolinecolor\":\"white\"},\"yaxis\":{\"backgroundcolor\":\"#E5ECF6\",\"gridcolor\":\"white\",\"gridwidth\":2,\"linecolor\":\"white\",\"showbackground\":true,\"ticks\":\"\",\"zerolinecolor\":\"white\"},\"zaxis\":{\"backgroundcolor\":\"#E5ECF6\",\"gridcolor\":\"white\",\"gridwidth\":2,\"linecolor\":\"white\",\"showbackground\":true,\"ticks\":\"\",\"zerolinecolor\":\"white\"}},\"shapedefaults\":{\"line\":{\"color\":\"#2a3f5f\"}},\"ternary\":{\"aaxis\":{\"gridcolor\":\"white\",\"linecolor\":\"white\",\"ticks\":\"\"},\"baxis\":{\"gridcolor\":\"white\",\"linecolor\":\"white\",\"ticks\":\"\"},\"bgcolor\":\"#E5ECF6\",\"caxis\":{\"gridcolor\":\"white\",\"linecolor\":\"white\",\"ticks\":\"\"}},\"title\":{\"x\":0.05},\"xaxis\":{\"automargin\":true,\"gridcolor\":\"white\",\"linecolor\":\"white\",\"ticks\":\"\",\"title\":{\"standoff\":15},\"zerolinecolor\":\"white\",\"zerolinewidth\":2},\"yaxis\":{\"automargin\":true,\"gridcolor\":\"white\",\"linecolor\":\"white\",\"ticks\":\"\",\"title\":{\"standoff\":15},\"zerolinecolor\":\"white\",\"zerolinewidth\":2}}}},                        {\"responsive\": true}                    ).then(function(){\n",
       "                            \n",
       "var gd = document.getElementById('b944d094-8d03-4b30-8125-005ae3730ffc');\n",
       "var x = new MutationObserver(function (mutations, observer) {{\n",
       "        var display = window.getComputedStyle(gd).display;\n",
       "        if (!display || display === 'none') {{\n",
       "            console.log([gd, 'removed!']);\n",
       "            Plotly.purge(gd);\n",
       "            observer.disconnect();\n",
       "        }}\n",
       "}});\n",
       "\n",
       "// Listen for the removal of the full notebook cells\n",
       "var notebookContainer = gd.closest('#notebook-container');\n",
       "if (notebookContainer) {{\n",
       "    x.observe(notebookContainer, {childList: true});\n",
       "}}\n",
       "\n",
       "// Listen for the clearing of the current output cell\n",
       "var outputEl = gd.closest('.output');\n",
       "if (outputEl) {{\n",
       "    x.observe(outputEl, {childList: true});\n",
       "}}\n",
       "\n",
       "                        })                };                });            </script>        </div>"
      ]
     },
     "metadata": {},
     "output_type": "display_data"
    }
   ],
   "source": [
    "fig = optuna.visualization.plot_optimization_history(study)\n",
    "fig.show()"
   ]
  },
  {
   "cell_type": "code",
   "execution_count": 36,
   "metadata": {},
   "outputs": [
    {
     "data": {
      "text/html": [
       "<div>                            <div id=\"6151705e-479f-4009-9c28-a661c207347f\" class=\"plotly-graph-div\" style=\"height:525px; width:100%;\"></div>            <script type=\"text/javascript\">                require([\"plotly\"], function(Plotly) {                    window.PLOTLYENV=window.PLOTLYENV || {};                                    if (document.getElementById(\"6151705e-479f-4009-9c28-a661c207347f\")) {                    Plotly.newPlot(                        \"6151705e-479f-4009-9c28-a661c207347f\",                        [{\"cliponaxis\":false,\"hovertemplate\":[],\"marker\":{\"color\":\"rgb(66,146,198)\"},\"orientation\":\"h\",\"text\":[],\"textposition\":\"outside\",\"texttemplate\":\"%{text:.2f}\",\"x\":[],\"y\":[],\"type\":\"bar\"}],                        {\"showlegend\":false,\"title\":{\"text\":\"Hyperparameter Importances\"},\"xaxis\":{\"title\":{\"text\":\"Importance for Objective Value\"}},\"yaxis\":{\"title\":{\"text\":\"Hyperparameter\"}},\"template\":{\"data\":{\"bar\":[{\"error_x\":{\"color\":\"#2a3f5f\"},\"error_y\":{\"color\":\"#2a3f5f\"},\"marker\":{\"line\":{\"color\":\"#E5ECF6\",\"width\":0.5},\"pattern\":{\"fillmode\":\"overlay\",\"size\":10,\"solidity\":0.2}},\"type\":\"bar\"}],\"barpolar\":[{\"marker\":{\"line\":{\"color\":\"#E5ECF6\",\"width\":0.5},\"pattern\":{\"fillmode\":\"overlay\",\"size\":10,\"solidity\":0.2}},\"type\":\"barpolar\"}],\"carpet\":[{\"aaxis\":{\"endlinecolor\":\"#2a3f5f\",\"gridcolor\":\"white\",\"linecolor\":\"white\",\"minorgridcolor\":\"white\",\"startlinecolor\":\"#2a3f5f\"},\"baxis\":{\"endlinecolor\":\"#2a3f5f\",\"gridcolor\":\"white\",\"linecolor\":\"white\",\"minorgridcolor\":\"white\",\"startlinecolor\":\"#2a3f5f\"},\"type\":\"carpet\"}],\"choropleth\":[{\"colorbar\":{\"outlinewidth\":0,\"ticks\":\"\"},\"type\":\"choropleth\"}],\"contour\":[{\"colorbar\":{\"outlinewidth\":0,\"ticks\":\"\"},\"colorscale\":[[0.0,\"#0d0887\"],[0.1111111111111111,\"#46039f\"],[0.2222222222222222,\"#7201a8\"],[0.3333333333333333,\"#9c179e\"],[0.4444444444444444,\"#bd3786\"],[0.5555555555555556,\"#d8576b\"],[0.6666666666666666,\"#ed7953\"],[0.7777777777777778,\"#fb9f3a\"],[0.8888888888888888,\"#fdca26\"],[1.0,\"#f0f921\"]],\"type\":\"contour\"}],\"contourcarpet\":[{\"colorbar\":{\"outlinewidth\":0,\"ticks\":\"\"},\"type\":\"contourcarpet\"}],\"heatmap\":[{\"colorbar\":{\"outlinewidth\":0,\"ticks\":\"\"},\"colorscale\":[[0.0,\"#0d0887\"],[0.1111111111111111,\"#46039f\"],[0.2222222222222222,\"#7201a8\"],[0.3333333333333333,\"#9c179e\"],[0.4444444444444444,\"#bd3786\"],[0.5555555555555556,\"#d8576b\"],[0.6666666666666666,\"#ed7953\"],[0.7777777777777778,\"#fb9f3a\"],[0.8888888888888888,\"#fdca26\"],[1.0,\"#f0f921\"]],\"type\":\"heatmap\"}],\"heatmapgl\":[{\"colorbar\":{\"outlinewidth\":0,\"ticks\":\"\"},\"colorscale\":[[0.0,\"#0d0887\"],[0.1111111111111111,\"#46039f\"],[0.2222222222222222,\"#7201a8\"],[0.3333333333333333,\"#9c179e\"],[0.4444444444444444,\"#bd3786\"],[0.5555555555555556,\"#d8576b\"],[0.6666666666666666,\"#ed7953\"],[0.7777777777777778,\"#fb9f3a\"],[0.8888888888888888,\"#fdca26\"],[1.0,\"#f0f921\"]],\"type\":\"heatmapgl\"}],\"histogram\":[{\"marker\":{\"pattern\":{\"fillmode\":\"overlay\",\"size\":10,\"solidity\":0.2}},\"type\":\"histogram\"}],\"histogram2d\":[{\"colorbar\":{\"outlinewidth\":0,\"ticks\":\"\"},\"colorscale\":[[0.0,\"#0d0887\"],[0.1111111111111111,\"#46039f\"],[0.2222222222222222,\"#7201a8\"],[0.3333333333333333,\"#9c179e\"],[0.4444444444444444,\"#bd3786\"],[0.5555555555555556,\"#d8576b\"],[0.6666666666666666,\"#ed7953\"],[0.7777777777777778,\"#fb9f3a\"],[0.8888888888888888,\"#fdca26\"],[1.0,\"#f0f921\"]],\"type\":\"histogram2d\"}],\"histogram2dcontour\":[{\"colorbar\":{\"outlinewidth\":0,\"ticks\":\"\"},\"colorscale\":[[0.0,\"#0d0887\"],[0.1111111111111111,\"#46039f\"],[0.2222222222222222,\"#7201a8\"],[0.3333333333333333,\"#9c179e\"],[0.4444444444444444,\"#bd3786\"],[0.5555555555555556,\"#d8576b\"],[0.6666666666666666,\"#ed7953\"],[0.7777777777777778,\"#fb9f3a\"],[0.8888888888888888,\"#fdca26\"],[1.0,\"#f0f921\"]],\"type\":\"histogram2dcontour\"}],\"mesh3d\":[{\"colorbar\":{\"outlinewidth\":0,\"ticks\":\"\"},\"type\":\"mesh3d\"}],\"parcoords\":[{\"line\":{\"colorbar\":{\"outlinewidth\":0,\"ticks\":\"\"}},\"type\":\"parcoords\"}],\"pie\":[{\"automargin\":true,\"type\":\"pie\"}],\"scatter\":[{\"marker\":{\"colorbar\":{\"outlinewidth\":0,\"ticks\":\"\"}},\"type\":\"scatter\"}],\"scatter3d\":[{\"line\":{\"colorbar\":{\"outlinewidth\":0,\"ticks\":\"\"}},\"marker\":{\"colorbar\":{\"outlinewidth\":0,\"ticks\":\"\"}},\"type\":\"scatter3d\"}],\"scattercarpet\":[{\"marker\":{\"colorbar\":{\"outlinewidth\":0,\"ticks\":\"\"}},\"type\":\"scattercarpet\"}],\"scattergeo\":[{\"marker\":{\"colorbar\":{\"outlinewidth\":0,\"ticks\":\"\"}},\"type\":\"scattergeo\"}],\"scattergl\":[{\"marker\":{\"colorbar\":{\"outlinewidth\":0,\"ticks\":\"\"}},\"type\":\"scattergl\"}],\"scattermapbox\":[{\"marker\":{\"colorbar\":{\"outlinewidth\":0,\"ticks\":\"\"}},\"type\":\"scattermapbox\"}],\"scatterpolar\":[{\"marker\":{\"colorbar\":{\"outlinewidth\":0,\"ticks\":\"\"}},\"type\":\"scatterpolar\"}],\"scatterpolargl\":[{\"marker\":{\"colorbar\":{\"outlinewidth\":0,\"ticks\":\"\"}},\"type\":\"scatterpolargl\"}],\"scatterternary\":[{\"marker\":{\"colorbar\":{\"outlinewidth\":0,\"ticks\":\"\"}},\"type\":\"scatterternary\"}],\"surface\":[{\"colorbar\":{\"outlinewidth\":0,\"ticks\":\"\"},\"colorscale\":[[0.0,\"#0d0887\"],[0.1111111111111111,\"#46039f\"],[0.2222222222222222,\"#7201a8\"],[0.3333333333333333,\"#9c179e\"],[0.4444444444444444,\"#bd3786\"],[0.5555555555555556,\"#d8576b\"],[0.6666666666666666,\"#ed7953\"],[0.7777777777777778,\"#fb9f3a\"],[0.8888888888888888,\"#fdca26\"],[1.0,\"#f0f921\"]],\"type\":\"surface\"}],\"table\":[{\"cells\":{\"fill\":{\"color\":\"#EBF0F8\"},\"line\":{\"color\":\"white\"}},\"header\":{\"fill\":{\"color\":\"#C8D4E3\"},\"line\":{\"color\":\"white\"}},\"type\":\"table\"}]},\"layout\":{\"annotationdefaults\":{\"arrowcolor\":\"#2a3f5f\",\"arrowhead\":0,\"arrowwidth\":1},\"autotypenumbers\":\"strict\",\"coloraxis\":{\"colorbar\":{\"outlinewidth\":0,\"ticks\":\"\"}},\"colorscale\":{\"diverging\":[[0,\"#8e0152\"],[0.1,\"#c51b7d\"],[0.2,\"#de77ae\"],[0.3,\"#f1b6da\"],[0.4,\"#fde0ef\"],[0.5,\"#f7f7f7\"],[0.6,\"#e6f5d0\"],[0.7,\"#b8e186\"],[0.8,\"#7fbc41\"],[0.9,\"#4d9221\"],[1,\"#276419\"]],\"sequential\":[[0.0,\"#0d0887\"],[0.1111111111111111,\"#46039f\"],[0.2222222222222222,\"#7201a8\"],[0.3333333333333333,\"#9c179e\"],[0.4444444444444444,\"#bd3786\"],[0.5555555555555556,\"#d8576b\"],[0.6666666666666666,\"#ed7953\"],[0.7777777777777778,\"#fb9f3a\"],[0.8888888888888888,\"#fdca26\"],[1.0,\"#f0f921\"]],\"sequentialminus\":[[0.0,\"#0d0887\"],[0.1111111111111111,\"#46039f\"],[0.2222222222222222,\"#7201a8\"],[0.3333333333333333,\"#9c179e\"],[0.4444444444444444,\"#bd3786\"],[0.5555555555555556,\"#d8576b\"],[0.6666666666666666,\"#ed7953\"],[0.7777777777777778,\"#fb9f3a\"],[0.8888888888888888,\"#fdca26\"],[1.0,\"#f0f921\"]]},\"colorway\":[\"#636efa\",\"#EF553B\",\"#00cc96\",\"#ab63fa\",\"#FFA15A\",\"#19d3f3\",\"#FF6692\",\"#B6E880\",\"#FF97FF\",\"#FECB52\"],\"font\":{\"color\":\"#2a3f5f\"},\"geo\":{\"bgcolor\":\"white\",\"lakecolor\":\"white\",\"landcolor\":\"#E5ECF6\",\"showlakes\":true,\"showland\":true,\"subunitcolor\":\"white\"},\"hoverlabel\":{\"align\":\"left\"},\"hovermode\":\"closest\",\"mapbox\":{\"style\":\"light\"},\"paper_bgcolor\":\"white\",\"plot_bgcolor\":\"#E5ECF6\",\"polar\":{\"angularaxis\":{\"gridcolor\":\"white\",\"linecolor\":\"white\",\"ticks\":\"\"},\"bgcolor\":\"#E5ECF6\",\"radialaxis\":{\"gridcolor\":\"white\",\"linecolor\":\"white\",\"ticks\":\"\"}},\"scene\":{\"xaxis\":{\"backgroundcolor\":\"#E5ECF6\",\"gridcolor\":\"white\",\"gridwidth\":2,\"linecolor\":\"white\",\"showbackground\":true,\"ticks\":\"\",\"zerolinecolor\":\"white\"},\"yaxis\":{\"backgroundcolor\":\"#E5ECF6\",\"gridcolor\":\"white\",\"gridwidth\":2,\"linecolor\":\"white\",\"showbackground\":true,\"ticks\":\"\",\"zerolinecolor\":\"white\"},\"zaxis\":{\"backgroundcolor\":\"#E5ECF6\",\"gridcolor\":\"white\",\"gridwidth\":2,\"linecolor\":\"white\",\"showbackground\":true,\"ticks\":\"\",\"zerolinecolor\":\"white\"}},\"shapedefaults\":{\"line\":{\"color\":\"#2a3f5f\"}},\"ternary\":{\"aaxis\":{\"gridcolor\":\"white\",\"linecolor\":\"white\",\"ticks\":\"\"},\"baxis\":{\"gridcolor\":\"white\",\"linecolor\":\"white\",\"ticks\":\"\"},\"bgcolor\":\"#E5ECF6\",\"caxis\":{\"gridcolor\":\"white\",\"linecolor\":\"white\",\"ticks\":\"\"}},\"title\":{\"x\":0.05},\"xaxis\":{\"automargin\":true,\"gridcolor\":\"white\",\"linecolor\":\"white\",\"ticks\":\"\",\"title\":{\"standoff\":15},\"zerolinecolor\":\"white\",\"zerolinewidth\":2},\"yaxis\":{\"automargin\":true,\"gridcolor\":\"white\",\"linecolor\":\"white\",\"ticks\":\"\",\"title\":{\"standoff\":15},\"zerolinecolor\":\"white\",\"zerolinewidth\":2}}}},                        {\"responsive\": true}                    ).then(function(){\n",
       "                            \n",
       "var gd = document.getElementById('6151705e-479f-4009-9c28-a661c207347f');\n",
       "var x = new MutationObserver(function (mutations, observer) {{\n",
       "        var display = window.getComputedStyle(gd).display;\n",
       "        if (!display || display === 'none') {{\n",
       "            console.log([gd, 'removed!']);\n",
       "            Plotly.purge(gd);\n",
       "            observer.disconnect();\n",
       "        }}\n",
       "}});\n",
       "\n",
       "// Listen for the removal of the full notebook cells\n",
       "var notebookContainer = gd.closest('#notebook-container');\n",
       "if (notebookContainer) {{\n",
       "    x.observe(notebookContainer, {childList: true});\n",
       "}}\n",
       "\n",
       "// Listen for the clearing of the current output cell\n",
       "var outputEl = gd.closest('.output');\n",
       "if (outputEl) {{\n",
       "    x.observe(outputEl, {childList: true});\n",
       "}}\n",
       "\n",
       "                        })                };                });            </script>        </div>"
      ]
     },
     "metadata": {},
     "output_type": "display_data"
    }
   ],
   "source": [
    "optuna.visualization.plot_param_importances(study).show()"
   ]
  },
  {
   "cell_type": "code",
   "execution_count": 37,
   "id": "d157f2a9",
   "metadata": {},
   "outputs": [
    {
     "data": {
      "text/plain": [
       "{'max_depth': 4973, 'max_leaf_nodes': 4197, 'n_estimators': 439, 'n_jobs': 20}"
      ]
     },
     "execution_count": 37,
     "metadata": {},
     "output_type": "execute_result"
    }
   ],
   "source": [
    "study.best_params"
   ]
  },
  {
   "cell_type": "code",
   "execution_count": 38,
   "id": "9da66dc6",
   "metadata": {},
   "outputs": [
    {
     "name": "stderr",
     "output_type": "stream",
     "text": [
      "\u001b[32m[I 2022-06-14 20:13:07,092]\u001b[0m Trial 80 finished with value: 0.711259296966602 and parameters: {'n_jobs': 19, 'bootstrap': 'False', 'max_features': 'log2'}. Best is trial 56 with value: 0.7288800801592215.\u001b[0m\n",
      "\u001b[32m[I 2022-06-14 20:13:25,395]\u001b[0m Trial 81 finished with value: 0.7267282760047161 and parameters: {'n_jobs': 21, 'bootstrap': 'True', 'max_features': 'log2'}. Best is trial 56 with value: 0.7288800801592215.\u001b[0m\n",
      "\u001b[32m[I 2022-06-14 20:13:38,218]\u001b[0m Trial 82 finished with value: 0.7034631907019102 and parameters: {'n_jobs': 21, 'bootstrap': 'True', 'max_features': 'log2'}. Best is trial 56 with value: 0.7288800801592215.\u001b[0m\n",
      "\u001b[32m[I 2022-06-14 20:13:53,301]\u001b[0m Trial 83 finished with value: 0.7120005286547302 and parameters: {'n_jobs': 22, 'bootstrap': 'True', 'max_features': 'log2'}. Best is trial 56 with value: 0.7288800801592215.\u001b[0m\n",
      "\u001b[32m[I 2022-06-14 20:14:06,718]\u001b[0m Trial 84 finished with value: 0.7123344693197934 and parameters: {'n_jobs': 22, 'bootstrap': 'True', 'max_features': 'log2'}. Best is trial 56 with value: 0.7288800801592215.\u001b[0m\n",
      "\u001b[32m[I 2022-06-14 20:14:19,656]\u001b[0m Trial 85 finished with value: 0.7183758061131693 and parameters: {'n_jobs': 22, 'bootstrap': 'True', 'max_features': 'log2'}. Best is trial 56 with value: 0.7288800801592215.\u001b[0m\n",
      "\u001b[32m[I 2022-06-14 20:14:32,906]\u001b[0m Trial 86 finished with value: 0.7189004878374423 and parameters: {'n_jobs': 21, 'bootstrap': 'True', 'max_features': 'log2'}. Best is trial 56 with value: 0.7288800801592215.\u001b[0m\n",
      "\u001b[32m[I 2022-06-14 20:14:48,031]\u001b[0m Trial 87 finished with value: 0.7172464747011164 and parameters: {'n_jobs': 19, 'bootstrap': 'True', 'max_features': 'log2'}. Best is trial 56 with value: 0.7288800801592215.\u001b[0m\n",
      "\u001b[32m[I 2022-06-14 20:15:04,880]\u001b[0m Trial 88 finished with value: 0.70236214143016 and parameters: {'n_jobs': 22, 'bootstrap': 'True', 'max_features': 'log2'}. Best is trial 56 with value: 0.7288800801592215.\u001b[0m\n",
      "\u001b[32m[I 2022-06-14 20:15:16,532]\u001b[0m Trial 89 finished with value: 0.7167327852707239 and parameters: {'n_jobs': 18, 'bootstrap': 'True', 'max_features': 'log2'}. Best is trial 56 with value: 0.7288800801592215.\u001b[0m\n",
      "\u001b[32m[I 2022-06-14 20:15:29,589]\u001b[0m Trial 90 finished with value: 0.7187862863329364 and parameters: {'n_jobs': 19, 'bootstrap': 'True', 'max_features': 'log2'}. Best is trial 56 with value: 0.7288800801592215.\u001b[0m\n",
      "\u001b[32m[I 2022-06-14 20:15:44,133]\u001b[0m Trial 91 finished with value: 0.7192521243520238 and parameters: {'n_jobs': 21, 'bootstrap': 'True', 'max_features': 'sqrt'}. Best is trial 56 with value: 0.7288800801592215.\u001b[0m\n",
      "\u001b[32m[I 2022-06-14 20:15:56,706]\u001b[0m Trial 92 finished with value: 0.7261846709355206 and parameters: {'n_jobs': 21, 'bootstrap': 'True', 'max_features': 'log2'}. Best is trial 56 with value: 0.7288800801592215.\u001b[0m\n",
      "\u001b[32m[I 2022-06-14 20:16:09,051]\u001b[0m Trial 93 finished with value: 0.7201547034266745 and parameters: {'n_jobs': 21, 'bootstrap': 'True', 'max_features': 'log2'}. Best is trial 56 with value: 0.7288800801592215.\u001b[0m\n",
      "\u001b[32m[I 2022-06-14 20:16:20,618]\u001b[0m Trial 94 finished with value: 0.7185960643763687 and parameters: {'n_jobs': 21, 'bootstrap': 'True', 'max_features': 'log2'}. Best is trial 56 with value: 0.7288800801592215.\u001b[0m\n",
      "\u001b[32m[I 2022-06-14 20:16:32,678]\u001b[0m Trial 95 finished with value: 0.718424685712959 and parameters: {'n_jobs': 20, 'bootstrap': 'True', 'max_features': 'log2'}. Best is trial 56 with value: 0.7288800801592215.\u001b[0m\n",
      "\u001b[32m[I 2022-06-14 20:16:47,665]\u001b[0m Trial 96 finished with value: 0.7184690414450247 and parameters: {'n_jobs': 22, 'bootstrap': 'True', 'max_features': 'log2'}. Best is trial 56 with value: 0.7288800801592215.\u001b[0m\n",
      "\u001b[32m[I 2022-06-14 20:17:00,960]\u001b[0m Trial 97 finished with value: 0.7136941742782599 and parameters: {'n_jobs': 21, 'bootstrap': 'True', 'max_features': 'sqrt'}. Best is trial 56 with value: 0.7288800801592215.\u001b[0m\n",
      "\u001b[32m[I 2022-06-14 20:17:14,013]\u001b[0m Trial 98 finished with value: 0.7102469396298343 and parameters: {'n_jobs': 19, 'bootstrap': 'True', 'max_features': 'log2'}. Best is trial 56 with value: 0.7288800801592215.\u001b[0m\n",
      "\u001b[32m[I 2022-06-14 20:17:25,063]\u001b[0m Trial 99 finished with value: 0.7166409351852832 and parameters: {'n_jobs': 18, 'bootstrap': 'True', 'max_features': 'log2'}. Best is trial 56 with value: 0.7288800801592215.\u001b[0m\n"
     ]
    }
   ],
   "source": [
    "# fix the less relevant parameter to continue the optimization\n",
    "def objective(trial):\n",
    "    X_train, X_test, y_train, y_test = train_test_split(X, y, random_state=1)\n",
    "  \n",
    "    n_jobs =  trial.suggest_int('n_jobs', 18, 25)\n",
    "    bootstrap = trial.suggest_categorical('bootstrap',['True','False'])\n",
    "    max_features = trial.suggest_categorical('max_features', ['auto', 'sqrt','log2'])\n",
    "        \n",
    "    rf_cl = RandomForestClassifier(bootstrap = bootstrap, \n",
    "                                   max_depth = 4973, \n",
    "                                   max_features =  max_features,\n",
    "                                   max_leaf_nodes = 4197,\n",
    "                                   n_estimators = 439,\n",
    "                                   n_jobs = n_jobs\n",
    "                                  )\n",
    "    \n",
    "    rf_cl.fit(X_train, y_train)\n",
    "    y_pred = rf_cl.predict(X_test)\n",
    "    \n",
    "    score = cross_val_score(rf_cl, X_test, y_test, cv=5, scoring=\"f1_macro\")\n",
    "    f1_mean = score.mean()\n",
    "\n",
    "    return f1_mean\n",
    "\n",
    "\n",
    "study.optimize(objective, n_trials=20)"
   ]
  },
  {
   "cell_type": "code",
   "execution_count": 46,
   "id": "a32879f5",
   "metadata": {},
   "outputs": [
    {
     "data": {
      "text/html": [
       "<div>                            <div id=\"20bd6871-3111-474d-aa88-051921580422\" class=\"plotly-graph-div\" style=\"height:525px; width:100%;\"></div>            <script type=\"text/javascript\">                require([\"plotly\"], function(Plotly) {                    window.PLOTLYENV=window.PLOTLYENV || {};                                    if (document.getElementById(\"20bd6871-3111-474d-aa88-051921580422\")) {                    Plotly.newPlot(                        \"20bd6871-3111-474d-aa88-051921580422\",                        [{\"mode\":\"markers\",\"name\":\"Objective Value\",\"x\":[0,1,2,3,4,5,6,7,8,9,10,11,12,13,14,15,16,17,18,19,20,21,22,23,24,25,26,27,28,29,30,31,32,33,34,35,36,37,38,39,40,41,42,43,44,45,46,47,48,49,50,51,52,53,54,55,56,57,58,59,60,61,62,63,64,65,66,67,68,69,70,71,72,73,74,75,76,77,78,79,80,81,82,83,84,85,86,87,88,89,90,91,92,93,94,95,96,97,98,99],\"y\":[0.7199957808974002,0.7169085773663529,0.7194050923748266,0.7180946468265417,0.7200267378075921,0.7110648724971199,0.708765412774993,0.7164793408804547,0.7167900885063859,0.7135559124375954,0.7210648135957081,0.7129614007415082,0.711358990042143,0.7188626871509864,0.707206755392779,0.7090347149245192,0.7144383926477748,0.7156834981700875,0.7022260699962333,0.7199770916532003,0.7069452278895854,0.7131391841978006,0.705256637995048,0.7228609674098099,0.7229900444069913,0.710429179499692,0.7039134008979138,0.7164815931149076,0.7243025361521396,0.7086381755408299,0.7245342823520504,0.7032279538409087,0.7141742426317952,0.7221846772570212,0.7178529010198786,0.7126251591896535,0.7040453723915746,0.709503950952598,0.7058328946636678,0.6810190497111485,0.7133750944305781,0.7269133011802549,0.715186472358449,0.7093909976228052,0.7000309887842627,0.7145904457949909,0.7167401769915711,0.7177473719852869,0.71745327709328,0.710092463674929,0.7205128356245009,0.7163072569010837,0.7218541861426884,0.727049635168042,0.709398927748838,0.7275592952689727,0.7288800801592215,0.7179024983613325,0.7113970964779978,0.7182173057336892,0.7192603023204411,0.714372272082161,0.7123484136383469,0.7217815674854979,0.7151008827425824,0.7236871875564239,0.7043193858764345,0.7112279002205122,0.7149049659304192,0.7117335551708068,0.7247251379506452,0.7149549290840522,0.7253202943970936,0.7121216598998867,0.7185014055990898,0.7135337393671943,0.7153316941543263,0.7124973882406007,0.7121269183598682,0.7050875509689266,0.711259296966602,0.7267282760047161,0.7034631907019102,0.7120005286547302,0.7123344693197934,0.7183758061131693,0.7189004878374423,0.7172464747011164,0.70236214143016,0.7167327852707239,0.7187862863329364,0.7192521243520238,0.7261846709355206,0.7201547034266745,0.7185960643763687,0.718424685712959,0.7184690414450247,0.7136941742782599,0.7102469396298343,0.7166409351852832],\"type\":\"scatter\"},{\"name\":\"Best Value\",\"x\":[0,1,2,3,4,5,6,7,8,9,10,11,12,13,14,15,16,17,18,19,20,21,22,23,24,25,26,27,28,29,30,31,32,33,34,35,36,37,38,39,40,41,42,43,44,45,46,47,48,49,50,51,52,53,54,55,56,57,58,59,60,61,62,63,64,65,66,67,68,69,70,71,72,73,74,75,76,77,78,79,80,81,82,83,84,85,86,87,88,89,90,91,92,93,94,95,96,97,98,99],\"y\":[0.7199957808974002,0.7199957808974002,0.7199957808974002,0.7199957808974002,0.7200267378075921,0.7200267378075921,0.7200267378075921,0.7200267378075921,0.7200267378075921,0.7200267378075921,0.7210648135957081,0.7210648135957081,0.7210648135957081,0.7210648135957081,0.7210648135957081,0.7210648135957081,0.7210648135957081,0.7210648135957081,0.7210648135957081,0.7210648135957081,0.7210648135957081,0.7210648135957081,0.7210648135957081,0.7228609674098099,0.7229900444069913,0.7229900444069913,0.7229900444069913,0.7229900444069913,0.7243025361521396,0.7243025361521396,0.7245342823520504,0.7245342823520504,0.7245342823520504,0.7245342823520504,0.7245342823520504,0.7245342823520504,0.7245342823520504,0.7245342823520504,0.7245342823520504,0.7245342823520504,0.7245342823520504,0.7269133011802549,0.7269133011802549,0.7269133011802549,0.7269133011802549,0.7269133011802549,0.7269133011802549,0.7269133011802549,0.7269133011802549,0.7269133011802549,0.7269133011802549,0.7269133011802549,0.7269133011802549,0.727049635168042,0.727049635168042,0.7275592952689727,0.7288800801592215,0.7288800801592215,0.7288800801592215,0.7288800801592215,0.7288800801592215,0.7288800801592215,0.7288800801592215,0.7288800801592215,0.7288800801592215,0.7288800801592215,0.7288800801592215,0.7288800801592215,0.7288800801592215,0.7288800801592215,0.7288800801592215,0.7288800801592215,0.7288800801592215,0.7288800801592215,0.7288800801592215,0.7288800801592215,0.7288800801592215,0.7288800801592215,0.7288800801592215,0.7288800801592215,0.7288800801592215,0.7288800801592215,0.7288800801592215,0.7288800801592215,0.7288800801592215,0.7288800801592215,0.7288800801592215,0.7288800801592215,0.7288800801592215,0.7288800801592215,0.7288800801592215,0.7288800801592215,0.7288800801592215,0.7288800801592215,0.7288800801592215,0.7288800801592215,0.7288800801592215,0.7288800801592215,0.7288800801592215,0.7288800801592215],\"type\":\"scatter\"}],                        {\"title\":{\"text\":\"Optimization History Plot\"},\"xaxis\":{\"title\":{\"text\":\"#Trials\"}},\"yaxis\":{\"title\":{\"text\":\"Objective Value\"}},\"template\":{\"data\":{\"bar\":[{\"error_x\":{\"color\":\"#2a3f5f\"},\"error_y\":{\"color\":\"#2a3f5f\"},\"marker\":{\"line\":{\"color\":\"#E5ECF6\",\"width\":0.5},\"pattern\":{\"fillmode\":\"overlay\",\"size\":10,\"solidity\":0.2}},\"type\":\"bar\"}],\"barpolar\":[{\"marker\":{\"line\":{\"color\":\"#E5ECF6\",\"width\":0.5},\"pattern\":{\"fillmode\":\"overlay\",\"size\":10,\"solidity\":0.2}},\"type\":\"barpolar\"}],\"carpet\":[{\"aaxis\":{\"endlinecolor\":\"#2a3f5f\",\"gridcolor\":\"white\",\"linecolor\":\"white\",\"minorgridcolor\":\"white\",\"startlinecolor\":\"#2a3f5f\"},\"baxis\":{\"endlinecolor\":\"#2a3f5f\",\"gridcolor\":\"white\",\"linecolor\":\"white\",\"minorgridcolor\":\"white\",\"startlinecolor\":\"#2a3f5f\"},\"type\":\"carpet\"}],\"choropleth\":[{\"colorbar\":{\"outlinewidth\":0,\"ticks\":\"\"},\"type\":\"choropleth\"}],\"contour\":[{\"colorbar\":{\"outlinewidth\":0,\"ticks\":\"\"},\"colorscale\":[[0.0,\"#0d0887\"],[0.1111111111111111,\"#46039f\"],[0.2222222222222222,\"#7201a8\"],[0.3333333333333333,\"#9c179e\"],[0.4444444444444444,\"#bd3786\"],[0.5555555555555556,\"#d8576b\"],[0.6666666666666666,\"#ed7953\"],[0.7777777777777778,\"#fb9f3a\"],[0.8888888888888888,\"#fdca26\"],[1.0,\"#f0f921\"]],\"type\":\"contour\"}],\"contourcarpet\":[{\"colorbar\":{\"outlinewidth\":0,\"ticks\":\"\"},\"type\":\"contourcarpet\"}],\"heatmap\":[{\"colorbar\":{\"outlinewidth\":0,\"ticks\":\"\"},\"colorscale\":[[0.0,\"#0d0887\"],[0.1111111111111111,\"#46039f\"],[0.2222222222222222,\"#7201a8\"],[0.3333333333333333,\"#9c179e\"],[0.4444444444444444,\"#bd3786\"],[0.5555555555555556,\"#d8576b\"],[0.6666666666666666,\"#ed7953\"],[0.7777777777777778,\"#fb9f3a\"],[0.8888888888888888,\"#fdca26\"],[1.0,\"#f0f921\"]],\"type\":\"heatmap\"}],\"heatmapgl\":[{\"colorbar\":{\"outlinewidth\":0,\"ticks\":\"\"},\"colorscale\":[[0.0,\"#0d0887\"],[0.1111111111111111,\"#46039f\"],[0.2222222222222222,\"#7201a8\"],[0.3333333333333333,\"#9c179e\"],[0.4444444444444444,\"#bd3786\"],[0.5555555555555556,\"#d8576b\"],[0.6666666666666666,\"#ed7953\"],[0.7777777777777778,\"#fb9f3a\"],[0.8888888888888888,\"#fdca26\"],[1.0,\"#f0f921\"]],\"type\":\"heatmapgl\"}],\"histogram\":[{\"marker\":{\"pattern\":{\"fillmode\":\"overlay\",\"size\":10,\"solidity\":0.2}},\"type\":\"histogram\"}],\"histogram2d\":[{\"colorbar\":{\"outlinewidth\":0,\"ticks\":\"\"},\"colorscale\":[[0.0,\"#0d0887\"],[0.1111111111111111,\"#46039f\"],[0.2222222222222222,\"#7201a8\"],[0.3333333333333333,\"#9c179e\"],[0.4444444444444444,\"#bd3786\"],[0.5555555555555556,\"#d8576b\"],[0.6666666666666666,\"#ed7953\"],[0.7777777777777778,\"#fb9f3a\"],[0.8888888888888888,\"#fdca26\"],[1.0,\"#f0f921\"]],\"type\":\"histogram2d\"}],\"histogram2dcontour\":[{\"colorbar\":{\"outlinewidth\":0,\"ticks\":\"\"},\"colorscale\":[[0.0,\"#0d0887\"],[0.1111111111111111,\"#46039f\"],[0.2222222222222222,\"#7201a8\"],[0.3333333333333333,\"#9c179e\"],[0.4444444444444444,\"#bd3786\"],[0.5555555555555556,\"#d8576b\"],[0.6666666666666666,\"#ed7953\"],[0.7777777777777778,\"#fb9f3a\"],[0.8888888888888888,\"#fdca26\"],[1.0,\"#f0f921\"]],\"type\":\"histogram2dcontour\"}],\"mesh3d\":[{\"colorbar\":{\"outlinewidth\":0,\"ticks\":\"\"},\"type\":\"mesh3d\"}],\"parcoords\":[{\"line\":{\"colorbar\":{\"outlinewidth\":0,\"ticks\":\"\"}},\"type\":\"parcoords\"}],\"pie\":[{\"automargin\":true,\"type\":\"pie\"}],\"scatter\":[{\"marker\":{\"colorbar\":{\"outlinewidth\":0,\"ticks\":\"\"}},\"type\":\"scatter\"}],\"scatter3d\":[{\"line\":{\"colorbar\":{\"outlinewidth\":0,\"ticks\":\"\"}},\"marker\":{\"colorbar\":{\"outlinewidth\":0,\"ticks\":\"\"}},\"type\":\"scatter3d\"}],\"scattercarpet\":[{\"marker\":{\"colorbar\":{\"outlinewidth\":0,\"ticks\":\"\"}},\"type\":\"scattercarpet\"}],\"scattergeo\":[{\"marker\":{\"colorbar\":{\"outlinewidth\":0,\"ticks\":\"\"}},\"type\":\"scattergeo\"}],\"scattergl\":[{\"marker\":{\"colorbar\":{\"outlinewidth\":0,\"ticks\":\"\"}},\"type\":\"scattergl\"}],\"scattermapbox\":[{\"marker\":{\"colorbar\":{\"outlinewidth\":0,\"ticks\":\"\"}},\"type\":\"scattermapbox\"}],\"scatterpolar\":[{\"marker\":{\"colorbar\":{\"outlinewidth\":0,\"ticks\":\"\"}},\"type\":\"scatterpolar\"}],\"scatterpolargl\":[{\"marker\":{\"colorbar\":{\"outlinewidth\":0,\"ticks\":\"\"}},\"type\":\"scatterpolargl\"}],\"scatterternary\":[{\"marker\":{\"colorbar\":{\"outlinewidth\":0,\"ticks\":\"\"}},\"type\":\"scatterternary\"}],\"surface\":[{\"colorbar\":{\"outlinewidth\":0,\"ticks\":\"\"},\"colorscale\":[[0.0,\"#0d0887\"],[0.1111111111111111,\"#46039f\"],[0.2222222222222222,\"#7201a8\"],[0.3333333333333333,\"#9c179e\"],[0.4444444444444444,\"#bd3786\"],[0.5555555555555556,\"#d8576b\"],[0.6666666666666666,\"#ed7953\"],[0.7777777777777778,\"#fb9f3a\"],[0.8888888888888888,\"#fdca26\"],[1.0,\"#f0f921\"]],\"type\":\"surface\"}],\"table\":[{\"cells\":{\"fill\":{\"color\":\"#EBF0F8\"},\"line\":{\"color\":\"white\"}},\"header\":{\"fill\":{\"color\":\"#C8D4E3\"},\"line\":{\"color\":\"white\"}},\"type\":\"table\"}]},\"layout\":{\"annotationdefaults\":{\"arrowcolor\":\"#2a3f5f\",\"arrowhead\":0,\"arrowwidth\":1},\"autotypenumbers\":\"strict\",\"coloraxis\":{\"colorbar\":{\"outlinewidth\":0,\"ticks\":\"\"}},\"colorscale\":{\"diverging\":[[0,\"#8e0152\"],[0.1,\"#c51b7d\"],[0.2,\"#de77ae\"],[0.3,\"#f1b6da\"],[0.4,\"#fde0ef\"],[0.5,\"#f7f7f7\"],[0.6,\"#e6f5d0\"],[0.7,\"#b8e186\"],[0.8,\"#7fbc41\"],[0.9,\"#4d9221\"],[1,\"#276419\"]],\"sequential\":[[0.0,\"#0d0887\"],[0.1111111111111111,\"#46039f\"],[0.2222222222222222,\"#7201a8\"],[0.3333333333333333,\"#9c179e\"],[0.4444444444444444,\"#bd3786\"],[0.5555555555555556,\"#d8576b\"],[0.6666666666666666,\"#ed7953\"],[0.7777777777777778,\"#fb9f3a\"],[0.8888888888888888,\"#fdca26\"],[1.0,\"#f0f921\"]],\"sequentialminus\":[[0.0,\"#0d0887\"],[0.1111111111111111,\"#46039f\"],[0.2222222222222222,\"#7201a8\"],[0.3333333333333333,\"#9c179e\"],[0.4444444444444444,\"#bd3786\"],[0.5555555555555556,\"#d8576b\"],[0.6666666666666666,\"#ed7953\"],[0.7777777777777778,\"#fb9f3a\"],[0.8888888888888888,\"#fdca26\"],[1.0,\"#f0f921\"]]},\"colorway\":[\"#636efa\",\"#EF553B\",\"#00cc96\",\"#ab63fa\",\"#FFA15A\",\"#19d3f3\",\"#FF6692\",\"#B6E880\",\"#FF97FF\",\"#FECB52\"],\"font\":{\"color\":\"#2a3f5f\"},\"geo\":{\"bgcolor\":\"white\",\"lakecolor\":\"white\",\"landcolor\":\"#E5ECF6\",\"showlakes\":true,\"showland\":true,\"subunitcolor\":\"white\"},\"hoverlabel\":{\"align\":\"left\"},\"hovermode\":\"closest\",\"mapbox\":{\"style\":\"light\"},\"paper_bgcolor\":\"white\",\"plot_bgcolor\":\"#E5ECF6\",\"polar\":{\"angularaxis\":{\"gridcolor\":\"white\",\"linecolor\":\"white\",\"ticks\":\"\"},\"bgcolor\":\"#E5ECF6\",\"radialaxis\":{\"gridcolor\":\"white\",\"linecolor\":\"white\",\"ticks\":\"\"}},\"scene\":{\"xaxis\":{\"backgroundcolor\":\"#E5ECF6\",\"gridcolor\":\"white\",\"gridwidth\":2,\"linecolor\":\"white\",\"showbackground\":true,\"ticks\":\"\",\"zerolinecolor\":\"white\"},\"yaxis\":{\"backgroundcolor\":\"#E5ECF6\",\"gridcolor\":\"white\",\"gridwidth\":2,\"linecolor\":\"white\",\"showbackground\":true,\"ticks\":\"\",\"zerolinecolor\":\"white\"},\"zaxis\":{\"backgroundcolor\":\"#E5ECF6\",\"gridcolor\":\"white\",\"gridwidth\":2,\"linecolor\":\"white\",\"showbackground\":true,\"ticks\":\"\",\"zerolinecolor\":\"white\"}},\"shapedefaults\":{\"line\":{\"color\":\"#2a3f5f\"}},\"ternary\":{\"aaxis\":{\"gridcolor\":\"white\",\"linecolor\":\"white\",\"ticks\":\"\"},\"baxis\":{\"gridcolor\":\"white\",\"linecolor\":\"white\",\"ticks\":\"\"},\"bgcolor\":\"#E5ECF6\",\"caxis\":{\"gridcolor\":\"white\",\"linecolor\":\"white\",\"ticks\":\"\"}},\"title\":{\"x\":0.05},\"xaxis\":{\"automargin\":true,\"gridcolor\":\"white\",\"linecolor\":\"white\",\"ticks\":\"\",\"title\":{\"standoff\":15},\"zerolinecolor\":\"white\",\"zerolinewidth\":2},\"yaxis\":{\"automargin\":true,\"gridcolor\":\"white\",\"linecolor\":\"white\",\"ticks\":\"\",\"title\":{\"standoff\":15},\"zerolinecolor\":\"white\",\"zerolinewidth\":2}}}},                        {\"responsive\": true}                    ).then(function(){\n",
       "                            \n",
       "var gd = document.getElementById('20bd6871-3111-474d-aa88-051921580422');\n",
       "var x = new MutationObserver(function (mutations, observer) {{\n",
       "        var display = window.getComputedStyle(gd).display;\n",
       "        if (!display || display === 'none') {{\n",
       "            console.log([gd, 'removed!']);\n",
       "            Plotly.purge(gd);\n",
       "            observer.disconnect();\n",
       "        }}\n",
       "}});\n",
       "\n",
       "// Listen for the removal of the full notebook cells\n",
       "var notebookContainer = gd.closest('#notebook-container');\n",
       "if (notebookContainer) {{\n",
       "    x.observe(notebookContainer, {childList: true});\n",
       "}}\n",
       "\n",
       "// Listen for the clearing of the current output cell\n",
       "var outputEl = gd.closest('.output');\n",
       "if (outputEl) {{\n",
       "    x.observe(outputEl, {childList: true});\n",
       "}}\n",
       "\n",
       "                        })                };                });            </script>        </div>"
      ]
     },
     "metadata": {},
     "output_type": "display_data"
    }
   ],
   "source": [
    "fig = optuna.visualization.plot_optimization_history(study)\n",
    "fig.show()"
   ]
  },
  {
   "cell_type": "code",
   "execution_count": 47,
   "id": "f9d793d2",
   "metadata": {},
   "outputs": [
    {
     "name": "stderr",
     "output_type": "stream",
     "text": [
      "\u001b[32m[I 2022-06-14 20:31:22,742]\u001b[0m Trial 106 finished with value: 0.7024100929597044 and parameters: {'max_depth': 3612, 'max_leaf_nodes': 4418, 'n_estimators': 584, 'n_jobs': 20}. Best is trial 56 with value: 0.7288800801592215.\u001b[0m\n",
      "\u001b[32m[I 2022-06-14 20:31:42,502]\u001b[0m Trial 107 finished with value: 0.7168147092204153 and parameters: {'max_depth': 4576, 'max_leaf_nodes': 4215, 'n_estimators': 684, 'n_jobs': 21}. Best is trial 56 with value: 0.7288800801592215.\u001b[0m\n",
      "\u001b[32m[I 2022-06-14 20:31:56,608]\u001b[0m Trial 108 finished with value: 0.7138924465659697 and parameters: {'max_depth': 4663, 'max_leaf_nodes': 4200, 'n_estimators': 463, 'n_jobs': 21}. Best is trial 56 with value: 0.7288800801592215.\u001b[0m\n",
      "\u001b[32m[I 2022-06-14 20:32:13,907]\u001b[0m Trial 109 finished with value: 0.7144179752512917 and parameters: {'max_depth': 4905, 'max_leaf_nodes': 4184, 'n_estimators': 613, 'n_jobs': 21}. Best is trial 56 with value: 0.7288800801592215.\u001b[0m\n",
      "\u001b[32m[I 2022-06-14 20:32:30,373]\u001b[0m Trial 110 finished with value: 0.7090607641727755 and parameters: {'max_depth': 3554, 'max_leaf_nodes': 4192, 'n_estimators': 569, 'n_jobs': 21}. Best is trial 56 with value: 0.7288800801592215.\u001b[0m\n",
      "\u001b[32m[I 2022-06-14 20:32:42,408]\u001b[0m Trial 111 finished with value: 0.7175455007258922 and parameters: {'max_depth': 5192, 'max_leaf_nodes': 4184, 'n_estimators': 338, 'n_jobs': 22}. Best is trial 56 with value: 0.7288800801592215.\u001b[0m\n",
      "\u001b[32m[I 2022-06-14 20:33:03,513]\u001b[0m Trial 112 finished with value: 0.7170169794073205 and parameters: {'max_depth': 5711, 'max_leaf_nodes': 4415, 'n_estimators': 746, 'n_jobs': 21}. Best is trial 56 with value: 0.7288800801592215.\u001b[0m\n",
      "\u001b[32m[I 2022-06-14 20:33:08,646]\u001b[0m Trial 113 finished with value: 0.7164656727124011 and parameters: {'max_depth': 6299, 'max_leaf_nodes': 4412, 'n_estimators': 138, 'n_jobs': 20}. Best is trial 56 with value: 0.7288800801592215.\u001b[0m\n",
      "\u001b[32m[I 2022-06-14 20:33:26,552]\u001b[0m Trial 114 finished with value: 0.7159079226435664 and parameters: {'max_depth': 4487, 'max_leaf_nodes': 4383, 'n_estimators': 610, 'n_jobs': 21}. Best is trial 56 with value: 0.7288800801592215.\u001b[0m\n",
      "\u001b[32m[I 2022-06-14 20:33:44,097]\u001b[0m Trial 115 finished with value: 0.7080391518338855 and parameters: {'max_depth': 5474, 'max_leaf_nodes': 4193, 'n_estimators': 649, 'n_jobs': 19}. Best is trial 56 with value: 0.7288800801592215.\u001b[0m\n",
      "\u001b[32m[I 2022-06-14 20:34:03,482]\u001b[0m Trial 116 finished with value: 0.7089395000499499 and parameters: {'max_depth': 5072, 'max_leaf_nodes': 4447, 'n_estimators': 505, 'n_jobs': 18}. Best is trial 56 with value: 0.7288800801592215.\u001b[0m\n",
      "\u001b[32m[I 2022-06-14 20:34:12,737]\u001b[0m Trial 117 finished with value: 0.7117014580227676 and parameters: {'max_depth': 3019, 'max_leaf_nodes': 4118, 'n_estimators': 231, 'n_jobs': 19}. Best is trial 56 with value: 0.7288800801592215.\u001b[0m\n",
      "\u001b[32m[I 2022-06-14 20:34:20,909]\u001b[0m Trial 118 finished with value: 0.7036109396179621 and parameters: {'max_depth': 1901, 'max_leaf_nodes': 4018, 'n_estimators': 282, 'n_jobs': 19}. Best is trial 56 with value: 0.7288800801592215.\u001b[0m\n",
      "\u001b[32m[I 2022-06-14 20:34:25,911]\u001b[0m Trial 119 finished with value: 0.7108538750665566 and parameters: {'max_depth': 2516, 'max_leaf_nodes': 4042, 'n_estimators': 163, 'n_jobs': 19}. Best is trial 56 with value: 0.7288800801592215.\u001b[0m\n",
      "\u001b[32m[I 2022-06-14 20:34:32,012]\u001b[0m Trial 120 finished with value: 0.7036600807825938 and parameters: {'max_depth': 3268, 'max_leaf_nodes': 4086, 'n_estimators': 198, 'n_jobs': 19}. Best is trial 56 with value: 0.7288800801592215.\u001b[0m\n",
      "\u001b[32m[I 2022-06-14 20:34:39,833]\u001b[0m Trial 121 finished with value: 0.7174995219039956 and parameters: {'max_depth': 4784, 'max_leaf_nodes': 4048, 'n_estimators': 244, 'n_jobs': 20}. Best is trial 56 with value: 0.7288800801592215.\u001b[0m\n",
      "\u001b[32m[I 2022-06-14 20:34:51,212]\u001b[0m Trial 122 finished with value: 0.71558283915307 and parameters: {'max_depth': 1058, 'max_leaf_nodes': 4023, 'n_estimators': 294, 'n_jobs': 21}. Best is trial 56 with value: 0.7288800801592215.\u001b[0m\n",
      "\u001b[32m[I 2022-06-14 20:34:58,109]\u001b[0m Trial 123 finished with value: 0.7190544137202991 and parameters: {'max_depth': 3465, 'max_leaf_nodes': 4176, 'n_estimators': 272, 'n_jobs': 19}. Best is trial 56 with value: 0.7288800801592215.\u001b[0m\n",
      "\u001b[32m[I 2022-06-14 20:35:06,130]\u001b[0m Trial 124 finished with value: 0.7081143417686424 and parameters: {'max_depth': 485, 'max_leaf_nodes': 4156, 'n_estimators': 219, 'n_jobs': 20}. Best is trial 56 with value: 0.7288800801592215.\u001b[0m\n",
      "\u001b[32m[I 2022-06-14 20:35:12,333]\u001b[0m Trial 125 finished with value: 0.7185391862128616 and parameters: {'max_depth': 4407, 'max_leaf_nodes': 4049, 'n_estimators': 183, 'n_jobs': 18}. Best is trial 56 with value: 0.7288800801592215.\u001b[0m\n"
     ]
    }
   ],
   "source": [
    "# fix the less relevant parameter to continue the optimization\n",
    "def objective(trial):\n",
    "    X_train, X_test, y_train, y_test = train_test_split(X, y, random_state=1)\n",
    "    \n",
    "    max_depth = trial.suggest_int('max_depth', 1, 10000)   \n",
    "    max_leaf_nodes = trial.suggest_int('max_leaf_nodes', 4000, 10000)\n",
    "    n_estimators =  trial.suggest_int('n_estimators', 100, 1000)\n",
    "    n_jobs =  trial.suggest_int('n_jobs', 18, 25)\n",
    "    \n",
    "    rf_cl = RandomForestClassifier(bootstrap = 'False', \n",
    "                                   max_depth = max_depth, \n",
    "                                   max_features = 'log2',\n",
    "                                   max_leaf_nodes = max_leaf_nodes,\n",
    "                                   n_estimators = n_estimators,\n",
    "                                   n_jobs = n_jobs\n",
    "                                  )\n",
    "    \n",
    "    rf_cl.fit(X_train, y_train)\n",
    "    y_pred = rf_cl.predict(X_test)\n",
    "    \n",
    "    score = cross_val_score(rf_cl, X_test, y_test, cv=5, scoring=\"f1_macro\")\n",
    "    f1_mean = score.mean()\n",
    "\n",
    "    return f1_mean\n",
    "\n",
    "\n",
    "study.optimize(objective, n_trials=20)"
   ]
  },
  {
   "cell_type": "code",
   "execution_count": 49,
   "id": "4644ade7",
   "metadata": {},
   "outputs": [
    {
     "data": {
      "text/html": [
       "<div>                            <div id=\"3ebf4e69-0b8a-4ccb-ab91-dbb3a418b0fe\" class=\"plotly-graph-div\" style=\"height:525px; width:100%;\"></div>            <script type=\"text/javascript\">                require([\"plotly\"], function(Plotly) {                    window.PLOTLYENV=window.PLOTLYENV || {};                                    if (document.getElementById(\"3ebf4e69-0b8a-4ccb-ab91-dbb3a418b0fe\")) {                    Plotly.newPlot(                        \"3ebf4e69-0b8a-4ccb-ab91-dbb3a418b0fe\",                        [{\"mode\":\"markers\",\"name\":\"Objective Value\",\"x\":[0,1,2,3,4,5,6,7,8,9,10,11,12,13,14,15,16,17,18,19,20,21,22,23,24,25,26,27,28,29,30,31,32,33,34,35,36,37,38,39,40,41,42,43,44,45,46,47,48,49,50,51,52,53,54,55,56,57,58,59,60,61,62,63,64,65,66,67,68,69,70,71,72,73,74,75,76,77,78,79,80,81,82,83,84,85,86,87,88,89,90,91,92,93,94,95,96,97,98,99,106,107,108,109,110,111,112,113,114,115,116,117,118,119,120,121,122,123,124,125],\"y\":[0.7199957808974002,0.7169085773663529,0.7194050923748266,0.7180946468265417,0.7200267378075921,0.7110648724971199,0.708765412774993,0.7164793408804547,0.7167900885063859,0.7135559124375954,0.7210648135957081,0.7129614007415082,0.711358990042143,0.7188626871509864,0.707206755392779,0.7090347149245192,0.7144383926477748,0.7156834981700875,0.7022260699962333,0.7199770916532003,0.7069452278895854,0.7131391841978006,0.705256637995048,0.7228609674098099,0.7229900444069913,0.710429179499692,0.7039134008979138,0.7164815931149076,0.7243025361521396,0.7086381755408299,0.7245342823520504,0.7032279538409087,0.7141742426317952,0.7221846772570212,0.7178529010198786,0.7126251591896535,0.7040453723915746,0.709503950952598,0.7058328946636678,0.6810190497111485,0.7133750944305781,0.7269133011802549,0.715186472358449,0.7093909976228052,0.7000309887842627,0.7145904457949909,0.7167401769915711,0.7177473719852869,0.71745327709328,0.710092463674929,0.7205128356245009,0.7163072569010837,0.7218541861426884,0.727049635168042,0.709398927748838,0.7275592952689727,0.7288800801592215,0.7179024983613325,0.7113970964779978,0.7182173057336892,0.7192603023204411,0.714372272082161,0.7123484136383469,0.7217815674854979,0.7151008827425824,0.7236871875564239,0.7043193858764345,0.7112279002205122,0.7149049659304192,0.7117335551708068,0.7247251379506452,0.7149549290840522,0.7253202943970936,0.7121216598998867,0.7185014055990898,0.7135337393671943,0.7153316941543263,0.7124973882406007,0.7121269183598682,0.7050875509689266,0.711259296966602,0.7267282760047161,0.7034631907019102,0.7120005286547302,0.7123344693197934,0.7183758061131693,0.7189004878374423,0.7172464747011164,0.70236214143016,0.7167327852707239,0.7187862863329364,0.7192521243520238,0.7261846709355206,0.7201547034266745,0.7185960643763687,0.718424685712959,0.7184690414450247,0.7136941742782599,0.7102469396298343,0.7166409351852832,0.7024100929597044,0.7168147092204153,0.7138924465659697,0.7144179752512917,0.7090607641727755,0.7175455007258922,0.7170169794073205,0.7164656727124011,0.7159079226435664,0.7080391518338855,0.7089395000499499,0.7117014580227676,0.7036109396179621,0.7108538750665566,0.7036600807825938,0.7174995219039956,0.71558283915307,0.7190544137202991,0.7081143417686424,0.7185391862128616],\"type\":\"scatter\"},{\"name\":\"Best Value\",\"x\":[0,1,2,3,4,5,6,7,8,9,10,11,12,13,14,15,16,17,18,19,20,21,22,23,24,25,26,27,28,29,30,31,32,33,34,35,36,37,38,39,40,41,42,43,44,45,46,47,48,49,50,51,52,53,54,55,56,57,58,59,60,61,62,63,64,65,66,67,68,69,70,71,72,73,74,75,76,77,78,79,80,81,82,83,84,85,86,87,88,89,90,91,92,93,94,95,96,97,98,99,106,107,108,109,110,111,112,113,114,115,116,117,118,119,120,121,122,123,124,125],\"y\":[0.7199957808974002,0.7199957808974002,0.7199957808974002,0.7199957808974002,0.7200267378075921,0.7200267378075921,0.7200267378075921,0.7200267378075921,0.7200267378075921,0.7200267378075921,0.7210648135957081,0.7210648135957081,0.7210648135957081,0.7210648135957081,0.7210648135957081,0.7210648135957081,0.7210648135957081,0.7210648135957081,0.7210648135957081,0.7210648135957081,0.7210648135957081,0.7210648135957081,0.7210648135957081,0.7228609674098099,0.7229900444069913,0.7229900444069913,0.7229900444069913,0.7229900444069913,0.7243025361521396,0.7243025361521396,0.7245342823520504,0.7245342823520504,0.7245342823520504,0.7245342823520504,0.7245342823520504,0.7245342823520504,0.7245342823520504,0.7245342823520504,0.7245342823520504,0.7245342823520504,0.7245342823520504,0.7269133011802549,0.7269133011802549,0.7269133011802549,0.7269133011802549,0.7269133011802549,0.7269133011802549,0.7269133011802549,0.7269133011802549,0.7269133011802549,0.7269133011802549,0.7269133011802549,0.7269133011802549,0.727049635168042,0.727049635168042,0.7275592952689727,0.7288800801592215,0.7288800801592215,0.7288800801592215,0.7288800801592215,0.7288800801592215,0.7288800801592215,0.7288800801592215,0.7288800801592215,0.7288800801592215,0.7288800801592215,0.7288800801592215,0.7288800801592215,0.7288800801592215,0.7288800801592215,0.7288800801592215,0.7288800801592215,0.7288800801592215,0.7288800801592215,0.7288800801592215,0.7288800801592215,0.7288800801592215,0.7288800801592215,0.7288800801592215,0.7288800801592215,0.7288800801592215,0.7288800801592215,0.7288800801592215,0.7288800801592215,0.7288800801592215,0.7288800801592215,0.7288800801592215,0.7288800801592215,0.7288800801592215,0.7288800801592215,0.7288800801592215,0.7288800801592215,0.7288800801592215,0.7288800801592215,0.7288800801592215,0.7288800801592215,0.7288800801592215,0.7288800801592215,0.7288800801592215,0.7288800801592215,0.7288800801592215,0.7288800801592215,0.7288800801592215,0.7288800801592215,0.7288800801592215,0.7288800801592215,0.7288800801592215,0.7288800801592215,0.7288800801592215,0.7288800801592215,0.7288800801592215,0.7288800801592215,0.7288800801592215,0.7288800801592215,0.7288800801592215,0.7288800801592215,0.7288800801592215,0.7288800801592215,0.7288800801592215,0.7288800801592215],\"type\":\"scatter\"}],                        {\"title\":{\"text\":\"Optimization History Plot\"},\"xaxis\":{\"title\":{\"text\":\"#Trials\"}},\"yaxis\":{\"title\":{\"text\":\"Objective Value\"}},\"template\":{\"data\":{\"bar\":[{\"error_x\":{\"color\":\"#2a3f5f\"},\"error_y\":{\"color\":\"#2a3f5f\"},\"marker\":{\"line\":{\"color\":\"#E5ECF6\",\"width\":0.5},\"pattern\":{\"fillmode\":\"overlay\",\"size\":10,\"solidity\":0.2}},\"type\":\"bar\"}],\"barpolar\":[{\"marker\":{\"line\":{\"color\":\"#E5ECF6\",\"width\":0.5},\"pattern\":{\"fillmode\":\"overlay\",\"size\":10,\"solidity\":0.2}},\"type\":\"barpolar\"}],\"carpet\":[{\"aaxis\":{\"endlinecolor\":\"#2a3f5f\",\"gridcolor\":\"white\",\"linecolor\":\"white\",\"minorgridcolor\":\"white\",\"startlinecolor\":\"#2a3f5f\"},\"baxis\":{\"endlinecolor\":\"#2a3f5f\",\"gridcolor\":\"white\",\"linecolor\":\"white\",\"minorgridcolor\":\"white\",\"startlinecolor\":\"#2a3f5f\"},\"type\":\"carpet\"}],\"choropleth\":[{\"colorbar\":{\"outlinewidth\":0,\"ticks\":\"\"},\"type\":\"choropleth\"}],\"contour\":[{\"colorbar\":{\"outlinewidth\":0,\"ticks\":\"\"},\"colorscale\":[[0.0,\"#0d0887\"],[0.1111111111111111,\"#46039f\"],[0.2222222222222222,\"#7201a8\"],[0.3333333333333333,\"#9c179e\"],[0.4444444444444444,\"#bd3786\"],[0.5555555555555556,\"#d8576b\"],[0.6666666666666666,\"#ed7953\"],[0.7777777777777778,\"#fb9f3a\"],[0.8888888888888888,\"#fdca26\"],[1.0,\"#f0f921\"]],\"type\":\"contour\"}],\"contourcarpet\":[{\"colorbar\":{\"outlinewidth\":0,\"ticks\":\"\"},\"type\":\"contourcarpet\"}],\"heatmap\":[{\"colorbar\":{\"outlinewidth\":0,\"ticks\":\"\"},\"colorscale\":[[0.0,\"#0d0887\"],[0.1111111111111111,\"#46039f\"],[0.2222222222222222,\"#7201a8\"],[0.3333333333333333,\"#9c179e\"],[0.4444444444444444,\"#bd3786\"],[0.5555555555555556,\"#d8576b\"],[0.6666666666666666,\"#ed7953\"],[0.7777777777777778,\"#fb9f3a\"],[0.8888888888888888,\"#fdca26\"],[1.0,\"#f0f921\"]],\"type\":\"heatmap\"}],\"heatmapgl\":[{\"colorbar\":{\"outlinewidth\":0,\"ticks\":\"\"},\"colorscale\":[[0.0,\"#0d0887\"],[0.1111111111111111,\"#46039f\"],[0.2222222222222222,\"#7201a8\"],[0.3333333333333333,\"#9c179e\"],[0.4444444444444444,\"#bd3786\"],[0.5555555555555556,\"#d8576b\"],[0.6666666666666666,\"#ed7953\"],[0.7777777777777778,\"#fb9f3a\"],[0.8888888888888888,\"#fdca26\"],[1.0,\"#f0f921\"]],\"type\":\"heatmapgl\"}],\"histogram\":[{\"marker\":{\"pattern\":{\"fillmode\":\"overlay\",\"size\":10,\"solidity\":0.2}},\"type\":\"histogram\"}],\"histogram2d\":[{\"colorbar\":{\"outlinewidth\":0,\"ticks\":\"\"},\"colorscale\":[[0.0,\"#0d0887\"],[0.1111111111111111,\"#46039f\"],[0.2222222222222222,\"#7201a8\"],[0.3333333333333333,\"#9c179e\"],[0.4444444444444444,\"#bd3786\"],[0.5555555555555556,\"#d8576b\"],[0.6666666666666666,\"#ed7953\"],[0.7777777777777778,\"#fb9f3a\"],[0.8888888888888888,\"#fdca26\"],[1.0,\"#f0f921\"]],\"type\":\"histogram2d\"}],\"histogram2dcontour\":[{\"colorbar\":{\"outlinewidth\":0,\"ticks\":\"\"},\"colorscale\":[[0.0,\"#0d0887\"],[0.1111111111111111,\"#46039f\"],[0.2222222222222222,\"#7201a8\"],[0.3333333333333333,\"#9c179e\"],[0.4444444444444444,\"#bd3786\"],[0.5555555555555556,\"#d8576b\"],[0.6666666666666666,\"#ed7953\"],[0.7777777777777778,\"#fb9f3a\"],[0.8888888888888888,\"#fdca26\"],[1.0,\"#f0f921\"]],\"type\":\"histogram2dcontour\"}],\"mesh3d\":[{\"colorbar\":{\"outlinewidth\":0,\"ticks\":\"\"},\"type\":\"mesh3d\"}],\"parcoords\":[{\"line\":{\"colorbar\":{\"outlinewidth\":0,\"ticks\":\"\"}},\"type\":\"parcoords\"}],\"pie\":[{\"automargin\":true,\"type\":\"pie\"}],\"scatter\":[{\"marker\":{\"colorbar\":{\"outlinewidth\":0,\"ticks\":\"\"}},\"type\":\"scatter\"}],\"scatter3d\":[{\"line\":{\"colorbar\":{\"outlinewidth\":0,\"ticks\":\"\"}},\"marker\":{\"colorbar\":{\"outlinewidth\":0,\"ticks\":\"\"}},\"type\":\"scatter3d\"}],\"scattercarpet\":[{\"marker\":{\"colorbar\":{\"outlinewidth\":0,\"ticks\":\"\"}},\"type\":\"scattercarpet\"}],\"scattergeo\":[{\"marker\":{\"colorbar\":{\"outlinewidth\":0,\"ticks\":\"\"}},\"type\":\"scattergeo\"}],\"scattergl\":[{\"marker\":{\"colorbar\":{\"outlinewidth\":0,\"ticks\":\"\"}},\"type\":\"scattergl\"}],\"scattermapbox\":[{\"marker\":{\"colorbar\":{\"outlinewidth\":0,\"ticks\":\"\"}},\"type\":\"scattermapbox\"}],\"scatterpolar\":[{\"marker\":{\"colorbar\":{\"outlinewidth\":0,\"ticks\":\"\"}},\"type\":\"scatterpolar\"}],\"scatterpolargl\":[{\"marker\":{\"colorbar\":{\"outlinewidth\":0,\"ticks\":\"\"}},\"type\":\"scatterpolargl\"}],\"scatterternary\":[{\"marker\":{\"colorbar\":{\"outlinewidth\":0,\"ticks\":\"\"}},\"type\":\"scatterternary\"}],\"surface\":[{\"colorbar\":{\"outlinewidth\":0,\"ticks\":\"\"},\"colorscale\":[[0.0,\"#0d0887\"],[0.1111111111111111,\"#46039f\"],[0.2222222222222222,\"#7201a8\"],[0.3333333333333333,\"#9c179e\"],[0.4444444444444444,\"#bd3786\"],[0.5555555555555556,\"#d8576b\"],[0.6666666666666666,\"#ed7953\"],[0.7777777777777778,\"#fb9f3a\"],[0.8888888888888888,\"#fdca26\"],[1.0,\"#f0f921\"]],\"type\":\"surface\"}],\"table\":[{\"cells\":{\"fill\":{\"color\":\"#EBF0F8\"},\"line\":{\"color\":\"white\"}},\"header\":{\"fill\":{\"color\":\"#C8D4E3\"},\"line\":{\"color\":\"white\"}},\"type\":\"table\"}]},\"layout\":{\"annotationdefaults\":{\"arrowcolor\":\"#2a3f5f\",\"arrowhead\":0,\"arrowwidth\":1},\"autotypenumbers\":\"strict\",\"coloraxis\":{\"colorbar\":{\"outlinewidth\":0,\"ticks\":\"\"}},\"colorscale\":{\"diverging\":[[0,\"#8e0152\"],[0.1,\"#c51b7d\"],[0.2,\"#de77ae\"],[0.3,\"#f1b6da\"],[0.4,\"#fde0ef\"],[0.5,\"#f7f7f7\"],[0.6,\"#e6f5d0\"],[0.7,\"#b8e186\"],[0.8,\"#7fbc41\"],[0.9,\"#4d9221\"],[1,\"#276419\"]],\"sequential\":[[0.0,\"#0d0887\"],[0.1111111111111111,\"#46039f\"],[0.2222222222222222,\"#7201a8\"],[0.3333333333333333,\"#9c179e\"],[0.4444444444444444,\"#bd3786\"],[0.5555555555555556,\"#d8576b\"],[0.6666666666666666,\"#ed7953\"],[0.7777777777777778,\"#fb9f3a\"],[0.8888888888888888,\"#fdca26\"],[1.0,\"#f0f921\"]],\"sequentialminus\":[[0.0,\"#0d0887\"],[0.1111111111111111,\"#46039f\"],[0.2222222222222222,\"#7201a8\"],[0.3333333333333333,\"#9c179e\"],[0.4444444444444444,\"#bd3786\"],[0.5555555555555556,\"#d8576b\"],[0.6666666666666666,\"#ed7953\"],[0.7777777777777778,\"#fb9f3a\"],[0.8888888888888888,\"#fdca26\"],[1.0,\"#f0f921\"]]},\"colorway\":[\"#636efa\",\"#EF553B\",\"#00cc96\",\"#ab63fa\",\"#FFA15A\",\"#19d3f3\",\"#FF6692\",\"#B6E880\",\"#FF97FF\",\"#FECB52\"],\"font\":{\"color\":\"#2a3f5f\"},\"geo\":{\"bgcolor\":\"white\",\"lakecolor\":\"white\",\"landcolor\":\"#E5ECF6\",\"showlakes\":true,\"showland\":true,\"subunitcolor\":\"white\"},\"hoverlabel\":{\"align\":\"left\"},\"hovermode\":\"closest\",\"mapbox\":{\"style\":\"light\"},\"paper_bgcolor\":\"white\",\"plot_bgcolor\":\"#E5ECF6\",\"polar\":{\"angularaxis\":{\"gridcolor\":\"white\",\"linecolor\":\"white\",\"ticks\":\"\"},\"bgcolor\":\"#E5ECF6\",\"radialaxis\":{\"gridcolor\":\"white\",\"linecolor\":\"white\",\"ticks\":\"\"}},\"scene\":{\"xaxis\":{\"backgroundcolor\":\"#E5ECF6\",\"gridcolor\":\"white\",\"gridwidth\":2,\"linecolor\":\"white\",\"showbackground\":true,\"ticks\":\"\",\"zerolinecolor\":\"white\"},\"yaxis\":{\"backgroundcolor\":\"#E5ECF6\",\"gridcolor\":\"white\",\"gridwidth\":2,\"linecolor\":\"white\",\"showbackground\":true,\"ticks\":\"\",\"zerolinecolor\":\"white\"},\"zaxis\":{\"backgroundcolor\":\"#E5ECF6\",\"gridcolor\":\"white\",\"gridwidth\":2,\"linecolor\":\"white\",\"showbackground\":true,\"ticks\":\"\",\"zerolinecolor\":\"white\"}},\"shapedefaults\":{\"line\":{\"color\":\"#2a3f5f\"}},\"ternary\":{\"aaxis\":{\"gridcolor\":\"white\",\"linecolor\":\"white\",\"ticks\":\"\"},\"baxis\":{\"gridcolor\":\"white\",\"linecolor\":\"white\",\"ticks\":\"\"},\"bgcolor\":\"#E5ECF6\",\"caxis\":{\"gridcolor\":\"white\",\"linecolor\":\"white\",\"ticks\":\"\"}},\"title\":{\"x\":0.05},\"xaxis\":{\"automargin\":true,\"gridcolor\":\"white\",\"linecolor\":\"white\",\"ticks\":\"\",\"title\":{\"standoff\":15},\"zerolinecolor\":\"white\",\"zerolinewidth\":2},\"yaxis\":{\"automargin\":true,\"gridcolor\":\"white\",\"linecolor\":\"white\",\"ticks\":\"\",\"title\":{\"standoff\":15},\"zerolinecolor\":\"white\",\"zerolinewidth\":2}}}},                        {\"responsive\": true}                    ).then(function(){\n",
       "                            \n",
       "var gd = document.getElementById('3ebf4e69-0b8a-4ccb-ab91-dbb3a418b0fe');\n",
       "var x = new MutationObserver(function (mutations, observer) {{\n",
       "        var display = window.getComputedStyle(gd).display;\n",
       "        if (!display || display === 'none') {{\n",
       "            console.log([gd, 'removed!']);\n",
       "            Plotly.purge(gd);\n",
       "            observer.disconnect();\n",
       "        }}\n",
       "}});\n",
       "\n",
       "// Listen for the removal of the full notebook cells\n",
       "var notebookContainer = gd.closest('#notebook-container');\n",
       "if (notebookContainer) {{\n",
       "    x.observe(notebookContainer, {childList: true});\n",
       "}}\n",
       "\n",
       "// Listen for the clearing of the current output cell\n",
       "var outputEl = gd.closest('.output');\n",
       "if (outputEl) {{\n",
       "    x.observe(outputEl, {childList: true});\n",
       "}}\n",
       "\n",
       "                        })                };                });            </script>        </div>"
      ]
     },
     "metadata": {},
     "output_type": "display_data"
    }
   ],
   "source": [
    "fig = optuna.visualization.plot_optimization_history(study)\n",
    "fig.show()"
   ]
  },
  {
   "cell_type": "code",
   "execution_count": null,
   "id": "5b3a62ca",
   "metadata": {},
   "outputs": [],
   "source": [
    "\n",
    "sampler = optuna.samplers.RandomSampler(seed=10)\n",
    "study = optuna.create_study(sampler=sampler)\n",
    "study.optimize(objective, n_trials=100)\n",
    "\n",
    "fig = optuna.visualization.plot_param_importances(study)\n",
    "fig.show()"
   ]
  },
  {
   "cell_type": "markdown",
   "id": "eed7fbc8",
   "metadata": {},
   "source": [
    "## Neuronal Network Hyperparameters tunning with Optuna"
   ]
  },
  {
   "cell_type": "code",
   "execution_count": 56,
   "id": "eed0e98d",
   "metadata": {},
   "outputs": [],
   "source": [
    "import torch\n",
    "\n",
    "class Dataset(torch.utils.data.Dataset):\n",
    "\n",
    "    def __init__(self, df):\n",
    "        self.labels=list(df.target)\n",
    "        self.features = df.drop(columns=['target'], axis=1).values.tolist()\n",
    "\n",
    "    def classes(self):\n",
    "        return self.labels\n",
    "\n",
    "    def __len__(self):\n",
    "        return len(self.labels)\n",
    "\n",
    "    def get_batch_labels(self, idx):\n",
    "        return np.array(self.labels[idx])\n",
    "\n",
    "    def get_batch_features(self, idx):\n",
    "        return np.array(self.features[idx])\n",
    "\n",
    "    def __getitem__(self, idx):\n",
    "        batch_features = self.get_batch_features(idx)\n",
    "        batch_y = self.get_batch_labels(idx)\n",
    "\n",
    "        return batch_features, batch_y"
   ]
  },
  {
   "cell_type": "code",
   "execution_count": 55,
   "id": "571030a4",
   "metadata": {},
   "outputs": [],
   "source": [
    "def build_model(params):\n",
    "    \n",
    "    in_features = 6 #number of features, it can be changed if new columns added\n",
    "    \n",
    "    return nn.Sequential(\n",
    "    \n",
    "        nn.Linear(in_features, params['n_unit']),\n",
    "        nn.LeakyReLU(),\n",
    "        nn.Linear(params['n_unit'], 2),\n",
    "        nn.LeakyReLU()\n",
    "        \n",
    "    )\n",
    " \n"
   ]
  },
  {
   "cell_type": "code",
   "execution_count": 59,
   "id": "42722802",
   "metadata": {},
   "outputs": [],
   "source": [
    " \n",
    "# Train and evaluate the accuarcy of neural network model\n",
    "def train_and_evaluate(df, param, model):\n",
    "        \n",
    "    train_data, val_data = train_test_split(df, test_size = 0.2, random_state = 42)\n",
    "    train, val = Dataset(train_data), Dataset(val_data)\n",
    "\n",
    "    train_dataloader = torch.utils.data.DataLoader(train, batch_size=2, shuffle=True)\n",
    "    val_dataloader = torch.utils.data.DataLoader(val, batch_size=2)\n",
    "\n",
    "    use_cuda = torch.cuda.is_available()\n",
    "    device = torch.device(\"cuda\" if use_cuda else \"cpu\")\n",
    "\n",
    "    criterion = nn.CrossEntropyLoss()\n",
    "    optimizer = getattr(optim, param['optimizer'])(model.parameters(), lr= param['learning_rate'])\n",
    "\n",
    "    if use_cuda:\n",
    "\n",
    "            model = model.cuda()\n",
    "            criterion = criterion.cuda()\n",
    "\n",
    "    for epoch_num in range(EPOCHS):\n",
    "\n",
    "            total_acc_train = 0\n",
    "            total_loss_train = 0\n",
    "\n",
    "            for train_input, train_label in train_dataloader:\n",
    "\n",
    "                train_label = train_label.to(device)\n",
    "                train_input = train_input.to(device)\n",
    "\n",
    "                output = model(train_input.float())\n",
    "                \n",
    "                batch_loss = criterion(output, train_label.long())\n",
    "                total_loss_train += batch_loss.item()\n",
    "                \n",
    "                acc = (output.argmax(dim=1) == train_label).sum().item()\n",
    "                total_acc_train += acc\n",
    "\n",
    "                model.zero_grad()\n",
    "                batch_loss.backward()\n",
    "                optimizer.step()\n",
    "            \n",
    "            total_acc_val = 0\n",
    "            total_loss_val = 0\n",
    "\n",
    "            with torch.no_grad():\n",
    "\n",
    "                for val_input, val_label in val_dataloader:\n",
    "\n",
    "                    val_label = val_label.to(device)\n",
    "                    val_input = val_input.to(device)\n",
    "\n",
    "                    output = model(val_input.float())\n",
    "\n",
    "                    batch_loss = criterion(output, val_label.long())\n",
    "                    total_loss_val += batch_loss.item()\n",
    "                    \n",
    "                    acc = (output.argmax(dim=1) == val_label).sum().item()\n",
    "                    total_acc_val += acc\n",
    "            \n",
    "            #accuracy = total_acc_val/len(val_data)\n",
    "            f1macro= f1_score(val_label, \n",
    "                            output.argmax(dim=1), \n",
    "                            average = 'macro'\n",
    "                            )\n",
    "            \n",
    "\n",
    "    return f1macro\n",
    "  "
   ]
  },
  {
   "cell_type": "code",
   "execution_count": 60,
   "id": "02cc84a5",
   "metadata": {},
   "outputs": [],
   "source": [
    " # Define a set of hyperparameter values, build the model, train the model, and evaluate the f1 screo \n",
    "def objective(trial):\n",
    "\n",
    "     params = {\n",
    "              'learning_rate': trial.suggest_loguniform('learning_rate', 1e-5, 1e-1),\n",
    "              'optimizer': trial.suggest_categorical(\"optimizer\", [\"Adam\", \"RMSprop\", \"SGD\"]),\n",
    "              'n_unit': trial.suggest_int(\"n_unit\", 4, 18)\n",
    "              }\n",
    "    \n",
    "     model = build_model(params)\n",
    "    \n",
    "     f1macro = train_and_evaluate(params, model)\n",
    "\n",
    "     return f1macro"
   ]
  },
  {
   "cell_type": "code",
   "execution_count": 61,
   "id": "ebf61a13",
   "metadata": {},
   "outputs": [
    {
     "name": "stderr",
     "output_type": "stream",
     "text": [
      "\u001b[32m[I 2022-06-14 21:25:17,591]\u001b[0m A new study created in memory with name: no-name-85f95a65-5bab-429a-9656-e1f00a43eae9\u001b[0m\n",
      "\u001b[33m[W 2022-06-14 21:25:17,600]\u001b[0m Trial 0 failed because of the following error: NameError(\"name 'nn' is not defined\")\u001b[0m\n",
      "Traceback (most recent call last):\n",
      "  File \"c:\\Users\\march\\anaconda3\\envs\\EDA_i_ML_37\\lib\\site-packages\\optuna\\study\\_optimize.py\", line 213, in _run_trial\n",
      "    value_or_values = func(trial)\n",
      "  File \"C:\\Users\\march\\AppData\\Local\\Temp\\ipykernel_2288\\2736809180.py\", line 10, in objective\n",
      "    model = build_model(params)\n",
      "  File \"C:\\Users\\march\\AppData\\Local\\Temp\\ipykernel_2288\\2728040426.py\", line 5, in build_model\n",
      "    return nn.Sequential(\n",
      "NameError: name 'nn' is not defined\n"
     ]
    },
    {
     "ename": "NameError",
     "evalue": "name 'nn' is not defined",
     "output_type": "error",
     "traceback": [
      "\u001b[1;31m---------------------------------------------------------------------------\u001b[0m",
      "\u001b[1;31mNameError\u001b[0m                                 Traceback (most recent call last)",
      "\u001b[1;32m~\\AppData\\Local\\Temp\\ipykernel_2288\\549918647.py\u001b[0m in \u001b[0;36m<module>\u001b[1;34m\u001b[0m\n\u001b[0;32m      2\u001b[0m \u001b[1;33m\u001b[0m\u001b[0m\n\u001b[0;32m      3\u001b[0m \u001b[0mstudy\u001b[0m \u001b[1;33m=\u001b[0m \u001b[0moptuna\u001b[0m\u001b[1;33m.\u001b[0m\u001b[0mcreate_study\u001b[0m\u001b[1;33m(\u001b[0m\u001b[0mdirection\u001b[0m\u001b[1;33m=\u001b[0m\u001b[1;34m\"maximize\"\u001b[0m\u001b[1;33m,\u001b[0m \u001b[0msampler\u001b[0m\u001b[1;33m=\u001b[0m\u001b[0moptuna\u001b[0m\u001b[1;33m.\u001b[0m\u001b[0msamplers\u001b[0m\u001b[1;33m.\u001b[0m\u001b[0mTPESampler\u001b[0m\u001b[1;33m(\u001b[0m\u001b[1;33m)\u001b[0m\u001b[1;33m)\u001b[0m\u001b[1;33m\u001b[0m\u001b[1;33m\u001b[0m\u001b[0m\n\u001b[1;32m----> 4\u001b[1;33m \u001b[0mstudy\u001b[0m\u001b[1;33m.\u001b[0m\u001b[0moptimize\u001b[0m\u001b[1;33m(\u001b[0m\u001b[0mobjective\u001b[0m\u001b[1;33m,\u001b[0m \u001b[0mn_trials\u001b[0m\u001b[1;33m=\u001b[0m\u001b[1;36m30\u001b[0m\u001b[1;33m)\u001b[0m\u001b[1;33m\u001b[0m\u001b[1;33m\u001b[0m\u001b[0m\n\u001b[0m",
      "\u001b[1;32mc:\\Users\\march\\anaconda3\\envs\\EDA_i_ML_37\\lib\\site-packages\\optuna\\study\\study.py\u001b[0m in \u001b[0;36moptimize\u001b[1;34m(self, func, n_trials, timeout, n_jobs, catch, callbacks, gc_after_trial, show_progress_bar)\u001b[0m\n\u001b[0;32m    407\u001b[0m             \u001b[0mcallbacks\u001b[0m\u001b[1;33m=\u001b[0m\u001b[0mcallbacks\u001b[0m\u001b[1;33m,\u001b[0m\u001b[1;33m\u001b[0m\u001b[1;33m\u001b[0m\u001b[0m\n\u001b[0;32m    408\u001b[0m             \u001b[0mgc_after_trial\u001b[0m\u001b[1;33m=\u001b[0m\u001b[0mgc_after_trial\u001b[0m\u001b[1;33m,\u001b[0m\u001b[1;33m\u001b[0m\u001b[1;33m\u001b[0m\u001b[0m\n\u001b[1;32m--> 409\u001b[1;33m             \u001b[0mshow_progress_bar\u001b[0m\u001b[1;33m=\u001b[0m\u001b[0mshow_progress_bar\u001b[0m\u001b[1;33m,\u001b[0m\u001b[1;33m\u001b[0m\u001b[1;33m\u001b[0m\u001b[0m\n\u001b[0m\u001b[0;32m    410\u001b[0m         )\n\u001b[0;32m    411\u001b[0m \u001b[1;33m\u001b[0m\u001b[0m\n",
      "\u001b[1;32mc:\\Users\\march\\anaconda3\\envs\\EDA_i_ML_37\\lib\\site-packages\\optuna\\study\\_optimize.py\u001b[0m in \u001b[0;36m_optimize\u001b[1;34m(study, func, n_trials, timeout, n_jobs, catch, callbacks, gc_after_trial, show_progress_bar)\u001b[0m\n\u001b[0;32m     74\u001b[0m                 \u001b[0mreseed_sampler_rng\u001b[0m\u001b[1;33m=\u001b[0m\u001b[1;32mFalse\u001b[0m\u001b[1;33m,\u001b[0m\u001b[1;33m\u001b[0m\u001b[1;33m\u001b[0m\u001b[0m\n\u001b[0;32m     75\u001b[0m                 \u001b[0mtime_start\u001b[0m\u001b[1;33m=\u001b[0m\u001b[1;32mNone\u001b[0m\u001b[1;33m,\u001b[0m\u001b[1;33m\u001b[0m\u001b[1;33m\u001b[0m\u001b[0m\n\u001b[1;32m---> 76\u001b[1;33m                 \u001b[0mprogress_bar\u001b[0m\u001b[1;33m=\u001b[0m\u001b[0mprogress_bar\u001b[0m\u001b[1;33m,\u001b[0m\u001b[1;33m\u001b[0m\u001b[1;33m\u001b[0m\u001b[0m\n\u001b[0m\u001b[0;32m     77\u001b[0m             )\n\u001b[0;32m     78\u001b[0m         \u001b[1;32melse\u001b[0m\u001b[1;33m:\u001b[0m\u001b[1;33m\u001b[0m\u001b[1;33m\u001b[0m\u001b[0m\n",
      "\u001b[1;32mc:\\Users\\march\\anaconda3\\envs\\EDA_i_ML_37\\lib\\site-packages\\optuna\\study\\_optimize.py\u001b[0m in \u001b[0;36m_optimize_sequential\u001b[1;34m(study, func, n_trials, timeout, catch, callbacks, gc_after_trial, reseed_sampler_rng, time_start, progress_bar)\u001b[0m\n\u001b[0;32m    161\u001b[0m \u001b[1;33m\u001b[0m\u001b[0m\n\u001b[0;32m    162\u001b[0m         \u001b[1;32mtry\u001b[0m\u001b[1;33m:\u001b[0m\u001b[1;33m\u001b[0m\u001b[1;33m\u001b[0m\u001b[0m\n\u001b[1;32m--> 163\u001b[1;33m             \u001b[0mtrial\u001b[0m \u001b[1;33m=\u001b[0m \u001b[0m_run_trial\u001b[0m\u001b[1;33m(\u001b[0m\u001b[0mstudy\u001b[0m\u001b[1;33m,\u001b[0m \u001b[0mfunc\u001b[0m\u001b[1;33m,\u001b[0m \u001b[0mcatch\u001b[0m\u001b[1;33m)\u001b[0m\u001b[1;33m\u001b[0m\u001b[1;33m\u001b[0m\u001b[0m\n\u001b[0m\u001b[0;32m    164\u001b[0m         \u001b[1;32mexcept\u001b[0m \u001b[0mException\u001b[0m\u001b[1;33m:\u001b[0m\u001b[1;33m\u001b[0m\u001b[1;33m\u001b[0m\u001b[0m\n\u001b[0;32m    165\u001b[0m             \u001b[1;32mraise\u001b[0m\u001b[1;33m\u001b[0m\u001b[1;33m\u001b[0m\u001b[0m\n",
      "\u001b[1;32mc:\\Users\\march\\anaconda3\\envs\\EDA_i_ML_37\\lib\\site-packages\\optuna\\study\\_optimize.py\u001b[0m in \u001b[0;36m_run_trial\u001b[1;34m(study, func, catch)\u001b[0m\n\u001b[0;32m    262\u001b[0m \u001b[1;33m\u001b[0m\u001b[0m\n\u001b[0;32m    263\u001b[0m     \u001b[1;32mif\u001b[0m \u001b[0mstate\u001b[0m \u001b[1;33m==\u001b[0m \u001b[0mTrialState\u001b[0m\u001b[1;33m.\u001b[0m\u001b[0mFAIL\u001b[0m \u001b[1;32mand\u001b[0m \u001b[0mfunc_err\u001b[0m \u001b[1;32mis\u001b[0m \u001b[1;32mnot\u001b[0m \u001b[1;32mNone\u001b[0m \u001b[1;32mand\u001b[0m \u001b[1;32mnot\u001b[0m \u001b[0misinstance\u001b[0m\u001b[1;33m(\u001b[0m\u001b[0mfunc_err\u001b[0m\u001b[1;33m,\u001b[0m \u001b[0mcatch\u001b[0m\u001b[1;33m)\u001b[0m\u001b[1;33m:\u001b[0m\u001b[1;33m\u001b[0m\u001b[1;33m\u001b[0m\u001b[0m\n\u001b[1;32m--> 264\u001b[1;33m         \u001b[1;32mraise\u001b[0m \u001b[0mfunc_err\u001b[0m\u001b[1;33m\u001b[0m\u001b[1;33m\u001b[0m\u001b[0m\n\u001b[0m\u001b[0;32m    265\u001b[0m     \u001b[1;32mreturn\u001b[0m \u001b[0mtrial\u001b[0m\u001b[1;33m\u001b[0m\u001b[1;33m\u001b[0m\u001b[0m\n\u001b[0;32m    266\u001b[0m \u001b[1;33m\u001b[0m\u001b[0m\n",
      "\u001b[1;32mc:\\Users\\march\\anaconda3\\envs\\EDA_i_ML_37\\lib\\site-packages\\optuna\\study\\_optimize.py\u001b[0m in \u001b[0;36m_run_trial\u001b[1;34m(study, func, catch)\u001b[0m\n\u001b[0;32m    211\u001b[0m \u001b[1;33m\u001b[0m\u001b[0m\n\u001b[0;32m    212\u001b[0m     \u001b[1;32mtry\u001b[0m\u001b[1;33m:\u001b[0m\u001b[1;33m\u001b[0m\u001b[1;33m\u001b[0m\u001b[0m\n\u001b[1;32m--> 213\u001b[1;33m         \u001b[0mvalue_or_values\u001b[0m \u001b[1;33m=\u001b[0m \u001b[0mfunc\u001b[0m\u001b[1;33m(\u001b[0m\u001b[0mtrial\u001b[0m\u001b[1;33m)\u001b[0m\u001b[1;33m\u001b[0m\u001b[1;33m\u001b[0m\u001b[0m\n\u001b[0m\u001b[0;32m    214\u001b[0m     \u001b[1;32mexcept\u001b[0m \u001b[0mexceptions\u001b[0m\u001b[1;33m.\u001b[0m\u001b[0mTrialPruned\u001b[0m \u001b[1;32mas\u001b[0m \u001b[0me\u001b[0m\u001b[1;33m:\u001b[0m\u001b[1;33m\u001b[0m\u001b[1;33m\u001b[0m\u001b[0m\n\u001b[0;32m    215\u001b[0m         \u001b[1;31m# TODO(mamu): Handle multi-objective cases.\u001b[0m\u001b[1;33m\u001b[0m\u001b[1;33m\u001b[0m\u001b[1;33m\u001b[0m\u001b[0m\n",
      "\u001b[1;32m~\\AppData\\Local\\Temp\\ipykernel_2288\\2736809180.py\u001b[0m in \u001b[0;36mobjective\u001b[1;34m(trial)\u001b[0m\n\u001b[0;32m      8\u001b[0m              }\n\u001b[0;32m      9\u001b[0m \u001b[1;33m\u001b[0m\u001b[0m\n\u001b[1;32m---> 10\u001b[1;33m     \u001b[0mmodel\u001b[0m \u001b[1;33m=\u001b[0m \u001b[0mbuild_model\u001b[0m\u001b[1;33m(\u001b[0m\u001b[0mparams\u001b[0m\u001b[1;33m)\u001b[0m\u001b[1;33m\u001b[0m\u001b[1;33m\u001b[0m\u001b[0m\n\u001b[0m\u001b[0;32m     11\u001b[0m \u001b[1;33m\u001b[0m\u001b[0m\n\u001b[0;32m     12\u001b[0m     \u001b[0mf1macro\u001b[0m \u001b[1;33m=\u001b[0m \u001b[0mtrain_and_evaluate\u001b[0m\u001b[1;33m(\u001b[0m\u001b[0mparams\u001b[0m\u001b[1;33m,\u001b[0m \u001b[0mmodel\u001b[0m\u001b[1;33m)\u001b[0m\u001b[1;33m\u001b[0m\u001b[1;33m\u001b[0m\u001b[0m\n",
      "\u001b[1;32m~\\AppData\\Local\\Temp\\ipykernel_2288\\2728040426.py\u001b[0m in \u001b[0;36mbuild_model\u001b[1;34m(params)\u001b[0m\n\u001b[0;32m      3\u001b[0m     \u001b[0min_features\u001b[0m \u001b[1;33m=\u001b[0m \u001b[1;36m6\u001b[0m \u001b[1;31m#number of features, it can be changed if new columns added\u001b[0m\u001b[1;33m\u001b[0m\u001b[1;33m\u001b[0m\u001b[0m\n\u001b[0;32m      4\u001b[0m \u001b[1;33m\u001b[0m\u001b[0m\n\u001b[1;32m----> 5\u001b[1;33m     return nn.Sequential(\n\u001b[0m\u001b[0;32m      6\u001b[0m \u001b[1;33m\u001b[0m\u001b[0m\n\u001b[0;32m      7\u001b[0m         \u001b[0mnn\u001b[0m\u001b[1;33m.\u001b[0m\u001b[0mLinear\u001b[0m\u001b[1;33m(\u001b[0m\u001b[0min_features\u001b[0m\u001b[1;33m,\u001b[0m \u001b[0mparams\u001b[0m\u001b[1;33m[\u001b[0m\u001b[1;34m'n_unit'\u001b[0m\u001b[1;33m]\u001b[0m\u001b[1;33m)\u001b[0m\u001b[1;33m,\u001b[0m\u001b[1;33m\u001b[0m\u001b[1;33m\u001b[0m\u001b[0m\n",
      "\u001b[1;31mNameError\u001b[0m: name 'nn' is not defined"
     ]
    }
   ],
   "source": [
    "\n",
    "EPOCHS = 30\n",
    "    \n",
    "study = optuna.create_study(direction=\"maximize\", sampler=optuna.samplers.TPESampler())\n",
    "study.optimize(objective, n_trials=30)"
   ]
  },
  {
   "cell_type": "code",
   "execution_count": null,
   "id": "065656af",
   "metadata": {},
   "outputs": [],
   "source": []
  },
  {
   "cell_type": "code",
   "execution_count": null,
   "id": "70502bab",
   "metadata": {},
   "outputs": [],
   "source": []
  },
  {
   "cell_type": "code",
   "execution_count": 28,
   "id": "71832641",
   "metadata": {
    "ExecuteTime": {
     "end_time": "2022-05-29T11:55:41.218941Z",
     "start_time": "2022-05-29T11:55:41.206972Z"
    }
   },
   "outputs": [],
   "source": [
    "def detailed_objective(trial):\n",
    "    # Use same code objective to reproduce the best model\n",
    "    X, y = make_classification(n_features=10, random_state=1)\n",
    "    X_train, X_test, y_train, y_test = train_test_split(X, y, random_state=1)\n",
    "    C = trial.suggest_loguniform(\"C\", 1e-7, 10.0)\n",
    "    clf = LogisticRegression(C=C)\n",
    "    clf.fit(X_train, y_train)\n",
    "    # calculate more evaluation metrics\n",
    "    pred = clf.predict(X_test)\n",
    "    acc = metrics.accuracy_score(pred, y_test)\n",
    "    recall = metrics.recall_score(pred, y_test)\n",
    "    precision = metrics.precision_score(pred, y_test)\n",
    "    f1 = metrics.f1_score(pred, y_test)\n",
    "    return acc, f1, recall, precision\n"
   ]
  },
  {
   "cell_type": "code",
   "execution_count": null,
   "id": "92aca693",
   "metadata": {},
   "outputs": [],
   "source": []
  },
  {
   "cell_type": "code",
   "execution_count": null,
   "id": "38823f97",
   "metadata": {},
   "outputs": [],
   "source": []
  },
  {
   "cell_type": "code",
   "execution_count": 342,
   "id": "2bc46fe9",
   "metadata": {
    "ExecuteTime": {
     "end_time": "2022-05-28T20:08:34.333208Z",
     "start_time": "2022-05-28T20:06:56.274561Z"
    }
   },
   "outputs": [
    {
     "name": "stdout",
     "output_type": "stream",
     "text": [
      "Fitting 5 folds for each of 28 candidates, totalling 140 fits\n"
     ]
    },
    {
     "name": "stderr",
     "output_type": "stream",
     "text": [
      "[Parallel(n_jobs=4)]: Using backend LokyBackend with 4 concurrent workers.\n",
      "[Parallel(n_jobs=4)]: Done  17 tasks      | elapsed:    9.2s\n",
      "[Parallel(n_jobs=4)]: Done  90 tasks      | elapsed:   45.5s\n",
      "[Parallel(n_jobs=4)]: Done 140 out of 140 | elapsed:  1.6min finished\n"
     ]
    },
    {
     "data": {
      "text/plain": [
       "GridSearchCV(cv=5, error_score=nan,\n",
       "             estimator=ExtraTreesClassifier(bootstrap=False, ccp_alpha=0.0,\n",
       "                                            class_weight=None, criterion='gini',\n",
       "                                            max_depth=None, max_features='auto',\n",
       "                                            max_leaf_nodes=None,\n",
       "                                            max_samples=None,\n",
       "                                            min_impurity_decrease=0.0,\n",
       "                                            min_impurity_split=None,\n",
       "                                            min_samples_leaf=1,\n",
       "                                            min_samples_split=2,\n",
       "                                            min_weight_fraction_leaf=0.0,\n",
       "                                            n_estimators=100, n_jobs=None,\n",
       "                                            oob_score=False, random_state=None,\n",
       "                                            verbose=0, warm_start=False),\n",
       "             iid='deprecated', n_jobs=4,\n",
       "             param_grid={'n_estimators': range(20, 300, 10)},\n",
       "             pre_dispatch='2*n_jobs', refit=True, return_train_score=False,\n",
       "             scoring=None, verbose=4)"
      ]
     },
     "execution_count": 342,
     "metadata": {},
     "output_type": "execute_result"
    }
   ],
   "source": [
    "param_test1 = {'n_estimators':range(20,300,10)}\n",
    "gsearch1 = GridSearchCV(estimator = ExtraTreesClassifier(),\n",
    "                        param_grid = param_test1, \n",
    "                        n_jobs = 4, \n",
    "                        cv = 5,\n",
    "                        verbose = 4,\n",
    ")\n",
    "\n",
    "gsearch1.fit(X_train,y_train)"
   ]
  },
  {
   "cell_type": "code",
   "execution_count": 343,
   "id": "69347d5e",
   "metadata": {
    "ExecuteTime": {
     "end_time": "2022-05-28T20:08:37.804686Z",
     "start_time": "2022-05-28T20:08:37.787730Z"
    }
   },
   "outputs": [
    {
     "data": {
      "text/plain": [
       "({'n_estimators': 240}, 0.689068136145903)"
      ]
     },
     "execution_count": 343,
     "metadata": {},
     "output_type": "execute_result"
    }
   ],
   "source": [
    "gsearch1.best_params_, gsearch1.best_score_"
   ]
  },
  {
   "cell_type": "code",
   "execution_count": 351,
   "id": "9a16033f",
   "metadata": {
    "ExecuteTime": {
     "end_time": "2022-05-28T20:19:02.010048Z",
     "start_time": "2022-05-28T20:19:01.781459Z"
    }
   },
   "outputs": [
    {
     "data": {
      "text/plain": [
       "0.7137069661061817"
      ]
     },
     "execution_count": 351,
     "metadata": {},
     "output_type": "execute_result"
    }
   ],
   "source": [
    "scoring_f1(y_test,X_test,gsearch1)"
   ]
  },
  {
   "cell_type": "code",
   "execution_count": 345,
   "id": "15481f60",
   "metadata": {
    "ExecuteTime": {
     "end_time": "2022-05-28T20:13:58.838437Z",
     "start_time": "2022-05-28T20:13:37.194288Z"
    }
   },
   "outputs": [
    {
     "name": "stdout",
     "output_type": "stream",
     "text": [
      "Fitting 5 folds for each of 3 candidates, totalling 15 fits\n"
     ]
    },
    {
     "name": "stderr",
     "output_type": "stream",
     "text": [
      "[Parallel(n_jobs=4)]: Using backend LokyBackend with 4 concurrent workers.\n",
      "[Parallel(n_jobs=4)]: Done  12 out of  15 | elapsed:   16.7s remaining:    4.1s\n",
      "[Parallel(n_jobs=4)]: Done  15 out of  15 | elapsed:   18.9s finished\n"
     ]
    },
    {
     "data": {
      "text/plain": [
       "GridSearchCV(cv=5, error_score=nan,\n",
       "             estimator=ExtraTreesClassifier(bootstrap=False, ccp_alpha=0.0,\n",
       "                                            class_weight=None, criterion='gini',\n",
       "                                            max_depth=None, max_features='auto',\n",
       "                                            max_leaf_nodes=None,\n",
       "                                            max_samples=None,\n",
       "                                            min_impurity_decrease=0.0,\n",
       "                                            min_impurity_split=None,\n",
       "                                            min_samples_leaf=1,\n",
       "                                            min_samples_split=2,\n",
       "                                            min_weight_fraction_leaf=0.0,\n",
       "                                            n_estimators=100, n_jobs=None,\n",
       "                                            oob_score=False, random_state=None,\n",
       "                                            verbose=0, warm_start=False),\n",
       "             iid='deprecated', n_jobs=4,\n",
       "             param_grid={'criterion': ['gini', 'entropy', 'log_loss'],\n",
       "                         'n_estimators': [240]},\n",
       "             pre_dispatch='2*n_jobs', refit=True, return_train_score=False,\n",
       "             scoring=None, verbose=4)"
      ]
     },
     "execution_count": 345,
     "metadata": {},
     "output_type": "execute_result"
    }
   ],
   "source": [
    "param_test2 = {'n_estimators':[240], 'criterion': ['gini', 'entropy', 'log_loss']}\n",
    "gsearch2 = GridSearchCV(estimator = ExtraTreesClassifier(),\n",
    "                        param_grid = param_test2, \n",
    "                        n_jobs = 4, \n",
    "                        cv = 5,\n",
    "                        verbose = 4,\n",
    ")\n",
    "\n",
    "gsearch2.fit(X_train,y_train)"
   ]
  },
  {
   "cell_type": "code",
   "execution_count": 346,
   "id": "07c0d336",
   "metadata": {
    "ExecuteTime": {
     "end_time": "2022-05-28T20:13:58.872347Z",
     "start_time": "2022-05-28T20:13:58.845419Z"
    }
   },
   "outputs": [
    {
     "data": {
      "text/plain": [
       "({'criterion': 'entropy', 'n_estimators': 240}, 0.6879447934176766)"
      ]
     },
     "execution_count": 346,
     "metadata": {},
     "output_type": "execute_result"
    }
   ],
   "source": [
    "gsearch2.best_params_, gsearch2.best_score_"
   ]
  },
  {
   "cell_type": "code",
   "execution_count": 350,
   "id": "b7a543cd",
   "metadata": {
    "ExecuteTime": {
     "end_time": "2022-05-28T20:18:26.742838Z",
     "start_time": "2022-05-28T20:18:26.500104Z"
    }
   },
   "outputs": [
    {
     "data": {
      "text/plain": [
       "0.7126813595129133"
      ]
     },
     "execution_count": 350,
     "metadata": {},
     "output_type": "execute_result"
    }
   ],
   "source": [
    "scoring_f1(y_test,X_test,gsearch2)"
   ]
  },
  {
   "cell_type": "code",
   "execution_count": 352,
   "id": "659311fa",
   "metadata": {
    "ExecuteTime": {
     "end_time": "2022-05-28T20:19:50.751658Z",
     "start_time": "2022-05-28T20:19:34.147719Z"
    }
   },
   "outputs": [
    {
     "name": "stdout",
     "output_type": "stream",
     "text": [
      "Fitting 5 folds for each of 1 candidates, totalling 5 fits\n"
     ]
    },
    {
     "name": "stderr",
     "output_type": "stream",
     "text": [
      "[Parallel(n_jobs=4)]: Using backend LokyBackend with 4 concurrent workers.\n",
      "[Parallel(n_jobs=4)]: Done   2 out of   5 | elapsed:   10.7s remaining:   16.1s\n",
      "[Parallel(n_jobs=4)]: Done   5 out of   5 | elapsed:   13.7s finished\n"
     ]
    },
    {
     "data": {
      "text/plain": [
       "GridSearchCV(cv=5, error_score=nan,\n",
       "             estimator=ExtraTreesClassifier(bootstrap=False, ccp_alpha=0.0,\n",
       "                                            class_weight=None, criterion='gini',\n",
       "                                            max_depth=None, max_features='auto',\n",
       "                                            max_leaf_nodes=None,\n",
       "                                            max_samples=None,\n",
       "                                            min_impurity_decrease=0.0,\n",
       "                                            min_impurity_split=None,\n",
       "                                            min_samples_leaf=1,\n",
       "                                            min_samples_split=2,\n",
       "                                            min_weight_fraction_leaf=0.0,\n",
       "                                            n_estimators=100, n_jobs=None,\n",
       "                                            oob_score=False, random_state=None,\n",
       "                                            verbose=0, warm_start=False),\n",
       "             iid='deprecated', n_jobs=4,\n",
       "             param_grid={'criterion': ['entropy'], 'n_estimators': [240]},\n",
       "             pre_dispatch='2*n_jobs', refit=True, return_train_score=False,\n",
       "             scoring=None, verbose=4)"
      ]
     },
     "execution_count": 352,
     "metadata": {},
     "output_type": "execute_result"
    }
   ],
   "source": [
    "param_test3 = {'n_estimators':[240], 'criterion': ['entropy']}\n",
    "gsearch3 = GridSearchCV(estimator = ExtraTreesClassifier(),\n",
    "                        param_grid = param_test3, \n",
    "                        n_jobs = 4, \n",
    "                        cv = 5,\n",
    "                        verbose = 4,\n",
    ")\n",
    "\n",
    "gsearch3.fit(X_train,y_train)"
   ]
  },
  {
   "cell_type": "markdown",
   "id": "1d682918",
   "metadata": {},
   "source": [
    "## test_X prediction"
   ]
  },
  {
   "cell_type": "markdown",
   "id": "07490cdb",
   "metadata": {
    "ExecuteTime": {
     "end_time": "2022-05-28T20:23:13.214367Z",
     "start_time": "2022-05-28T20:23:13.185447Z"
    }
   },
   "source": [
    "To take advantage of all the dataset, the model with the best hyperparameters is fitted with the whole train data:"
   ]
  },
  {
   "cell_type": "code",
   "execution_count": 362,
   "id": "5cd231d0",
   "metadata": {
    "ExecuteTime": {
     "end_time": "2022-05-28T20:35:08.671847Z",
     "start_time": "2022-05-28T20:35:08.647911Z"
    }
   },
   "outputs": [],
   "source": [
    "best_final_model = ExtraTreesClassifier(class_weight=None, \n",
    "                                  criterion='entropy',\n",
    "                                max_depth=None, \n",
    "                                max_features='auto',\n",
    "                                max_leaf_nodes=None,\n",
    "                                max_samples=None,\n",
    "                                min_impurity_decrease=0.0,\n",
    "                                min_impurity_split=None,\n",
    "                                min_samples_leaf=1,\n",
    "                                min_samples_split=2,\n",
    "                                min_weight_fraction_leaf=0.0,\n",
    "                                n_estimators=240, \n",
    "                                n_jobs=5,\n",
    "                                random_state=None,\n",
    "                                )"
   ]
  },
  {
   "cell_type": "code",
   "execution_count": 369,
   "id": "e76472e4",
   "metadata": {
    "ExecuteTime": {
     "end_time": "2022-05-28T20:39:19.933966Z",
     "start_time": "2022-05-28T20:39:19.920006Z"
    }
   },
   "outputs": [],
   "source": [
    "X.drop('index', axis=1,inplace=True)"
   ]
  },
  {
   "cell_type": "code",
   "execution_count": 370,
   "id": "2726065a",
   "metadata": {
    "ExecuteTime": {
     "end_time": "2022-05-28T20:39:35.753173Z",
     "start_time": "2022-05-28T20:39:34.087609Z"
    },
    "scrolled": true
   },
   "outputs": [
    {
     "data": {
      "text/plain": [
       "ExtraTreesClassifier(bootstrap=False, ccp_alpha=0.0, class_weight=None,\n",
       "                     criterion='entropy', max_depth=None, max_features='auto',\n",
       "                     max_leaf_nodes=None, max_samples=None,\n",
       "                     min_impurity_decrease=0.0, min_impurity_split=None,\n",
       "                     min_samples_leaf=1, min_samples_split=2,\n",
       "                     min_weight_fraction_leaf=0.0, n_estimators=240, n_jobs=5,\n",
       "                     oob_score=False, random_state=None, verbose=0,\n",
       "                     warm_start=False)"
      ]
     },
     "execution_count": 370,
     "metadata": {},
     "output_type": "execute_result"
    }
   ],
   "source": [
    "best_final_model.fit(X,y)"
   ]
  },
  {
   "cell_type": "markdown",
   "id": "6a8d2f13",
   "metadata": {},
   "source": [
    "Charge test_X dataset to be predicted. First of all, additional columns have to be generated as the most useful dataframe (ibex_df4):"
   ]
  },
  {
   "cell_type": "code",
   "execution_count": 371,
   "id": "ddd73e7a",
   "metadata": {
    "ExecuteTime": {
     "end_time": "2022-05-28T20:40:10.432878Z",
     "start_time": "2022-05-28T20:40:10.393981Z"
    }
   },
   "outputs": [
    {
     "data": {
      "text/plain": [
       "test_index    0\n",
       "Date          0\n",
       "Open          0\n",
       "High          0\n",
       "Low           0\n",
       "Close         0\n",
       "Adj Close     0\n",
       "Volume        0\n",
       "dtype: int64"
      ]
     },
     "execution_count": 371,
     "metadata": {},
     "output_type": "execute_result"
    }
   ],
   "source": [
    "test_x=pd.read_csv('C:/Users/march/000 Treball Ju`yter 000/Hackathons/Tech_laCaixa2022/test_x.csv',index_col=None)\n",
    "\n",
    "test_x.isnull().sum()"
   ]
  },
  {
   "cell_type": "code",
   "execution_count": 372,
   "id": "109ef42d",
   "metadata": {
    "ExecuteTime": {
     "end_time": "2022-05-28T20:40:10.512666Z",
     "start_time": "2022-05-28T20:40:10.498703Z"
    }
   },
   "outputs": [
    {
     "data": {
      "text/plain": [
       "(726, 8)"
      ]
     },
     "execution_count": 372,
     "metadata": {},
     "output_type": "execute_result"
    }
   ],
   "source": [
    "test_x.shape"
   ]
  },
  {
   "cell_type": "code",
   "execution_count": 373,
   "id": "49f06f87",
   "metadata": {
    "ExecuteTime": {
     "end_time": "2022-05-28T20:40:10.672241Z",
     "start_time": "2022-05-28T20:40:10.639328Z"
    }
   },
   "outputs": [
    {
     "data": {
      "text/html": [
       "<div>\n",
       "<style scoped>\n",
       "    .dataframe tbody tr th:only-of-type {\n",
       "        vertical-align: middle;\n",
       "    }\n",
       "\n",
       "    .dataframe tbody tr th {\n",
       "        vertical-align: top;\n",
       "    }\n",
       "\n",
       "    .dataframe thead th {\n",
       "        text-align: right;\n",
       "    }\n",
       "</style>\n",
       "<table border=\"1\" class=\"dataframe\">\n",
       "  <thead>\n",
       "    <tr style=\"text-align: right;\">\n",
       "      <th></th>\n",
       "      <th>test_index</th>\n",
       "      <th>Date</th>\n",
       "      <th>Open</th>\n",
       "      <th>High</th>\n",
       "      <th>Low</th>\n",
       "      <th>Close</th>\n",
       "      <th>Adj Close</th>\n",
       "      <th>Volume</th>\n",
       "    </tr>\n",
       "  </thead>\n",
       "  <tbody>\n",
       "    <tr>\n",
       "      <th>0</th>\n",
       "      <td>6557</td>\n",
       "      <td>2019-06-05</td>\n",
       "      <td>9136.799805</td>\n",
       "      <td>9173.400391</td>\n",
       "      <td>9095.000000</td>\n",
       "      <td>9150.500000</td>\n",
       "      <td>9150.500000</td>\n",
       "      <td>158753000.0</td>\n",
       "    </tr>\n",
       "    <tr>\n",
       "      <th>1</th>\n",
       "      <td>6558</td>\n",
       "      <td>2019-06-06</td>\n",
       "      <td>9169.200195</td>\n",
       "      <td>9246.200195</td>\n",
       "      <td>9136.700195</td>\n",
       "      <td>9169.200195</td>\n",
       "      <td>9169.200195</td>\n",
       "      <td>212720900.0</td>\n",
       "    </tr>\n",
       "    <tr>\n",
       "      <th>2</th>\n",
       "      <td>6559</td>\n",
       "      <td>2019-06-07</td>\n",
       "      <td>9186.700195</td>\n",
       "      <td>9261.400391</td>\n",
       "      <td>9185.700195</td>\n",
       "      <td>9236.099609</td>\n",
       "      <td>9236.099609</td>\n",
       "      <td>150664700.0</td>\n",
       "    </tr>\n",
       "    <tr>\n",
       "      <th>3</th>\n",
       "      <td>6560</td>\n",
       "      <td>2019-06-10</td>\n",
       "      <td>9284.200195</td>\n",
       "      <td>9302.200195</td>\n",
       "      <td>9248.099609</td>\n",
       "      <td>9294.099609</td>\n",
       "      <td>9294.099609</td>\n",
       "      <td>102323700.0</td>\n",
       "    </tr>\n",
       "    <tr>\n",
       "      <th>4</th>\n",
       "      <td>6561</td>\n",
       "      <td>2019-06-11</td>\n",
       "      <td>9288.599609</td>\n",
       "      <td>9332.500000</td>\n",
       "      <td>9273.400391</td>\n",
       "      <td>9282.099609</td>\n",
       "      <td>9282.099609</td>\n",
       "      <td>144701200.0</td>\n",
       "    </tr>\n",
       "    <tr>\n",
       "      <th>...</th>\n",
       "      <td>...</td>\n",
       "      <td>...</td>\n",
       "      <td>...</td>\n",
       "      <td>...</td>\n",
       "      <td>...</td>\n",
       "      <td>...</td>\n",
       "      <td>...</td>\n",
       "      <td>...</td>\n",
       "    </tr>\n",
       "    <tr>\n",
       "      <th>721</th>\n",
       "      <td>7278</td>\n",
       "      <td>2022-03-25</td>\n",
       "      <td>8314.099609</td>\n",
       "      <td>8363.200195</td>\n",
       "      <td>8286.500000</td>\n",
       "      <td>8330.599609</td>\n",
       "      <td>8330.599609</td>\n",
       "      <td>156189000.0</td>\n",
       "    </tr>\n",
       "    <tr>\n",
       "      <th>722</th>\n",
       "      <td>7279</td>\n",
       "      <td>2022-03-28</td>\n",
       "      <td>8354.400391</td>\n",
       "      <td>8485.700195</td>\n",
       "      <td>8354.400391</td>\n",
       "      <td>8365.599609</td>\n",
       "      <td>8365.599609</td>\n",
       "      <td>167961800.0</td>\n",
       "    </tr>\n",
       "    <tr>\n",
       "      <th>723</th>\n",
       "      <td>7280</td>\n",
       "      <td>2022-03-29</td>\n",
       "      <td>8451.000000</td>\n",
       "      <td>8621.000000</td>\n",
       "      <td>8419.700195</td>\n",
       "      <td>8614.599609</td>\n",
       "      <td>8614.599609</td>\n",
       "      <td>257812200.0</td>\n",
       "    </tr>\n",
       "    <tr>\n",
       "      <th>724</th>\n",
       "      <td>7281</td>\n",
       "      <td>2022-03-30</td>\n",
       "      <td>8583.299805</td>\n",
       "      <td>8597.400391</td>\n",
       "      <td>8508.900391</td>\n",
       "      <td>8550.599609</td>\n",
       "      <td>8550.599609</td>\n",
       "      <td>185389000.0</td>\n",
       "    </tr>\n",
       "    <tr>\n",
       "      <th>725</th>\n",
       "      <td>7282</td>\n",
       "      <td>2022-03-31</td>\n",
       "      <td>8562.599609</td>\n",
       "      <td>8588.299805</td>\n",
       "      <td>8445.099609</td>\n",
       "      <td>8445.099609</td>\n",
       "      <td>8445.099609</td>\n",
       "      <td>220117500.0</td>\n",
       "    </tr>\n",
       "  </tbody>\n",
       "</table>\n",
       "<p>726 rows × 8 columns</p>\n",
       "</div>"
      ],
      "text/plain": [
       "     test_index        Date         Open         High          Low  \\\n",
       "0          6557  2019-06-05  9136.799805  9173.400391  9095.000000   \n",
       "1          6558  2019-06-06  9169.200195  9246.200195  9136.700195   \n",
       "2          6559  2019-06-07  9186.700195  9261.400391  9185.700195   \n",
       "3          6560  2019-06-10  9284.200195  9302.200195  9248.099609   \n",
       "4          6561  2019-06-11  9288.599609  9332.500000  9273.400391   \n",
       "..          ...         ...          ...          ...          ...   \n",
       "721        7278  2022-03-25  8314.099609  8363.200195  8286.500000   \n",
       "722        7279  2022-03-28  8354.400391  8485.700195  8354.400391   \n",
       "723        7280  2022-03-29  8451.000000  8621.000000  8419.700195   \n",
       "724        7281  2022-03-30  8583.299805  8597.400391  8508.900391   \n",
       "725        7282  2022-03-31  8562.599609  8588.299805  8445.099609   \n",
       "\n",
       "           Close    Adj Close       Volume  \n",
       "0    9150.500000  9150.500000  158753000.0  \n",
       "1    9169.200195  9169.200195  212720900.0  \n",
       "2    9236.099609  9236.099609  150664700.0  \n",
       "3    9294.099609  9294.099609  102323700.0  \n",
       "4    9282.099609  9282.099609  144701200.0  \n",
       "..           ...          ...          ...  \n",
       "721  8330.599609  8330.599609  156189000.0  \n",
       "722  8365.599609  8365.599609  167961800.0  \n",
       "723  8614.599609  8614.599609  257812200.0  \n",
       "724  8550.599609  8550.599609  185389000.0  \n",
       "725  8445.099609  8445.099609  220117500.0  \n",
       "\n",
       "[726 rows x 8 columns]"
      ]
     },
     "execution_count": 373,
     "metadata": {},
     "output_type": "execute_result"
    }
   ],
   "source": [
    "\n",
    "test_x"
   ]
  },
  {
   "cell_type": "code",
   "execution_count": 374,
   "id": "8753e914",
   "metadata": {
    "ExecuteTime": {
     "end_time": "2022-05-28T20:40:10.828820Z",
     "start_time": "2022-05-28T20:40:10.791918Z"
    }
   },
   "outputs": [
    {
     "data": {
      "text/html": [
       "<div>\n",
       "<style scoped>\n",
       "    .dataframe tbody tr th:only-of-type {\n",
       "        vertical-align: middle;\n",
       "    }\n",
       "\n",
       "    .dataframe tbody tr th {\n",
       "        vertical-align: top;\n",
       "    }\n",
       "\n",
       "    .dataframe thead th {\n",
       "        text-align: right;\n",
       "    }\n",
       "</style>\n",
       "<table border=\"1\" class=\"dataframe\">\n",
       "  <thead>\n",
       "    <tr style=\"text-align: right;\">\n",
       "      <th></th>\n",
       "      <th>day</th>\n",
       "      <th>Open</th>\n",
       "      <th>High</th>\n",
       "      <th>Low</th>\n",
       "      <th>Close</th>\n",
       "      <th>Adj Close</th>\n",
       "      <th>Volume</th>\n",
       "    </tr>\n",
       "  </thead>\n",
       "  <tbody>\n",
       "    <tr>\n",
       "      <th>0</th>\n",
       "      <td>6557</td>\n",
       "      <td>9136.799805</td>\n",
       "      <td>9173.400391</td>\n",
       "      <td>9095.000000</td>\n",
       "      <td>9150.500000</td>\n",
       "      <td>9150.500000</td>\n",
       "      <td>158753000.0</td>\n",
       "    </tr>\n",
       "    <tr>\n",
       "      <th>1</th>\n",
       "      <td>6558</td>\n",
       "      <td>9169.200195</td>\n",
       "      <td>9246.200195</td>\n",
       "      <td>9136.700195</td>\n",
       "      <td>9169.200195</td>\n",
       "      <td>9169.200195</td>\n",
       "      <td>212720900.0</td>\n",
       "    </tr>\n",
       "    <tr>\n",
       "      <th>2</th>\n",
       "      <td>6559</td>\n",
       "      <td>9186.700195</td>\n",
       "      <td>9261.400391</td>\n",
       "      <td>9185.700195</td>\n",
       "      <td>9236.099609</td>\n",
       "      <td>9236.099609</td>\n",
       "      <td>150664700.0</td>\n",
       "    </tr>\n",
       "    <tr>\n",
       "      <th>3</th>\n",
       "      <td>6560</td>\n",
       "      <td>9284.200195</td>\n",
       "      <td>9302.200195</td>\n",
       "      <td>9248.099609</td>\n",
       "      <td>9294.099609</td>\n",
       "      <td>9294.099609</td>\n",
       "      <td>102323700.0</td>\n",
       "    </tr>\n",
       "    <tr>\n",
       "      <th>4</th>\n",
       "      <td>6561</td>\n",
       "      <td>9288.599609</td>\n",
       "      <td>9332.500000</td>\n",
       "      <td>9273.400391</td>\n",
       "      <td>9282.099609</td>\n",
       "      <td>9282.099609</td>\n",
       "      <td>144701200.0</td>\n",
       "    </tr>\n",
       "    <tr>\n",
       "      <th>...</th>\n",
       "      <td>...</td>\n",
       "      <td>...</td>\n",
       "      <td>...</td>\n",
       "      <td>...</td>\n",
       "      <td>...</td>\n",
       "      <td>...</td>\n",
       "      <td>...</td>\n",
       "    </tr>\n",
       "    <tr>\n",
       "      <th>721</th>\n",
       "      <td>7278</td>\n",
       "      <td>8314.099609</td>\n",
       "      <td>8363.200195</td>\n",
       "      <td>8286.500000</td>\n",
       "      <td>8330.599609</td>\n",
       "      <td>8330.599609</td>\n",
       "      <td>156189000.0</td>\n",
       "    </tr>\n",
       "    <tr>\n",
       "      <th>722</th>\n",
       "      <td>7279</td>\n",
       "      <td>8354.400391</td>\n",
       "      <td>8485.700195</td>\n",
       "      <td>8354.400391</td>\n",
       "      <td>8365.599609</td>\n",
       "      <td>8365.599609</td>\n",
       "      <td>167961800.0</td>\n",
       "    </tr>\n",
       "    <tr>\n",
       "      <th>723</th>\n",
       "      <td>7280</td>\n",
       "      <td>8451.000000</td>\n",
       "      <td>8621.000000</td>\n",
       "      <td>8419.700195</td>\n",
       "      <td>8614.599609</td>\n",
       "      <td>8614.599609</td>\n",
       "      <td>257812200.0</td>\n",
       "    </tr>\n",
       "    <tr>\n",
       "      <th>724</th>\n",
       "      <td>7281</td>\n",
       "      <td>8583.299805</td>\n",
       "      <td>8597.400391</td>\n",
       "      <td>8508.900391</td>\n",
       "      <td>8550.599609</td>\n",
       "      <td>8550.599609</td>\n",
       "      <td>185389000.0</td>\n",
       "    </tr>\n",
       "    <tr>\n",
       "      <th>725</th>\n",
       "      <td>7282</td>\n",
       "      <td>8562.599609</td>\n",
       "      <td>8588.299805</td>\n",
       "      <td>8445.099609</td>\n",
       "      <td>8445.099609</td>\n",
       "      <td>8445.099609</td>\n",
       "      <td>220117500.0</td>\n",
       "    </tr>\n",
       "  </tbody>\n",
       "</table>\n",
       "<p>726 rows × 7 columns</p>\n",
       "</div>"
      ],
      "text/plain": [
       "      day         Open         High          Low        Close    Adj Close  \\\n",
       "0    6557  9136.799805  9173.400391  9095.000000  9150.500000  9150.500000   \n",
       "1    6558  9169.200195  9246.200195  9136.700195  9169.200195  9169.200195   \n",
       "2    6559  9186.700195  9261.400391  9185.700195  9236.099609  9236.099609   \n",
       "3    6560  9284.200195  9302.200195  9248.099609  9294.099609  9294.099609   \n",
       "4    6561  9288.599609  9332.500000  9273.400391  9282.099609  9282.099609   \n",
       "..    ...          ...          ...          ...          ...          ...   \n",
       "721  7278  8314.099609  8363.200195  8286.500000  8330.599609  8330.599609   \n",
       "722  7279  8354.400391  8485.700195  8354.400391  8365.599609  8365.599609   \n",
       "723  7280  8451.000000  8621.000000  8419.700195  8614.599609  8614.599609   \n",
       "724  7281  8583.299805  8597.400391  8508.900391  8550.599609  8550.599609   \n",
       "725  7282  8562.599609  8588.299805  8445.099609  8445.099609  8445.099609   \n",
       "\n",
       "          Volume  \n",
       "0    158753000.0  \n",
       "1    212720900.0  \n",
       "2    150664700.0  \n",
       "3    102323700.0  \n",
       "4    144701200.0  \n",
       "..           ...  \n",
       "721  156189000.0  \n",
       "722  167961800.0  \n",
       "723  257812200.0  \n",
       "724  185389000.0  \n",
       "725  220117500.0  \n",
       "\n",
       "[726 rows x 7 columns]"
      ]
     },
     "execution_count": 374,
     "metadata": {},
     "output_type": "execute_result"
    }
   ],
   "source": [
    "test_x. rename(columns = {'test_index':'day'}, inplace = True)\n",
    "test_x.drop('Date',axis=1,inplace=True)\n",
    "\n",
    "test_x"
   ]
  },
  {
   "cell_type": "code",
   "execution_count": 375,
   "id": "5df6a827",
   "metadata": {
    "ExecuteTime": {
     "end_time": "2022-05-28T20:40:11.001357Z",
     "start_time": "2022-05-28T20:40:10.958472Z"
    }
   },
   "outputs": [],
   "source": [
    "test_x['Oscillation']   = test_x['High']- test_x['Low']\n",
    "test_x['daily_variation']= test_x['Close']- test_x['Open']\n",
    "\n",
    "test_x['MA_200_dias'] = test_x['Close'].rolling(200).mean()\n",
    "test_x['MA_20_dias'] = test_x['Close'].rolling(20).mean()\n",
    "test_x['MA_5_dias'] = test_x['Close'].rolling(5).mean()\n",
    "test_x['MA_3_dias'] = test_x['Close'].rolling(3).mean()\n",
    "\n",
    "test_x['dist_Max_200_d'] = test_x['Close']-test_x['Close'].rolling(200).max()\n",
    "test_x['dist_Max_50_d'] = test_x['Close']-test_x['Close'].rolling(50).max()\n",
    "test_x['dist_Max_20_d'] = test_x['Close']-test_x['Close'].rolling(20).max()\n",
    "\n",
    "test_x['dist_Min_200_d'] = test_x['Close']-test_x['Close'].rolling(200).min()\n",
    "test_x['dist_Min_50_d'] = test_x['Close']-test_x['Close'].rolling(50).min()\n",
    "test_x['dist_Min_20_d'] = test_x['Close']-test_x['Close'].rolling(20).min()\n"
   ]
  },
  {
   "cell_type": "code",
   "execution_count": 376,
   "id": "7b6a7353",
   "metadata": {
    "ExecuteTime": {
     "end_time": "2022-05-28T20:40:11.141581Z",
     "start_time": "2022-05-28T20:40:11.121597Z"
    }
   },
   "outputs": [],
   "source": [
    "index_new=list(test_x.day)"
   ]
  },
  {
   "cell_type": "code",
   "execution_count": 377,
   "id": "ed3a4f3a",
   "metadata": {
    "ExecuteTime": {
     "end_time": "2022-05-28T20:40:11.750757Z",
     "start_time": "2022-05-28T20:40:11.708869Z"
    }
   },
   "outputs": [
    {
     "data": {
      "text/html": [
       "<div>\n",
       "<style scoped>\n",
       "    .dataframe tbody tr th:only-of-type {\n",
       "        vertical-align: middle;\n",
       "    }\n",
       "\n",
       "    .dataframe tbody tr th {\n",
       "        vertical-align: top;\n",
       "    }\n",
       "\n",
       "    .dataframe thead th {\n",
       "        text-align: right;\n",
       "    }\n",
       "</style>\n",
       "<table border=\"1\" class=\"dataframe\">\n",
       "  <thead>\n",
       "    <tr style=\"text-align: right;\">\n",
       "      <th></th>\n",
       "      <th>day</th>\n",
       "      <th>Open</th>\n",
       "      <th>High</th>\n",
       "      <th>Low</th>\n",
       "      <th>Close</th>\n",
       "      <th>Adj Close</th>\n",
       "      <th>Volume</th>\n",
       "      <th>Oscillation</th>\n",
       "      <th>daily_variation</th>\n",
       "      <th>MA_200_dias</th>\n",
       "      <th>MA_20_dias</th>\n",
       "      <th>MA_5_dias</th>\n",
       "      <th>MA_3_dias</th>\n",
       "      <th>dist_Max_200_d</th>\n",
       "      <th>dist_Max_50_d</th>\n",
       "      <th>dist_Max_20_d</th>\n",
       "      <th>dist_Min_200_d</th>\n",
       "      <th>dist_Min_50_d</th>\n",
       "      <th>dist_Min_20_d</th>\n",
       "    </tr>\n",
       "  </thead>\n",
       "  <tbody>\n",
       "    <tr>\n",
       "      <th>6557</th>\n",
       "      <td>6557</td>\n",
       "      <td>9136.799805</td>\n",
       "      <td>9173.400391</td>\n",
       "      <td>9095.000000</td>\n",
       "      <td>9150.500000</td>\n",
       "      <td>9150.500000</td>\n",
       "      <td>158753000.0</td>\n",
       "      <td>78.400391</td>\n",
       "      <td>13.700195</td>\n",
       "      <td>NaN</td>\n",
       "      <td>NaN</td>\n",
       "      <td>NaN</td>\n",
       "      <td>NaN</td>\n",
       "      <td>NaN</td>\n",
       "      <td>NaN</td>\n",
       "      <td>NaN</td>\n",
       "      <td>NaN</td>\n",
       "      <td>NaN</td>\n",
       "      <td>NaN</td>\n",
       "    </tr>\n",
       "    <tr>\n",
       "      <th>6558</th>\n",
       "      <td>6558</td>\n",
       "      <td>9169.200195</td>\n",
       "      <td>9246.200195</td>\n",
       "      <td>9136.700195</td>\n",
       "      <td>9169.200195</td>\n",
       "      <td>9169.200195</td>\n",
       "      <td>212720900.0</td>\n",
       "      <td>109.500000</td>\n",
       "      <td>0.000000</td>\n",
       "      <td>NaN</td>\n",
       "      <td>NaN</td>\n",
       "      <td>NaN</td>\n",
       "      <td>NaN</td>\n",
       "      <td>NaN</td>\n",
       "      <td>NaN</td>\n",
       "      <td>NaN</td>\n",
       "      <td>NaN</td>\n",
       "      <td>NaN</td>\n",
       "      <td>NaN</td>\n",
       "    </tr>\n",
       "    <tr>\n",
       "      <th>6559</th>\n",
       "      <td>6559</td>\n",
       "      <td>9186.700195</td>\n",
       "      <td>9261.400391</td>\n",
       "      <td>9185.700195</td>\n",
       "      <td>9236.099609</td>\n",
       "      <td>9236.099609</td>\n",
       "      <td>150664700.0</td>\n",
       "      <td>75.700196</td>\n",
       "      <td>49.399414</td>\n",
       "      <td>NaN</td>\n",
       "      <td>NaN</td>\n",
       "      <td>NaN</td>\n",
       "      <td>9185.266601</td>\n",
       "      <td>NaN</td>\n",
       "      <td>NaN</td>\n",
       "      <td>NaN</td>\n",
       "      <td>NaN</td>\n",
       "      <td>NaN</td>\n",
       "      <td>NaN</td>\n",
       "    </tr>\n",
       "    <tr>\n",
       "      <th>6560</th>\n",
       "      <td>6560</td>\n",
       "      <td>9284.200195</td>\n",
       "      <td>9302.200195</td>\n",
       "      <td>9248.099609</td>\n",
       "      <td>9294.099609</td>\n",
       "      <td>9294.099609</td>\n",
       "      <td>102323700.0</td>\n",
       "      <td>54.100586</td>\n",
       "      <td>9.899414</td>\n",
       "      <td>NaN</td>\n",
       "      <td>NaN</td>\n",
       "      <td>NaN</td>\n",
       "      <td>9233.133138</td>\n",
       "      <td>NaN</td>\n",
       "      <td>NaN</td>\n",
       "      <td>NaN</td>\n",
       "      <td>NaN</td>\n",
       "      <td>NaN</td>\n",
       "      <td>NaN</td>\n",
       "    </tr>\n",
       "    <tr>\n",
       "      <th>6561</th>\n",
       "      <td>6561</td>\n",
       "      <td>9288.599609</td>\n",
       "      <td>9332.500000</td>\n",
       "      <td>9273.400391</td>\n",
       "      <td>9282.099609</td>\n",
       "      <td>9282.099609</td>\n",
       "      <td>144701200.0</td>\n",
       "      <td>59.099609</td>\n",
       "      <td>-6.500000</td>\n",
       "      <td>NaN</td>\n",
       "      <td>NaN</td>\n",
       "      <td>9226.399804</td>\n",
       "      <td>9270.766276</td>\n",
       "      <td>NaN</td>\n",
       "      <td>NaN</td>\n",
       "      <td>NaN</td>\n",
       "      <td>NaN</td>\n",
       "      <td>NaN</td>\n",
       "      <td>NaN</td>\n",
       "    </tr>\n",
       "    <tr>\n",
       "      <th>...</th>\n",
       "      <td>...</td>\n",
       "      <td>...</td>\n",
       "      <td>...</td>\n",
       "      <td>...</td>\n",
       "      <td>...</td>\n",
       "      <td>...</td>\n",
       "      <td>...</td>\n",
       "      <td>...</td>\n",
       "      <td>...</td>\n",
       "      <td>...</td>\n",
       "      <td>...</td>\n",
       "      <td>...</td>\n",
       "      <td>...</td>\n",
       "      <td>...</td>\n",
       "      <td>...</td>\n",
       "      <td>...</td>\n",
       "      <td>...</td>\n",
       "      <td>...</td>\n",
       "      <td>...</td>\n",
       "    </tr>\n",
       "    <tr>\n",
       "      <th>7278</th>\n",
       "      <td>7278</td>\n",
       "      <td>8314.099609</td>\n",
       "      <td>8363.200195</td>\n",
       "      <td>8286.500000</td>\n",
       "      <td>8330.599609</td>\n",
       "      <td>8330.599609</td>\n",
       "      <td>156189000.0</td>\n",
       "      <td>76.700195</td>\n",
       "      <td>16.500000</td>\n",
       "      <td>8716.979521</td>\n",
       "      <td>8202.210010</td>\n",
       "      <td>8368.100000</td>\n",
       "      <td>8321.366536</td>\n",
       "      <td>-865.300782</td>\n",
       "      <td>-555.600586</td>\n",
       "      <td>-156.600586</td>\n",
       "      <td>685.999511</td>\n",
       "      <td>685.999511</td>\n",
       "      <td>685.999511</td>\n",
       "    </tr>\n",
       "    <tr>\n",
       "      <th>7279</th>\n",
       "      <td>7279</td>\n",
       "      <td>8354.400391</td>\n",
       "      <td>8485.700195</td>\n",
       "      <td>8354.400391</td>\n",
       "      <td>8365.599609</td>\n",
       "      <td>8365.599609</td>\n",
       "      <td>167961800.0</td>\n",
       "      <td>131.299804</td>\n",
       "      <td>11.199218</td>\n",
       "      <td>8712.828018</td>\n",
       "      <td>8196.529980</td>\n",
       "      <td>8363.379883</td>\n",
       "      <td>8333.766276</td>\n",
       "      <td>-817.000000</td>\n",
       "      <td>-520.600586</td>\n",
       "      <td>-121.600586</td>\n",
       "      <td>720.999511</td>\n",
       "      <td>720.999511</td>\n",
       "      <td>720.999511</td>\n",
       "    </tr>\n",
       "    <tr>\n",
       "      <th>7280</th>\n",
       "      <td>7280</td>\n",
       "      <td>8451.000000</td>\n",
       "      <td>8621.000000</td>\n",
       "      <td>8419.700195</td>\n",
       "      <td>8614.599609</td>\n",
       "      <td>8614.599609</td>\n",
       "      <td>257812200.0</td>\n",
       "      <td>201.299805</td>\n",
       "      <td>163.599609</td>\n",
       "      <td>8710.748018</td>\n",
       "      <td>8217.849951</td>\n",
       "      <td>8388.859765</td>\n",
       "      <td>8436.932942</td>\n",
       "      <td>-568.000000</td>\n",
       "      <td>-271.600586</td>\n",
       "      <td>0.000000</td>\n",
       "      <td>969.999511</td>\n",
       "      <td>969.999511</td>\n",
       "      <td>969.999511</td>\n",
       "    </tr>\n",
       "    <tr>\n",
       "      <th>7281</th>\n",
       "      <td>7281</td>\n",
       "      <td>8583.299805</td>\n",
       "      <td>8597.400391</td>\n",
       "      <td>8508.900391</td>\n",
       "      <td>8550.599609</td>\n",
       "      <td>8550.599609</td>\n",
       "      <td>185389000.0</td>\n",
       "      <td>88.500000</td>\n",
       "      <td>-32.700196</td>\n",
       "      <td>8708.242515</td>\n",
       "      <td>8229.329932</td>\n",
       "      <td>8433.299609</td>\n",
       "      <td>8510.266276</td>\n",
       "      <td>-632.000000</td>\n",
       "      <td>-335.600586</td>\n",
       "      <td>-64.000000</td>\n",
       "      <td>905.999511</td>\n",
       "      <td>905.999511</td>\n",
       "      <td>905.999511</td>\n",
       "    </tr>\n",
       "    <tr>\n",
       "      <th>7282</th>\n",
       "      <td>7282</td>\n",
       "      <td>8562.599609</td>\n",
       "      <td>8588.299805</td>\n",
       "      <td>8445.099609</td>\n",
       "      <td>8445.099609</td>\n",
       "      <td>8445.099609</td>\n",
       "      <td>220117500.0</td>\n",
       "      <td>143.200196</td>\n",
       "      <td>-117.500000</td>\n",
       "      <td>8705.201514</td>\n",
       "      <td>8251.014917</td>\n",
       "      <td>8461.299609</td>\n",
       "      <td>8536.766276</td>\n",
       "      <td>-737.500000</td>\n",
       "      <td>-441.100586</td>\n",
       "      <td>-169.500000</td>\n",
       "      <td>800.499511</td>\n",
       "      <td>800.499511</td>\n",
       "      <td>800.499511</td>\n",
       "    </tr>\n",
       "  </tbody>\n",
       "</table>\n",
       "<p>726 rows × 19 columns</p>\n",
       "</div>"
      ],
      "text/plain": [
       "       day         Open         High          Low        Close    Adj Close  \\\n",
       "6557  6557  9136.799805  9173.400391  9095.000000  9150.500000  9150.500000   \n",
       "6558  6558  9169.200195  9246.200195  9136.700195  9169.200195  9169.200195   \n",
       "6559  6559  9186.700195  9261.400391  9185.700195  9236.099609  9236.099609   \n",
       "6560  6560  9284.200195  9302.200195  9248.099609  9294.099609  9294.099609   \n",
       "6561  6561  9288.599609  9332.500000  9273.400391  9282.099609  9282.099609   \n",
       "...    ...          ...          ...          ...          ...          ...   \n",
       "7278  7278  8314.099609  8363.200195  8286.500000  8330.599609  8330.599609   \n",
       "7279  7279  8354.400391  8485.700195  8354.400391  8365.599609  8365.599609   \n",
       "7280  7280  8451.000000  8621.000000  8419.700195  8614.599609  8614.599609   \n",
       "7281  7281  8583.299805  8597.400391  8508.900391  8550.599609  8550.599609   \n",
       "7282  7282  8562.599609  8588.299805  8445.099609  8445.099609  8445.099609   \n",
       "\n",
       "           Volume  Oscillation  daily_variation  MA_200_dias   MA_20_dias  \\\n",
       "6557  158753000.0    78.400391        13.700195          NaN          NaN   \n",
       "6558  212720900.0   109.500000         0.000000          NaN          NaN   \n",
       "6559  150664700.0    75.700196        49.399414          NaN          NaN   \n",
       "6560  102323700.0    54.100586         9.899414          NaN          NaN   \n",
       "6561  144701200.0    59.099609        -6.500000          NaN          NaN   \n",
       "...           ...          ...              ...          ...          ...   \n",
       "7278  156189000.0    76.700195        16.500000  8716.979521  8202.210010   \n",
       "7279  167961800.0   131.299804        11.199218  8712.828018  8196.529980   \n",
       "7280  257812200.0   201.299805       163.599609  8710.748018  8217.849951   \n",
       "7281  185389000.0    88.500000       -32.700196  8708.242515  8229.329932   \n",
       "7282  220117500.0   143.200196      -117.500000  8705.201514  8251.014917   \n",
       "\n",
       "        MA_5_dias    MA_3_dias  dist_Max_200_d  dist_Max_50_d  dist_Max_20_d  \\\n",
       "6557          NaN          NaN             NaN            NaN            NaN   \n",
       "6558          NaN          NaN             NaN            NaN            NaN   \n",
       "6559          NaN  9185.266601             NaN            NaN            NaN   \n",
       "6560          NaN  9233.133138             NaN            NaN            NaN   \n",
       "6561  9226.399804  9270.766276             NaN            NaN            NaN   \n",
       "...           ...          ...             ...            ...            ...   \n",
       "7278  8368.100000  8321.366536     -865.300782    -555.600586    -156.600586   \n",
       "7279  8363.379883  8333.766276     -817.000000    -520.600586    -121.600586   \n",
       "7280  8388.859765  8436.932942     -568.000000    -271.600586       0.000000   \n",
       "7281  8433.299609  8510.266276     -632.000000    -335.600586     -64.000000   \n",
       "7282  8461.299609  8536.766276     -737.500000    -441.100586    -169.500000   \n",
       "\n",
       "      dist_Min_200_d  dist_Min_50_d  dist_Min_20_d  \n",
       "6557             NaN            NaN            NaN  \n",
       "6558             NaN            NaN            NaN  \n",
       "6559             NaN            NaN            NaN  \n",
       "6560             NaN            NaN            NaN  \n",
       "6561             NaN            NaN            NaN  \n",
       "...              ...            ...            ...  \n",
       "7278      685.999511     685.999511     685.999511  \n",
       "7279      720.999511     720.999511     720.999511  \n",
       "7280      969.999511     969.999511     969.999511  \n",
       "7281      905.999511     905.999511     905.999511  \n",
       "7282      800.499511     800.499511     800.499511  \n",
       "\n",
       "[726 rows x 19 columns]"
      ]
     },
     "execution_count": 377,
     "metadata": {},
     "output_type": "execute_result"
    }
   ],
   "source": [
    "test_x.index=index_new\n",
    "test_x"
   ]
  },
  {
   "cell_type": "markdown",
   "id": "ef5dd1c8",
   "metadata": {},
   "source": [
    "To fill the nan values in the test_x, it can be concatenated to initial dataframe to calculate moving averages, distances to maximums an minimums:"
   ]
  },
  {
   "cell_type": "code",
   "execution_count": 378,
   "id": "74ca8fa7",
   "metadata": {
    "ExecuteTime": {
     "end_time": "2022-05-28T20:40:12.741143Z",
     "start_time": "2022-05-28T20:40:12.690278Z"
    }
   },
   "outputs": [
    {
     "data": {
      "text/html": [
       "<div>\n",
       "<style scoped>\n",
       "    .dataframe tbody tr th:only-of-type {\n",
       "        vertical-align: middle;\n",
       "    }\n",
       "\n",
       "    .dataframe tbody tr th {\n",
       "        vertical-align: top;\n",
       "    }\n",
       "\n",
       "    .dataframe thead th {\n",
       "        text-align: right;\n",
       "    }\n",
       "</style>\n",
       "<table border=\"1\" class=\"dataframe\">\n",
       "  <thead>\n",
       "    <tr style=\"text-align: right;\">\n",
       "      <th></th>\n",
       "      <th>day</th>\n",
       "      <th>Open</th>\n",
       "      <th>High</th>\n",
       "      <th>Low</th>\n",
       "      <th>Close</th>\n",
       "      <th>Adj Close</th>\n",
       "      <th>Volume</th>\n",
       "      <th>Oscillation</th>\n",
       "      <th>daily_variation</th>\n",
       "      <th>MA_200_dias</th>\n",
       "      <th>MA_20_dias</th>\n",
       "      <th>MA_5_dias</th>\n",
       "      <th>MA_3_dias</th>\n",
       "      <th>dist_Max_200_d</th>\n",
       "      <th>dist_Max_50_d</th>\n",
       "      <th>dist_Max_20_d</th>\n",
       "      <th>dist_Min_200_d</th>\n",
       "      <th>dist_Min_50_d</th>\n",
       "      <th>dist_Min_20_d</th>\n",
       "    </tr>\n",
       "  </thead>\n",
       "  <tbody>\n",
       "    <tr>\n",
       "      <th>0</th>\n",
       "      <td>0</td>\n",
       "      <td>3615.199951</td>\n",
       "      <td>3654.699951</td>\n",
       "      <td>3581.000000</td>\n",
       "      <td>3654.500000</td>\n",
       "      <td>3654.496338</td>\n",
       "      <td>0.0</td>\n",
       "      <td>73.699951</td>\n",
       "      <td>39.300049</td>\n",
       "      <td>NaN</td>\n",
       "      <td>NaN</td>\n",
       "      <td>NaN</td>\n",
       "      <td>NaN</td>\n",
       "      <td>NaN</td>\n",
       "      <td>NaN</td>\n",
       "      <td>NaN</td>\n",
       "      <td>NaN</td>\n",
       "      <td>NaN</td>\n",
       "      <td>NaN</td>\n",
       "    </tr>\n",
       "    <tr>\n",
       "      <th>1</th>\n",
       "      <td>1</td>\n",
       "      <td>3654.500000</td>\n",
       "      <td>3675.500000</td>\n",
       "      <td>3625.100098</td>\n",
       "      <td>3630.300049</td>\n",
       "      <td>3630.296387</td>\n",
       "      <td>0.0</td>\n",
       "      <td>50.399902</td>\n",
       "      <td>-24.199951</td>\n",
       "      <td>NaN</td>\n",
       "      <td>NaN</td>\n",
       "      <td>NaN</td>\n",
       "      <td>NaN</td>\n",
       "      <td>NaN</td>\n",
       "      <td>NaN</td>\n",
       "      <td>NaN</td>\n",
       "      <td>NaN</td>\n",
       "      <td>NaN</td>\n",
       "      <td>NaN</td>\n",
       "    </tr>\n",
       "    <tr>\n",
       "      <th>2</th>\n",
       "      <td>2</td>\n",
       "      <td>3625.199951</td>\n",
       "      <td>3625.199951</td>\n",
       "      <td>3583.399902</td>\n",
       "      <td>3621.199951</td>\n",
       "      <td>3621.196289</td>\n",
       "      <td>0.0</td>\n",
       "      <td>41.800049</td>\n",
       "      <td>-4.000000</td>\n",
       "      <td>NaN</td>\n",
       "      <td>NaN</td>\n",
       "      <td>NaN</td>\n",
       "      <td>3635.333333</td>\n",
       "      <td>NaN</td>\n",
       "      <td>NaN</td>\n",
       "      <td>NaN</td>\n",
       "      <td>NaN</td>\n",
       "      <td>NaN</td>\n",
       "      <td>NaN</td>\n",
       "    </tr>\n",
       "    <tr>\n",
       "      <th>3</th>\n",
       "      <td>3</td>\n",
       "      <td>3625.199951</td>\n",
       "      <td>3625.199951</td>\n",
       "      <td>3583.399902</td>\n",
       "      <td>3621.199951</td>\n",
       "      <td>3621.196289</td>\n",
       "      <td>0.0</td>\n",
       "      <td>41.800049</td>\n",
       "      <td>-4.000000</td>\n",
       "      <td>NaN</td>\n",
       "      <td>NaN</td>\n",
       "      <td>NaN</td>\n",
       "      <td>3624.233317</td>\n",
       "      <td>NaN</td>\n",
       "      <td>NaN</td>\n",
       "      <td>NaN</td>\n",
       "      <td>NaN</td>\n",
       "      <td>NaN</td>\n",
       "      <td>NaN</td>\n",
       "    </tr>\n",
       "    <tr>\n",
       "      <th>4</th>\n",
       "      <td>4</td>\n",
       "      <td>3621.199951</td>\n",
       "      <td>3644.399902</td>\n",
       "      <td>3598.699951</td>\n",
       "      <td>3636.399902</td>\n",
       "      <td>3636.396240</td>\n",
       "      <td>0.0</td>\n",
       "      <td>45.699951</td>\n",
       "      <td>15.199951</td>\n",
       "      <td>NaN</td>\n",
       "      <td>NaN</td>\n",
       "      <td>3632.719971</td>\n",
       "      <td>3626.266601</td>\n",
       "      <td>NaN</td>\n",
       "      <td>NaN</td>\n",
       "      <td>NaN</td>\n",
       "      <td>NaN</td>\n",
       "      <td>NaN</td>\n",
       "      <td>NaN</td>\n",
       "    </tr>\n",
       "    <tr>\n",
       "      <th>...</th>\n",
       "      <td>...</td>\n",
       "      <td>...</td>\n",
       "      <td>...</td>\n",
       "      <td>...</td>\n",
       "      <td>...</td>\n",
       "      <td>...</td>\n",
       "      <td>...</td>\n",
       "      <td>...</td>\n",
       "      <td>...</td>\n",
       "      <td>...</td>\n",
       "      <td>...</td>\n",
       "      <td>...</td>\n",
       "      <td>...</td>\n",
       "      <td>...</td>\n",
       "      <td>...</td>\n",
       "      <td>...</td>\n",
       "      <td>...</td>\n",
       "      <td>...</td>\n",
       "      <td>...</td>\n",
       "    </tr>\n",
       "    <tr>\n",
       "      <th>6549</th>\n",
       "      <td>6549</td>\n",
       "      <td>9150.299805</td>\n",
       "      <td>9211.099609</td>\n",
       "      <td>9141.400391</td>\n",
       "      <td>9174.599609</td>\n",
       "      <td>9174.599609</td>\n",
       "      <td>121673100.0</td>\n",
       "      <td>69.699218</td>\n",
       "      <td>24.299804</td>\n",
       "      <td>9157.978975</td>\n",
       "      <td>9266.144873</td>\n",
       "      <td>9191.919922</td>\n",
       "      <td>9173.599935</td>\n",
       "      <td>-485.200196</td>\n",
       "      <td>-407.300782</td>\n",
       "      <td>-396.000000</td>\n",
       "      <td>810.699218</td>\n",
       "      <td>127.799804</td>\n",
       "      <td>127.799804</td>\n",
       "    </tr>\n",
       "    <tr>\n",
       "      <th>6550</th>\n",
       "      <td>6550</td>\n",
       "      <td>9225.900391</td>\n",
       "      <td>9294.599609</td>\n",
       "      <td>9204.700195</td>\n",
       "      <td>9216.400391</td>\n",
       "      <td>9216.400391</td>\n",
       "      <td>60178000.0</td>\n",
       "      <td>89.899414</td>\n",
       "      <td>-9.500000</td>\n",
       "      <td>9156.050478</td>\n",
       "      <td>9251.664892</td>\n",
       "      <td>9195.259961</td>\n",
       "      <td>9168.333333</td>\n",
       "      <td>-443.399414</td>\n",
       "      <td>-365.500000</td>\n",
       "      <td>-354.199218</td>\n",
       "      <td>852.500000</td>\n",
       "      <td>169.600586</td>\n",
       "      <td>169.600586</td>\n",
       "    </tr>\n",
       "    <tr>\n",
       "      <th>6551</th>\n",
       "      <td>6551</td>\n",
       "      <td>9220.400391</td>\n",
       "      <td>9224.900391</td>\n",
       "      <td>9132.900391</td>\n",
       "      <td>9191.799805</td>\n",
       "      <td>9191.799805</td>\n",
       "      <td>218900800.0</td>\n",
       "      <td>92.000000</td>\n",
       "      <td>-28.600586</td>\n",
       "      <td>9154.357476</td>\n",
       "      <td>9235.394873</td>\n",
       "      <td>9185.800000</td>\n",
       "      <td>9194.266602</td>\n",
       "      <td>-468.000000</td>\n",
       "      <td>-390.100586</td>\n",
       "      <td>-378.799804</td>\n",
       "      <td>827.899414</td>\n",
       "      <td>145.000000</td>\n",
       "      <td>145.000000</td>\n",
       "    </tr>\n",
       "    <tr>\n",
       "      <th>6552</th>\n",
       "      <td>6552</td>\n",
       "      <td>9113.200195</td>\n",
       "      <td>9116.700195</td>\n",
       "      <td>9035.099609</td>\n",
       "      <td>9080.500000</td>\n",
       "      <td>9080.500000</td>\n",
       "      <td>148987100.0</td>\n",
       "      <td>81.600586</td>\n",
       "      <td>-32.700195</td>\n",
       "      <td>9152.224976</td>\n",
       "      <td>9210.889892</td>\n",
       "      <td>9155.459961</td>\n",
       "      <td>9162.900065</td>\n",
       "      <td>-579.299805</td>\n",
       "      <td>-501.400391</td>\n",
       "      <td>-337.700195</td>\n",
       "      <td>716.599609</td>\n",
       "      <td>33.700195</td>\n",
       "      <td>33.700195</td>\n",
       "    </tr>\n",
       "    <tr>\n",
       "      <th>6553</th>\n",
       "      <td>6553</td>\n",
       "      <td>9120.799805</td>\n",
       "      <td>9175.200195</td>\n",
       "      <td>9114.099609</td>\n",
       "      <td>9157.799805</td>\n",
       "      <td>9157.799805</td>\n",
       "      <td>101389200.0</td>\n",
       "      <td>61.100586</td>\n",
       "      <td>37.000000</td>\n",
       "      <td>9151.079976</td>\n",
       "      <td>9197.869873</td>\n",
       "      <td>9164.219922</td>\n",
       "      <td>9143.366537</td>\n",
       "      <td>-502.000000</td>\n",
       "      <td>-424.100586</td>\n",
       "      <td>-251.799804</td>\n",
       "      <td>793.899414</td>\n",
       "      <td>111.000000</td>\n",
       "      <td>111.000000</td>\n",
       "    </tr>\n",
       "  </tbody>\n",
       "</table>\n",
       "<p>6554 rows × 19 columns</p>\n",
       "</div>"
      ],
      "text/plain": [
       "       day         Open         High          Low        Close    Adj Close  \\\n",
       "0        0  3615.199951  3654.699951  3581.000000  3654.500000  3654.496338   \n",
       "1        1  3654.500000  3675.500000  3625.100098  3630.300049  3630.296387   \n",
       "2        2  3625.199951  3625.199951  3583.399902  3621.199951  3621.196289   \n",
       "3        3  3625.199951  3625.199951  3583.399902  3621.199951  3621.196289   \n",
       "4        4  3621.199951  3644.399902  3598.699951  3636.399902  3636.396240   \n",
       "...    ...          ...          ...          ...          ...          ...   \n",
       "6549  6549  9150.299805  9211.099609  9141.400391  9174.599609  9174.599609   \n",
       "6550  6550  9225.900391  9294.599609  9204.700195  9216.400391  9216.400391   \n",
       "6551  6551  9220.400391  9224.900391  9132.900391  9191.799805  9191.799805   \n",
       "6552  6552  9113.200195  9116.700195  9035.099609  9080.500000  9080.500000   \n",
       "6553  6553  9120.799805  9175.200195  9114.099609  9157.799805  9157.799805   \n",
       "\n",
       "           Volume  Oscillation  daily_variation  MA_200_dias   MA_20_dias  \\\n",
       "0             0.0    73.699951        39.300049          NaN          NaN   \n",
       "1             0.0    50.399902       -24.199951          NaN          NaN   \n",
       "2             0.0    41.800049        -4.000000          NaN          NaN   \n",
       "3             0.0    41.800049        -4.000000          NaN          NaN   \n",
       "4             0.0    45.699951        15.199951          NaN          NaN   \n",
       "...           ...          ...              ...          ...          ...   \n",
       "6549  121673100.0    69.699218        24.299804  9157.978975  9266.144873   \n",
       "6550   60178000.0    89.899414        -9.500000  9156.050478  9251.664892   \n",
       "6551  218900800.0    92.000000       -28.600586  9154.357476  9235.394873   \n",
       "6552  148987100.0    81.600586       -32.700195  9152.224976  9210.889892   \n",
       "6553  101389200.0    61.100586        37.000000  9151.079976  9197.869873   \n",
       "\n",
       "        MA_5_dias    MA_3_dias  dist_Max_200_d  dist_Max_50_d  dist_Max_20_d  \\\n",
       "0             NaN          NaN             NaN            NaN            NaN   \n",
       "1             NaN          NaN             NaN            NaN            NaN   \n",
       "2             NaN  3635.333333             NaN            NaN            NaN   \n",
       "3             NaN  3624.233317             NaN            NaN            NaN   \n",
       "4     3632.719971  3626.266601             NaN            NaN            NaN   \n",
       "...           ...          ...             ...            ...            ...   \n",
       "6549  9191.919922  9173.599935     -485.200196    -407.300782    -396.000000   \n",
       "6550  9195.259961  9168.333333     -443.399414    -365.500000    -354.199218   \n",
       "6551  9185.800000  9194.266602     -468.000000    -390.100586    -378.799804   \n",
       "6552  9155.459961  9162.900065     -579.299805    -501.400391    -337.700195   \n",
       "6553  9164.219922  9143.366537     -502.000000    -424.100586    -251.799804   \n",
       "\n",
       "      dist_Min_200_d  dist_Min_50_d  dist_Min_20_d  \n",
       "0                NaN            NaN            NaN  \n",
       "1                NaN            NaN            NaN  \n",
       "2                NaN            NaN            NaN  \n",
       "3                NaN            NaN            NaN  \n",
       "4                NaN            NaN            NaN  \n",
       "...              ...            ...            ...  \n",
       "6549      810.699218     127.799804     127.799804  \n",
       "6550      852.500000     169.600586     169.600586  \n",
       "6551      827.899414     145.000000     145.000000  \n",
       "6552      716.599609      33.700195      33.700195  \n",
       "6553      793.899414     111.000000     111.000000  \n",
       "\n",
       "[6554 rows x 19 columns]"
      ]
     },
     "execution_count": 378,
     "metadata": {},
     "output_type": "execute_result"
    }
   ],
   "source": [
    "ibex_df4_NoTarget=ibex_df4.copy()\n",
    "ibex_df4_NoTarget.drop('Target', axis=1,inplace=True)\n",
    "ibex_df4_NoTarget"
   ]
  },
  {
   "cell_type": "code",
   "execution_count": 379,
   "id": "47c866f0",
   "metadata": {
    "ExecuteTime": {
     "end_time": "2022-05-28T20:40:13.212586Z",
     "start_time": "2022-05-28T20:40:13.155736Z"
    },
    "scrolled": true
   },
   "outputs": [
    {
     "data": {
      "text/html": [
       "<div>\n",
       "<style scoped>\n",
       "    .dataframe tbody tr th:only-of-type {\n",
       "        vertical-align: middle;\n",
       "    }\n",
       "\n",
       "    .dataframe tbody tr th {\n",
       "        vertical-align: top;\n",
       "    }\n",
       "\n",
       "    .dataframe thead th {\n",
       "        text-align: right;\n",
       "    }\n",
       "</style>\n",
       "<table border=\"1\" class=\"dataframe\">\n",
       "  <thead>\n",
       "    <tr style=\"text-align: right;\">\n",
       "      <th></th>\n",
       "      <th>day</th>\n",
       "      <th>Open</th>\n",
       "      <th>High</th>\n",
       "      <th>Low</th>\n",
       "      <th>Close</th>\n",
       "      <th>Adj Close</th>\n",
       "      <th>Volume</th>\n",
       "      <th>Oscillation</th>\n",
       "      <th>daily_variation</th>\n",
       "      <th>MA_200_dias</th>\n",
       "      <th>MA_20_dias</th>\n",
       "      <th>MA_5_dias</th>\n",
       "      <th>MA_3_dias</th>\n",
       "      <th>dist_Max_200_d</th>\n",
       "      <th>dist_Max_50_d</th>\n",
       "      <th>dist_Max_20_d</th>\n",
       "      <th>dist_Min_200_d</th>\n",
       "      <th>dist_Min_50_d</th>\n",
       "      <th>dist_Min_20_d</th>\n",
       "    </tr>\n",
       "  </thead>\n",
       "  <tbody>\n",
       "    <tr>\n",
       "      <th>6557</th>\n",
       "      <td>6557</td>\n",
       "      <td>9136.799805</td>\n",
       "      <td>9173.400391</td>\n",
       "      <td>9095.000000</td>\n",
       "      <td>9150.500000</td>\n",
       "      <td>9150.500000</td>\n",
       "      <td>158753000.0</td>\n",
       "      <td>78.400391</td>\n",
       "      <td>13.700195</td>\n",
       "      <td>9149.695474</td>\n",
       "      <td>9184.914893</td>\n",
       "      <td>9159.400000</td>\n",
       "      <td>9129.599935</td>\n",
       "      <td>-509.299805</td>\n",
       "      <td>-431.400391</td>\n",
       "      <td>-180.500000</td>\n",
       "      <td>786.599609</td>\n",
       "      <td>103.700195</td>\n",
       "      <td>103.700195</td>\n",
       "    </tr>\n",
       "    <tr>\n",
       "      <th>6558</th>\n",
       "      <td>6558</td>\n",
       "      <td>9169.200195</td>\n",
       "      <td>9246.200195</td>\n",
       "      <td>9136.700195</td>\n",
       "      <td>9169.200195</td>\n",
       "      <td>9169.200195</td>\n",
       "      <td>212720900.0</td>\n",
       "      <td>109.500000</td>\n",
       "      <td>0.000000</td>\n",
       "      <td>9148.454976</td>\n",
       "      <td>9176.824902</td>\n",
       "      <td>9149.959961</td>\n",
       "      <td>9159.166667</td>\n",
       "      <td>-490.599610</td>\n",
       "      <td>-412.700196</td>\n",
       "      <td>-135.099610</td>\n",
       "      <td>805.299804</td>\n",
       "      <td>122.400390</td>\n",
       "      <td>122.400390</td>\n",
       "    </tr>\n",
       "    <tr>\n",
       "      <th>6559</th>\n",
       "      <td>6559</td>\n",
       "      <td>9186.700195</td>\n",
       "      <td>9261.400391</td>\n",
       "      <td>9185.700195</td>\n",
       "      <td>9236.099609</td>\n",
       "      <td>9236.099609</td>\n",
       "      <td>150664700.0</td>\n",
       "      <td>75.700196</td>\n",
       "      <td>49.399414</td>\n",
       "      <td>9147.292476</td>\n",
       "      <td>9176.874902</td>\n",
       "      <td>9158.819922</td>\n",
       "      <td>9185.266601</td>\n",
       "      <td>-423.700196</td>\n",
       "      <td>-345.800782</td>\n",
       "      <td>-68.200196</td>\n",
       "      <td>872.199218</td>\n",
       "      <td>189.299804</td>\n",
       "      <td>189.299804</td>\n",
       "    </tr>\n",
       "    <tr>\n",
       "      <th>6560</th>\n",
       "      <td>6560</td>\n",
       "      <td>9284.200195</td>\n",
       "      <td>9302.200195</td>\n",
       "      <td>9248.099609</td>\n",
       "      <td>9294.099609</td>\n",
       "      <td>9294.099609</td>\n",
       "      <td>102323700.0</td>\n",
       "      <td>54.100586</td>\n",
       "      <td>9.899414</td>\n",
       "      <td>9146.017974</td>\n",
       "      <td>9180.229883</td>\n",
       "      <td>9201.539844</td>\n",
       "      <td>9233.133138</td>\n",
       "      <td>-365.700196</td>\n",
       "      <td>-287.800782</td>\n",
       "      <td>-10.200196</td>\n",
       "      <td>930.199218</td>\n",
       "      <td>247.299804</td>\n",
       "      <td>247.299804</td>\n",
       "    </tr>\n",
       "    <tr>\n",
       "      <th>6561</th>\n",
       "      <td>6561</td>\n",
       "      <td>9288.599609</td>\n",
       "      <td>9332.500000</td>\n",
       "      <td>9273.400391</td>\n",
       "      <td>9282.099609</td>\n",
       "      <td>9282.099609</td>\n",
       "      <td>144701200.0</td>\n",
       "      <td>59.099609</td>\n",
       "      <td>-6.500000</td>\n",
       "      <td>9144.527471</td>\n",
       "      <td>9189.574853</td>\n",
       "      <td>9226.399804</td>\n",
       "      <td>9270.766276</td>\n",
       "      <td>-377.700196</td>\n",
       "      <td>-299.800782</td>\n",
       "      <td>-22.200196</td>\n",
       "      <td>918.199218</td>\n",
       "      <td>235.299804</td>\n",
       "      <td>235.299804</td>\n",
       "    </tr>\n",
       "    <tr>\n",
       "      <th>...</th>\n",
       "      <td>...</td>\n",
       "      <td>...</td>\n",
       "      <td>...</td>\n",
       "      <td>...</td>\n",
       "      <td>...</td>\n",
       "      <td>...</td>\n",
       "      <td>...</td>\n",
       "      <td>...</td>\n",
       "      <td>...</td>\n",
       "      <td>...</td>\n",
       "      <td>...</td>\n",
       "      <td>...</td>\n",
       "      <td>...</td>\n",
       "      <td>...</td>\n",
       "      <td>...</td>\n",
       "      <td>...</td>\n",
       "      <td>...</td>\n",
       "      <td>...</td>\n",
       "      <td>...</td>\n",
       "    </tr>\n",
       "    <tr>\n",
       "      <th>6751</th>\n",
       "      <td>6751</td>\n",
       "      <td>8960.799805</td>\n",
       "      <td>8962.500000</td>\n",
       "      <td>8639.900391</td>\n",
       "      <td>8683.000000</td>\n",
       "      <td>8683.000000</td>\n",
       "      <td>342803500.0</td>\n",
       "      <td>322.599609</td>\n",
       "      <td>-277.799805</td>\n",
       "      <td>9264.126755</td>\n",
       "      <td>9507.584961</td>\n",
       "      <td>8773.859961</td>\n",
       "      <td>8801.533203</td>\n",
       "      <td>-1400.599609</td>\n",
       "      <td>-1400.599609</td>\n",
       "      <td>-1400.599609</td>\n",
       "      <td>164.000000</td>\n",
       "      <td>0.000000</td>\n",
       "      <td>0.000000</td>\n",
       "    </tr>\n",
       "    <tr>\n",
       "      <th>6752</th>\n",
       "      <td>6752</td>\n",
       "      <td>8532.599609</td>\n",
       "      <td>8542.000000</td>\n",
       "      <td>8310.400391</td>\n",
       "      <td>8375.599609</td>\n",
       "      <td>8375.599609</td>\n",
       "      <td>345901100.0</td>\n",
       "      <td>231.599609</td>\n",
       "      <td>-157.000000</td>\n",
       "      <td>9260.131755</td>\n",
       "      <td>9435.814941</td>\n",
       "      <td>8704.339844</td>\n",
       "      <td>8656.199870</td>\n",
       "      <td>-1708.000000</td>\n",
       "      <td>-1708.000000</td>\n",
       "      <td>-1708.000000</td>\n",
       "      <td>0.000000</td>\n",
       "      <td>0.000000</td>\n",
       "      <td>0.000000</td>\n",
       "    </tr>\n",
       "    <tr>\n",
       "      <th>6753</th>\n",
       "      <td>6753</td>\n",
       "      <td>7884.000000</td>\n",
       "      <td>8022.899902</td>\n",
       "      <td>7621.399902</td>\n",
       "      <td>7708.700195</td>\n",
       "      <td>7708.700195</td>\n",
       "      <td>598769200.0</td>\n",
       "      <td>401.500000</td>\n",
       "      <td>-175.299805</td>\n",
       "      <td>9252.593254</td>\n",
       "      <td>9330.449951</td>\n",
       "      <td>8497.779883</td>\n",
       "      <td>8255.766601</td>\n",
       "      <td>-2374.899414</td>\n",
       "      <td>-2374.899414</td>\n",
       "      <td>-2374.899414</td>\n",
       "      <td>0.000000</td>\n",
       "      <td>0.000000</td>\n",
       "      <td>0.000000</td>\n",
       "    </tr>\n",
       "    <tr>\n",
       "      <th>6754</th>\n",
       "      <td>6754</td>\n",
       "      <td>7815.600098</td>\n",
       "      <td>8007.700195</td>\n",
       "      <td>7440.600098</td>\n",
       "      <td>7461.500000</td>\n",
       "      <td>7461.500000</td>\n",
       "      <td>506034000.0</td>\n",
       "      <td>567.100097</td>\n",
       "      <td>-354.100098</td>\n",
       "      <td>9243.941755</td>\n",
       "      <td>9209.394971</td>\n",
       "      <td>8227.759961</td>\n",
       "      <td>7848.599935</td>\n",
       "      <td>-2622.099609</td>\n",
       "      <td>-2622.099609</td>\n",
       "      <td>-2622.099609</td>\n",
       "      <td>0.000000</td>\n",
       "      <td>0.000000</td>\n",
       "      <td>0.000000</td>\n",
       "    </tr>\n",
       "    <tr>\n",
       "      <th>6755</th>\n",
       "      <td>6755</td>\n",
       "      <td>7589.299805</td>\n",
       "      <td>7717.100098</td>\n",
       "      <td>7364.600098</td>\n",
       "      <td>7436.399902</td>\n",
       "      <td>7436.399902</td>\n",
       "      <td>369150100.0</td>\n",
       "      <td>352.500000</td>\n",
       "      <td>-152.899903</td>\n",
       "      <td>9235.721255</td>\n",
       "      <td>9084.194946</td>\n",
       "      <td>7933.039941</td>\n",
       "      <td>7535.533366</td>\n",
       "      <td>-2647.199707</td>\n",
       "      <td>-2647.199707</td>\n",
       "      <td>-2647.199707</td>\n",
       "      <td>0.000000</td>\n",
       "      <td>0.000000</td>\n",
       "      <td>0.000000</td>\n",
       "    </tr>\n",
       "  </tbody>\n",
       "</table>\n",
       "<p>199 rows × 19 columns</p>\n",
       "</div>"
      ],
      "text/plain": [
       "       day         Open         High          Low        Close    Adj Close  \\\n",
       "6557  6557  9136.799805  9173.400391  9095.000000  9150.500000  9150.500000   \n",
       "6558  6558  9169.200195  9246.200195  9136.700195  9169.200195  9169.200195   \n",
       "6559  6559  9186.700195  9261.400391  9185.700195  9236.099609  9236.099609   \n",
       "6560  6560  9284.200195  9302.200195  9248.099609  9294.099609  9294.099609   \n",
       "6561  6561  9288.599609  9332.500000  9273.400391  9282.099609  9282.099609   \n",
       "...    ...          ...          ...          ...          ...          ...   \n",
       "6751  6751  8960.799805  8962.500000  8639.900391  8683.000000  8683.000000   \n",
       "6752  6752  8532.599609  8542.000000  8310.400391  8375.599609  8375.599609   \n",
       "6753  6753  7884.000000  8022.899902  7621.399902  7708.700195  7708.700195   \n",
       "6754  6754  7815.600098  8007.700195  7440.600098  7461.500000  7461.500000   \n",
       "6755  6755  7589.299805  7717.100098  7364.600098  7436.399902  7436.399902   \n",
       "\n",
       "           Volume  Oscillation  daily_variation  MA_200_dias   MA_20_dias  \\\n",
       "6557  158753000.0    78.400391        13.700195  9149.695474  9184.914893   \n",
       "6558  212720900.0   109.500000         0.000000  9148.454976  9176.824902   \n",
       "6559  150664700.0    75.700196        49.399414  9147.292476  9176.874902   \n",
       "6560  102323700.0    54.100586         9.899414  9146.017974  9180.229883   \n",
       "6561  144701200.0    59.099609        -6.500000  9144.527471  9189.574853   \n",
       "...           ...          ...              ...          ...          ...   \n",
       "6751  342803500.0   322.599609      -277.799805  9264.126755  9507.584961   \n",
       "6752  345901100.0   231.599609      -157.000000  9260.131755  9435.814941   \n",
       "6753  598769200.0   401.500000      -175.299805  9252.593254  9330.449951   \n",
       "6754  506034000.0   567.100097      -354.100098  9243.941755  9209.394971   \n",
       "6755  369150100.0   352.500000      -152.899903  9235.721255  9084.194946   \n",
       "\n",
       "        MA_5_dias    MA_3_dias  dist_Max_200_d  dist_Max_50_d  dist_Max_20_d  \\\n",
       "6557  9159.400000  9129.599935     -509.299805    -431.400391    -180.500000   \n",
       "6558  9149.959961  9159.166667     -490.599610    -412.700196    -135.099610   \n",
       "6559  9158.819922  9185.266601     -423.700196    -345.800782     -68.200196   \n",
       "6560  9201.539844  9233.133138     -365.700196    -287.800782     -10.200196   \n",
       "6561  9226.399804  9270.766276     -377.700196    -299.800782     -22.200196   \n",
       "...           ...          ...             ...            ...            ...   \n",
       "6751  8773.859961  8801.533203    -1400.599609   -1400.599609   -1400.599609   \n",
       "6752  8704.339844  8656.199870    -1708.000000   -1708.000000   -1708.000000   \n",
       "6753  8497.779883  8255.766601    -2374.899414   -2374.899414   -2374.899414   \n",
       "6754  8227.759961  7848.599935    -2622.099609   -2622.099609   -2622.099609   \n",
       "6755  7933.039941  7535.533366    -2647.199707   -2647.199707   -2647.199707   \n",
       "\n",
       "      dist_Min_200_d  dist_Min_50_d  dist_Min_20_d  \n",
       "6557      786.599609     103.700195     103.700195  \n",
       "6558      805.299804     122.400390     122.400390  \n",
       "6559      872.199218     189.299804     189.299804  \n",
       "6560      930.199218     247.299804     247.299804  \n",
       "6561      918.199218     235.299804     235.299804  \n",
       "...              ...            ...            ...  \n",
       "6751      164.000000       0.000000       0.000000  \n",
       "6752        0.000000       0.000000       0.000000  \n",
       "6753        0.000000       0.000000       0.000000  \n",
       "6754        0.000000       0.000000       0.000000  \n",
       "6755        0.000000       0.000000       0.000000  \n",
       "\n",
       "[199 rows x 19 columns]"
      ]
     },
     "execution_count": 379,
     "metadata": {},
     "output_type": "execute_result"
    }
   ],
   "source": [
    "total_ibex_df.iloc[6554:6753] #raws of the test_x with nan:"
   ]
  },
  {
   "cell_type": "code",
   "execution_count": 380,
   "id": "4458d197",
   "metadata": {
    "ExecuteTime": {
     "end_time": "2022-05-28T20:40:13.869230Z",
     "start_time": "2022-05-28T20:40:13.849247Z"
    }
   },
   "outputs": [
    {
     "data": {
      "text/plain": [
       "(7280, 19)"
      ]
     },
     "execution_count": 380,
     "metadata": {},
     "output_type": "execute_result"
    }
   ],
   "source": [
    "total_ibex_df  = pd.concat([ibex_df4_NoTarget,test_x])\n",
    "total_ibex_df.shape"
   ]
  },
  {
   "cell_type": "code",
   "execution_count": 381,
   "id": "bd85d9e8",
   "metadata": {
    "ExecuteTime": {
     "end_time": "2022-05-28T20:40:14.887712Z",
     "start_time": "2022-05-28T20:40:14.846786Z"
    }
   },
   "outputs": [],
   "source": [
    "total_ibex_df['Oscillation']   = total_ibex_df['High']- total_ibex_df['Low']\n",
    "total_ibex_df['daily_variation']= total_ibex_df['Close']- total_ibex_df['Open']\n",
    "\n",
    "total_ibex_df['MA_200_dias'] = total_ibex_df['Close'].rolling(200).mean()\n",
    "total_ibex_df['MA_20_dias'] = total_ibex_df['Close'].rolling(20).mean()\n",
    "total_ibex_df['MA_5_dias'] = total_ibex_df['Close'].rolling(5).mean()\n",
    "total_ibex_df['MA_3_dias'] = total_ibex_df['Close'].rolling(3).mean()\n",
    "\n",
    "total_ibex_df['dist_Max_200_d'] = total_ibex_df['Close']-total_ibex_df['Close'].rolling(200).max()\n",
    "total_ibex_df['dist_Max_50_d'] = total_ibex_df['Close']-total_ibex_df['Close'].rolling(50).max()\n",
    "total_ibex_df['dist_Max_20_d'] = total_ibex_df['Close']-total_ibex_df['Close'].rolling(20).max()\n",
    "\n",
    "total_ibex_df['dist_Min_200_d'] = total_ibex_df['Close']-total_ibex_df['Close'].rolling(200).min()\n",
    "total_ibex_df['dist_Min_50_d'] = total_ibex_df['Close']-total_ibex_df['Close'].rolling(50).min()\n",
    "total_ibex_df['dist_Min_20_d'] = total_ibex_df['Close']-total_ibex_df['Close'].rolling(20).min()\n"
   ]
  },
  {
   "cell_type": "code",
   "execution_count": 382,
   "id": "9765f8e7",
   "metadata": {
    "ExecuteTime": {
     "end_time": "2022-05-28T20:40:15.629689Z",
     "start_time": "2022-05-28T20:40:15.604755Z"
    }
   },
   "outputs": [
    {
     "data": {
      "text/plain": [
       "(726, 19)"
      ]
     },
     "execution_count": 382,
     "metadata": {},
     "output_type": "execute_result"
    }
   ],
   "source": [
    "test_x_modified= total_ibex_df.iloc[6554:].copy()\n",
    "test_x_modified.shape"
   ]
  },
  {
   "cell_type": "code",
   "execution_count": 385,
   "id": "3ef7547e",
   "metadata": {
    "ExecuteTime": {
     "end_time": "2022-05-28T20:44:18.765458Z",
     "start_time": "2022-05-28T20:44:18.626863Z"
    }
   },
   "outputs": [
    {
     "data": {
      "text/plain": [
       "array([0, 0, 0, 0, 0, 0, 0, 0, 0, 0, 0, 0, 0, 0, 0, 0, 0, 0, 0, 0, 0, 0,\n",
       "       0, 0, 0, 0, 0, 0, 0, 0, 0, 0, 0, 0, 0, 1, 0, 0, 0, 1, 1, 0, 1, 1,\n",
       "       1, 1, 1, 1, 1, 1, 1, 1, 1, 1, 1, 1, 1, 1, 1, 1, 1, 1, 1, 1, 1, 1,\n",
       "       1, 1, 1, 1, 0, 0, 1, 0, 0, 1, 0, 1, 0, 1, 0, 1, 1, 1, 0, 1, 1, 1,\n",
       "       1, 1, 1, 1, 0, 1, 0, 0, 0, 0, 0, 0, 0, 0, 0, 0, 0, 0, 0, 1, 0, 0,\n",
       "       1, 0, 0, 1, 1, 0, 0, 0, 0, 0, 0, 0, 0, 1, 1, 1, 1, 1, 0, 0, 0, 0,\n",
       "       0, 0, 1, 0, 0, 0, 0, 0, 0, 0, 1, 1, 1, 0, 1, 0, 0, 1, 0, 0, 0, 0,\n",
       "       0, 0, 0, 0, 0, 0, 1, 0, 0, 0, 0, 0, 0, 0, 0, 0, 0, 0, 0, 0, 1, 1,\n",
       "       1, 1, 1, 1, 1, 1, 1, 1, 0, 1, 1, 1, 1, 1, 0, 0, 1, 1, 1, 1, 1, 1,\n",
       "       1, 1, 1, 1, 1, 1, 1, 1, 1, 1, 1, 1, 1, 1, 1, 1, 1, 1, 1, 1, 1, 1,\n",
       "       1, 1, 1, 1, 1, 1, 1, 1, 1, 1, 1, 1, 1, 1, 1, 1, 1, 1, 1, 1, 1, 1,\n",
       "       1, 1, 1, 1, 1, 1, 1, 1, 1, 0, 1, 0, 1, 1, 1, 1, 1, 1, 1, 1, 1, 1,\n",
       "       1, 1, 1, 1, 1, 1, 1, 1, 1, 0, 1, 0, 1, 1, 1, 1, 1, 1, 0, 1, 1, 1,\n",
       "       1, 1, 1, 1, 1, 1, 1, 1, 1, 1, 1, 1, 1, 0, 0, 1, 0, 0, 1, 1, 1, 1,\n",
       "       1, 0, 1, 1, 1, 1, 0, 1, 0, 0, 0, 1, 1, 0, 1, 0, 1, 0, 1, 1, 1, 1,\n",
       "       1, 1, 1, 1, 1, 1, 1, 1, 1, 1, 1, 1, 1, 1, 1, 1, 1, 1, 1, 1, 1, 1,\n",
       "       1, 1, 1, 1, 1, 1, 1, 1, 1, 1, 1, 1, 1, 1, 1, 1, 1, 1, 1, 1, 1, 0,\n",
       "       1, 1, 1, 1, 1, 1, 0, 1, 0, 1, 1, 1, 1, 1, 1, 1, 1, 1, 1, 1, 1, 1,\n",
       "       1, 1, 1, 1, 1, 1, 1, 1, 1, 1, 1, 1, 1, 1, 1, 1, 1, 1, 1, 1, 1, 1,\n",
       "       1, 1, 1, 1, 1, 1, 1, 1, 1, 1, 1, 1, 1, 1, 1, 1, 1, 1, 1, 1, 1, 1,\n",
       "       1, 1, 1, 1, 1, 1, 1, 1, 1, 1, 1, 1, 1, 1, 1, 0, 0, 0, 1, 1, 1, 1,\n",
       "       1, 1, 1, 1, 1, 1, 1, 1, 1, 1, 1, 0, 1, 1, 1, 1, 1, 0, 0, 1, 1, 1,\n",
       "       0, 0, 1, 1, 1, 1, 1, 1, 1, 1, 1, 1, 1, 1, 1, 1, 1, 1, 0, 0, 1, 1,\n",
       "       1, 1, 1, 1, 1, 0, 1, 1, 1, 1, 1, 1, 0, 1, 1, 1, 1, 1, 1, 1, 1, 1,\n",
       "       1, 1, 1, 1, 1, 1, 1, 1, 1, 1, 1, 1, 1, 1, 1, 1, 1, 1, 1, 1, 1, 1,\n",
       "       1, 1, 1, 1, 1, 1, 1, 1, 1, 1, 1, 1, 1, 1, 1, 1, 1, 1, 1, 1, 1, 1,\n",
       "       1, 1, 1, 1, 1, 1, 1, 1, 1, 1, 1, 1, 1, 1, 1, 1, 0, 1, 1, 1, 1, 1,\n",
       "       1, 0, 1, 0, 1, 1, 1, 1, 1, 1, 1, 1, 1, 1, 1, 1, 1, 1, 1, 1, 1, 1,\n",
       "       1, 1, 1, 1, 1, 1, 1, 1, 1, 1, 1, 1, 1, 1, 1, 1, 1, 0, 1, 1, 1, 1,\n",
       "       1, 1, 1, 1, 1, 1, 1, 1, 1, 1, 1, 1, 1, 1, 1, 1, 1, 1, 1, 1, 1, 1,\n",
       "       1, 1, 1, 1, 1, 1, 1, 1, 1, 1, 1, 1, 1, 1, 1, 1, 1, 1, 1, 1, 1, 1,\n",
       "       1, 1, 1, 1, 1, 1, 1, 1, 1, 1, 1, 1, 1, 1, 1, 1, 1, 1, 1, 1, 1, 1,\n",
       "       1, 1, 1, 1, 1, 1, 1, 1, 1, 1, 1, 1, 1, 1, 1, 1, 1, 1, 1, 1, 1, 1],\n",
       "      dtype=int64)"
      ]
     },
     "execution_count": 385,
     "metadata": {},
     "output_type": "execute_result"
    }
   ],
   "source": [
    "x_test_pred=best_final_model.predict(test_x_modified)\n",
    "x_test_pred"
   ]
  },
  {
   "cell_type": "code",
   "execution_count": 397,
   "id": "49df9dd6",
   "metadata": {
    "ExecuteTime": {
     "end_time": "2022-05-28T20:48:28.009976Z",
     "start_time": "2022-05-28T20:48:27.991028Z"
    }
   },
   "outputs": [],
   "source": [
    "predictions_df=pd.DataFrame({'Predictions': list(x_test_pred)} )"
   ]
  },
  {
   "cell_type": "code",
   "execution_count": 401,
   "id": "759bb4c1",
   "metadata": {
    "ExecuteTime": {
     "end_time": "2022-05-28T20:49:14.715392Z",
     "start_time": "2022-05-28T20:49:14.691420Z"
    }
   },
   "outputs": [
    {
     "data": {
      "text/html": [
       "<div>\n",
       "<style scoped>\n",
       "    .dataframe tbody tr th:only-of-type {\n",
       "        vertical-align: middle;\n",
       "    }\n",
       "\n",
       "    .dataframe tbody tr th {\n",
       "        vertical-align: top;\n",
       "    }\n",
       "\n",
       "    .dataframe thead th {\n",
       "        text-align: right;\n",
       "    }\n",
       "</style>\n",
       "<table border=\"1\" class=\"dataframe\">\n",
       "  <thead>\n",
       "    <tr style=\"text-align: right;\">\n",
       "      <th></th>\n",
       "      <th>Predictions</th>\n",
       "    </tr>\n",
       "    <tr>\n",
       "      <th>test_index</th>\n",
       "      <th></th>\n",
       "    </tr>\n",
       "  </thead>\n",
       "  <tbody>\n",
       "    <tr>\n",
       "      <th>6557</th>\n",
       "      <td>0</td>\n",
       "    </tr>\n",
       "    <tr>\n",
       "      <th>6558</th>\n",
       "      <td>0</td>\n",
       "    </tr>\n",
       "    <tr>\n",
       "      <th>6559</th>\n",
       "      <td>0</td>\n",
       "    </tr>\n",
       "    <tr>\n",
       "      <th>6560</th>\n",
       "      <td>0</td>\n",
       "    </tr>\n",
       "    <tr>\n",
       "      <th>6561</th>\n",
       "      <td>0</td>\n",
       "    </tr>\n",
       "    <tr>\n",
       "      <th>...</th>\n",
       "      <td>...</td>\n",
       "    </tr>\n",
       "    <tr>\n",
       "      <th>7278</th>\n",
       "      <td>1</td>\n",
       "    </tr>\n",
       "    <tr>\n",
       "      <th>7279</th>\n",
       "      <td>1</td>\n",
       "    </tr>\n",
       "    <tr>\n",
       "      <th>7280</th>\n",
       "      <td>1</td>\n",
       "    </tr>\n",
       "    <tr>\n",
       "      <th>7281</th>\n",
       "      <td>1</td>\n",
       "    </tr>\n",
       "    <tr>\n",
       "      <th>7282</th>\n",
       "      <td>1</td>\n",
       "    </tr>\n",
       "  </tbody>\n",
       "</table>\n",
       "<p>726 rows × 1 columns</p>\n",
       "</div>"
      ],
      "text/plain": [
       "            Predictions\n",
       "test_index             \n",
       "6557                  0\n",
       "6558                  0\n",
       "6559                  0\n",
       "6560                  0\n",
       "6561                  0\n",
       "...                 ...\n",
       "7278                  1\n",
       "7279                  1\n",
       "7280                  1\n",
       "7281                  1\n",
       "7282                  1\n",
       "\n",
       "[726 rows x 1 columns]"
      ]
     },
     "execution_count": 401,
     "metadata": {},
     "output_type": "execute_result"
    }
   ],
   "source": [
    "predictions_df['test_index']=index_new\n",
    "predictions_df.index= predictions_df['test_index']\n",
    "predictions_df.drop('test_index',axis=1,inplace=True)\n",
    "predictions_df"
   ]
  },
  {
   "cell_type": "code",
   "execution_count": 402,
   "id": "0ca01164",
   "metadata": {
    "ExecuteTime": {
     "end_time": "2022-05-28T20:50:59.650513Z",
     "start_time": "2022-05-28T20:50:59.631531Z"
    }
   },
   "outputs": [],
   "source": [
    "predictions_df.to_csv('C:/Users/march/000 Treball Ju`yter 000/Hackathons/Tech_laCaixa2022/predictions.csv')"
   ]
  },
  {
   "cell_type": "code",
   "execution_count": 403,
   "id": "6c14a3e2",
   "metadata": {
    "ExecuteTime": {
     "end_time": "2022-05-28T20:51:58.074646Z",
     "start_time": "2022-05-28T20:51:58.054697Z"
    }
   },
   "outputs": [],
   "source": [
    "predictions_df.to_json('C:/Users/march/000 Treball Ju`yter 000/Hackathons/Tech_laCaixa2022/predictions.json')"
   ]
  },
  {
   "cell_type": "code",
   "execution_count": 438,
   "id": "4e37fc57",
   "metadata": {
    "ExecuteTime": {
     "end_time": "2022-05-28T21:37:43.315701Z",
     "start_time": "2022-05-28T21:37:43.304729Z"
    }
   },
   "outputs": [],
   "source": [
    "import pysentimiento"
   ]
  },
  {
   "cell_type": "code",
   "execution_count": 425,
   "id": "20e23ff1",
   "metadata": {
    "ExecuteTime": {
     "end_time": "2022-05-28T21:27:44.330433Z",
     "start_time": "2022-05-28T21:27:43.985356Z"
    }
   },
   "outputs": [],
   "source": [
    "tweet_df=pd.read_csv('C:/Users/march/000 Treball Ju`yter 000/Hackathons/Tech_laCaixa2022/tweets_from2015_#Ibex35.csv')"
   ]
  },
  {
   "cell_type": "code",
   "execution_count": 431,
   "id": "07dad6d2",
   "metadata": {
    "ExecuteTime": {
     "end_time": "2022-05-28T21:30:48.131485Z",
     "start_time": "2022-05-28T21:30:48.104557Z"
    }
   },
   "outputs": [
    {
     "data": {
      "text/html": [
       "<div>\n",
       "<style scoped>\n",
       "    .dataframe tbody tr th:only-of-type {\n",
       "        vertical-align: middle;\n",
       "    }\n",
       "\n",
       "    .dataframe tbody tr th {\n",
       "        vertical-align: top;\n",
       "    }\n",
       "\n",
       "    .dataframe thead th {\n",
       "        text-align: right;\n",
       "    }\n",
       "</style>\n",
       "<table border=\"1\" class=\"dataframe\">\n",
       "  <thead>\n",
       "    <tr style=\"text-align: right;\">\n",
       "      <th></th>\n",
       "      <th>tweetDate</th>\n",
       "      <th>handle</th>\n",
       "      <th>text</th>\n",
       "      <th>año</th>\n",
       "    </tr>\n",
       "  </thead>\n",
       "  <tbody>\n",
       "    <tr>\n",
       "      <th>0</th>\n",
       "      <td>Sat Apr 09 14:47:45 +0000 2022</td>\n",
       "      <td>abelac62</td>\n",
       "      <td>He hecho el repaso de todos los componentes de...</td>\n",
       "      <td>object</td>\n",
       "    </tr>\n",
       "    <tr>\n",
       "      <th>1</th>\n",
       "      <td>Thu Apr 07 19:14:36 +0000 2022</td>\n",
       "      <td>LluisPerarnau</td>\n",
       "      <td>Els projectes que han presentat les empreses d...</td>\n",
       "      <td>object</td>\n",
       "    </tr>\n",
       "    <tr>\n",
       "      <th>2</th>\n",
       "      <td>Mon Apr 04 16:48:45 +0000 2022</td>\n",
       "      <td>Pegaso121080</td>\n",
       "      <td>Por si no lo has visto, o no lo encuentras en ...</td>\n",
       "      <td>object</td>\n",
       "    </tr>\n",
       "    <tr>\n",
       "      <th>3</th>\n",
       "      <td>Tue Apr 05 07:23:16 +0000 2022</td>\n",
       "      <td>zonavalue</td>\n",
       "      <td>📈 #BOLSA: El #Ibex35 abre en 🟢 \\n\\n🇪🇸 #Ibex35 ...</td>\n",
       "      <td>object</td>\n",
       "    </tr>\n",
       "    <tr>\n",
       "      <th>4</th>\n",
       "      <td>Thu Mar 31 16:07:43 +0000 2022</td>\n",
       "      <td>EPeconomia</td>\n",
       "      <td>El #Ibex35 retrocede un 0,4% en marzo y un 3,0...</td>\n",
       "      <td>object</td>\n",
       "    </tr>\n",
       "    <tr>\n",
       "      <th>...</th>\n",
       "      <td>...</td>\n",
       "      <td>...</td>\n",
       "      <td>...</td>\n",
       "      <td>...</td>\n",
       "    </tr>\n",
       "    <tr>\n",
       "      <th>9796</th>\n",
       "      <td>Thu Jan 08 16:41:36 +0000 2015</td>\n",
       "      <td>elEconomistaes</td>\n",
       "      <td>#Cierre | El #Ibex35 sube un 2,26% hasta los 1...</td>\n",
       "      <td>object</td>\n",
       "    </tr>\n",
       "    <tr>\n",
       "      <th>9797</th>\n",
       "      <td>Sat Jan 03 17:20:30 +0000 2015</td>\n",
       "      <td>Roger_bolsa</td>\n",
       "      <td>Un vistazo a los #Bluechips del #Ibex #Ibex35....</td>\n",
       "      <td>object</td>\n",
       "    </tr>\n",
       "    <tr>\n",
       "      <th>9798</th>\n",
       "      <td>Sat Jan 10 19:42:45 +0000 2015</td>\n",
       "      <td>Secretosdebolsa</td>\n",
       "      <td>Así comienza la #Bolsa en #2015 Ojo a los sopo...</td>\n",
       "      <td>object</td>\n",
       "    </tr>\n",
       "    <tr>\n",
       "      <th>9799</th>\n",
       "      <td>Sat Jan 10 21:47:17 +0000 2015</td>\n",
       "      <td>Roger_bolsa</td>\n",
       "      <td>Análisis del #BancoSantander #Santander #SAN t...</td>\n",
       "      <td>object</td>\n",
       "    </tr>\n",
       "    <tr>\n",
       "      <th>9800</th>\n",
       "      <td>Mon Jan 05 15:06:49 +0000 2015</td>\n",
       "      <td>elEconomistaes</td>\n",
       "      <td>El #Ibex35 profundiza en su caída (-2,8%) y pi...</td>\n",
       "      <td>object</td>\n",
       "    </tr>\n",
       "  </tbody>\n",
       "</table>\n",
       "<p>9801 rows × 4 columns</p>\n",
       "</div>"
      ],
      "text/plain": [
       "                           tweetDate           handle  \\\n",
       "0     Sat Apr 09 14:47:45 +0000 2022         abelac62   \n",
       "1     Thu Apr 07 19:14:36 +0000 2022    LluisPerarnau   \n",
       "2     Mon Apr 04 16:48:45 +0000 2022     Pegaso121080   \n",
       "3     Tue Apr 05 07:23:16 +0000 2022        zonavalue   \n",
       "4     Thu Mar 31 16:07:43 +0000 2022       EPeconomia   \n",
       "...                              ...              ...   \n",
       "9796  Thu Jan 08 16:41:36 +0000 2015   elEconomistaes   \n",
       "9797  Sat Jan 03 17:20:30 +0000 2015      Roger_bolsa   \n",
       "9798  Sat Jan 10 19:42:45 +0000 2015  Secretosdebolsa   \n",
       "9799  Sat Jan 10 21:47:17 +0000 2015      Roger_bolsa   \n",
       "9800  Mon Jan 05 15:06:49 +0000 2015   elEconomistaes   \n",
       "\n",
       "                                                   text     año  \n",
       "0     He hecho el repaso de todos los componentes de...  object  \n",
       "1     Els projectes que han presentat les empreses d...  object  \n",
       "2     Por si no lo has visto, o no lo encuentras en ...  object  \n",
       "3     📈 #BOLSA: El #Ibex35 abre en 🟢 \\n\\n🇪🇸 #Ibex35 ...  object  \n",
       "4     El #Ibex35 retrocede un 0,4% en marzo y un 3,0...  object  \n",
       "...                                                 ...     ...  \n",
       "9796  #Cierre | El #Ibex35 sube un 2,26% hasta los 1...  object  \n",
       "9797  Un vistazo a los #Bluechips del #Ibex #Ibex35....  object  \n",
       "9798  Así comienza la #Bolsa en #2015 Ojo a los sopo...  object  \n",
       "9799  Análisis del #BancoSantander #Santander #SAN t...  object  \n",
       "9800  El #Ibex35 profundiza en su caída (-2,8%) y pi...  object  \n",
       "\n",
       "[9801 rows x 4 columns]"
      ]
     },
     "execution_count": 431,
     "metadata": {},
     "output_type": "execute_result"
    }
   ],
   "source": [
    "tweet_df"
   ]
  },
  {
   "cell_type": "code",
   "execution_count": null,
   "id": "998f8b49",
   "metadata": {},
   "outputs": [],
   "source": []
  }
 ],
 "metadata": {
  "kernelspec": {
   "display_name": "Python 3.7.12 ('EDA_i_ML_37')",
   "language": "python",
   "name": "python3"
  },
  "language_info": {
   "codemirror_mode": {
    "name": "ipython",
    "version": 3
   },
   "file_extension": ".py",
   "mimetype": "text/x-python",
   "name": "python",
   "nbconvert_exporter": "python",
   "pygments_lexer": "ipython3",
   "version": "3.7.12"
  },
  "latex_envs": {
   "LaTeX_envs_menu_present": true,
   "autoclose": false,
   "autocomplete": true,
   "bibliofile": "biblio.bib",
   "cite_by": "apalike",
   "current_citInitial": 1,
   "eqLabelWithNumbers": true,
   "eqNumInitial": 1,
   "hotkeys": {
    "equation": "Ctrl-E",
    "itemize": "Ctrl-I"
   },
   "labels_anchors": false,
   "latex_user_defs": false,
   "report_style_numbering": false,
   "user_envs_cfg": false
  },
  "vscode": {
   "interpreter": {
    "hash": "5f47ed41b184a58013d23a9edf20bf096ea20fc31e35ba23cb9e7edce9e72725"
   }
  },
  "widgets": {
   "application/vnd.jupyter.widget-state+json": {
    "state": {},
    "version_major": 2,
    "version_minor": 0
   }
  }
 },
 "nbformat": 4,
 "nbformat_minor": 5
}
