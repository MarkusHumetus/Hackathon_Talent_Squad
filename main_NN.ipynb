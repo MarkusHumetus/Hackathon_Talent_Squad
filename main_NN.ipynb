{
 "cells": [
  {
   "cell_type": "code",
   "execution_count": 109,
   "id": "481d9eb6",
   "metadata": {
    "ExecuteTime": {
     "end_time": "2022-05-29T11:55:16.803935Z",
     "start_time": "2022-05-29T11:55:16.789941Z"
    }
   },
   "outputs": [],
   "source": [
    "#data exploration&manipulation\n",
    "import pandas as pd\n",
    "import numpy as np\n",
    "from sklearn import preprocessing\n",
    "from sklearn.preprocessing import StandardScaler\n",
    "from sklearn.pipeline import Pipeline\n",
    "from collections import Counter\n",
    "import seaborn as sns\n",
    "import pandas_profiling as pp\n",
    "import joblib\n",
    "\n",
    "import datetime as dt\n",
    "import os\n",
    "import matplotlib.pyplot as plt\n",
    "\n",
    "#ML Models search and optimisation\n",
    "from sklearn.ensemble import RandomForestClassifier\n",
    "from sklearn.model_selection import train_test_split \n",
    "#from sklearn.model_selection import GridSearchCV\n",
    "#from lightgbm import LGBMClassifier\n",
    "from sklearn.metrics import f1_score, confusion_matrix\n",
    "#from sklearn.ensemble import ExtraTreesClassifier\n",
    "from sklearn.model_selection import cross_val_score\n",
    "\n",
    "#Neural Networks\n",
    "from keras.models import Sequential\n",
    "from keras.layers import Dense, Dropout\n",
    "from keras.optimizers import SGD, Adam, Adadelta, RMSprop\n",
    "import keras.backend as K\n",
    "\n",
    "\n",
    "\n",
    "\n",
    "%matplotlib inline"
   ]
  },
  {
   "cell_type": "markdown",
   "id": "8d46c10f",
   "metadata": {},
   "source": [
    "# Neural Networks with Keras"
   ]
  },
  {
   "cell_type": "code",
   "execution_count": 120,
   "id": "56eb98e5",
   "metadata": {},
   "outputs": [],
   "source": [
    "import matplotlib.pyplot as plt\n",
    "import seaborn as sns\n",
    "import numpy as np\n",
    "import pandas as pd \n",
    "import seaborn as sns\n",
    "# Keras\n",
    "from keras.models import Sequential\n",
    "from keras.layers import Dense, Dropout\n",
    "from keras.optimizers import SGD, Adam, Adadelta, RMSprop\n",
    "import keras.backend as K\n"
   ]
  },
  {
   "cell_type": "code",
   "execution_count": 121,
   "id": "898c11de",
   "metadata": {},
   "outputs": [],
   "source": [
    "# Train-Test\n",
    "from sklearn.model_selection import train_test_split\n",
    "# Scaling data\n",
    "from sklearn.preprocessing import StandardScaler\n",
    "# Classification Report\n",
    "from sklearn.metrics import classification_report\n",
    "from keras.utils.np_utils import to_categorical\n"
   ]
  },
  {
   "cell_type": "code",
   "execution_count": 122,
   "id": "72d6c9a6",
   "metadata": {},
   "outputs": [],
   "source": [
    "  \n",
    "# Import space_X_train.csv\n",
    "import pandas as pd\n",
    "space_X_train = pd.read_csv(r'C:\\Users\\march\\000 Treball Ju`yter 000\\Hackathons\\Hackathon_Talent_Squad\\initial_docs\\space_X_train.csv', index_col=0)"
   ]
  },
  {
   "cell_type": "code",
   "execution_count": 123,
   "id": "ccea6c14",
   "metadata": {},
   "outputs": [
    {
     "data": {
      "text/html": [
       "<div>\n",
       "<style scoped>\n",
       "    .dataframe tbody tr th:only-of-type {\n",
       "        vertical-align: middle;\n",
       "    }\n",
       "\n",
       "    .dataframe tbody tr th {\n",
       "        vertical-align: top;\n",
       "    }\n",
       "\n",
       "    .dataframe thead th {\n",
       "        text-align: right;\n",
       "    }\n",
       "</style>\n",
       "<table border=\"1\" class=\"dataframe\">\n",
       "  <thead>\n",
       "    <tr style=\"text-align: right;\">\n",
       "      <th></th>\n",
       "      <th>sensor_1</th>\n",
       "      <th>sensor_2</th>\n",
       "      <th>sensor_3</th>\n",
       "      <th>sensor_4</th>\n",
       "      <th>sensor_5</th>\n",
       "      <th>sensor_6</th>\n",
       "      <th>target</th>\n",
       "    </tr>\n",
       "  </thead>\n",
       "  <tbody>\n",
       "    <tr>\n",
       "      <th>0</th>\n",
       "      <td>0.474335</td>\n",
       "      <td>0.881640</td>\n",
       "      <td>-2.050543</td>\n",
       "      <td>-1.251935</td>\n",
       "      <td>-1.035151</td>\n",
       "      <td>-1.934367</td>\n",
       "      <td>4</td>\n",
       "    </tr>\n",
       "    <tr>\n",
       "      <th>1</th>\n",
       "      <td>-1.034675</td>\n",
       "      <td>1.741801</td>\n",
       "      <td>-1.660629</td>\n",
       "      <td>-1.555989</td>\n",
       "      <td>-0.337553</td>\n",
       "      <td>-2.473838</td>\n",
       "      <td>0</td>\n",
       "    </tr>\n",
       "    <tr>\n",
       "      <th>2</th>\n",
       "      <td>-0.563221</td>\n",
       "      <td>-0.688381</td>\n",
       "      <td>-0.318415</td>\n",
       "      <td>-1.845172</td>\n",
       "      <td>0.352366</td>\n",
       "      <td>-0.912928</td>\n",
       "      <td>1</td>\n",
       "    </tr>\n",
       "    <tr>\n",
       "      <th>3</th>\n",
       "      <td>-1.268179</td>\n",
       "      <td>2.770688</td>\n",
       "      <td>1.054193</td>\n",
       "      <td>2.830389</td>\n",
       "      <td>0.395093</td>\n",
       "      <td>0.677715</td>\n",
       "      <td>3</td>\n",
       "    </tr>\n",
       "    <tr>\n",
       "      <th>4</th>\n",
       "      <td>-1.216380</td>\n",
       "      <td>-0.391267</td>\n",
       "      <td>-2.898931</td>\n",
       "      <td>-0.913074</td>\n",
       "      <td>-2.171857</td>\n",
       "      <td>-2.367490</td>\n",
       "      <td>0</td>\n",
       "    </tr>\n",
       "  </tbody>\n",
       "</table>\n",
       "</div>"
      ],
      "text/plain": [
       "   sensor_1  sensor_2  sensor_3  sensor_4  sensor_5  sensor_6  target\n",
       "0  0.474335  0.881640 -2.050543 -1.251935 -1.035151 -1.934367       4\n",
       "1 -1.034675  1.741801 -1.660629 -1.555989 -0.337553 -2.473838       0\n",
       "2 -0.563221 -0.688381 -0.318415 -1.845172  0.352366 -0.912928       1\n",
       "3 -1.268179  2.770688  1.054193  2.830389  0.395093  0.677715       3\n",
       "4 -1.216380 -0.391267 -2.898931 -0.913074 -2.171857 -2.367490       0"
      ]
     },
     "execution_count": 123,
     "metadata": {},
     "output_type": "execute_result"
    }
   ],
   "source": [
    "space_X_train.head()"
   ]
  },
  {
   "cell_type": "code",
   "execution_count": 124,
   "id": "5cf85741",
   "metadata": {},
   "outputs": [
    {
     "data": {
      "text/plain": [
       "['sensor_1',\n",
       " 'sensor_2',\n",
       " 'sensor_3',\n",
       " 'sensor_4',\n",
       " 'sensor_5',\n",
       " 'sensor_6',\n",
       " 'target']"
      ]
     },
     "execution_count": 124,
     "metadata": {},
     "output_type": "execute_result"
    }
   ],
   "source": [
    "list(space_X_train.columns)"
   ]
  },
  {
   "cell_type": "code",
   "execution_count": 125,
   "id": "783445eb",
   "metadata": {},
   "outputs": [
    {
     "data": {
      "text/plain": [
       "'target'"
      ]
     },
     "execution_count": 125,
     "metadata": {},
     "output_type": "execute_result"
    }
   ],
   "source": [
    "features = list(space_X_train.columns)\n",
    "features.pop()"
   ]
  },
  {
   "cell_type": "code",
   "execution_count": 126,
   "id": "72962ea6",
   "metadata": {},
   "outputs": [
    {
     "name": "stdout",
     "output_type": "stream",
     "text": [
      "['sensor_1', 'sensor_2', 'sensor_3', 'sensor_4', 'sensor_5', 'sensor_6']\n"
     ]
    }
   ],
   "source": [
    "print (features)"
   ]
  },
  {
   "cell_type": "code",
   "execution_count": 127,
   "id": "ca7f6f24",
   "metadata": {},
   "outputs": [],
   "source": [
    "x = space_X_train.drop('target',axis=1).values #returns a numpy array\n",
    "numerical_cols=['sensor_1', 'sensor_2', 'sensor_3', 'sensor_4', 'sensor_5', 'sensor_6']\n",
    "\n",
    "min_max_scaler = preprocessing.MinMaxScaler()\n",
    "x_scaled = min_max_scaler.fit_transform(x)\n",
    "space_X_train_min_max_scaled = pd.DataFrame(x_scaled)\n",
    "\n",
    "scaler = preprocessing.RobustScaler()\n",
    "space_X_train_robust = scaler.fit_transform(x)\n",
    "space_X_train_robust = pd.DataFrame(space_X_train_robust, columns =numerical_cols)\n",
    "\n",
    "scaler = preprocessing.StandardScaler()\n",
    "space_X_train_standard = scaler.fit_transform(x)\n",
    "space_X_train_standard = pd.DataFrame(space_X_train_standard, columns =numerical_cols)"
   ]
  },
  {
   "cell_type": "code",
   "execution_count": 150,
   "id": "ee6faf9b",
   "metadata": {},
   "outputs": [],
   "source": [
    "x = space_X_train.copy()\n",
    "x.drop([\"target\"], \n",
    "            axis = 1,\n",
    "            inplace=True\n",
    "            )\n",
    "from sklearn.preprocessing import StandardScaler\n",
    "sc = StandardScaler()\n",
    "#x = pd.DataFrame(sc.fit_transform(x))\n",
    "y = space_X_train[\"target\"]\n",
    "y_cat = to_categorical(y) #it is required this encoding for NN"
   ]
  },
  {
   "cell_type": "code",
   "execution_count": 151,
   "id": "7ecdbb21",
   "metadata": {},
   "outputs": [],
   "source": [
    "from sklearn.model_selection import train_test_split\n",
    "x_train, x_test, y_train, y_test = train_test_split(x.values, y_cat, test_size=0.2, random_state=1,stratify=y)"
   ]
  },
  {
   "cell_type": "code",
   "execution_count": 152,
   "id": "83f671d0",
   "metadata": {},
   "outputs": [
    {
     "data": {
      "text/plain": [
       "array([[0., 0., 0., 0., 1.],\n",
       "       [1., 0., 0., 0., 0.],\n",
       "       [0., 1., 0., 0., 0.],\n",
       "       ...,\n",
       "       [0., 0., 0., 1., 0.],\n",
       "       [0., 0., 0., 0., 1.],\n",
       "       [0., 0., 0., 1., 0.]], dtype=float32)"
      ]
     },
     "execution_count": 152,
     "metadata": {},
     "output_type": "execute_result"
    }
   ],
   "source": [
    "y_cat"
   ]
  },
  {
   "cell_type": "code",
   "execution_count": 153,
   "id": "9dfcde94",
   "metadata": {},
   "outputs": [
    {
     "name": "stdout",
     "output_type": "stream",
     "text": [
      "Model: \"sequential_24\"\n",
      "_________________________________________________________________\n",
      " Layer (type)                Output Shape              Param #   \n",
      "=================================================================\n",
      " dense_72 (Dense)            (None, 60)                420       \n",
      "                                                                 \n",
      " dense_73 (Dense)            (None, 30)                1830      \n",
      "                                                                 \n",
      " dropout_28 (Dropout)        (None, 30)                0         \n",
      "                                                                 \n",
      " dense_74 (Dense)            (None, 5)                 155       \n",
      "                                                                 \n",
      "=================================================================\n",
      "Total params: 2,405\n",
      "Trainable params: 2,405\n",
      "Non-trainable params: 0\n",
      "_________________________________________________________________\n"
     ]
    }
   ],
   "source": [
    "model = Sequential()\n",
    "model.add(Dense(60, input_shape = (6,), activation = \"relu\"))\n",
    "model.add(Dense(30, activation = \"relu\"))\n",
    "model.add(Dropout(0.15))\n",
    "model.add(Dense(5, activation = \"softmax\"))\n",
    "model.compile(Adam(learning_rate = 0.01), \"categorical_crossentropy\", metrics = [\"categorical_accuracy\"])\n",
    "model.summary()"
   ]
  },
  {
   "cell_type": "code",
   "execution_count": 154,
   "id": "6cbeef71",
   "metadata": {},
   "outputs": [
    {
     "name": "stdout",
     "output_type": "stream",
     "text": [
      "Epoch 1/50\n",
      "42/42 [==============================] - 1s 9ms/step - loss: 1.1432 - categorical_accuracy: 0.5618 - val_loss: 0.9781 - val_categorical_accuracy: 0.6190\n",
      "Epoch 2/50\n",
      "42/42 [==============================] - 0s 4ms/step - loss: 0.8929 - categorical_accuracy: 0.6451 - val_loss: 0.8765 - val_categorical_accuracy: 0.6101\n",
      "Epoch 3/50\n",
      "42/42 [==============================] - 0s 4ms/step - loss: 0.8452 - categorical_accuracy: 0.6622 - val_loss: 0.8271 - val_categorical_accuracy: 0.6667\n",
      "Epoch 4/50\n",
      "42/42 [==============================] - 0s 4ms/step - loss: 0.7989 - categorical_accuracy: 0.6741 - val_loss: 0.8237 - val_categorical_accuracy: 0.6667\n",
      "Epoch 5/50\n",
      "42/42 [==============================] - 0s 6ms/step - loss: 0.7240 - categorical_accuracy: 0.7277 - val_loss: 0.7984 - val_categorical_accuracy: 0.6607\n",
      "Epoch 6/50\n",
      "42/42 [==============================] - 0s 4ms/step - loss: 0.6968 - categorical_accuracy: 0.7195 - val_loss: 0.7896 - val_categorical_accuracy: 0.6726\n",
      "Epoch 7/50\n",
      "42/42 [==============================] - 0s 4ms/step - loss: 0.6812 - categorical_accuracy: 0.7374 - val_loss: 0.7446 - val_categorical_accuracy: 0.7113\n",
      "Epoch 8/50\n",
      "42/42 [==============================] - 0s 4ms/step - loss: 0.6712 - categorical_accuracy: 0.7388 - val_loss: 0.7157 - val_categorical_accuracy: 0.7232\n",
      "Epoch 9/50\n",
      "42/42 [==============================] - 0s 4ms/step - loss: 0.6546 - categorical_accuracy: 0.7485 - val_loss: 0.6938 - val_categorical_accuracy: 0.7262\n",
      "Epoch 10/50\n",
      "42/42 [==============================] - 0s 4ms/step - loss: 0.6468 - categorical_accuracy: 0.7440 - val_loss: 0.7630 - val_categorical_accuracy: 0.6905\n",
      "Epoch 11/50\n",
      "42/42 [==============================] - 0s 5ms/step - loss: 0.6511 - categorical_accuracy: 0.7433 - val_loss: 0.7568 - val_categorical_accuracy: 0.6696\n",
      "Epoch 12/50\n",
      "42/42 [==============================] - 0s 4ms/step - loss: 0.6360 - categorical_accuracy: 0.7560 - val_loss: 0.7292 - val_categorical_accuracy: 0.7024\n",
      "Epoch 13/50\n",
      "42/42 [==============================] - 0s 4ms/step - loss: 0.6019 - categorical_accuracy: 0.7545 - val_loss: 0.7408 - val_categorical_accuracy: 0.7113\n",
      "Epoch 14/50\n",
      "42/42 [==============================] - 0s 4ms/step - loss: 0.6288 - categorical_accuracy: 0.7507 - val_loss: 0.7412 - val_categorical_accuracy: 0.7321\n",
      "Epoch 15/50\n",
      "42/42 [==============================] - 0s 4ms/step - loss: 0.6093 - categorical_accuracy: 0.7701 - val_loss: 0.6866 - val_categorical_accuracy: 0.7560\n",
      "Epoch 16/50\n",
      "42/42 [==============================] - 0s 4ms/step - loss: 0.5904 - categorical_accuracy: 0.7686 - val_loss: 0.6754 - val_categorical_accuracy: 0.7292\n",
      "Epoch 17/50\n",
      "42/42 [==============================] - 0s 7ms/step - loss: 0.6049 - categorical_accuracy: 0.7738 - val_loss: 0.7091 - val_categorical_accuracy: 0.7411\n",
      "Epoch 18/50\n",
      "42/42 [==============================] - 0s 6ms/step - loss: 0.5904 - categorical_accuracy: 0.7597 - val_loss: 0.6765 - val_categorical_accuracy: 0.7440\n",
      "Epoch 19/50\n",
      "42/42 [==============================] - 0s 5ms/step - loss: 0.5986 - categorical_accuracy: 0.7597 - val_loss: 0.7232 - val_categorical_accuracy: 0.7173\n",
      "Epoch 20/50\n",
      "42/42 [==============================] - 0s 5ms/step - loss: 0.5702 - categorical_accuracy: 0.7641 - val_loss: 0.6699 - val_categorical_accuracy: 0.7381\n",
      "Epoch 21/50\n",
      "42/42 [==============================] - 0s 5ms/step - loss: 0.5732 - categorical_accuracy: 0.7693 - val_loss: 0.6916 - val_categorical_accuracy: 0.7500\n",
      "Epoch 22/50\n",
      "42/42 [==============================] - 0s 7ms/step - loss: 0.5704 - categorical_accuracy: 0.7686 - val_loss: 0.6984 - val_categorical_accuracy: 0.7649\n",
      "Epoch 23/50\n",
      "42/42 [==============================] - 0s 5ms/step - loss: 0.5737 - categorical_accuracy: 0.7760 - val_loss: 0.6651 - val_categorical_accuracy: 0.7470\n",
      "Epoch 24/50\n",
      "42/42 [==============================] - 0s 6ms/step - loss: 0.5368 - categorical_accuracy: 0.7850 - val_loss: 0.6996 - val_categorical_accuracy: 0.7470\n",
      "Epoch 25/50\n",
      "42/42 [==============================] - 0s 5ms/step - loss: 0.5306 - categorical_accuracy: 0.7865 - val_loss: 0.6481 - val_categorical_accuracy: 0.7679\n",
      "Epoch 26/50\n",
      "42/42 [==============================] - 0s 6ms/step - loss: 0.5397 - categorical_accuracy: 0.7887 - val_loss: 0.7005 - val_categorical_accuracy: 0.7292\n",
      "Epoch 27/50\n",
      "42/42 [==============================] - 0s 8ms/step - loss: 0.5507 - categorical_accuracy: 0.7812 - val_loss: 0.7164 - val_categorical_accuracy: 0.7292\n",
      "Epoch 28/50\n",
      "42/42 [==============================] - 0s 6ms/step - loss: 0.5313 - categorical_accuracy: 0.7917 - val_loss: 0.7123 - val_categorical_accuracy: 0.7589\n",
      "Epoch 29/50\n",
      "42/42 [==============================] - 0s 6ms/step - loss: 0.5356 - categorical_accuracy: 0.7969 - val_loss: 0.6817 - val_categorical_accuracy: 0.7470\n",
      "Epoch 30/50\n",
      "42/42 [==============================] - 0s 6ms/step - loss: 0.5193 - categorical_accuracy: 0.7954 - val_loss: 0.7047 - val_categorical_accuracy: 0.7649\n",
      "Epoch 31/50\n",
      "42/42 [==============================] - 0s 9ms/step - loss: 0.4901 - categorical_accuracy: 0.7976 - val_loss: 0.7151 - val_categorical_accuracy: 0.7500\n",
      "Epoch 32/50\n",
      "42/42 [==============================] - 0s 6ms/step - loss: 0.5097 - categorical_accuracy: 0.8110 - val_loss: 0.7159 - val_categorical_accuracy: 0.7560\n",
      "Epoch 33/50\n",
      "42/42 [==============================] - 0s 6ms/step - loss: 0.5163 - categorical_accuracy: 0.7984 - val_loss: 0.6817 - val_categorical_accuracy: 0.7679\n",
      "Epoch 34/50\n",
      "42/42 [==============================] - 0s 7ms/step - loss: 0.5105 - categorical_accuracy: 0.7887 - val_loss: 0.7657 - val_categorical_accuracy: 0.7292\n",
      "Epoch 35/50\n",
      "42/42 [==============================] - 0s 8ms/step - loss: 0.5221 - categorical_accuracy: 0.7842 - val_loss: 0.7058 - val_categorical_accuracy: 0.7411\n",
      "Epoch 36/50\n",
      "42/42 [==============================] - 0s 6ms/step - loss: 0.4956 - categorical_accuracy: 0.8110 - val_loss: 0.6766 - val_categorical_accuracy: 0.7321\n",
      "Epoch 37/50\n",
      "42/42 [==============================] - 0s 5ms/step - loss: 0.5150 - categorical_accuracy: 0.7909 - val_loss: 0.6981 - val_categorical_accuracy: 0.7411\n",
      "Epoch 38/50\n",
      "42/42 [==============================] - 0s 5ms/step - loss: 0.5038 - categorical_accuracy: 0.7932 - val_loss: 0.6622 - val_categorical_accuracy: 0.7679\n",
      "Epoch 39/50\n",
      "42/42 [==============================] - 0s 6ms/step - loss: 0.4801 - categorical_accuracy: 0.8095 - val_loss: 0.6942 - val_categorical_accuracy: 0.7500\n",
      "Epoch 40/50\n",
      "42/42 [==============================] - 0s 7ms/step - loss: 0.4892 - categorical_accuracy: 0.8080 - val_loss: 0.7223 - val_categorical_accuracy: 0.7470\n",
      "Epoch 41/50\n",
      "42/42 [==============================] - 0s 5ms/step - loss: 0.5076 - categorical_accuracy: 0.7902 - val_loss: 0.6896 - val_categorical_accuracy: 0.7530\n",
      "Epoch 42/50\n",
      "42/42 [==============================] - 0s 5ms/step - loss: 0.5078 - categorical_accuracy: 0.7850 - val_loss: 0.7821 - val_categorical_accuracy: 0.7500\n",
      "Epoch 43/50\n",
      "42/42 [==============================] - 0s 9ms/step - loss: 0.4978 - categorical_accuracy: 0.8006 - val_loss: 0.7134 - val_categorical_accuracy: 0.7589\n",
      "Epoch 44/50\n",
      "42/42 [==============================] - 1s 12ms/step - loss: 0.4777 - categorical_accuracy: 0.8118 - val_loss: 0.6892 - val_categorical_accuracy: 0.7589\n",
      "Epoch 45/50\n",
      "42/42 [==============================] - 0s 6ms/step - loss: 0.4458 - categorical_accuracy: 0.8162 - val_loss: 0.7355 - val_categorical_accuracy: 0.7738\n"
     ]
    }
   ],
   "source": [
    "import keras\n",
    "es_callback = keras.callbacks.EarlyStopping(monitor='val_loss', patience=20)\n",
    "\n",
    "\n",
    "nn_model_fitting = model.fit(x_train, y_train, verbose=1, epochs=50, validation_split=0.2,  callbacks=[es_callback])"
   ]
  },
  {
   "cell_type": "code",
   "execution_count": 155,
   "id": "66610256",
   "metadata": {},
   "outputs": [
    {
     "data": {
      "image/png": "[encoded data removed]",
      "text/plain": [
       "<Figure size 864x432 with 2 Axes>"
      ]
     },
     "metadata": {},
     "output_type": "display_data"
    }
   ],
   "source": [
    "import matplotlib.style as style \n",
    "def plot_new_and_multiclassification_accuracy (nn_model_fitting):\n",
    "    '''Funtion to plot loss and accuracy evolution along the model fitting of neuronal networks.\n",
    "    \n",
    "    Input: nn_model_fitting correspond to the fitting of the neuronal networks model sequential of Keras\n",
    "    '''\n",
    "    fig, axes = plt.subplots(1, 2, figsize=(12, 6))\n",
    " \n",
    "    fig.suptitle('Loss and Accuracy evolution in the NN fitting')\n",
    " \n",
    "    style.available\n",
    "    palette = sns.color_palette(\"mako_r\", 2)\n",
    "    \n",
    "    for y_axis in ['loss','categorical_accuracy']:\n",
    "        val= 'val_'+ y_axis\n",
    "        if y_axis =='loss':\n",
    "            ax_def=axes[0]\n",
    "            ylabel='Loss'\n",
    "            title='Loss: train vs validation'\n",
    "        elif y_axis =='categorical_accuracy':\n",
    "            ax_def=axes[1]\n",
    "            ylabel='Categorical Accuracy'\n",
    "            title='Categorical Accuracy: train vs validation'\n",
    "        sns.set_context(\"notebook\")\n",
    "        style.use('seaborn-white')    \n",
    "        sns.lineplot(ax=ax_def, \n",
    "                    x=range(0,len(nn_model_fitting.history[y_axis])),\n",
    "                    y=nn_model_fitting.history[y_axis], \n",
    "                    palette=palette\n",
    "                    )\n",
    "        plot_new = sns.lineplot(ax=ax_def, \n",
    "                            x=range(0,len(nn_model_fitting.history[y_axis])), \n",
    "                            y=nn_model_fitting.history[val], \n",
    "                            palette=palette \n",
    "                            )\n",
    "        plot_new.set_xlabel('Epochs')\n",
    "        plot_new.set_ylabel(ylabel)\n",
    "        plot_new.set_title(title)\n",
    "    fig.legend(labels=[\"Training\",\"Validation\"])\n",
    "\n",
    "plot_new_and_multiclassification_accuracy (nn_model_fitting)\n"
   ]
  },
  {
   "cell_type": "markdown",
   "id": "0de78ff8",
   "metadata": {},
   "source": [
    "After playing with layers and nodes, no improvement regarding the best f1_macro socre from Random Forest was obtainef. Besides, previous Loss graph point some overfitting in the model. The Neuronal Network model was discarded. "
   ]
  }
 ],
 "metadata": {
  "kernelspec": {
   "display_name": "Python 3.9.13 ('NeuronalNetwork')",
   "language": "python",
   "name": "python3"
  },
  "language_info": {
   "codemirror_mode": {
    "name": "ipython",
    "version": 3
   },
   "file_extension": ".py",
   "mimetype": "text/x-python",
   "name": "python",
   "nbconvert_exporter": "python",
   "pygments_lexer": "ipython3",
   "version": "3.9.13"
  },
  "latex_envs": {
   "LaTeX_envs_menu_present": true,
   "autoclose": false,
   "autocomplete": true,
   "bibliofile": "biblio.bib",
   "cite_by": "apalike",
   "current_citInitial": 1,
   "eqLabelWithNumbers": true,
   "eqNumInitial": 1,
   "hotkeys": {
    "equation": "Ctrl-E",
    "itemize": "Ctrl-I"
   },
   "labels_anchors": false,
   "latex_user_defs": false,
   "report_style_numbering": false,
   "user_envs_cfg": false
  },
  "vscode": {
   "interpreter": {
    "hash": "ba370917a355ec78ddf17e7842e8975915af0e08f57c7dd5296cba069c129853"
   }
  },
  "widgets": {
   "application/vnd.jupyter.widget-state+json": {
    "state": {},
    "version_major": 2,
    "version_minor": 0
   }
  }
 },
 "nbformat": 4,
 "nbformat_minor": 5
}
